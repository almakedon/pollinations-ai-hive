{
  "cells": [
    {
      "cell_type": "markdown",
      "metadata": {
        "colab_type": "text",
        "id": "view-in-github"
      },
      "source": [
        "<a href=\"https://colab.research.google.com/github/pollinations/hive/blob/main/notebooks/1%20Text-To-Image/1%20DALLE-Mega.ipynb\" target=\"_parent\"><img src=\"https://colab.research.google.com/assets/colab-badge.svg\" alt=\"Open In Colab\"/></a>"
      ]
    },
    {
      "cell_type": "markdown",
      "metadata": {
        "id": "118UKH5bWCGa"
      },
      "source": [
        "<img src=\"https://i.imgur.com/a9hByt4.png\" width=\"300\">\n",
        "\n",
        "*Sunset over a lake*\n",
        "\n",
        "The new model everyone is excited about."
      ]
    },
    {
      "cell_type": "code",
      "execution_count": null,
      "metadata": {
        "id": "jkwC98OJRqjh"
      },
      "outputs": [],
      "source": [
        "\n",
        "text_input = 'sunset over a lake'  #@param {type: \"string\"}\n",
        "output_path = '/content'"
      ]
    },
    {
      "cell_type": "markdown",
      "metadata": {
        "id": "dS8LbaonYm3a"
      },
      "source": [
        "## 🛠️ Installation and set-up"
      ]
    },
    {
      "cell_type": "code",
      "execution_count": null,
      "metadata": {
        "id": "uzjAM2GBYpZX"
      },
      "outputs": [],
      "source": [
        "# Install required libraries\n",
        "!pip install -q dalle-mini\n",
        "!pip install -q git+https://github.com/patil-suraj/vqgan-jax.git"
      ]
    },
    {
      "cell_type": "markdown",
      "metadata": {
        "id": "ozHzTkyv8cqU"
      },
      "source": [
        "We load required models:\n",
        "* DALL·E mini for text to encoded images\n",
        "* VQGAN for decoding images\n",
        "* CLIP for scoring predictions"
      ]
    },
    {
      "cell_type": "code",
      "execution_count": null,
      "metadata": {
        "id": "x6lhedKv8pm_"
      },
      "outputs": [],
      "source": [
        "#!git lfs clone https://huggingface.co/dalle-mini/vqgan_imagenet_f16_16384/\n",
        "#!git clone https://huggingface.co/flax-community/dalle-mini"
      ]
    },
    {
      "cell_type": "code",
      "execution_count": null,
      "metadata": {
        "id": "Yv-aR3t4Oe5v"
      },
      "outputs": [],
      "source": [
        "import jax\n",
        "import jax.numpy as jnp\n",
        "\n",
        "# check how many devices are available\n",
        "jax.local_device_count()"
      ]
    },
    {
      "cell_type": "code",
      "execution_count": null,
      "metadata": {
        "id": "UnwfMxP3BG63"
      },
      "outputs": [],
      "source": [
        "!wget -c https://ipfs.pollinations.ai/ipfs/QmTo7LHa2U1MuRy1GE41hFGuXxAD5iWcWH4kp9rwpyZvNX -O /content/dallemegamodels.zip\n",
        "\n",
        "!unzip -n /content/dallemegamodels.zip"
      ]
    },
    {
      "cell_type": "code",
      "execution_count": null,
      "metadata": {
        "id": "K6CxW2o42f-w"
      },
      "outputs": [],
      "source": [
        "# Model references\n",
        "\n",
        "# dalle-mega\n",
        "DALLE_MODEL = \"/content/artifacts/mega-1-fp16:v14\"  # can be wandb artifact or 🤗 Hub or local folder or google bucket\n",
        "DALLE_COMMIT_ID = None\n",
        "\n",
        "# if the notebook crashes too often you can use dalle-mini instead by uncommenting below line\n",
        "# DALLE_MODEL = \"dalle-mini/dalle-mini/mini-1:v0\"\n",
        "\n",
        "# VQGAN model\n",
        "VQGAN_REPO = \"/content/vqgan_imagenet_f16_16384\"\n",
        "VQGAN_COMMIT_ID = None"
      ]
    },
    {
      "cell_type": "code",
      "execution_count": null,
      "metadata": {
        "id": "92zYmvsQ38vL"
      },
      "outputs": [],
      "source": [
        "# Load models & tokenizer\n",
        "from dalle_mini import DalleBart, DalleBartProcessor\n",
        "from vqgan_jax.modeling_flax_vqgan import VQModel\n",
        "from transformers import CLIPProcessor, FlaxCLIPModel\n",
        "\n",
        "# Load dalle-mini\n",
        "model, params = DalleBart.from_pretrained(\n",
        "    DALLE_MODEL, revision=DALLE_COMMIT_ID, dtype=jnp.float16, _do_init=False\n",
        ")\n",
        "\n",
        "# Load VQGAN\n",
        "vqgan, vqgan_params = VQModel.from_pretrained(\n",
        "    VQGAN_REPO, revision=VQGAN_COMMIT_ID, _do_init=False\n",
        ")"
      ]
    },
    {
      "cell_type": "code",
      "execution_count": null,
      "metadata": {
        "id": "wtvLoM48EeVw"
      },
      "outputs": [],
      "source": [
        "from flax.jax_utils import replicate\n",
        "\n",
        "params = replicate(params)\n",
        "vqgan_params = replicate(vqgan_params)"
      ]
    },
    {
      "cell_type": "markdown",
      "metadata": {
        "id": "0A9AHQIgZ_qw"
      },
      "source": [
        "Model functions are compiled and parallelized to take advantage of multiple devices."
      ]
    },
    {
      "cell_type": "code",
      "execution_count": null,
      "metadata": {
        "id": "sOtoOmYsSYPz"
      },
      "outputs": [],
      "source": [
        "from functools import partial\n",
        "\n",
        "# model inference\n",
        "@partial(jax.pmap, axis_name=\"batch\", static_broadcasted_argnums=(3, 4, 5, 6))\n",
        "def p_generate(\n",
        "    tokenized_prompt, key, params, top_k, top_p, temperature, condition_scale\n",
        "):\n",
        "    return model.generate(\n",
        "        **tokenized_prompt,\n",
        "        prng_key=key,\n",
        "        params=params,\n",
        "        top_k=top_k,\n",
        "        top_p=top_p,\n",
        "        temperature=temperature,\n",
        "        condition_scale=condition_scale,\n",
        "    )\n",
        "\n",
        "\n",
        "# decode image\n",
        "@partial(jax.pmap, axis_name=\"batch\")\n",
        "def p_decode(indices, params):\n",
        "    return vqgan.decode_code(indices, params=params)"
      ]
    },
    {
      "cell_type": "markdown",
      "metadata": {
        "id": "HmVN6IBwapBA"
      },
      "source": [
        "Keys are passed to the model on each device to generate unique inference per device."
      ]
    },
    {
      "cell_type": "code",
      "execution_count": null,
      "metadata": {
        "id": "4CTXmlUkThhX"
      },
      "outputs": [],
      "source": [
        "import random\n",
        "\n",
        "# create a random key\n",
        "seed = random.randint(0, 2**32 - 1)\n",
        "key = jax.random.PRNGKey(seed)"
      ]
    },
    {
      "cell_type": "markdown",
      "metadata": {
        "id": "BrnVyCo81pij"
      },
      "source": [
        "## 🖍 Text Prompt"
      ]
    },
    {
      "cell_type": "markdown",
      "metadata": {
        "id": "rsmj0Aj5OQox"
      },
      "source": [
        "Our model requires processing prompts."
      ]
    },
    {
      "cell_type": "code",
      "execution_count": null,
      "metadata": {
        "id": "YjjhUychOVxm"
      },
      "outputs": [],
      "source": [
        "print(\"111\")\n",
        "from dalle_mini import DalleBartProcessor\n",
        "\n",
        "processor = DalleBartProcessor.from_pretrained(DALLE_MODEL, revision=DALLE_COMMIT_ID)"
      ]
    },
    {
      "cell_type": "markdown",
      "metadata": {
        "id": "BQ7fymSPyvF_"
      },
      "source": [
        "Let's define some text prompts."
      ]
    },
    {
      "cell_type": "code",
      "execution_count": null,
      "metadata": {
        "id": "x_0vI9ge1oKr"
      },
      "outputs": [],
      "source": [
        "print(\"222\")\n",
        "prompts = [text_input]"
      ]
    },
    {
      "cell_type": "markdown",
      "metadata": {
        "id": "XlZUG3SCLnGE"
      },
      "source": [
        "Note: we could use the same prompt multiple times for faster inference."
      ]
    },
    {
      "cell_type": "code",
      "execution_count": null,
      "metadata": {
        "id": "VKjEZGjtO49k"
      },
      "outputs": [],
      "source": [
        "print(\"333\")\n",
        "tokenized_prompts = processor(prompts)"
      ]
    },
    {
      "cell_type": "markdown",
      "metadata": {
        "id": "-CEJBnuJOe5z"
      },
      "source": [
        "Finally we replicate the prompts onto each device."
      ]
    },
    {
      "cell_type": "code",
      "execution_count": null,
      "metadata": {
        "id": "lQePgju5Oe5z"
      },
      "outputs": [],
      "source": [
        "print(\"444\")\n",
        "tokenized_prompt = replicate(tokenized_prompts)"
      ]
    },
    {
      "cell_type": "markdown",
      "metadata": {
        "id": "phQ9bhjRkgAZ"
      },
      "source": [
        "## 🎨 Generate images\n",
        "\n",
        "We generate images using dalle-mini model and decode them with the VQGAN."
      ]
    },
    {
      "cell_type": "code",
      "execution_count": null,
      "metadata": {
        "id": "d0wVkXpKqnHA"
      },
      "outputs": [],
      "source": [
        "print(\"555\")\n",
        "# number of predictions per prompt\n",
        "n_predictions = 4\n",
        "\n",
        "# We can customize generation parameters (see https://huggingface.co/blog/how-to-generate)\n",
        "gen_top_k = None\n",
        "gen_top_p = None\n",
        "temperature = None\n",
        "cond_scale = 10.0"
      ]
    },
    {
      "cell_type": "code",
      "execution_count": null,
      "metadata": {
        "id": "SDjEx9JxR3v8"
      },
      "outputs": [],
      "source": [
        "print(\"666\")\n",
        "from flax.training.common_utils import shard_prng_key\n",
        "import numpy as np\n",
        "from PIL import Image\n",
        "from tqdm.notebook import trange\n",
        "\n",
        "from tqdm import tqdm\n",
        "print(f\"Prompts: {prompts}\\n\")\n",
        "# generate images\n",
        "images = []\n",
        "for i in trange(max(n_predictions // jax.device_count(), 1)):\n",
        "    # get a new key\n",
        "    key, subkey = jax.random.split(key)\n",
        "    # generate images\n",
        "    encoded_images = p_generate(\n",
        "        tokenized_prompt,\n",
        "        shard_prng_key(subkey),\n",
        "        params,\n",
        "        gen_top_k,\n",
        "        gen_top_p,\n",
        "        temperature,\n",
        "        cond_scale,\n",
        "    )\n",
        "    # remove BOS\n",
        "    encoded_images = encoded_images.sequences[..., 1:]\n",
        "    # decode images\n",
        "    decoded_images = p_decode(encoded_images, vqgan_params)\n",
        "    decoded_images = decoded_images.clip(0.0, 1.0).reshape((-1, 256, 256, 3))\n",
        "    for i,decoded_img in enumerate(tqdm(decoded_images)):\n",
        "        img = Image.fromarray(np.asarray(decoded_img * 255, dtype=np.uint8))\n",
        "        images.append(img)\n",
        "        #display(img)\n",
        "        img.save(f\"{output_path}/{i:04d}.png\")\n",
        "        print(\"saving image\",i,\"to\",f\"{output_path}/{i:04d}.png\")"
      ]
    },
    {
      "cell_type": "code",
      "execution_count": null,
      "metadata": {},
      "outputs": [],
      "source": [
        "if 'A100' in gpu:\n",
        "  torch.backends.cudnn.enabled = False\n",
        "  print('Finished setup for A100')"
      ]
    },
    {
      "cell_type": "code",
      "execution_count": null,
      "metadata": {},
      "outputs": [],
      "source": [
        "%cd /content\n",
        "!git clone https://github.com/voodoohop/SwinIR\n",
        "%cd /content/SwinIR"
      ]
    },
    {
      "cell_type": "code",
      "execution_count": null,
      "metadata": {},
      "outputs": [],
      "source": [
        "!wget -c \"https://github.com/JingyunLiang/SwinIR/releases/download/v0.0/003_realSR_BSRGAN_DFO_s64w8_SwinIR-M_x4_GAN.pth\" -P experiments/pretrained_models\n",
        "\n",
        "#!pip install \"torchvision==0.9.0\" \"torch==1.8.0\" \"numpy==1.19.4\" \"opencv-python==4.4.0.46\" \"tqdm==4.62.2\" \"Pillow==8.3.2\" \"timm==0.4.12\"\n",
        "!pip install timm\n"
      ]
    },
    {
      "cell_type": "code",
      "execution_count": null,
      "metadata": {},
      "outputs": [],
      "source": [
        "#!pip install cog redis\n",
        "#%cd /content/swinir\n",
        "\n",
        "from predict import Predictor\n",
        "p = Predictor()\n",
        "p.setup()\n",
        "\n",
        "from glob import glob\n",
        "from tqdm import tqdm\n",
        "\n",
        "images = glob(f\"{output_path}/*.png\")\n",
        "images = list(sorted(images))\n",
        "\n",
        "for image_file in tqdm(images):\n",
        "\n",
        "    #print(\"image_file\", image_file)\n",
        "    \n",
        "\n",
        "    path = p.predict(image_file)\n",
        "    !cp \"{path}\" \"{image_file}\"\n"
      ]
    }
  ],
  "metadata": {
    "accelerator": "GPU",
    "colab": {
      "collapsed_sections": [],
      "include_colab_link": true,
      "machine_shape": "hm",
      "name": "DALL·E mega",
      "provenance": []
    },
    "kernelspec": {
      "display_name": "Python 3 (ipykernel)",
      "language": "python",
      "name": "python3"
    },
    "language_info": {
      "codemirror_mode": {
        "name": "ipython",
        "version": 3
      },
      "file_extension": ".py",
      "mimetype": "text/x-python",
      "name": "python",
      "nbconvert_exporter": "python",
      "pygments_lexer": "ipython3",
      "version": "3.9.7"
    }
  },
  "nbformat": 4,
  "nbformat_minor": 0
}
