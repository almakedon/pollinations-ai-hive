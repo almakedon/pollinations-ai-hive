{
  "nbformat": 4,
  "nbformat_minor": 0,
  "metadata": {
    "colab": {
      "name": "RAVE: A variational autoencoder for fast and high-quality neural audio synthesis",
      "private_outputs": true,
      "provenance": [],
      "machine_shape": "hm",
      "authorship_tag": "ABX9TyOAmK0E0xCH+U5AnqzxQi3I",
      "include_colab_link": true
    },
    "kernelspec": {
      "name": "python3",
      "display_name": "Python 3"
    },
    "language_info": {
      "name": "python"
    },
    "accelerator": "GPU"
  },
  "cells": [
    {
      "cell_type": "markdown",
      "metadata": {
        "id": "view-in-github",
        "colab_type": "text"
      },
      "source": [
        "<a href=\"https://colab.research.google.com/github/pollinations/hive/blob/main/interesting_notebooks/RAVE_A_variational_autoencoder_for_fast_and_high_quality_neural_audio_synthesis.ipynb\" target=\"_parent\"><img src=\"https://colab.research.google.com/assets/colab-badge.svg\" alt=\"Open In Colab\"/></a>"
      ]
    },
    {
      "cell_type": "code",
      "execution_count": null,
      "metadata": {
        "id": "YyUpRCU-oNbE"
      },
      "outputs": [],
      "source": [
        "!git clone https://github.com/caillonantoine/RAVE"
      ]
    },
    {
      "cell_type": "code",
      "source": [
        "%cd /content/RAVE\n",
        "!pip install -r requirements.txt"
      ],
      "metadata": {
        "id": "uZXTpDs2oa6J"
      },
      "execution_count": null,
      "outputs": []
    },
    {
      "cell_type": "code",
      "source": [
        "!wget -N https://pollinations.ai/ipfs/QmWQpp67MGuZmnDe1aEyzR9EukgNvooGMuBTzuekviQBwU/RaniaVox16mono.wav\n",
        "!mkdir -p /content/audio\n",
        "!mv -v Rania* /content/audio"
      ],
      "metadata": {
        "id": "A2eg5R-dyUbb"
      },
      "execution_count": null,
      "outputs": []
    },
    {
      "cell_type": "code",
      "source": [
        "#!python cli_helper.py"
      ],
      "metadata": {
        "id": "rxa82RLhopDU"
      },
      "execution_count": null,
      "outputs": []
    },
    {
      "cell_type": "code",
      "source": [
        "!python train_rave.py --name rania --wav /content/audio --preprocessed /content/rania/rave "
      ],
      "metadata": {
        "id": "iyDXbLZ8xvF9"
      },
      "execution_count": null,
      "outputs": []
    },
    {
      "cell_type": "code",
      "source": [
        "!python export_rave.py --run runs/rania/rave --cached false --name rania"
      ],
      "metadata": {
        "id": "nFhl48OZ3ED7"
      },
      "execution_count": null,
      "outputs": []
    },
    {
      "cell_type": "code",
      "source": [
        "!python train_prior.py --pretrained-vae rave_rania.ts --preprocessed /content/rania/prior --wav /content/audio --name rania\n"
      ],
      "metadata": {
        "id": "pXFGjyfZ63HR"
      },
      "execution_count": null,
      "outputs": []
    },
    {
      "cell_type": "code",
      "source": [
        "\n",
        "!python export_rave.py --run runs/rania/rave --cached true --name rania_rt\n",
        "!python export_prior.py --run runs/raiia/prior --name rania_rt\n",
        "!python combine_models.py --prior prior_rania_rt.ts --rave rave_rania_rt.ts --name rania\n"
      ],
      "metadata": {
        "id": "z8TnfPg-_mUa"
      },
      "execution_count": null,
      "outputs": []
    }
  ]
}