{
  "nbformat": 4,
  "nbformat_minor": 0,
  "metadata": {
    "colab": {
      "name": "RAVE: A variational autoencoder for fast and high-quality neural audio synthesis",
      "private_outputs": true,
      "provenance": [],
      "machine_shape": "hm",
      "authorship_tag": "ABX9TyPy9XDDXQT2MK3tGP24gvOc"
    },
    "kernelspec": {
      "name": "python3",
      "display_name": "Python 3"
    },
    "language_info": {
      "name": "python"
    },
    "accelerator": "GPU"
  },
  "cells": [
    {
      "cell_type": "code",
      "execution_count": null,
      "metadata": {
        "id": "YyUpRCU-oNbE"
      },
      "outputs": [],
      "source": [
        "!git clone https://github.com/caillonantoine/RAVE"
      ]
    },
    {
      "cell_type": "code",
      "source": [
        "%cd /content/RAVE\n",
        "!pip install -r requirements.txt"
      ],
      "metadata": {
        "id": "uZXTpDs2oa6J"
      },
      "execution_count": null,
      "outputs": []
    },
    {
      "cell_type": "code",
      "source": [
        "!wget -N https://pollinations.ai/ipfs/QmWQpp67MGuZmnDe1aEyzR9EukgNvooGMuBTzuekviQBwU/RaniaVox16mono.wav\n",
        "!mkdir -p /content/audio\n",
        "!mv -v Rania* /content/audio"
      ],
      "metadata": {
        "id": "A2eg5R-dyUbb"
      },
      "execution_count": null,
      "outputs": []
    },
    {
      "cell_type": "code",
      "source": [
        "!python cli_helper.py"
      ],
      "metadata": {
        "id": "rxa82RLhopDU"
      },
      "execution_count": null,
      "outputs": []
    },
    {
      "cell_type": "code",
      "source": [
        "!python train_rave.py --name rania --wav /content/audio --preprocessed /content/rania/rave "
      ],
      "metadata": {
        "id": "iyDXbLZ8xvF9"
      },
      "execution_count": null,
      "outputs": []
    },
    {
      "cell_type": "code",
      "source": [
        "!wget -N https://pollinations.ai/ipfs/QmWQpp67MGuZmnDe1aEyzR9EukgNvooGMuBTzuekviQBwU/RaniaVox16mono.wav"
      ],
      "metadata": {
        "id": "QWfVDUqkxYdm"
      },
      "execution_count": null,
      "outputs": []
    },
    {
      "cell_type": "code",
      "source": [
        "!pip install youtube-dl"
      ],
      "metadata": {
        "id": "yo7JzDfvuOPQ"
      },
      "execution_count": null,
      "outputs": []
    }
  ]
}