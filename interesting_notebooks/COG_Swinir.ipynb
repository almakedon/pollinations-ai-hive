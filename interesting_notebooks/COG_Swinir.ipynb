{
  "nbformat": 4,
  "nbformat_minor": 0,
  "metadata": {
    "colab": {
      "name": "COG-Swinir",
      "private_outputs": true,
      "provenance": [],
      "authorship_tag": "ABX9TyPwfT2RYMLoOHlWMoTEe4/i",
      "include_colab_link": true
    },
    "kernelspec": {
      "name": "python3",
      "display_name": "Python 3"
    },
    "language_info": {
      "name": "python"
    },
    "accelerator": "GPU"
  },
  "cells": [
    {
      "cell_type": "markdown",
      "metadata": {
        "id": "view-in-github",
        "colab_type": "text"
      },
      "source": [
        "<a href=\"https://colab.research.google.com/github/pollinations/hive/blob/main/interesting_notebooks/COG_Swinir.ipynb\" target=\"_parent\"><img src=\"https://colab.research.google.com/assets/colab-badge.svg\" alt=\"Open In Colab\"/></a>"
      ]
    },
    {
      "cell_type": "code",
      "execution_count": null,
      "metadata": {
        "id": "CBS4FktFUorQ"
      },
      "outputs": [],
      "source": [
        "%cd /content\n",
        "!git clone https://github.com/voodoohop/SwinIR"
      ]
    },
    {
      "cell_type": "code",
      "source": [
        "%cd SwinIR"
      ],
      "metadata": {
        "id": "3XXvDRcjU1Uu"
      },
      "execution_count": null,
      "outputs": []
    },
    {
      "cell_type": "code",
      "source": [
        "!pip install \"torchvision==0.9.0\" \"torch==1.8.0\" \"numpy==1.19.4\" \"opencv-python==4.4.0.46\" \"tqdm==4.62.2\" \"Pillow==8.3.2\" \"timm==0.4.12\" \"ipython==7.19.0\""
      ],
      "metadata": {
        "id": "gFYrqh6FU3J6"
      },
      "execution_count": null,
      "outputs": []
    },
    {
      "cell_type": "code",
      "source": [
        "#!pip install cog redis\n",
        "#%cd /content/swinir\n",
        "!pip install timm\n",
        "#!bash download-weights.sh\n",
        "from predict import Predictor\n",
        "p = Predictor()\n",
        "p.setup()\n",
        "p.predict(\"/content/img.jpg\")"
      ],
      "metadata": {
        "id": "HIKdrAIwVFma"
      },
      "execution_count": null,
      "outputs": []
    },
    {
      "cell_type": "markdown",
      "source": [
        ""
      ],
      "metadata": {
        "id": "qquj6KX7YgE-"
      }
    },
    {
      "cell_type": "code",
      "source": [
        "!git clone https://github.com/replicate/cog"
      ],
      "metadata": {
        "id": "kXwXMcBPVrSg"
      },
      "execution_count": null,
      "outputs": []
    }
  ]
}