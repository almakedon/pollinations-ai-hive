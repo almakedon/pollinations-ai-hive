{
  "cells": [
    {
      "cell_type": "markdown",
      "metadata": {},
      "source": [
        "! **WORK IN PROGRESS** Could still fail without reason !\n",
        "\n",
        "This is the Open source of the paper <AnimeGAN: a novel lightweight GAN for photo animation>, which uses the GAN framwork to transform real-world photos into anime images."
      ]
    },
    {
      "cell_type": "code",
      "execution_count": null,
      "metadata": {},
      "outputs": [],
      "source": [
        "# Input image that will be converted to anime style\n",
        "file_image = '' #@param {type: \"string\"}\n",
        "\n",
        "# Anime Style\n",
        "image_model = \"Hayao\"  #@param [\"Hayao\", \"Shinkai\", \"Paprika\"]\n",
        "\n",
        "output_path = \"/content/output\"\n"
      ]
    },
    {
      "cell_type": "code",
      "execution_count": null,
      "metadata": {},
      "outputs": [],
      "source": [
        "from os.path import dirname\n",
        "import mimetypes\n",
        "mimetypes.init()\n",
        "\n",
        "mimestart = mimetypes.guess_type(file_image)[0]\n",
        "mimestart = mimestart.split('/')[0]\n",
        "is_video = mimestart == 'video'\n",
        "\n",
        "\n",
        "if is_video:\n",
        "    # Copy image or extract video frames and copy to input_path\n",
        "    input_path = \"/tmp/animegan_input\"\n",
        "    !rm -rf {input_path}\n",
        "    !mkdir -p {input_path}\n",
        "    # Save video framerate\n",
        "    framerate = !ffprobe -v error -select_streams v:0 -show_entries stream=r_frame_rate -of default=noprint_wrappers=1:nokey=1 $file_image\n",
        "    framerate = float(framerate[0].split('/')[0])\n",
        "    \n",
        "    if framerate>1000:\n",
        "        framerate = framerate / 1000\n",
        "\n",
        "    print(\"framerate\", framerate)\n",
        "\n",
        "    # Extract frames\n",
        "    !ffmpeg -i $file_image {input_path}/%05d.jpg\n",
        "\n",
        "\n",
        "\n",
        "\n"
      ]
    },
    {
      "cell_type": "markdown",
      "metadata": {
        "id": "-QypmISklrxI"
      },
      "source": [
        "### STAGE ONE: Prepare dependencies."
      ]
    },
    {
      "cell_type": "code",
      "execution_count": null,
      "metadata": {
        "id": "IhAPmDd2_iUc"
      },
      "outputs": [],
      "source": [
        "%tensorflow_version 1.x\n",
        "!ls -l /usr/local/cuda\n",
        "!git clone https://github.com/CyFeng16/MVIMP.git\n",
        "\n",
        "import os\n",
        "os.chdir('/content/MVIMP')\n",
        "!python3 preparation.py\n",
        "!pip install pyyaml==5.4.1"
      ]
    },
    {
      "cell_type": "markdown",
      "metadata": {
        "id": "I3SD8FTCl__g"
      },
      "source": [
        "### STAGE TWO: **Upload** your pictures in `MVIMP/Data/Input`.<br>Processed outputs will be in `MVIMP/Data/Output`."
      ]
    },
    {
      "cell_type": "markdown",
      "metadata": {
        "id": "QFg1fivimM_0"
      },
      "source": [
        "### STAGE THREE: One-line commmand to embrace AnimeGANv2(change your photos' style to anime-like).\n",
        "\n",
        "| params \t| abbr. \t| Default \t| Description \t|\n",
        "|-\t|-\t|-\t|-\t|\n",
        "| --style \t| -s \t| Hayao \t| The anime style you want to get. \t|\n",
        "\n",
        "| Style name \t| Anime style \t|\n",
        "|-\t|-\t|\n",
        "| Hayao \t| Miyazaki Hayao \t|\n",
        "| Shinkai \t| Makoto Shinkai \t|\n",
        "| Paprika \t| Kon Satoshi \t|"
      ]
    },
    {
      "cell_type": "code",
      "execution_count": null,
      "metadata": {
        "id": "M428rc3_aIDn"
      },
      "outputs": [],
      "source": [
        "!rm -rf /content/MVIMP/Data/Input\n",
        "!rm -rf /content/MVIMP/Data/Output\n",
        "!mkdir -p /content/MVIMP/Data/Input\n",
        "!mkdir -p /content/MVIMP/Data/Output\n",
        "\n",
        "if is_video:\n",
        "    !cp -v {input_path}/* /content/MVIMP/Data/Input\n",
        "else:\n",
        "    !apt-get install imagemagick\n",
        "    print(\"running convert\")\n",
        "    !convert {file_image} /content/MVIMP/Data/Input/input.jpg\n",
        "\n",
        "\n",
        "!python3 inference_animeganv2.py -s {image_model}\n",
        "\n",
        "tmp_output = \"/tmp/animegan_out\"\n",
        "!rm -rf {tmp_output}\n",
        "!mkdir -p {tmp_output}\n",
        "!cp -v /content/MVIMP/Data/Output/* {tmp_output}"
      ]
    },
    {
      "cell_type": "code",
      "execution_count": null,
      "metadata": {},
      "outputs": [],
      "source": [
        "\n",
        "if is_video:\n",
        "    # Create video\n",
        "    !ffmpeg -framerate $framerate -i {tmp_output}/%*.jpg -c:v libx264 -r 30 -pix_fmt yuv420p {input_path}/output.mp4\n",
        "    \n",
        "    # Check if original video contains audio stream\n",
        "    has_audio_stream = !ffprobe -v error -select_streams a -show_entries stream=codec_name -of default=noprint_wrappers=1:nokey=1 $file_image\n",
        "    print(\"has_audio_stream\",has_audio_stream)\n",
        "    has_audio_stream = len(has_audio_stream) > 0\n",
        "\n",
        "    if has_audio_stream:\n",
        "        # Combine with audio of original video\n",
        "        !ffmpeg -i {input_path}/output.mp4 -i $file_image -c copy -map 0:v -map 1:a -shortest $output_path/output.mp4\n",
        "    else:\n",
        "        # Copy output video\n",
        "        !cp {input_path}/output.mp4 $output_path/output.mp4\n",
        "    print(\"sleeping for sync\")\n",
        "    !sleep 20\n",
        "else:\n",
        "    !cp -v {tmp_output}/* {output_path}"
      ]
    }
  ],
  "metadata": {
    "accelerator": "GPU",
    "colab": {
      "collapsed_sections": [],
      "name": "MVIMP-AnimeGANv2-Demo.ipynb",
      "private_outputs": true,
      "provenance": []
    },
    "kernelspec": {
      "display_name": "Python 3",
      "name": "python3"
    }
  },
  "nbformat": 4,
  "nbformat_minor": 0
}
