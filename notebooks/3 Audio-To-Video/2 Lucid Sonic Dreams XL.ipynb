{
  "cells": [
    {
      "cell_type": "markdown",
      "metadata": {
        "id": "-ekvKCcD7nWY"
      },
      "source": [
        "<img src=\"https://pollinations.ai/ipfs/QmU3gnuCAFmza8zNTJGsvxKQU8wzNBgvF6bumak1Bdt3vE\" />\n",
        "\n",
        "class: *Bee*\n",
        "\n",
        "\n",
        "Generate a music video from an audio file - the video moves with every sound and produces abstract art by travelling through the latent space of StyleGAN-XL. You can choose from over **1000 styles**.\n",
        "\n",
        "---\n",
        "\n",
        "[Thomash](https://twitter.com/pollinations_ai) adapted [Lucid Sonic Dreams](https://github.com/mikaelalafriz/lucid-sonic-dreams) to use [StyleGAN-XL](https://sites.google.com/view/stylegan-xl/)."
      ]
    },
    {
      "cell_type": "markdown",
      "metadata": {
        "id": "GR2-ZxixP6R3"
      },
      "source": [
        "\n",
        "Lucid Sonic Dreams syncs GAN-generated visuals to music. By default, it uses [NVLabs StyleGAN2](https://github.com/NVlabs/stylegan2), with pre-trained models lifted from [Justin Pinkney's consolidated repository](https://github.com/justinpinkney/awesome-pretrained-stylegan2). Custom weights and other GAN architectures can be used as well.\n",
        "\n",
        "For a more detailed description of the technique refer to: [Introducing Lucid Sonic Dreams: Sync GAN Art to Music with a Few Lines of Python Code!](https://towardsdatascience.com/introducing-lucid-sonic-dreams-sync-gan-art-to-music-with-a-few-lines-of-python-code-b04f88722de1)\n",
        "\n",
        "Sample output can be found on [YouTube](https://youtu.be/l-nGC-ve7sI) and [Instagram](https://www.instagram.com/lucidsonicdreams/).\n",
        "\n",
        "**[UPD 17.10.2021]** Exposed more parameters\n",
        "[UPD 1.10.2021] Added Visionary Art Dataset"
      ]
    },
    {
      "cell_type": "code",
      "execution_count": null,
      "metadata": {
        "id": "E50DZCnE7rEa"
      },
      "outputs": [],
      "source": [
        "# Input audio file (wav or mp3)\n",
        "audio_file = '' #@param {type: \"string\"}\n",
        "\n",
        "# The style to use\n",
        "style = \"Petri dish\" #@param `[\"Afghan hound, Afghan\",\"African chameleon, Chamaeleo chamaeleon\",\"African crocodile, Nile crocodile, Crocodylus niloticus\",\"African elephant, Loxodonta africana\",\"African grey, African gray, Psittacus erithacus\",\"African hunting dog, hyena dog, Cape hunting dog, Lycaon pictus\",\"Airedale, Airedale terrier\",\"American Staffordshire terrier, Staffordshire terrier, American pit bull terrier, pit bull terrier\",\"American alligator, Alligator mississipiensis\",\"American black bear, black bear, Ursus americanus, Euarctos americanus\",\"American chameleon, anole, Anolis carolinensis\",\"American coot, marsh hen, mud hen, water hen, Fulica americana\",\"American egret, great white heron, Egretta albus\",\"American lobster, Northern lobster, Maine lobster, Homarus americanus\",\"Angora, Angora rabbit\",\"Appenzeller\",\"Arabian camel, dromedary, Camelus dromedarius\",\"Arctic fox, white fox, Alopex lagopus\",\"Australian terrier\",\"Band Aid\",\"Bedlington terrier\",\"Bernese mountain dog\",\"Blenheim spaniel\",\"Border collie\",\"Border terrier\",\"Boston bull, Boston terrier\",\"Bouvier des Flandres, Bouviers des Flandres\",\"Brabancon griffon\",\"Brittany spaniel\",\"CD player\",\"Cardigan, Cardigan Welsh corgi\",\"Chesapeake Bay retriever\",\"Chihuahua\",\"Christmas stocking\",\"Crock Pot\",\"Dandie Dinmont, Dandie Dinmont terrier\",\"Doberman, Doberman pinscher\",\"Dungeness crab, Cancer magister\",\"Dutch oven\",\"Egyptian cat\",\"English foxhound\",\"English setter\",\"English springer, English springer spaniel\",\"EntleBucher\",\"Eskimo dog, husky\",\"European fire salamander, Salamandra salamandra\",\"European gallinule, Porphyrio porphyrio\",\"French bulldog\",\"French horn, horn\",\"French loaf\",\"German shepherd, German shepherd dog, German police dog, alsatian\",\"German short-haired pointer\",\"Gila monster, Heloderma suspectum\",\"Gordon setter\",\"Granny Smith\",\"Great Dane\",\"Great Pyrenees\",\"Greater Swiss Mountain dog\",\"Ibizan hound, Ibizan Podenco\",\"Indian cobra, Naja naja\",\"Indian elephant, Elephas maximus\",\"Irish setter, red setter\",\"Irish terrier\",\"Irish water spaniel\",\"Irish wolfhound\",\"Italian greyhound\",\"Japanese spaniel\",\"Kerry blue terrier\",\"Komodo dragon, Komodo lizard, dragon lizard, giant lizard, Varanus komodoensis\",\"Labrador retriever\",\"Lakeland terrier\",\"Leonberg\",\"Lhasa, Lhasa apso\",\"Loafer\",\"Madagascar cat, ring-tailed lemur, Lemur catta\",\"Maltese dog, Maltese terrier, Maltese\",\"Mexican hairless\",\"Model T\",\"Newfoundland, Newfoundland dog\",\"Norfolk terrier\",\"Norwegian elkhound, elkhound\",\"Norwich terrier\",\"Old English sheepdog, bobtail\",\"Pekinese, Pekingese, Peke\",\"Pembroke, Pembroke Welsh corgi\",\"Persian cat\",\"Petri dish\",\"Polaroid camera, Polaroid Land camera\",\"Pomeranian\",\"Rhodesian ridgeback\",\"Rottweiler\",\"Saint Bernard, St Bernard\",\"Saluki, gazelle hound\",\"Samoyed, Samoyede\",\"Scotch terrier, Scottish terrier, Scottie\",\"Scottish deerhound, deerhound\",\"Sealyham terrier, Sealyham\",\"Shetland sheepdog, Shetland sheep dog, Shetland\",\"Shih-Tzu\",\"Siamese cat, Siamese\",\"Siberian husky\",\"Staffordshire bullterrier, Staffordshire bull terrier\",\"Sussex spaniel\",\"Tibetan mastiff\",\"Tibetan terrier, chrysanthemum dog\",\"Walker hound, Walker foxhound\",\"Weimaraner\",\"Welsh springer spaniel\",\"West Highland white terrier\",\"Windsor tie\",\"Yorkshire terrier\",\"abacus\",\"abaya\",\"academic gown, academic robe, judge's robe\",\"accordion, piano accordion, squeeze box\",\"acorn\",\"acorn squash\",\"acoustic guitar\",\"admiral\",\"affenpinscher, monkey pinscher, monkey dog\",\"agama\",\"agaric\",\"aircraft carrier, carrier, flattop, attack aircraft carrier\",\"airliner\",\"airship, dirigible\",\"albatross, mollymawk\",\"alligator lizard\",\"alp\",\"altar\",\"ambulance\",\"amphibian, amphibious vehicle\",\"analog clock\",\"anemone fish\",\"ant, emmet, pismire\",\"apiary, bee house\",\"apron\",\"armadillo\",\"artichoke, globe artichoke\",\"ashcan, trash can, garbage can, wastebin, ash bin, ash-bin, ashbin, dustbin, trash barrel, trash bin\",\"assault rifle, assault gun\",\"axolotl, mud puppy, Ambystoma mexicanum\",\"baboon\",\"backpack, back pack, knapsack, packsack, rucksack, haversack\",\"badger\",\"bagel, beigel\",\"bakery, bakeshop, bakehouse\",\"balance beam, beam\",\"bald eagle, American eagle, Haliaeetus leucocephalus\",\"balloon\",\"ballplayer, baseball player\",\"ballpoint, ballpoint pen, ballpen, Biro\",\"banana\",\"banded gecko\",\"banjo\",\"bannister, banister, balustrade, balusters, handrail\",\"barbell\",\"barber chair\",\"barbershop\",\"barn\",\"barn spider, Araneus cavaticus\",\"barometer\",\"barracouta, snoek\",\"barrel, cask\",\"barrow, garden cart, lawn cart, wheelbarrow\",\"baseball\",\"basenji\",\"basketball\",\"basset, basset hound\",\"bassinet\",\"bassoon\",\"bath towel\",\"bathing cap, swimming cap\",\"bathtub, bathing tub, bath, tub\",\"beach wagon, station wagon, wagon, estate car, beach waggon, station waggon, waggon\",\"beacon, lighthouse, beacon light, pharos\",\"beagle\",\"beaker\",\"bearskin, busby, shako\",\"beaver\",\"bee\",\"bee eater\",\"beer bottle\",\"beer glass\",\"bell cote, bell cot\",\"bell pepper\",\"bib\",\"bicycle-built-for-two, tandem bicycle, tandem\",\"bighorn, bighorn sheep, cimarron, Rocky Mountain bighorn, Rocky Mountain sheep, Ovis canadensis\",\"bikini, two-piece\",\"binder, ring-binder\",\"binoculars, field glasses, opera glasses\",\"birdhouse\",\"bison\",\"bittern\",\"black and gold garden spider, Argiope aurantia\",\"black grouse\",\"black stork, Ciconia nigra\",\"black swan, Cygnus atratus\",\"black widow, Latrodectus mactans\",\"black-and-tan coonhound\",\"black-footed ferret, ferret, Mustela nigripes\",\"bloodhound, sleuthhound\",\"bluetick\",\"boa constrictor, Constrictor constrictor\",\"boathouse\",\"bobsled, bobsleigh, bob\",\"bolete\",\"bolo tie, bolo, bola tie, bola\",\"bonnet, poke bonnet\",\"book jacket, dust cover, dust jacket, dust wrapper\",\"bookcase\",\"bookshop, bookstore, bookstall\",\"borzoi, Russian wolfhound\",\"bottlecap\",\"bow\",\"bow tie, bow-tie, bowtie\",\"box turtle, box tortoise\",\"boxer\",\"brain coral\",\"brambling, Fringilla montifringilla\",\"brass, memorial tablet, plaque\",\"brassiere, bra, bandeau\",\"breakwater, groin, groyne, mole, bulwark, seawall, jetty\",\"breastplate, aegis, egis\",\"briard\",\"broccoli\",\"broom\",\"brown bear, bruin, Ursus arctos\",\"bubble\",\"bucket, pail\",\"buckeye, horse chestnut, conker\",\"buckle\",\"bulbul\",\"bull mastiff\",\"bullet train, bullet\",\"bulletproof vest\",\"bullfrog, Rana catesbeiana\",\"burrito\",\"bustard\",\"butcher shop, meat market\",\"butternut squash\",\"cab, hack, taxi, taxicab\",\"cabbage butterfly\",\"cairn, cairn terrier\",\"caldron, cauldron\",\"can opener, tin opener\",\"candle, taper, wax light\",\"cannon\",\"canoe\",\"capuchin, ringtail, Cebus capucinus\",\"car mirror\",\"car wheel\",\"carbonara\",\"cardigan\",\"cardoon\",\"carousel, carrousel, merry-go-round, roundabout, whirligig\",\"carpenter's kit, tool kit\",\"carton\",\"cash machine, cash dispenser, automated teller machine, automatic teller machine, automated teller, automatic teller, ATM\",\"cassette\",\"cassette player\",\"castle\",\"catamaran\",\"cauliflower\",\"cello, violoncello\",\"cellular telephone, cellular phone, cellphone, cell, mobile phone\",\"centipede\",\"chain\",\"chain mail, ring mail, mail, chain armor, chain armour, ring armor, ring armour\",\"chain saw, chainsaw\",\"chainlink fence\",\"chambered nautilus, pearly nautilus, nautilus\",\"cheeseburger\",\"cheetah, chetah, Acinonyx jubatus\",\"chest\",\"chickadee\",\"chiffonier, commode\",\"chime, bell, gong\",\"chimpanzee, chimp, Pan troglodytes\",\"china cabinet, china closet\",\"chiton, coat-of-mail shell, sea cradle, polyplacophore\",\"chocolate sauce, chocolate syrup\",\"chow, chow chow\",\"church, church building\",\"cicada, cicala\",\"cinema, movie theater, movie theatre, movie house, picture palace\",\"cleaver, meat cleaver, chopper\",\"cliff dwelling\",\"cliff, drop, drop-off\",\"cloak\",\"clog, geta, patten, sabot\",\"clumber, clumber spaniel\",\"cock\",\"cocker spaniel, English cocker spaniel, cocker\",\"cockroach, roach\",\"cocktail shaker\",\"coffee mug\",\"coffeepot\",\"coho, cohoe, coho salmon, blue jack, silver salmon, Oncorhynchus kisutch\",\"coil, spiral, volute, whorl, helix\",\"collie\",\"colobus, colobus monkey\",\"combination lock\",\"comic book\",\"common iguana, iguana, Iguana iguana\",\"common newt, Triturus vulgaris\",\"computer keyboard, keypad\",\"conch\",\"confectionery, confectionary, candy store\",\"consomme\",\"container ship, containership, container vessel\",\"convertible\",\"coral fungus\",\"coral reef\",\"corkscrew, bottle screw\",\"corn\",\"cornet, horn, trumpet, trump\",\"coucal\",\"cougar, puma, catamount, mountain lion, painter, panther, Felis concolor\",\"cowboy boot\",\"cowboy hat, ten-gallon hat\",\"coyote, prairie wolf, brush wolf, Canis latrans\",\"cradle\",\"crane\",\"crash helmet\",\"crate\",\"crayfish, crawfish, crawdad, crawdaddy\",\"crib, cot\",\"cricket\",\"croquet ball\",\"crossword puzzle, crossword\",\"crutch\",\"cucumber, cuke\",\"cuirass\",\"cup\",\"curly-coated retriever\",\"custard apple\",\"daisy\",\"dalmatian, coach dog, carriage dog\",\"dam, dike, dyke\",\"damselfly\",\"desk\",\"desktop computer\",\"dhole, Cuon alpinus\",\"dial telephone, dial phone\",\"diamondback, diamondback rattlesnake, Crotalus adamanteus\",\"diaper, nappy, napkin\",\"digital clock\",\"digital watch\",\"dingo, warrigal, warragal, Canis dingo\",\"dining table, board\",\"dishrag, dishcloth\",\"dishwasher, dish washer, dishwashing machine\",\"disk brake, disc brake\",\"dock, dockage, docking facility\",\"dogsled, dog sled, dog sleigh\",\"dome\",\"doormat, welcome mat\",\"dough\",\"dowitcher\",\"dragonfly, darning needle, devil's darning needle, sewing needle, snake feeder, snake doctor, mosquito hawk, skeeter hawk\",\"drake\",\"drilling platform, offshore rig\",\"drum, membranophone, tympan\",\"drumstick\",\"dugong, Dugong dugon\",\"dumbbell\",\"dung beetle\",\"ear, spike, capitulum\",\"earthstar\",\"echidna, spiny anteater, anteater\",\"eel\",\"eft\",\"eggnog\",\"electric fan, blower\",\"electric guitar\",\"electric locomotive\",\"electric ray, crampfish, numbfish, torpedo\",\"entertainment center\",\"envelope\",\"espresso\",\"espresso maker\",\"face powder\",\"feather boa, boa\",\"fiddler crab\",\"fig\",\"file, file cabinet, filing cabinet\",\"fire engine, fire truck\",\"fire screen, fireguard\",\"fireboat\",\"flagpole, flagstaff\",\"flamingo\",\"flat-coated retriever\",\"flatworm, platyhelminth\",\"flute, transverse flute\",\"fly\",\"folding chair\",\"football helmet\",\"forklift\",\"fountain\",\"fountain pen\",\"four-poster\",\"fox squirrel, eastern fox squirrel, Sciurus niger\",\"freight car\",\"frilled lizard, Chlamydosaurus kingi\",\"frying pan, frypan, skillet\",\"fur coat\",\"gar, garfish, garpike, billfish, Lepisosteus osseus\",\"garbage truck, dustcart\",\"garden spider, Aranea diademata\",\"garter snake, grass snake\",\"gas pump, gasoline pump, petrol pump, island dispenser\",\"gasmask, respirator, gas helmet\",\"gazelle\",\"geyser\",\"giant panda, panda, panda bear, coon bear, Ailuropoda melanoleuca\",\"giant schnauzer\",\"gibbon, Hylobates lar\",\"go-kart\",\"goblet\",\"golden retriever\",\"goldfinch, Carduelis carduelis\",\"goldfish, Carassius auratus\",\"golf ball\",\"golfcart, golf cart\",\"gondola\",\"gong, tam-tam\",\"goose\",\"gorilla, Gorilla gorilla\",\"gown\",\"grand piano, grand\",\"grasshopper, hopper\",\"great grey owl, great gray owl, Strix nebulosa\",\"great white shark, white shark, man-eater, man-eating shark, Carcharodon carcharias\",\"green lizard, Lacerta viridis\",\"green mamba\",\"green snake, grass snake\",\"greenhouse, nursery, glasshouse\",\"grey fox, gray fox, Urocyon cinereoargenteus\",\"grey whale, gray whale, devilfish, Eschrichtius gibbosus, Eschrichtius robustus\",\"grille, radiator grille\",\"grocery store, grocery, food market, market\",\"groenendael\",\"groom, bridegroom\",\"ground beetle, carabid beetle\",\"guacamole\",\"guenon, guenon monkey\",\"guillotine\",\"guinea pig, Cavia cobaya\",\"gyromitra\",\"hair slide\",\"hair spray\",\"half track\",\"hammer\",\"hammerhead, hammerhead shark\",\"hamper\",\"hamster\",\"hand blower, blow dryer, blow drier, hair dryer, hair drier\",\"hand-held computer, hand-held microcomputer\",\"handkerchief, hankie, hanky, hankey\",\"hard disc, hard disk, fixed disk\",\"hare\",\"harmonica, mouth organ, harp, mouth harp\",\"harp\",\"hartebeest\",\"harvester, reaper\",\"harvestman, daddy longlegs, Phalangium opilio\",\"hatchet\",\"hay\",\"head cabbage\",\"hen\",\"hen-of-the-woods, hen of the woods, Polyporus frondosus, Grifola frondosa\",\"hermit crab\",\"hip, rose hip, rosehip\",\"hippopotamus, hippo, river horse, Hippopotamus amphibius\",\"hog, pig, grunter, squealer, Sus scrofa\",\"hognose snake, puff adder, sand viper\",\"holster\",\"home theater, home theatre\",\"honeycomb\",\"hook, claw\",\"hoopskirt, crinoline\",\"horizontal bar, high bar\",\"hornbill\",\"horned viper, cerastes, sand viper, horned asp, Cerastes cornutus\",\"horse cart, horse-cart\",\"hot pot, hotpot\",\"hotdog, hot dog, red hot\",\"hourglass\",\"house finch, linnet, Carpodacus mexicanus\",\"howler monkey, howler\",\"hummingbird\",\"hyena, hyaena\",\"iPod\",\"ibex, Capra ibex\",\"ice bear, polar bear, Ursus Maritimus, Thalarctos maritimus\",\"ice cream, icecream\",\"ice lolly, lolly, lollipop, popsicle\",\"impala, Aepyceros melampus\",\"indigo bunting, indigo finch, indigo bird, Passerina cyanea\",\"indri, indris, Indri indri, Indri brevicaudatus\",\"iron, smoothing iron\",\"isopod\",\"jacamar\",\"jack-o'-lantern\",\"jackfruit, jak, jack\",\"jaguar, panther, Panthera onca, Felis onca\",\"jay\",\"jean, blue jean, denim\",\"jeep, landrover\",\"jellyfish\",\"jersey, T-shirt, tee shirt\",\"jigsaw puzzle\",\"jinrikisha, ricksha, rickshaw\",\"joystick\",\"junco, snowbird\",\"keeshond\",\"kelpie\",\"killer whale, killer, orca, grampus, sea wolf, Orcinus orca\",\"kimono\",\"king crab, Alaska crab, Alaskan king crab, Alaska king crab, Paralithodes camtschatica\",\"king penguin, Aptenodytes patagonica\",\"king snake, kingsnake\",\"kit fox, Vulpes macrotis\",\"kite\",\"knee pad\",\"knot\",\"koala, koala bear, kangaroo bear, native bear, Phascolarctos cinereus\",\"komondor\",\"kuvasz\",\"lab coat, laboratory coat\",\"lacewing, lacewing fly\",\"ladle\",\"ladybug, ladybeetle, lady beetle, ladybird, ladybird beetle\",\"lakeside, lakeshore\",\"lampshade, lamp shade\",\"langur\",\"laptop, laptop computer\",\"lawn mower, mower\",\"leaf beetle, chrysomelid\",\"leafhopper\",\"leatherback turtle, leatherback, leathery turtle, Dermochelys coriacea\",\"lemon\",\"lens cap, lens cover\",\"leopard, Panthera pardus\",\"lesser panda, red panda, panda, bear cat, cat bear, Ailurus fulgens\",\"letter opener, paper knife, paperknife\",\"library\",\"lifeboat\",\"lighter, light, igniter, ignitor\",\"limousine, limo\",\"limpkin, Aramus pictus\",\"liner, ocean liner\",\"lion, king of beasts, Panthera leo\",\"lionfish\",\"lipstick, lip rouge\",\"little blue heron, Egretta caerulea\",\"llama\",\"loggerhead, loggerhead turtle, Caretta caretta\",\"long-horned beetle, longicorn, longicorn beetle\",\"lorikeet\",\"lotion\",\"loudspeaker, speaker, speaker unit, loudspeaker system, speaker system\",\"loupe, jeweler's loupe\",\"lumbermill, sawmill\",\"lycaenid, lycaenid butterfly\",\"lynx, catamount\",\"macaque\",\"macaw\",\"magnetic compass\",\"magpie\",\"mailbag, postbag\",\"mailbox, letter box\",\"maillot\",\"maillot, tank suit\",\"malamute, malemute, Alaskan malamute\",\"malinois\",\"manhole cover\",\"mantis, mantid\",\"maraca\",\"marimba, xylophone\",\"marmoset\",\"marmot\",\"mashed potato\",\"mask\",\"matchstick\",\"maypole\",\"maze, labyrinth\",\"measuring cup\",\"meat loaf, meatloaf\",\"medicine chest, medicine cabinet\",\"meerkat, mierkat\",\"megalith, megalithic structure\",\"menu\",\"microphone, mike\",\"microwave, microwave oven\",\"military uniform\",\"milk can\",\"miniature pinscher\",\"miniature poodle\",\"miniature schnauzer\",\"minibus\",\"miniskirt, mini\",\"minivan\",\"mink\",\"missile\",\"mitten\",\"mixing bowl\",\"mobile home, manufactured home\",\"modem\",\"monarch, monarch butterfly, milkweed butterfly, Danaus plexippus\",\"monastery\",\"mongoose\",\"monitor\",\"moped\",\"mortar\",\"mortarboard\",\"mosque\",\"mosquito net\",\"motor scooter, scooter\",\"mountain bike, all-terrain bike, off-roader\",\"mountain tent\",\"mouse, computer mouse\",\"mousetrap\",\"moving van\",\"mud turtle\",\"mushroom\",\"muzzle\",\"nail\",\"neck brace\",\"necklace\",\"nematode, nematode worm, roundworm\",\"night snake, Hypsiglena torquata\",\"nipple\",\"notebook, notebook computer\",\"obelisk\",\"oboe, hautboy, hautbois\",\"ocarina, sweet potato\",\"odometer, hodometer, mileometer, milometer\",\"oil filter\",\"orange\",\"orangutan, orang, orangutang, Pongo pygmaeus\",\"organ, pipe organ\",\"oscilloscope, scope, cathode-ray oscilloscope, CRO\",\"ostrich, Struthio camelus\",\"otter\",\"otterhound, otter hound\",\"overskirt\",\"ox\",\"oxcart\",\"oxygen mask\",\"oystercatcher, oyster catcher\",\"packet\",\"paddle, boat paddle\",\"paddlewheel, paddle wheel\",\"padlock\",\"paintbrush\",\"pajama, pyjama, pj's, jammies\",\"palace\",\"panpipe, pandean pipe, syrinx\",\"paper towel\",\"papillon\",\"parachute, chute\",\"parallel bars, bars\",\"park bench\",\"parking meter\",\"partridge\",\"passenger car, coach, carriage\",\"patas, hussar monkey, Erythrocebus patas\",\"patio, terrace\",\"pay-phone, pay-station\",\"peacock\",\"pedestal, plinth, footstall\",\"pelican\",\"pencil box, pencil case\",\"pencil sharpener\",\"perfume, essence\",\"photocopier\",\"pick, plectrum, plectron\",\"pickelhaube\",\"picket fence, paling\",\"pickup, pickup truck\",\"pier\",\"piggy bank, penny bank\",\"pill bottle\",\"pillow\",\"pineapple, ananas\",\"ping-pong ball\",\"pinwheel\",\"pirate, pirate ship\",\"pitcher, ewer\",\"pizza, pizza pie\",\"plane, carpenter's plane, woodworking plane\",\"planetarium\",\"plastic bag\",\"plate\",\"plate rack\",\"platypus, duckbill, duckbilled platypus, duck-billed platypus, Ornithorhynchus anatinus\",\"plow, plough\",\"plunger, plumber's helper\",\"pole\",\"polecat, fitch, foulmart, foumart, Mustela putorius\",\"police van, police wagon, paddy wagon, patrol wagon, wagon, black Maria\",\"pomegranate\",\"poncho\",\"pool table, billiard table, snooker table\",\"pop bottle, soda bottle\",\"porcupine, hedgehog\",\"pot, flowerpot\",\"potpie\",\"potter's wheel\",\"power drill\",\"prairie chicken, prairie grouse, prairie fowl\",\"prayer rug, prayer mat\",\"pretzel\",\"printer\",\"prison, prison house\",\"proboscis monkey, Nasalis larvatus\",\"projectile, missile\",\"projector\",\"promontory, headland, head, foreland\",\"ptarmigan\",\"puck, hockey puck\",\"puffer, pufferfish, blowfish, globefish\",\"pug, pug-dog\",\"punching bag, punch bag, punching ball, punchball\",\"purse\",\"quail\",\"quill, quill pen\",\"quilt, comforter, comfort, puff\",\"racer, race car, racing car\",\"racket, racquet\",\"radiator\",\"radio telescope, radio reflector\",\"radio, wireless\",\"rain barrel\",\"ram, tup\",\"rapeseed\",\"recreational vehicle, RV, R.V.\",\"red fox, Vulpes vulpes\",\"red wine\",\"red wolf, maned wolf, Canis rufus, Canis niger\",\"red-backed sandpiper, dunlin, Erolia alpina\",\"red-breasted merganser, Mergus serrator\",\"redbone\",\"redshank, Tringa totanus\",\"reel\",\"reflex camera\",\"refrigerator, icebox\",\"remote control, remote\",\"restaurant, eating house, eating place, eatery\",\"revolver, six-gun, six-shooter\",\"rhinoceros beetle\",\"rifle\",\"ringlet, ringlet butterfly\",\"ringneck snake, ring-necked snake, ring snake\",\"robin, American robin, Turdus migratorius\",\"rock beauty, Holocanthus tricolor\",\"rock crab, Cancer irroratus\",\"rock python, rock snake, Python sebae\",\"rocking chair, rocker\",\"rotisserie\",\"rubber eraser, rubber, pencil eraser\",\"ruddy turnstone, Arenaria interpres\",\"ruffed grouse, partridge, Bonasa umbellus\",\"rugby ball\",\"rule, ruler\",\"running shoe\",\"safe\",\"safety pin\",\"saltshaker, salt shaker\",\"sandal\",\"sandbar, sand bar\",\"sarong\",\"sax, saxophone\",\"scabbard\",\"scale, weighing machine\",\"schipperke\",\"school bus\",\"schooner\",\"scoreboard\",\"scorpion\",\"screen, CRT screen\",\"screw\",\"screwdriver\",\"scuba diver\",\"sea anemone, anemone\",\"sea cucumber, holothurian\",\"sea lion\",\"sea slug, nudibranch\",\"sea snake\",\"sea urchin\",\"seashore, coast, seacoast, sea-coast\",\"seat belt, seatbelt\",\"sewing machine\",\"shield, buckler\",\"shoe shop, shoe-shop, shoe store\",\"shoji\",\"shopping basket\",\"shopping cart\",\"shovel\",\"shower cap\",\"shower curtain\",\"siamang, Hylobates syndactylus, Symphalangus syndactylus\",\"sidewinder, horned rattlesnake, Crotalus cerastes\",\"silky terrier, Sydney silky\",\"ski\",\"ski mask\",\"skunk, polecat, wood pussy\",\"sleeping bag\",\"slide rule, slipstick\",\"sliding door\",\"slot, one-armed bandit\",\"sloth bear, Melursus ursinus, Ursus ursinus\",\"slug\",\"snail\",\"snorkel\",\"snow leopard, ounce, Panthera uncia\",\"snowmobile\",\"snowplow, snowplough\",\"soap dispenser\",\"soccer ball\",\"sock\",\"soft-coated wheaten terrier\",\"solar dish, solar collector, solar furnace\",\"sombrero\",\"sorrel\",\"soup bowl\",\"space bar\",\"space heater\",\"space shuttle\",\"spaghetti squash\",\"spatula\",\"speedboat\",\"spider monkey, Ateles geoffroyi\",\"spider web, spider's web\",\"spindle\",\"spiny lobster, langouste, rock lobster, crawfish, crayfish, sea crawfish\",\"spoonbill\",\"sports car, sport car\",\"spotlight, spot\",\"spotted salamander, Ambystoma maculatum\",\"squirrel monkey, Saimiri sciureus\",\"stage\",\"standard poodle\",\"standard schnauzer\",\"starfish, sea star\",\"steam locomotive\",\"steel arch bridge\",\"steel drum\",\"stethoscope\",\"stingray\",\"stinkhorn, carrion fungus\",\"stole\",\"stone wall\",\"stopwatch, stop watch\",\"stove\",\"strainer\",\"strawberry\",\"street sign\",\"streetcar, tram, tramcar, trolley, trolley car\",\"stretcher\",\"studio couch, day bed\",\"stupa, tope\",\"sturgeon\",\"submarine, pigboat, sub, U-boat\",\"suit, suit of clothes\",\"sulphur butterfly, sulfur butterfly\",\"sulphur-crested cockatoo, Kakatoe galerita, Cacatua galerita\",\"sundial\",\"sunglass\",\"sunglasses, dark glasses, shades\",\"sunscreen, sunblock, sun blocker\",\"suspension bridge\",\"swab, swob, mop\",\"sweatshirt\",\"swimming trunks, bathing trunks\",\"swing\",\"switch, electric switch, electrical switch\",\"syringe\",\"tabby, tabby cat\",\"table lamp\",\"tailed frog, bell toad, ribbed toad, tailed toad, Ascaphus trui\",\"tank, army tank, armored combat vehicle, armoured combat vehicle\",\"tape player\",\"tarantula\",\"teapot\",\"teddy, teddy bear\",\"television, television system\",\"tench, Tinca tinca\",\"tennis ball\",\"terrapin\",\"thatch, thatched roof\",\"theater curtain, theatre curtain\",\"thimble\",\"three-toed sloth, ai, Bradypus tridactylus\",\"thresher, thrasher, threshing machine\",\"throne\",\"thunder snake, worm snake, Carphophis amoenus\",\"tick\",\"tiger beetle\",\"tiger cat\",\"tiger shark, Galeocerdo cuvieri\",\"tiger, Panthera tigris\",\"tile roof\",\"timber wolf, grey wolf, gray wolf, Canis lupus\",\"titi, titi monkey\",\"toaster\",\"tobacco shop, tobacconist shop, tobacconist\",\"toilet seat\",\"toilet tissue, toilet paper, bathroom tissue\",\"torch\",\"totem pole\",\"toucan\",\"tow truck, tow car, wrecker\",\"toy poodle\",\"toy terrier\",\"toyshop\",\"tractor\",\"traffic light, traffic signal, stoplight\",\"trailer truck, tractor trailer, trucking rig, rig, articulated lorry, semi\",\"tray\",\"tree frog, tree-frog\",\"trench coat\",\"triceratops\",\"tricycle, trike, velocipede\",\"trifle\",\"trilobite\",\"trimaran\",\"tripod\",\"triumphal arch\",\"trolleybus, trolley coach, trackless trolley\",\"trombone\",\"tub, vat\",\"turnstile\",\"tusker\",\"typewriter keyboard\",\"umbrella\",\"unicycle, monocycle\",\"upright, upright piano\",\"vacuum, vacuum cleaner\",\"valley, vale\",\"vase\",\"vault\",\"velvet\",\"vending machine\",\"vestment\",\"viaduct\",\"vine snake\",\"violin, fiddle\",\"vizsla, Hungarian pointer\",\"volcano\",\"volleyball\",\"vulture\",\"waffle iron\",\"walking stick, walkingstick, stick insect\",\"wall clock\",\"wallaby, brush kangaroo\",\"wallet, billfold, notecase, pocketbook\",\"wardrobe, closet, press\",\"warplane, military plane\",\"warthog\",\"washbasin, handbasin, washbowl, lavabo, wash-hand basin\",\"washer, automatic washer, washing machine\",\"water bottle\",\"water buffalo, water ox, Asiatic buffalo, Bubalus bubalis\",\"water jug\",\"water ouzel, dipper\",\"water snake\",\"water tower\",\"weasel\",\"web site, website, internet site, site\",\"weevil\",\"whippet\",\"whiptail, whiptail lizard\",\"whiskey jug\",\"whistle\",\"white stork, Ciconia ciconia\",\"white wolf, Arctic wolf, Canis lupus tundrarum\",\"wig\",\"wild boar, boar, Sus scrofa\",\"window screen\",\"window shade\",\"wine bottle\",\"wing\",\"wire-haired fox terrier\",\"wok\",\"wolf spider, hunting spider\",\"wombat\",\"wood rabbit, cottontail, cottontail rabbit\",\"wooden spoon\",\"wool, woolen, woollen\",\"worm fence, snake fence, snake-rail fence, Virginia fence\",\"wreck\",\"yawl\",\"yellow lady's slipper, yellow lady-slipper, Cypripedium calceolus, Cypripedium parviflorum\",\"yurt\",\"zebra\",\"zucchini, courgette\"]`\n",
        "\n",
        "# Resolution of the generated video \n",
        "resolution = 512 #@param {type: \"integer\"}\n",
        "\n",
        "# Frames per second of generated video\n",
        "fps =  12#@param {type: \"number\"}\n",
        "\n",
        "# The \"strength\" of the pulse. It is recommended to keep this between 0 and 100.\n",
        "pulse_react =  100#@param {type: \"number\"}\n",
        "\n",
        "# Whether the pulse should react to percussive or harmonic elements\n",
        "pulse_react_to = \"percussive\" #@param [\"percussive\", \"harmonic\"]\n",
        "\n",
        "#  The \"strength\" of the motion. Between 0 and 100\n",
        "motion_react =  100#@param {type: \"number\"}\n",
        "\n",
        "# Whether the motion should react to percussive or harmonic elements\n",
        "motion_react_to = \"harmonic\" #@param [\"harmonic\", \"percussive\"]\n",
        "\n",
        "# Degree of randomness of motion. Higher values will typically prevent the video from cycling through the same visuals repeatedly. Must range from 0 to 100.\n",
        "motion_randomness = 50 #@param {type: \"number\"}\n",
        "\n",
        "# Controls the variety of visuals generated. Lower values lead to lower variety. Note: A very low value will usually lead to \"jittery\" visuals. Must range from 0 to 100.\n",
        "truncation = 100 #@param {type: \"number\"}\n",
        "\n",
        "output_path = '/content'"
      ]
    },
    {
      "cell_type": "markdown",
      "metadata": {
        "id": "kSBBXrcy1ssE"
      },
      "source": [
        "# A. Set-Up"
      ]
    },
    {
      "cell_type": "markdown",
      "metadata": {
        "id": "0kBYttBTtlho"
      },
      "source": [
        "## A.1. Set-up GPU\n",
        "\n",
        "Navigate to **Runtime -> Change runtime type** and make sure **Hardware accelerator** is set to GPU."
      ]
    },
    {
      "cell_type": "markdown",
      "metadata": {
        "id": "PByrKtjcuMP8"
      },
      "source": [
        "## A.3. Install Lucid Sonic Dreams"
      ]
    },
    {
      "cell_type": "code",
      "execution_count": null,
      "metadata": {
        "id": "50buTzTKOf6x"
      },
      "outputs": [],
      "source": [
        "!pip install torch==1.9.1 torchtext torchvision torchaudio\n",
        "!pip install ninja ftfy\n",
        "!pip install git+https://github.com/pollinations/lucid-sonic-dreams\n",
        "\n",
        "\n",
        "\n",
        "!ffmpeg -y -i \"{audio_file}\" -vn -acodec pcm_s16le /tmp/audio.wav\n",
        "audio_file = '/tmp/audio.wav'"
      ]
    },
    {
      "cell_type": "code",
      "execution_count": null,
      "metadata": {
        "id": "2TEHsvAjxN3J"
      },
      "outputs": [],
      "source": [
        "\n",
        "network_pkl_url = \"https://s3.eu-central-1.amazonaws.com/avg-projects/stylegan_xl/models/imagenet128.pkl\" #@param {type: \"string\"}\n",
        "\n",
        "import os\n",
        "if not os.path.exists(\"/content/network.pkl\"):\n",
        "  !wget -c {network_pkl_url} -O /content/network.pkl\n",
        "#!cp imagenet128.pkl network.pkl\n",
        "network_pkl = \"/content/network.pkl\""
      ]
    },
    {
      "cell_type": "markdown",
      "metadata": {
        "id": "63dO9FBu1Mv0"
      },
      "source": [
        "# B. Generate Sample Videos"
      ]
    },
    {
      "cell_type": "markdown",
      "metadata": {
        "id": "7AgAsUB54ej8"
      },
      "source": [
        "## B.1. Choosing a Style\n",
        "\n",
        "Styles can be selected using the **style** parameter, which takes in any of the following:\n",
        "\n",
        "*   A valid default style name provided by the package. Run **show_styles()** to print valid values. *Note: These styles are loaded from [this repository](https://github.com/justinpinkney/awesome-pretrained-stylegan2) by Justin Pinkney.*\n",
        "\n",
        "*   A path to a .pkl file that contains pre-trained StyleGAN weights\n",
        "\n",
        "*   A custom function that takes noise_batch and class_batch parameters and outputs a list of Pillow Images (see example in **B.5**)\n",
        "\n",
        "\n",
        "\n"
      ]
    },
    {
      "cell_type": "markdown",
      "metadata": {
        "id": "YNnHbJgB2EWk"
      },
      "source": [
        "## B.2. Using Default Settings\n",
        "\n",
        "This package is set-up so that the only arguments required are the **file path to your audio track** and the **file name of the video output**. This code snippet outputs a 45-second, low-resolution preview of a video using the \"modern art\" style, and all the other default settings.\n",
        "\n",
        "The song used here is **Chemical Love by Basically Saturday Night**. You can watch the official music video [here](https://youtu.be/Gi7oQrtyjKI), or listen to them on [Spotify](https://open.spotify.com/artist/46tGdhXAQbTvxVOGgy0Fqu?si=E8mUjbWbR2uiiMR2MUc_4w)!\n",
        "\n",
        "Click [here](https://youtu.be/oGXfOmqFYTg) to view a full-length sample video without having to run the code."
      ]
    },
    {
      "cell_type": "code",
      "execution_count": null,
      "metadata": {
        "id": "SN8hypvi8wCJ"
      },
      "outputs": [],
      "source": [
        "%cd /content/\n",
        "\n",
        "\n",
        "!git clone https://github.com/NVlabs/stylegan2-ada.git stylegan2\n",
        "!cp -rv stylegan2/dnnlib ./dnnlib_sg2\n",
        "#import sys\n",
        "#sys.path.append(\"/content/stylegan2\")\n",
        "\n",
        "\n",
        "%cd /content\n",
        "!git clone https://github.com/autonomousvision/stylegan_xl\n",
        "!pip install timm dill\n",
        "%cd /content/stylegan_xl\n",
        "# import sys\n",
        "#sys.path.append(\"/content/stylegan_xl\")\n",
        "\n",
        "# conda stuff\n",
        "# %cd /content/stylegan_xl\n",
        "# !pip install -q condacolab\n",
        "# import condacolab\n",
        "# condacolab.install()\n",
        "\n",
        "# !source activate && conda env update -n base -f environment.yml\n",
        "#%cd /content\n"
      ]
    },
    {
      "cell_type": "code",
      "execution_count": null,
      "metadata": {
        "id": "eDzQHdZzVjA2"
      },
      "outputs": [],
      "source": [
        "\n",
        "\n",
        "# Copyright (c) 2021, NVIDIA CORPORATION & AFFILIATES.  All rights reserved.\n",
        "#\n",
        "# NVIDIA CORPORATION and its licensors retain all intellectual property\n",
        "# and proprietary rights in and to this software, related documentation\n",
        "# and any modifications thereto.  Any use, reproduction, disclosure or\n",
        "# distribution of this software and related documentation without an express\n",
        "# license agreement from NVIDIA CORPORATION is strictly prohibited.\n",
        "\n",
        "\"\"\"Generate images using pretrained network pickle.\"\"\"\n",
        "\n",
        "import os\n",
        "import re\n",
        "from typing import List, Optional, Tuple, Union\n",
        "\n",
        "import click\n",
        "import dnnlib\n",
        "import numpy as np\n",
        "import PIL.Image\n",
        "import torch\n",
        "\n",
        "import legacy\n",
        "\n",
        "#----------------------------------------------------------------------------\n",
        "\n",
        "def parse_range(s: Union[str, List]) -> List[int]:\n",
        "    '''Parse a comma separated list of numbers or ranges and return a list of ints.\n",
        "    Example: '1,2,5-10' returns [1, 2, 5, 6, 7]\n",
        "    '''\n",
        "    if isinstance(s, list): return s\n",
        "    ranges = []\n",
        "    range_re = re.compile(r'^(\\d+)-(\\d+)$')\n",
        "    for p in s.split(','):\n",
        "        m = range_re.match(p)\n",
        "        if m:\n",
        "            ranges.extend(range(int(m.group(1)), int(m.group(2))+1))\n",
        "        else:\n",
        "            ranges.append(int(p))\n",
        "    return ranges\n",
        "\n",
        "#----------------------------------------------------------------------------\n",
        "\n",
        "def parse_vec2(s: Union[str, Tuple[float, float]]) -> Tuple[float, float]:\n",
        "    '''Parse a floating point 2-vector of syntax 'a,b'.\n",
        "    Example:\n",
        "        '0,1' returns (0,1)\n",
        "    '''\n",
        "    if isinstance(s, tuple): return s\n",
        "    parts = s.split(',')\n",
        "    if len(parts) == 2:\n",
        "        return (float(parts[0]), float(parts[1]))\n",
        "    raise ValueError(f'cannot parse 2-vector {s}')\n",
        "\n",
        "#----------------------------------------------------------------------------\n",
        "\n",
        "def make_transform(translate: Tuple[float,float], angle: float):\n",
        "    m = np.eye(3)\n",
        "    s = np.sin(angle/360.0*np.pi*2)\n",
        "    c = np.cos(angle/360.0*np.pi*2)\n",
        "    m[0][0] = c\n",
        "    m[0][1] = s\n",
        "    m[0][2] = translate[0]\n",
        "    m[1][0] = -s\n",
        "    m[1][1] = c\n",
        "    m[1][2] = translate[1]\n",
        "    return m\n",
        "\n",
        "#----------------------------------------------------------------------------\n",
        "# \"/content/drive/MyDrive/sam/projected gan training/training-runs/00000-fastgan-sofia512-gpus1-batch64-/network-snapshot.pkl\",\n",
        "# [1,2,3], \n",
        "# 1,\n",
        "# \"const\", \n",
        "# \"/content\",\n",
        "# (0,0), \n",
        "# 0, \n",
        "#  None)\n",
        "\n",
        "print('Loading networks from \"%s\"...' % network_pkl)\n",
        "device = torch.device('cuda') if torch.cuda.is_available() else torch.device('cpu')\n",
        "with dnnlib.util.open_url(network_pkl) as f:\n",
        "    G = legacy.load_network_pkl(f)['G_ema'].to(device) # type: ignore\n",
        "\n",
        "noise_dim = G.z_dim\n",
        "\n",
        "def generate_images(\n",
        "    G,\n",
        "    z,\n",
        "    truncation_psi: float,\n",
        "    noise_mode: str,\n",
        "    translate: Tuple[float,float],\n",
        "    rotate: float,\n",
        "    class_idx: Optional[int]\n",
        "):\n",
        "    \"\"\"Generate images using pretrained network pickle.\n",
        "    Examples:\n",
        "    \\b\n",
        "    # Generate an image using pre-trained AFHQv2 model (\"Ours\" in Figure 1, left).\n",
        "    python gen_images.py --outdir=out --trunc=1 --seeds=2 \\\\\n",
        "        --network=https://api.ngc.nvidia.com/v2/models/nvidia/research/stylegan3/versions/1/files/stylegan3-r-afhqv2-512x512.pkl\n",
        "    \\b\n",
        "    # Generate uncurated images with truncation using the MetFaces-U dataset\n",
        "    python gen_images.py --outdir=out --trunc=0.7 --seeds=600-605 \\\\\n",
        "        --network=https://api.ngc.nvidia.com/v2/models/nvidia/research/stylegan3/versions/1/files/stylegan3-t-metfacesu-1024x1024.pkl\n",
        "    \"\"\"\n",
        "\n",
        "    # Labels.\n",
        "    label = torch.zeros([1, G.c_dim], device=device)\n",
        "    if G.c_dim != 0:\n",
        "        if class_idx is None:\n",
        "            raise click.ClickException('Must specify class label with --class when using a conditional network')\n",
        "        label[:, class_idx] = 1\n",
        "    else:\n",
        "        if class_idx is not None:\n",
        "            print ('warn: --class=lbl ignored when running on an unconditional network')\n",
        "\n",
        "    # Generate images.\n",
        "    #for seed_idx, seed in enumerate(seeds):\n",
        "\n",
        "    # Construct an inverse rotation/translation matrix and pass to the generator.  The\n",
        "    # generator expects this matrix as an inverse to avoid potentially failing numerical\n",
        "    # operations in the network.\n",
        "    if hasattr(G.synthesis, 'input'):\n",
        "        m = make_transform(translate, rotate)\n",
        "        m = np.linalg.inv(m)\n",
        "        G.synthesis.input.transform.copy_(torch.from_numpy(m))\n",
        "\n",
        "    img = G(z, label, truncation_psi=truncation_psi, noise_mode=noise_mode)\n",
        "    img = (img.permute(0, 2, 3, 1) * 127.5 + 128).clamp(0, 255).to(torch.uint8)\n",
        "    return PIL.Image.fromarray(img[0].cpu().numpy(), 'RGB')\n",
        "\n"
      ]
    },
    {
      "cell_type": "code",
      "execution_count": null,
      "metadata": {
        "id": "DDKRKmO27yvv"
      },
      "outputs": [],
      "source": [
        "!pwd"
      ]
    },
    {
      "cell_type": "code",
      "execution_count": null,
      "metadata": {
        "id": "zMM3s50hYFxB"
      },
      "outputs": [],
      "source": [
        "\n",
        "#z = torch.from_numpy(np.random.RandomState(123).randn(1, G.z_dim)).to(device).float()\n",
        "\n",
        "\n",
        "#print(generate_images(G,z, 1,\"const\", (0,0), 0, None))"
      ]
    },
    {
      "cell_type": "code",
      "execution_count": null,
      "metadata": {
        "id": "Mb4csn99eU3Q"
      },
      "outputs": [],
      "source": [
        "\n",
        "def projected_gan(noise_batch, class_batch):\n",
        "  noise_tensor = torch.from_numpy(noise_batch).cuda().float()\n",
        "  return [generate_images(G, noise_tensor, 1, \"const\", (0,0), 0, 309)]\n",
        "\n",
        "projected_gan"
      ]
    },
    {
      "cell_type": "code",
      "execution_count": null,
      "metadata": {
        "id": "Z7DkKcO9cfM_"
      },
      "outputs": [],
      "source": [
        "!pip install cffi==1.14.5\n",
        "#!pip install git+https://github.com/pollinations/lucid-sonic-dreams\n",
        "%cd /content/stylegan_xl\n",
        "from lucidsonicdreams import LucidSonicDream\n",
        "\n",
        "pulse_percussive = pulse_react_to == \"percussive\"\n",
        "pulse_harmonic = pulse_react_to == \"harmonic\"\n",
        "\n",
        "motion_percussive = motion_react_to == \"percussive\"\n",
        "motion_harmonic =  motion_react_to == \"harmonic\"\n",
        "\n",
        "L = LucidSonicDream(song = audio_file,\n",
        "                    style = projected_gan, \n",
        "                    input_shape = noise_dim,\n",
        "                    num_possible_classes = 0)\n",
        "\n",
        "\n",
        "\n",
        "L.hallucinate(file_name = 'output.mp4',\n",
        "              resolution = resolution,\n",
        "              fps = fps,\n",
        "              motion_percussive = motion_percussive,\n",
        "              motion_harmonic = motion_harmonic,\n",
        "              pulse_percussive = pulse_percussive,\n",
        "              pulse_harmonic = pulse_harmonic,\n",
        "              pulse_react = pulse_react / 100,\n",
        "              motion_react = motion_react / 100,\n",
        "              motion_randomness = motion_randomness / 100,\n",
        "              truncation = truncation / 100,\n",
        "              start = 0, \n",
        "              #duration = 0\n",
        "              )\n",
        "!cp output.mp4 $output_path/output.mp4\n",
        "#files.download(\"chemical_love.mp4\")"
      ]
    },
    {
      "cell_type": "code",
      "execution_count": null,
      "metadata": {
        "id": "yWwI80d-_gQh"
      },
      "outputs": [],
      "source": [
        "%pwd"
      ]
    },
    {
      "cell_type": "code",
      "execution_count": null,
      "metadata": {
        "id": "n4LnKv5ghns3"
      },
      "outputs": [],
      "source": [
        "!cp output.mp4 /content/drive/My\\ Drive/sam/lucid"
      ]
    },
    {
      "cell_type": "code",
      "execution_count": null,
      "metadata": {
        "id": "gntdg-M1AQL8"
      },
      "outputs": [],
      "source": []
    }
  ],
  "metadata": {
    "accelerator": "GPU",
    "colab": {
      "collapsed_sections": [],
      "name": "Audio-To-Video - Lucid Sonic Dreams XL",
      "provenance": []
    },
    "kernelspec": {
      "display_name": "Python 3",
      "name": "python3"
    }
  },
  "nbformat": 4,
  "nbformat_minor": 0
}
