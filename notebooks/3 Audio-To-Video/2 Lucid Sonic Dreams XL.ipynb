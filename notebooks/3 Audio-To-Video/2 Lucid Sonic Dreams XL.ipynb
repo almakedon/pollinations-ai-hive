{
  "cells": [
    {
      "cell_type": "markdown",
      "metadata": {
        "id": "-ekvKCcD7nWY"
      },
      "source": [
        "<img src=\"https://ipfs.pollinations.ai/ipfs/Qmc9D9poeppLMv7AMmrtH2VYgSdJnpwrgpuAgzzC7eMJ84\" width=\"300\" height=\"300\" />\n",
        "\n",
        "class: *jellyfish*\n",
        "\n",
        "\n",
        "Generate a music video from an audio file - the video moves with every sound and produces abstract art by travelling through the latent space of a StyleGAN. Supports many models including StyleGAN-XL with over **1000 imagenet styles**, StyleGAN-humans as well as many StyleGAN-2 checkpoints.\n",
        "\n",
        "---\n",
        "\n",
        "[Thomash](https://twitter.com/pollinations_ai) and [Niels](https://twitter.com/nielsrolf1) adapted [Lucid Sonic Dreams](https://github.com/mikaelalafriz/lucid-sonic-dreams) to use [StyleGAN-XL](https://sites.google.com/view/stylegan-xl/) and the [StyleGAN-human model](https://stylegan-human.github.io/)"
      ]
    },
    {
      "cell_type": "markdown",
      "metadata": {
        "id": "GR2-ZxixP6R3"
      },
      "source": [
        "\n",
        "Lucid Sonic Dreams syncs GAN-generated visuals to music. By default, it uses [NVLabs StyleGAN2](https://github.com/NVlabs/stylegan2), with pre-trained models lifted from [Justin Pinkney's consolidated repository](https://github.com/justinpinkney/awesome-pretrained-stylegan2). Custom weights and other GAN architectures can be used as well.\n",
        "\n",
        "For a more detailed description of the technique refer to: [Introducing Lucid Sonic Dreams: Sync GAN Art to Music with a Few Lines of Python Code!](https://towardsdatascience.com/introducing-lucid-sonic-dreams-sync-gan-art-to-music-with-a-few-lines-of-python-code-b04f88722de1)\n",
        "\n",
        "Sample output can be found on [YouTube](https://youtu.be/l-nGC-ve7sI) and [Instagram](https://www.instagram.com/lucidsonicdreams/).\n",
        "\n",
        "**[UPD 17.10.2021]** Exposed more parameters\n",
        "[UPD 1.10.2021] Added Visionary Art Dataset"
      ]
    },
    {
      "cell_type": "code",
      "execution_count": null,
      "metadata": {
        "id": "E50DZCnE7rEa",
        "vscode": {
          "languageId": "python"
        }
      },
      "outputs": [],
      "source": [
        "# Model type. If you choose imagenet you can select the style next\n",
        "model_type = \"imagenet (XL)\" #@param [\"imagenet (XL)\", \"ffhq (XL)\", \"pokemon (XL)\", \"humans (StyleGAN-humans)\", \"Abstract art\",\"Anime portraits\",\"CIFAR 10\",\"CIFAR 100\",\"Doors\",\"Maps\",\"Visionary Art\",\"WikiArt\",\"beetles\",\"cakes\",\"car (config-e)\",\"car (config-f)\",\"cat\",\"church\",\"faces (FFHQ config-e 256x256)\",\"faces (FFHQ config-e)\",\"faces (FFHQ config-f 512x512)\",\"faces (FFHQ config-f)\",\"faces (FFHQ slim 256x256)\",\"figure drawings\",\"flowers\",\"fursona\",\"grumpy cat\",\"horse\",\"microscope images\",\"modern art\",\"my little pony\",\"obama\",\"painting faces\",\"panda\",\"textures\",\"trypophobia\",\"ukiyoe faces\",\"wildlife\"]\n",
        "\n",
        "# The style to use. Only works for imagenet model\n",
        "style = \"jellyfish\" #@param [\"Afghan hound, Afghan\",\"African chameleon, Chamaeleo chamaeleon\",\"African crocodile, Nile crocodile, Crocodylus niloticus\",\"African elephant, Loxodonta africana\",\"African grey, African gray, Psittacus erithacus\",\"African hunting dog, hyena dog, Cape hunting dog, Lycaon pictus\",\"Airedale, Airedale terrier\",\"American Staffordshire terrier, Staffordshire terrier, American pit bull terrier, pit bull terrier\",\"American alligator, Alligator mississipiensis\",\"American black bear, black bear, Ursus americanus, Euarctos americanus\",\"American chameleon, anole, Anolis carolinensis\",\"American coot, marsh hen, mud hen, water hen, Fulica americana\",\"American egret, great white heron, Egretta albus\",\"American lobster, Northern lobster, Maine lobster, Homarus americanus\",\"Angora, Angora rabbit\",\"Appenzeller\",\"Arabian camel, dromedary, Camelus dromedarius\",\"Arctic fox, white fox, Alopex lagopus\",\"Australian terrier\",\"Band Aid\",\"Bedlington terrier\",\"Bernese mountain dog\",\"Blenheim spaniel\",\"Border collie\",\"Border terrier\",\"Boston bull, Boston terrier\",\"Bouvier des Flandres, Bouviers des Flandres\",\"Brabancon griffon\",\"Brittany spaniel\",\"CD player\",\"Cardigan, Cardigan Welsh corgi\",\"Chesapeake Bay retriever\",\"Chihuahua\",\"Christmas stocking\",\"Crock Pot\",\"Dandie Dinmont, Dandie Dinmont terrier\",\"Doberman, Doberman pinscher\",\"Dungeness crab, Cancer magister\",\"Dutch oven\",\"Egyptian cat\",\"English foxhound\",\"English setter\",\"English springer, English springer spaniel\",\"EntleBucher\",\"Eskimo dog, husky\",\"European fire salamander, Salamandra salamandra\",\"European gallinule, Porphyrio porphyrio\",\"French bulldog\",\"French horn, horn\",\"French loaf\",\"German shepherd, German shepherd dog, German police dog, alsatian\",\"German short-haired pointer\",\"Gila monster, Heloderma suspectum\",\"Gordon setter\",\"Granny Smith\",\"Great Dane\",\"Great Pyrenees\",\"Greater Swiss Mountain dog\",\"Ibizan hound, Ibizan Podenco\",\"Indian cobra, Naja naja\",\"Indian elephant, Elephas maximus\",\"Irish setter, red setter\",\"Irish terrier\",\"Irish water spaniel\",\"Irish wolfhound\",\"Italian greyhound\",\"Japanese spaniel\",\"Kerry blue terrier\",\"Komodo dragon, Komodo lizard, dragon lizard, giant lizard, Varanus komodoensis\",\"Labrador retriever\",\"Lakeland terrier\",\"Leonberg\",\"Lhasa, Lhasa apso\",\"Loafer\",\"Madagascar cat, ring-tailed lemur, Lemur catta\",\"Maltese dog, Maltese terrier, Maltese\",\"Mexican hairless\",\"Model T\",\"Newfoundland, Newfoundland dog\",\"Norfolk terrier\",\"Norwegian elkhound, elkhound\",\"Norwich terrier\",\"Old English sheepdog, bobtail\",\"Pekinese, Pekingese, Peke\",\"Pembroke, Pembroke Welsh corgi\",\"Persian cat\",\"Petri dish\",\"Polaroid camera, Polaroid Land camera\",\"Pomeranian\",\"Rhodesian ridgeback\",\"Rottweiler\",\"Saint Bernard, St Bernard\",\"Saluki, gazelle hound\",\"Samoyed, Samoyede\",\"Scotch terrier, Scottish terrier, Scottie\",\"Scottish deerhound, deerhound\",\"Sealyham terrier, Sealyham\",\"Shetland sheepdog, Shetland sheep dog, Shetland\",\"Shih-Tzu\",\"Siamese cat, Siamese\",\"Siberian husky\",\"Staffordshire bullterrier, Staffordshire bull terrier\",\"Sussex spaniel\",\"Tibetan mastiff\",\"Tibetan terrier, chrysanthemum dog\",\"Walker hound, Walker foxhound\",\"Weimaraner\",\"Welsh springer spaniel\",\"West Highland white terrier\",\"Windsor tie\",\"Yorkshire terrier\",\"abacus\",\"abaya\",\"academic gown, academic robe, judge's robe\",\"accordion, piano accordion, squeeze box\",\"acorn\",\"acorn squash\",\"acoustic guitar\",\"admiral\",\"affenpinscher, monkey pinscher, monkey dog\",\"agama\",\"agaric\",\"aircraft carrier, carrier, flattop, attack aircraft carrier\",\"airliner\",\"airship, dirigible\",\"albatross, mollymawk\",\"alligator lizard\",\"alp\",\"altar\",\"ambulance\",\"amphibian, amphibious vehicle\",\"analog clock\",\"anemone fish\",\"ant, emmet, pismire\",\"apiary, bee house\",\"apron\",\"armadillo\",\"artichoke, globe artichoke\",\"ashcan, trash can, garbage can, wastebin, ash bin, ash-bin, ashbin, dustbin, trash barrel, trash bin\",\"assault rifle, assault gun\",\"axolotl, mud puppy, Ambystoma mexicanum\",\"baboon\",\"backpack, back pack, knapsack, packsack, rucksack, haversack\",\"badger\",\"bagel, beigel\",\"bakery, bakeshop, bakehouse\",\"balance beam, beam\",\"bald eagle, American eagle, Haliaeetus leucocephalus\",\"balloon\",\"ballplayer, baseball player\",\"ballpoint, ballpoint pen, ballpen, Biro\",\"banana\",\"banded gecko\",\"banjo\",\"bannister, banister, balustrade, balusters, handrail\",\"barbell\",\"barber chair\",\"barbershop\",\"barn\",\"barn spider, Araneus cavaticus\",\"barometer\",\"barracouta, snoek\",\"barrel, cask\",\"barrow, garden cart, lawn cart, wheelbarrow\",\"baseball\",\"basenji\",\"basketball\",\"basset, basset hound\",\"bassinet\",\"bassoon\",\"bath towel\",\"bathing cap, swimming cap\",\"bathtub, bathing tub, bath, tub\",\"beach wagon, station wagon, wagon, estate car, beach waggon, station waggon, waggon\",\"beacon, lighthouse, beacon light, pharos\",\"beagle\",\"beaker\",\"bearskin, busby, shako\",\"beaver\",\"bee\",\"bee eater\",\"beer bottle\",\"beer glass\",\"bell cote, bell cot\",\"bell pepper\",\"bib\",\"bicycle-built-for-two, tandem bicycle, tandem\",\"bighorn, bighorn sheep, cimarron, Rocky Mountain bighorn, Rocky Mountain sheep, Ovis canadensis\",\"bikini, two-piece\",\"binder, ring-binder\",\"binoculars, field glasses, opera glasses\",\"birdhouse\",\"bison\",\"bittern\",\"black and gold garden spider, Argiope aurantia\",\"black grouse\",\"black stork, Ciconia nigra\",\"black swan, Cygnus atratus\",\"black widow, Latrodectus mactans\",\"black-and-tan coonhound\",\"black-footed ferret, ferret, Mustela nigripes\",\"bloodhound, sleuthhound\",\"bluetick\",\"boa constrictor, Constrictor constrictor\",\"boathouse\",\"bobsled, bobsleigh, bob\",\"bolete\",\"bolo tie, bolo, bola tie, bola\",\"bonnet, poke bonnet\",\"book jacket, dust cover, dust jacket, dust wrapper\",\"bookcase\",\"bookshop, bookstore, bookstall\",\"borzoi, Russian wolfhound\",\"bottlecap\",\"bow\",\"bow tie, bow-tie, bowtie\",\"box turtle, box tortoise\",\"boxer\",\"brain coral\",\"brambling, Fringilla montifringilla\",\"brass, memorial tablet, plaque\",\"brassiere, bra, bandeau\",\"breakwater, groin, groyne, mole, bulwark, seawall, jetty\",\"breastplate, aegis, egis\",\"briard\",\"broccoli\",\"broom\",\"brown bear, bruin, Ursus arctos\",\"bubble\",\"bucket, pail\",\"buckeye, horse chestnut, conker\",\"buckle\",\"bulbul\",\"bull mastiff\",\"bullet train, bullet\",\"bulletproof vest\",\"bullfrog, Rana catesbeiana\",\"burrito\",\"bustard\",\"butcher shop, meat market\",\"butternut squash\",\"cab, hack, taxi, taxicab\",\"cabbage butterfly\",\"cairn, cairn terrier\",\"caldron, cauldron\",\"can opener, tin opener\",\"candle, taper, wax light\",\"cannon\",\"canoe\",\"capuchin, ringtail, Cebus capucinus\",\"car mirror\",\"car wheel\",\"carbonara\",\"cardigan\",\"cardoon\",\"carousel, carrousel, merry-go-round, roundabout, whirligig\",\"carpenter's kit, tool kit\",\"carton\",\"cash machine, cash dispenser, automated teller machine, automatic teller machine, automated teller, automatic teller, ATM\",\"cassette\",\"cassette player\",\"castle\",\"catamaran\",\"cauliflower\",\"cello, violoncello\",\"cellular telephone, cellular phone, cellphone, cell, mobile phone\",\"centipede\",\"chain\",\"chain mail, ring mail, mail, chain armor, chain armour, ring armor, ring armour\",\"chain saw, chainsaw\",\"chainlink fence\",\"chambered nautilus, pearly nautilus, nautilus\",\"cheeseburger\",\"cheetah, chetah, Acinonyx jubatus\",\"chest\",\"chickadee\",\"chiffonier, commode\",\"chime, bell, gong\",\"chimpanzee, chimp, Pan troglodytes\",\"china cabinet, china closet\",\"chiton, coat-of-mail shell, sea cradle, polyplacophore\",\"chocolate sauce, chocolate syrup\",\"chow, chow chow\",\"church, church building\",\"cicada, cicala\",\"cinema, movie theater, movie theatre, movie house, picture palace\",\"cleaver, meat cleaver, chopper\",\"cliff dwelling\",\"cliff, drop, drop-off\",\"cloak\",\"clog, geta, patten, sabot\",\"clumber, clumber spaniel\",\"cock\",\"cocker spaniel, English cocker spaniel, cocker\",\"cockroach, roach\",\"cocktail shaker\",\"coffee mug\",\"coffeepot\",\"coho, cohoe, coho salmon, blue jack, silver salmon, Oncorhynchus kisutch\",\"coil, spiral, volute, whorl, helix\",\"collie\",\"colobus, colobus monkey\",\"combination lock\",\"comic book\",\"common iguana, iguana, Iguana iguana\",\"common newt, Triturus vulgaris\",\"computer keyboard, keypad\",\"conch\",\"confectionery, confectionary, candy store\",\"consomme\",\"container ship, containership, container vessel\",\"convertible\",\"coral fungus\",\"coral reef\",\"corkscrew, bottle screw\",\"corn\",\"cornet, horn, trumpet, trump\",\"coucal\",\"cougar, puma, catamount, mountain lion, painter, panther, Felis concolor\",\"cowboy boot\",\"cowboy hat, ten-gallon hat\",\"coyote, prairie wolf, brush wolf, Canis latrans\",\"cradle\",\"crane\",\"crash helmet\",\"crate\",\"crayfish, crawfish, crawdad, crawdaddy\",\"crib, cot\",\"cricket\",\"croquet ball\",\"crossword puzzle, crossword\",\"crutch\",\"cucumber, cuke\",\"cuirass\",\"cup\",\"curly-coated retriever\",\"custard apple\",\"daisy\",\"dalmatian, coach dog, carriage dog\",\"dam, dike, dyke\",\"damselfly\",\"desk\",\"desktop computer\",\"dhole, Cuon alpinus\",\"dial telephone, dial phone\",\"diamondback, diamondback rattlesnake, Crotalus adamanteus\",\"diaper, nappy, napkin\",\"digital clock\",\"digital watch\",\"dingo, warrigal, warragal, Canis dingo\",\"dining table, board\",\"dishrag, dishcloth\",\"dishwasher, dish washer, dishwashing machine\",\"disk brake, disc brake\",\"dock, dockage, docking facility\",\"dogsled, dog sled, dog sleigh\",\"dome\",\"doormat, welcome mat\",\"dough\",\"dowitcher\",\"dragonfly, darning needle, devil's darning needle, sewing needle, snake feeder, snake doctor, mosquito hawk, skeeter hawk\",\"drake\",\"drilling platform, offshore rig\",\"drum, membranophone, tympan\",\"drumstick\",\"dugong, Dugong dugon\",\"dumbbell\",\"dung beetle\",\"ear, spike, capitulum\",\"earthstar\",\"echidna, spiny anteater, anteater\",\"eel\",\"eft\",\"eggnog\",\"electric fan, blower\",\"electric guitar\",\"electric locomotive\",\"electric ray, crampfish, numbfish, torpedo\",\"entertainment center\",\"envelope\",\"espresso\",\"espresso maker\",\"face powder\",\"feather boa, boa\",\"fiddler crab\",\"fig\",\"file, file cabinet, filing cabinet\",\"fire engine, fire truck\",\"fire screen, fireguard\",\"fireboat\",\"flagpole, flagstaff\",\"flamingo\",\"flat-coated retriever\",\"flatworm, platyhelminth\",\"flute, transverse flute\",\"fly\",\"folding chair\",\"football helmet\",\"forklift\",\"fountain\",\"fountain pen\",\"four-poster\",\"fox squirrel, eastern fox squirrel, Sciurus niger\",\"freight car\",\"frilled lizard, Chlamydosaurus kingi\",\"frying pan, frypan, skillet\",\"fur coat\",\"gar, garfish, garpike, billfish, Lepisosteus osseus\",\"garbage truck, dustcart\",\"garden spider, Aranea diademata\",\"garter snake, grass snake\",\"gas pump, gasoline pump, petrol pump, island dispenser\",\"gasmask, respirator, gas helmet\",\"gazelle\",\"geyser\",\"giant panda, panda, panda bear, coon bear, Ailuropoda melanoleuca\",\"giant schnauzer\",\"gibbon, Hylobates lar\",\"go-kart\",\"goblet\",\"golden retriever\",\"goldfinch, Carduelis carduelis\",\"goldfish, Carassius auratus\",\"golf ball\",\"golfcart, golf cart\",\"gondola\",\"gong, tam-tam\",\"goose\",\"gorilla, Gorilla gorilla\",\"gown\",\"grand piano, grand\",\"grasshopper, hopper\",\"great grey owl, great gray owl, Strix nebulosa\",\"great white shark, white shark, man-eater, man-eating shark, Carcharodon carcharias\",\"green lizard, Lacerta viridis\",\"green mamba\",\"green snake, grass snake\",\"greenhouse, nursery, glasshouse\",\"grey fox, gray fox, Urocyon cinereoargenteus\",\"grey whale, gray whale, devilfish, Eschrichtius gibbosus, Eschrichtius robustus\",\"grille, radiator grille\",\"grocery store, grocery, food market, market\",\"groenendael\",\"groom, bridegroom\",\"ground beetle, carabid beetle\",\"guacamole\",\"guenon, guenon monkey\",\"guillotine\",\"guinea pig, Cavia cobaya\",\"gyromitra\",\"hair slide\",\"hair spray\",\"half track\",\"hammer\",\"hammerhead, hammerhead shark\",\"hamper\",\"hamster\",\"hand blower, blow dryer, blow drier, hair dryer, hair drier\",\"hand-held computer, hand-held microcomputer\",\"handkerchief, hankie, hanky, hankey\",\"hard disc, hard disk, fixed disk\",\"hare\",\"harmonica, mouth organ, harp, mouth harp\",\"harp\",\"hartebeest\",\"harvester, reaper\",\"harvestman, daddy longlegs, Phalangium opilio\",\"hatchet\",\"hay\",\"head cabbage\",\"hen\",\"hen-of-the-woods, hen of the woods, Polyporus frondosus, Grifola frondosa\",\"hermit crab\",\"hip, rose hip, rosehip\",\"hippopotamus, hippo, river horse, Hippopotamus amphibius\",\"hog, pig, grunter, squealer, Sus scrofa\",\"hognose snake, puff adder, sand viper\",\"holster\",\"home theater, home theatre\",\"honeycomb\",\"hook, claw\",\"hoopskirt, crinoline\",\"horizontal bar, high bar\",\"hornbill\",\"horned viper, cerastes, sand viper, horned asp, Cerastes cornutus\",\"horse cart, horse-cart\",\"hot pot, hotpot\",\"hotdog, hot dog, red hot\",\"hourglass\",\"house finch, linnet, Carpodacus mexicanus\",\"howler monkey, howler\",\"hummingbird\",\"hyena, hyaena\",\"iPod\",\"ibex, Capra ibex\",\"ice bear, polar bear, Ursus Maritimus, Thalarctos maritimus\",\"ice cream, icecream\",\"ice lolly, lolly, lollipop, popsicle\",\"impala, Aepyceros melampus\",\"indigo bunting, indigo finch, indigo bird, Passerina cyanea\",\"indri, indris, Indri indri, Indri brevicaudatus\",\"iron, smoothing iron\",\"isopod\",\"jacamar\",\"jack-o'-lantern\",\"jackfruit, jak, jack\",\"jaguar, panther, Panthera onca, Felis onca\",\"jay\",\"jean, blue jean, denim\",\"jeep, landrover\",\"jellyfish\",\"jersey, T-shirt, tee shirt\",\"jigsaw puzzle\",\"jinrikisha, ricksha, rickshaw\",\"joystick\",\"junco, snowbird\",\"keeshond\",\"kelpie\",\"killer whale, killer, orca, grampus, sea wolf, Orcinus orca\",\"kimono\",\"king crab, Alaska crab, Alaskan king crab, Alaska king crab, Paralithodes camtschatica\",\"king penguin, Aptenodytes patagonica\",\"king snake, kingsnake\",\"kit fox, Vulpes macrotis\",\"kite\",\"knee pad\",\"knot\",\"koala, koala bear, kangaroo bear, native bear, Phascolarctos cinereus\",\"komondor\",\"kuvasz\",\"lab coat, laboratory coat\",\"lacewing, lacewing fly\",\"ladle\",\"ladybug, ladybeetle, lady beetle, ladybird, ladybird beetle\",\"lakeside, lakeshore\",\"lampshade, lamp shade\",\"langur\",\"laptop, laptop computer\",\"lawn mower, mower\",\"leaf beetle, chrysomelid\",\"leafhopper\",\"leatherback turtle, leatherback, leathery turtle, Dermochelys coriacea\",\"lemon\",\"lens cap, lens cover\",\"leopard, Panthera pardus\",\"lesser panda, red panda, panda, bear cat, cat bear, Ailurus fulgens\",\"letter opener, paper knife, paperknife\",\"library\",\"lifeboat\",\"lighter, light, igniter, ignitor\",\"limousine, limo\",\"limpkin, Aramus pictus\",\"liner, ocean liner\",\"lion, king of beasts, Panthera leo\",\"lionfish\",\"lipstick, lip rouge\",\"little blue heron, Egretta caerulea\",\"llama\",\"loggerhead, loggerhead turtle, Caretta caretta\",\"long-horned beetle, longicorn, longicorn beetle\",\"lorikeet\",\"lotion\",\"loudspeaker, speaker, speaker unit, loudspeaker system, speaker system\",\"loupe, jeweler's loupe\",\"lumbermill, sawmill\",\"lycaenid, lycaenid butterfly\",\"lynx, catamount\",\"macaque\",\"macaw\",\"magnetic compass\",\"magpie\",\"mailbag, postbag\",\"mailbox, letter box\",\"maillot\",\"maillot, tank suit\",\"malamute, malemute, Alaskan malamute\",\"malinois\",\"manhole cover\",\"mantis, mantid\",\"maraca\",\"marimba, xylophone\",\"marmoset\",\"marmot\",\"mashed potato\",\"mask\",\"matchstick\",\"maypole\",\"maze, labyrinth\",\"measuring cup\",\"meat loaf, meatloaf\",\"medicine chest, medicine cabinet\",\"meerkat, mierkat\",\"megalith, megalithic structure\",\"menu\",\"microphone, mike\",\"microwave, microwave oven\",\"military uniform\",\"milk can\",\"miniature pinscher\",\"miniature poodle\",\"miniature schnauzer\",\"minibus\",\"miniskirt, mini\",\"minivan\",\"mink\",\"missile\",\"mitten\",\"mixing bowl\",\"mobile home, manufactured home\",\"modem\",\"monarch, monarch butterfly, milkweed butterfly, Danaus plexippus\",\"monastery\",\"mongoose\",\"monitor\",\"moped\",\"mortar\",\"mortarboard\",\"mosque\",\"mosquito net\",\"motor scooter, scooter\",\"mountain bike, all-terrain bike, off-roader\",\"mountain tent\",\"mouse, computer mouse\",\"mousetrap\",\"moving van\",\"mud turtle\",\"mushroom\",\"muzzle\",\"nail\",\"neck brace\",\"necklace\",\"nematode, nematode worm, roundworm\",\"night snake, Hypsiglena torquata\",\"nipple\",\"notebook, notebook computer\",\"obelisk\",\"oboe, hautboy, hautbois\",\"ocarina, sweet potato\",\"odometer, hodometer, mileometer, milometer\",\"oil filter\",\"orange\",\"orangutan, orang, orangutang, Pongo pygmaeus\",\"organ, pipe organ\",\"oscilloscope, scope, cathode-ray oscilloscope, CRO\",\"ostrich, Struthio camelus\",\"otter\",\"otterhound, otter hound\",\"overskirt\",\"ox\",\"oxcart\",\"oxygen mask\",\"oystercatcher, oyster catcher\",\"packet\",\"paddle, boat paddle\",\"paddlewheel, paddle wheel\",\"padlock\",\"paintbrush\",\"pajama, pyjama, pj's, jammies\",\"palace\",\"panpipe, pandean pipe, syrinx\",\"paper towel\",\"papillon\",\"parachute, chute\",\"parallel bars, bars\",\"park bench\",\"parking meter\",\"partridge\",\"passenger car, coach, carriage\",\"patas, hussar monkey, Erythrocebus patas\",\"patio, terrace\",\"pay-phone, pay-station\",\"peacock\",\"pedestal, plinth, footstall\",\"pelican\",\"pencil box, pencil case\",\"pencil sharpener\",\"perfume, essence\",\"photocopier\",\"pick, plectrum, plectron\",\"pickelhaube\",\"picket fence, paling\",\"pickup, pickup truck\",\"pier\",\"piggy bank, penny bank\",\"pill bottle\",\"pillow\",\"pineapple, ananas\",\"ping-pong ball\",\"pinwheel\",\"pirate, pirate ship\",\"pitcher, ewer\",\"pizza, pizza pie\",\"plane, carpenter's plane, woodworking plane\",\"planetarium\",\"plastic bag\",\"plate\",\"plate rack\",\"platypus, duckbill, duckbilled platypus, duck-billed platypus, Ornithorhynchus anatinus\",\"plow, plough\",\"plunger, plumber's helper\",\"pole\",\"polecat, fitch, foulmart, foumart, Mustela putorius\",\"police van, police wagon, paddy wagon, patrol wagon, wagon, black Maria\",\"pomegranate\",\"poncho\",\"pool table, billiard table, snooker table\",\"pop bottle, soda bottle\",\"porcupine, hedgehog\",\"pot, flowerpot\",\"potpie\",\"potter's wheel\",\"power drill\",\"prairie chicken, prairie grouse, prairie fowl\",\"prayer rug, prayer mat\",\"pretzel\",\"printer\",\"prison, prison house\",\"proboscis monkey, Nasalis larvatus\",\"projectile, missile\",\"projector\",\"promontory, headland, head, foreland\",\"ptarmigan\",\"puck, hockey puck\",\"puffer, pufferfish, blowfish, globefish\",\"pug, pug-dog\",\"punching bag, punch bag, punching ball, punchball\",\"purse\",\"quail\",\"quill, quill pen\",\"quilt, comforter, comfort, puff\",\"racer, race car, racing car\",\"racket, racquet\",\"radiator\",\"radio telescope, radio reflector\",\"radio, wireless\",\"rain barrel\",\"ram, tup\",\"rapeseed\",\"recreational vehicle, RV, R.V.\",\"red fox, Vulpes vulpes\",\"red wine\",\"red wolf, maned wolf, Canis rufus, Canis niger\",\"red-backed sandpiper, dunlin, Erolia alpina\",\"red-breasted merganser, Mergus serrator\",\"redbone\",\"redshank, Tringa totanus\",\"reel\",\"reflex camera\",\"refrigerator, icebox\",\"remote control, remote\",\"restaurant, eating house, eating place, eatery\",\"revolver, six-gun, six-shooter\",\"rhinoceros beetle\",\"rifle\",\"ringlet, ringlet butterfly\",\"ringneck snake, ring-necked snake, ring snake\",\"robin, American robin, Turdus migratorius\",\"rock beauty, Holocanthus tricolor\",\"rock crab, Cancer irroratus\",\"rock python, rock snake, Python sebae\",\"rocking chair, rocker\",\"rotisserie\",\"rubber eraser, rubber, pencil eraser\",\"ruddy turnstone, Arenaria interpres\",\"ruffed grouse, partridge, Bonasa umbellus\",\"rugby ball\",\"rule, ruler\",\"running shoe\",\"safe\",\"safety pin\",\"saltshaker, salt shaker\",\"sandal\",\"sandbar, sand bar\",\"sarong\",\"sax, saxophone\",\"scabbard\",\"scale, weighing machine\",\"schipperke\",\"school bus\",\"schooner\",\"scoreboard\",\"scorpion\",\"screen, CRT screen\",\"screw\",\"screwdriver\",\"scuba diver\",\"sea anemone, anemone\",\"sea cucumber, holothurian\",\"sea lion\",\"sea slug, nudibranch\",\"sea snake\",\"sea urchin\",\"seashore, coast, seacoast, sea-coast\",\"seat belt, seatbelt\",\"sewing machine\",\"shield, buckler\",\"shoe shop, shoe-shop, shoe store\",\"shoji\",\"shopping basket\",\"shopping cart\",\"shovel\",\"shower cap\",\"shower curtain\",\"siamang, Hylobates syndactylus, Symphalangus syndactylus\",\"sidewinder, horned rattlesnake, Crotalus cerastes\",\"silky terrier, Sydney silky\",\"ski\",\"ski mask\",\"skunk, polecat, wood pussy\",\"sleeping bag\",\"slide rule, slipstick\",\"sliding door\",\"slot, one-armed bandit\",\"sloth bear, Melursus ursinus, Ursus ursinus\",\"slug\",\"snail\",\"snorkel\",\"snow leopard, ounce, Panthera uncia\",\"snowmobile\",\"snowplow, snowplough\",\"soap dispenser\",\"soccer ball\",\"sock\",\"soft-coated wheaten terrier\",\"solar dish, solar collector, solar furnace\",\"sombrero\",\"sorrel\",\"soup bowl\",\"space bar\",\"space heater\",\"space shuttle\",\"spaghetti squash\",\"spatula\",\"speedboat\",\"spider monkey, Ateles geoffroyi\",\"spider web, spider's web\",\"spindle\",\"spiny lobster, langouste, rock lobster, crawfish, crayfish, sea crawfish\",\"spoonbill\",\"sports car, sport car\",\"spotlight, spot\",\"spotted salamander, Ambystoma maculatum\",\"squirrel monkey, Saimiri sciureus\",\"stage\",\"standard poodle\",\"standard schnauzer\",\"starfish, sea star\",\"steam locomotive\",\"steel arch bridge\",\"steel drum\",\"stethoscope\",\"stingray\",\"stinkhorn, carrion fungus\",\"stole\",\"stone wall\",\"stopwatch, stop watch\",\"stove\",\"strainer\",\"strawberry\",\"street sign\",\"streetcar, tram, tramcar, trolley, trolley car\",\"stretcher\",\"studio couch, day bed\",\"stupa, tope\",\"sturgeon\",\"submarine, pigboat, sub, U-boat\",\"suit, suit of clothes\",\"sulphur butterfly, sulfur butterfly\",\"sulphur-crested cockatoo, Kakatoe galerita, Cacatua galerita\",\"sundial\",\"sunglass\",\"sunglasses, dark glasses, shades\",\"sunscreen, sunblock, sun blocker\",\"suspension bridge\",\"swab, swob, mop\",\"sweatshirt\",\"swimming trunks, bathing trunks\",\"swing\",\"switch, electric switch, electrical switch\",\"syringe\",\"tabby, tabby cat\",\"table lamp\",\"tailed frog, bell toad, ribbed toad, tailed toad, Ascaphus trui\",\"tank, army tank, armored combat vehicle, armoured combat vehicle\",\"tape player\",\"tarantula\",\"teapot\",\"teddy, teddy bear\",\"television, television system\",\"tench, Tinca tinca\",\"tennis ball\",\"terrapin\",\"thatch, thatched roof\",\"theater curtain, theatre curtain\",\"thimble\",\"three-toed sloth, ai, Bradypus tridactylus\",\"thresher, thrasher, threshing machine\",\"throne\",\"thunder snake, worm snake, Carphophis amoenus\",\"tick\",\"tiger beetle\",\"tiger cat\",\"tiger shark, Galeocerdo cuvieri\",\"tiger, Panthera tigris\",\"tile roof\",\"timber wolf, grey wolf, gray wolf, Canis lupus\",\"titi, titi monkey\",\"toaster\",\"tobacco shop, tobacconist shop, tobacconist\",\"toilet seat\",\"toilet tissue, toilet paper, bathroom tissue\",\"torch\",\"totem pole\",\"toucan\",\"tow truck, tow car, wrecker\",\"toy poodle\",\"toy terrier\",\"toyshop\",\"tractor\",\"traffic light, traffic signal, stoplight\",\"trailer truck, tractor trailer, trucking rig, rig, articulated lorry, semi\",\"tray\",\"tree frog, tree-frog\",\"trench coat\",\"triceratops\",\"tricycle, trike, velocipede\",\"trifle\",\"trilobite\",\"trimaran\",\"tripod\",\"triumphal arch\",\"trolleybus, trolley coach, trackless trolley\",\"trombone\",\"tub, vat\",\"turnstile\",\"tusker\",\"typewriter keyboard\",\"umbrella\",\"unicycle, monocycle\",\"upright, upright piano\",\"vacuum, vacuum cleaner\",\"valley, vale\",\"vase\",\"vault\",\"velvet\",\"vending machine\",\"vestment\",\"viaduct\",\"vine snake\",\"violin, fiddle\",\"vizsla, Hungarian pointer\",\"volcano\",\"volleyball\",\"vulture\",\"waffle iron\",\"walking stick, walkingstick, stick insect\",\"wall clock\",\"wallaby, brush kangaroo\",\"wallet, billfold, notecase, pocketbook\",\"wardrobe, closet, press\",\"warplane, military plane\",\"warthog\",\"washbasin, handbasin, washbowl, lavabo, wash-hand basin\",\"washer, automatic washer, washing machine\",\"water bottle\",\"water buffalo, water ox, Asiatic buffalo, Bubalus bubalis\",\"water jug\",\"water ouzel, dipper\",\"water snake\",\"water tower\",\"weasel\",\"web site, website, internet site, site\",\"weevil\",\"whippet\",\"whiptail, whiptail lizard\",\"whiskey jug\",\"whistle\",\"white stork, Ciconia ciconia\",\"white wolf, Arctic wolf, Canis lupus tundrarum\",\"wig\",\"wild boar, boar, Sus scrofa\",\"window screen\",\"window shade\",\"wine bottle\",\"wing\",\"wire-haired fox terrier\",\"wok\",\"wolf spider, hunting spider\",\"wombat\",\"wood rabbit, cottontail, cottontail rabbit\",\"wooden spoon\",\"wool, woolen, woollen\",\"worm fence, snake fence, snake-rail fence, Virginia fence\",\"wreck\",\"yawl\",\"yellow lady's slipper, yellow lady-slipper, Cypripedium calceolus, Cypripedium parviflorum\",\"yurt\",\"zebra\",\"zucchini, courgette\"]\n",
        "\n",
        "# Input audio file (wav or mp3)\n",
        "audio_file = '' #@param {type: \"string\"}\n",
        "\n",
        "# Frames per second of generated video\n",
        "fps =  20 #@param {type: \"number\"}\n",
        "\n",
        "# The \"strength\" of the pulse. It is recommended to keep this between 0 and 100.\n",
        "pulse_react =  80#@param {type: \"number\"}\n",
        "\n",
        "# Whether the pulse should react to percussive or harmonic elements\n",
        "pulse_react_to = \"percussive\" #@param [\"percussive\", \"harmonic\"]\n",
        "\n",
        "#  The \"strength\" of the motion. Between 0 and 100\n",
        "motion_react =  80#@param {type: \"number\"}\n",
        "\n",
        "# Whether the motion should react to percussive or harmonic elements\n",
        "motion_react_to = \"harmonic\" #@param [\"harmonic\", \"percussive\"]\n",
        "\n",
        "# Degree of randomness of motion. Higher values will typically prevent the video from cycling through the same visuals repeatedly. Must range from 0 to 100.\n",
        "motion_randomness = 50 #@param {type: \"number\"}\n",
        "\n",
        "# Controls the variety of visuals generated. Lower values lead to lower variety. Note: A very low value will usually lead to \"jittery\" visuals. Must range from 0 to 100.\n",
        "truncation = 50 #@param {type: \"number\"}\n",
        "\n",
        "output_path = '/content'"
      ]
    },
    {
      "cell_type": "code",
      "execution_count": null,
      "metadata": {
        "id": "_9x66YIjQk2b",
        "vscode": {
          "languageId": "python"
        }
      },
      "outputs": [],
      "source": [
        "model_type = model_type.split(\" (\")[0]\n",
        "\n",
        "# Scale video from 128x128 to HD 720p\n",
        "super_resolution = False #@param {type: \"boolean\"} \n",
        "\n",
        "model_map = {\n",
        "    \"imagenet\": \"https://s3.eu-central-1.amazonaws.com/avg-projects/stylegan_xl/models/imagenet1024.pkl\",\n",
        "    \"ffhq\": \"https://s3.eu-central-1.amazonaws.com/avg-projects/stylegan_xl/models/ffhq1024.pkl\",\n",
        "    \"pokemon\": \"https://s3.eu-central-1.amazonaws.com/avg-projects/stylegan_xl/models/pokemon1024.pkl\",\n",
        "    \"humans\": \"/content/StyleGAN-Human/pretrained_models/stylegan2_1024.pkl\"\n",
        "}\n",
        "\n"
      ]
    },
    {
      "cell_type": "code",
      "execution_count": null,
      "metadata": {
        "id": "t1gSgywbQk2c",
        "vscode": {
          "languageId": "python"
        }
      },
      "outputs": [],
      "source": [
        "#@title Imagenet classes\n",
        "nameToClassIdx = {\n",
        "    \"tench, Tinca tinca\": 0,\n",
        "    \"goldfish, Carassius auratus\": 1,\n",
        "    \"great white shark, white shark, man-eater, man-eating shark, Carcharodon carcharias\": 2,\n",
        "    \"tiger shark, Galeocerdo cuvieri\": 3,\n",
        "    \"hammerhead, hammerhead shark\": 4,\n",
        "    \"electric ray, crampfish, numbfish, torpedo\": 5,\n",
        "    \"stingray\": 6,\n",
        "    \"cock\": 7,\n",
        "    \"hen\": 8,\n",
        "    \"ostrich, Struthio camelus\": 9,\n",
        "    \"brambling, Fringilla montifringilla\": 10,\n",
        "    \"goldfinch, Carduelis carduelis\": 11,\n",
        "    \"house finch, linnet, Carpodacus mexicanus\": 12,\n",
        "    \"junco, snowbird\": 13,\n",
        "    \"indigo bunting, indigo finch, indigo bird, Passerina cyanea\": 14,\n",
        "    \"robin, American robin, Turdus migratorius\": 15,\n",
        "    \"bulbul\": 16,\n",
        "    \"jay\": 17,\n",
        "    \"magpie\": 18,\n",
        "    \"chickadee\": 19,\n",
        "    \"water ouzel, dipper\": 20,\n",
        "    \"kite\": 21,\n",
        "    \"bald eagle, American eagle, Haliaeetus leucocephalus\": 22,\n",
        "    \"vulture\": 23,\n",
        "    \"great grey owl, great gray owl, Strix nebulosa\": 24,\n",
        "    \"European fire salamander, Salamandra salamandra\": 25,\n",
        "    \"common newt, Triturus vulgaris\": 26,\n",
        "    \"eft\": 27,\n",
        "    \"spotted salamander, Ambystoma maculatum\": 28,\n",
        "    \"axolotl, mud puppy, Ambystoma mexicanum\": 29,\n",
        "    \"bullfrog, Rana catesbeiana\": 30,\n",
        "    \"tree frog, tree-frog\": 31,\n",
        "    \"tailed frog, bell toad, ribbed toad, tailed toad, Ascaphus trui\": 32,\n",
        "    \"loggerhead, loggerhead turtle, Caretta caretta\": 33,\n",
        "    \"leatherback turtle, leatherback, leathery turtle, Dermochelys coriacea\": 34,\n",
        "    \"mud turtle\": 35,\n",
        "    \"terrapin\": 36,\n",
        "    \"box turtle, box tortoise\": 37,\n",
        "    \"banded gecko\": 38,\n",
        "    \"common iguana, iguana, Iguana iguana\": 39,\n",
        "    \"American chameleon, anole, Anolis carolinensis\": 40,\n",
        "    \"whiptail, whiptail lizard\": 41,\n",
        "    \"agama\": 42,\n",
        "    \"frilled lizard, Chlamydosaurus kingi\": 43,\n",
        "    \"alligator lizard\": 44,\n",
        "    \"Gila monster, Heloderma suspectum\": 45,\n",
        "    \"green lizard, Lacerta viridis\": 46,\n",
        "    \"African chameleon, Chamaeleo chamaeleon\": 47,\n",
        "    \"Komodo dragon, Komodo lizard, dragon lizard, giant lizard, Varanus komodoensis\": 48,\n",
        "    \"African crocodile, Nile crocodile, Crocodylus niloticus\": 49,\n",
        "    \"American alligator, Alligator mississipiensis\": 50,\n",
        "    \"triceratops\": 51,\n",
        "    \"thunder snake, worm snake, Carphophis amoenus\": 52,\n",
        "    \"ringneck snake, ring-necked snake, ring snake\": 53,\n",
        "    \"hognose snake, puff adder, sand viper\": 54,\n",
        "    \"green snake, grass snake\": 55,\n",
        "    \"king snake, kingsnake\": 56,\n",
        "    \"garter snake, grass snake\": 57,\n",
        "    \"water snake\": 58,\n",
        "    \"vine snake\": 59,\n",
        "    \"night snake, Hypsiglena torquata\": 60,\n",
        "    \"boa constrictor, Constrictor constrictor\": 61,\n",
        "    \"rock python, rock snake, Python sebae\": 62,\n",
        "    \"Indian cobra, Naja naja\": 63,\n",
        "    \"green mamba\": 64,\n",
        "    \"sea snake\": 65,\n",
        "    \"horned viper, cerastes, sand viper, horned asp, Cerastes cornutus\": 66,\n",
        "    \"diamondback, diamondback rattlesnake, Crotalus adamanteus\": 67,\n",
        "    \"sidewinder, horned rattlesnake, Crotalus cerastes\": 68,\n",
        "    \"trilobite\": 69,\n",
        "    \"harvestman, daddy longlegs, Phalangium opilio\": 70,\n",
        "    \"scorpion\": 71,\n",
        "    \"black and gold garden spider, Argiope aurantia\": 72,\n",
        "    \"barn spider, Araneus cavaticus\": 73,\n",
        "    \"garden spider, Aranea diademata\": 74,\n",
        "    \"black widow, Latrodectus mactans\": 75,\n",
        "    \"tarantula\": 76,\n",
        "    \"wolf spider, hunting spider\": 77,\n",
        "    \"tick\": 78,\n",
        "    \"centipede\": 79,\n",
        "    \"black grouse\": 80,\n",
        "    \"ptarmigan\": 81,\n",
        "    \"ruffed grouse, partridge, Bonasa umbellus\": 82,\n",
        "    \"prairie chicken, prairie grouse, prairie fowl\": 83,\n",
        "    \"peacock\": 84,\n",
        "    \"quail\": 85,\n",
        "    \"partridge\": 86,\n",
        "    \"African grey, African gray, Psittacus erithacus\": 87,\n",
        "    \"macaw\": 88,\n",
        "    \"sulphur-crested cockatoo, Kakatoe galerita, Cacatua galerita\": 89,\n",
        "    \"lorikeet\": 90,\n",
        "    \"coucal\": 91,\n",
        "    \"bee eater\": 92,\n",
        "    \"hornbill\": 93,\n",
        "    \"hummingbird\": 94,\n",
        "    \"jacamar\": 95,\n",
        "    \"toucan\": 96,\n",
        "    \"drake\": 97,\n",
        "    \"red-breasted merganser, Mergus serrator\": 98,\n",
        "    \"goose\": 99,\n",
        "    \"black swan, Cygnus atratus\": 100,\n",
        "    \"tusker\": 101,\n",
        "    \"echidna, spiny anteater, anteater\": 102,\n",
        "    \"platypus, duckbill, duckbilled platypus, duck-billed platypus, Ornithorhynchus anatinus\": 103,\n",
        "    \"wallaby, brush kangaroo\": 104,\n",
        "    \"koala, koala bear, kangaroo bear, native bear, Phascolarctos cinereus\": 105,\n",
        "    \"wombat\": 106,\n",
        "    \"jellyfish\": 107,\n",
        "    \"sea anemone, anemone\": 108,\n",
        "    \"brain coral\": 109,\n",
        "    \"flatworm, platyhelminth\": 110,\n",
        "    \"nematode, nematode worm, roundworm\": 111,\n",
        "    \"conch\": 112,\n",
        "    \"snail\": 113,\n",
        "    \"slug\": 114,\n",
        "    \"sea slug, nudibranch\": 115,\n",
        "    \"chiton, coat-of-mail shell, sea cradle, polyplacophore\": 116,\n",
        "    \"chambered nautilus, pearly nautilus, nautilus\": 117,\n",
        "    \"Dungeness crab, Cancer magister\": 118,\n",
        "    \"rock crab, Cancer irroratus\": 119,\n",
        "    \"fiddler crab\": 120,\n",
        "    \"king crab, Alaska crab, Alaskan king crab, Alaska king crab, Paralithodes camtschatica\": 121,\n",
        "    \"American lobster, Northern lobster, Maine lobster, Homarus americanus\": 122,\n",
        "    \"spiny lobster, langouste, rock lobster, crawfish, crayfish, sea crawfish\": 123,\n",
        "    \"crayfish, crawfish, crawdad, crawdaddy\": 124,\n",
        "    \"hermit crab\": 125,\n",
        "    \"isopod\": 126,\n",
        "    \"white stork, Ciconia ciconia\": 127,\n",
        "    \"black stork, Ciconia nigra\": 128,\n",
        "    \"spoonbill\": 129,\n",
        "    \"flamingo\": 130,\n",
        "    \"little blue heron, Egretta caerulea\": 131,\n",
        "    \"American egret, great white heron, Egretta albus\": 132,\n",
        "    \"bittern\": 133,\n",
        "    \"crane\": 517,\n",
        "    \"limpkin, Aramus pictus\": 135,\n",
        "    \"European gallinule, Porphyrio porphyrio\": 136,\n",
        "    \"American coot, marsh hen, mud hen, water hen, Fulica americana\": 137,\n",
        "    \"bustard\": 138,\n",
        "    \"ruddy turnstone, Arenaria interpres\": 139,\n",
        "    \"red-backed sandpiper, dunlin, Erolia alpina\": 140,\n",
        "    \"redshank, Tringa totanus\": 141,\n",
        "    \"dowitcher\": 142,\n",
        "    \"oystercatcher, oyster catcher\": 143,\n",
        "    \"pelican\": 144,\n",
        "    \"king penguin, Aptenodytes patagonica\": 145,\n",
        "    \"albatross, mollymawk\": 146,\n",
        "    \"grey whale, gray whale, devilfish, Eschrichtius gibbosus, Eschrichtius robustus\": 147,\n",
        "    \"killer whale, killer, orca, grampus, sea wolf, Orcinus orca\": 148,\n",
        "    \"dugong, Dugong dugon\": 149,\n",
        "    \"sea lion\": 150,\n",
        "    \"Chihuahua\": 151,\n",
        "    \"Japanese spaniel\": 152,\n",
        "    \"Maltese dog, Maltese terrier, Maltese\": 153,\n",
        "    \"Pekinese, Pekingese, Peke\": 154,\n",
        "    \"Shih-Tzu\": 155,\n",
        "    \"Blenheim spaniel\": 156,\n",
        "    \"papillon\": 157,\n",
        "    \"toy terrier\": 158,\n",
        "    \"Rhodesian ridgeback\": 159,\n",
        "    \"Afghan hound, Afghan\": 160,\n",
        "    \"basset, basset hound\": 161,\n",
        "    \"beagle\": 162,\n",
        "    \"bloodhound, sleuthhound\": 163,\n",
        "    \"bluetick\": 164,\n",
        "    \"black-and-tan coonhound\": 165,\n",
        "    \"Walker hound, Walker foxhound\": 166,\n",
        "    \"English foxhound\": 167,\n",
        "    \"redbone\": 168,\n",
        "    \"borzoi, Russian wolfhound\": 169,\n",
        "    \"Irish wolfhound\": 170,\n",
        "    \"Italian greyhound\": 171,\n",
        "    \"whippet\": 172,\n",
        "    \"Ibizan hound, Ibizan Podenco\": 173,\n",
        "    \"Norwegian elkhound, elkhound\": 174,\n",
        "    \"otterhound, otter hound\": 175,\n",
        "    \"Saluki, gazelle hound\": 176,\n",
        "    \"Scottish deerhound, deerhound\": 177,\n",
        "    \"Weimaraner\": 178,\n",
        "    \"Staffordshire bullterrier, Staffordshire bull terrier\": 179,\n",
        "    \"American Staffordshire terrier, Staffordshire terrier, American pit bull terrier, pit bull terrier\": 180,\n",
        "    \"Bedlington terrier\": 181,\n",
        "    \"Border terrier\": 182,\n",
        "    \"Kerry blue terrier\": 183,\n",
        "    \"Irish terrier\": 184,\n",
        "    \"Norfolk terrier\": 185,\n",
        "    \"Norwich terrier\": 186,\n",
        "    \"Yorkshire terrier\": 187,\n",
        "    \"wire-haired fox terrier\": 188,\n",
        "    \"Lakeland terrier\": 189,\n",
        "    \"Sealyham terrier, Sealyham\": 190,\n",
        "    \"Airedale, Airedale terrier\": 191,\n",
        "    \"cairn, cairn terrier\": 192,\n",
        "    \"Australian terrier\": 193,\n",
        "    \"Dandie Dinmont, Dandie Dinmont terrier\": 194,\n",
        "    \"Boston bull, Boston terrier\": 195,\n",
        "    \"miniature schnauzer\": 196,\n",
        "    \"giant schnauzer\": 197,\n",
        "    \"standard schnauzer\": 198,\n",
        "    \"Scotch terrier, Scottish terrier, Scottie\": 199,\n",
        "    \"Tibetan terrier, chrysanthemum dog\": 200,\n",
        "    \"silky terrier, Sydney silky\": 201,\n",
        "    \"soft-coated wheaten terrier\": 202,\n",
        "    \"West Highland white terrier\": 203,\n",
        "    \"Lhasa, Lhasa apso\": 204,\n",
        "    \"flat-coated retriever\": 205,\n",
        "    \"curly-coated retriever\": 206,\n",
        "    \"golden retriever\": 207,\n",
        "    \"Labrador retriever\": 208,\n",
        "    \"Chesapeake Bay retriever\": 209,\n",
        "    \"German short-haired pointer\": 210,\n",
        "    \"vizsla, Hungarian pointer\": 211,\n",
        "    \"English setter\": 212,\n",
        "    \"Irish setter, red setter\": 213,\n",
        "    \"Gordon setter\": 214,\n",
        "    \"Brittany spaniel\": 215,\n",
        "    \"clumber, clumber spaniel\": 216,\n",
        "    \"English springer, English springer spaniel\": 217,\n",
        "    \"Welsh springer spaniel\": 218,\n",
        "    \"cocker spaniel, English cocker spaniel, cocker\": 219,\n",
        "    \"Sussex spaniel\": 220,\n",
        "    \"Irish water spaniel\": 221,\n",
        "    \"kuvasz\": 222,\n",
        "    \"schipperke\": 223,\n",
        "    \"groenendael\": 224,\n",
        "    \"malinois\": 225,\n",
        "    \"briard\": 226,\n",
        "    \"kelpie\": 227,\n",
        "    \"komondor\": 228,\n",
        "    \"Old English sheepdog, bobtail\": 229,\n",
        "    \"Shetland sheepdog, Shetland sheep dog, Shetland\": 230,\n",
        "    \"collie\": 231,\n",
        "    \"Border collie\": 232,\n",
        "    \"Bouvier des Flandres, Bouviers des Flandres\": 233,\n",
        "    \"Rottweiler\": 234,\n",
        "    \"German shepherd, German shepherd dog, German police dog, alsatian\": 235,\n",
        "    \"Doberman, Doberman pinscher\": 236,\n",
        "    \"miniature pinscher\": 237,\n",
        "    \"Greater Swiss Mountain dog\": 238,\n",
        "    \"Bernese mountain dog\": 239,\n",
        "    \"Appenzeller\": 240,\n",
        "    \"EntleBucher\": 241,\n",
        "    \"boxer\": 242,\n",
        "    \"bull mastiff\": 243,\n",
        "    \"Tibetan mastiff\": 244,\n",
        "    \"French bulldog\": 245,\n",
        "    \"Great Dane\": 246,\n",
        "    \"Saint Bernard, St Bernard\": 247,\n",
        "    \"Eskimo dog, husky\": 248,\n",
        "    \"malamute, malemute, Alaskan malamute\": 249,\n",
        "    \"Siberian husky\": 250,\n",
        "    \"dalmatian, coach dog, carriage dog\": 251,\n",
        "    \"affenpinscher, monkey pinscher, monkey dog\": 252,\n",
        "    \"basenji\": 253,\n",
        "    \"pug, pug-dog\": 254,\n",
        "    \"Leonberg\": 255,\n",
        "    \"Newfoundland, Newfoundland dog\": 256,\n",
        "    \"Great Pyrenees\": 257,\n",
        "    \"Samoyed, Samoyede\": 258,\n",
        "    \"Pomeranian\": 259,\n",
        "    \"chow, chow chow\": 260,\n",
        "    \"keeshond\": 261,\n",
        "    \"Brabancon griffon\": 262,\n",
        "    \"Pembroke, Pembroke Welsh corgi\": 263,\n",
        "    \"Cardigan, Cardigan Welsh corgi\": 264,\n",
        "    \"toy poodle\": 265,\n",
        "    \"miniature poodle\": 266,\n",
        "    \"standard poodle\": 267,\n",
        "    \"Mexican hairless\": 268,\n",
        "    \"timber wolf, grey wolf, gray wolf, Canis lupus\": 269,\n",
        "    \"white wolf, Arctic wolf, Canis lupus tundrarum\": 270,\n",
        "    \"red wolf, maned wolf, Canis rufus, Canis niger\": 271,\n",
        "    \"coyote, prairie wolf, brush wolf, Canis latrans\": 272,\n",
        "    \"dingo, warrigal, warragal, Canis dingo\": 273,\n",
        "    \"dhole, Cuon alpinus\": 274,\n",
        "    \"African hunting dog, hyena dog, Cape hunting dog, Lycaon pictus\": 275,\n",
        "    \"hyena, hyaena\": 276,\n",
        "    \"red fox, Vulpes vulpes\": 277,\n",
        "    \"kit fox, Vulpes macrotis\": 278,\n",
        "    \"Arctic fox, white fox, Alopex lagopus\": 279,\n",
        "    \"grey fox, gray fox, Urocyon cinereoargenteus\": 280,\n",
        "    \"tabby, tabby cat\": 281,\n",
        "    \"tiger cat\": 282,\n",
        "    \"Persian cat\": 283,\n",
        "    \"Siamese cat, Siamese\": 284,\n",
        "    \"Egyptian cat\": 285,\n",
        "    \"cougar, puma, catamount, mountain lion, painter, panther, Felis concolor\": 286,\n",
        "    \"lynx, catamount\": 287,\n",
        "    \"leopard, Panthera pardus\": 288,\n",
        "    \"snow leopard, ounce, Panthera uncia\": 289,\n",
        "    \"jaguar, panther, Panthera onca, Felis onca\": 290,\n",
        "    \"lion, king of beasts, Panthera leo\": 291,\n",
        "    \"tiger, Panthera tigris\": 292,\n",
        "    \"cheetah, chetah, Acinonyx jubatus\": 293,\n",
        "    \"brown bear, bruin, Ursus arctos\": 294,\n",
        "    \"American black bear, black bear, Ursus americanus, Euarctos americanus\": 295,\n",
        "    \"ice bear, polar bear, Ursus Maritimus, Thalarctos maritimus\": 296,\n",
        "    \"sloth bear, Melursus ursinus, Ursus ursinus\": 297,\n",
        "    \"mongoose\": 298,\n",
        "    \"meerkat, mierkat\": 299,\n",
        "    \"tiger beetle\": 300,\n",
        "    \"ladybug, ladybeetle, lady beetle, ladybird, ladybird beetle\": 301,\n",
        "    \"ground beetle, carabid beetle\": 302,\n",
        "    \"long-horned beetle, longicorn, longicorn beetle\": 303,\n",
        "    \"leaf beetle, chrysomelid\": 304,\n",
        "    \"dung beetle\": 305,\n",
        "    \"rhinoceros beetle\": 306,\n",
        "    \"weevil\": 307,\n",
        "    \"fly\": 308,\n",
        "    \"bee\": 309,\n",
        "    \"ant, emmet, pismire\": 310,\n",
        "    \"grasshopper, hopper\": 311,\n",
        "    \"cricket\": 312,\n",
        "    \"walking stick, walkingstick, stick insect\": 313,\n",
        "    \"cockroach, roach\": 314,\n",
        "    \"mantis, mantid\": 315,\n",
        "    \"cicada, cicala\": 316,\n",
        "    \"leafhopper\": 317,\n",
        "    \"lacewing, lacewing fly\": 318,\n",
        "    \"dragonfly, darning needle, devil's darning needle, sewing needle, snake feeder, snake doctor, mosquito hawk, skeeter hawk\": 319,\n",
        "    \"damselfly\": 320,\n",
        "    \"admiral\": 321,\n",
        "    \"ringlet, ringlet butterfly\": 322,\n",
        "    \"monarch, monarch butterfly, milkweed butterfly, Danaus plexippus\": 323,\n",
        "    \"cabbage butterfly\": 324,\n",
        "    \"sulphur butterfly, sulfur butterfly\": 325,\n",
        "    \"lycaenid, lycaenid butterfly\": 326,\n",
        "    \"starfish, sea star\": 327,\n",
        "    \"sea urchin\": 328,\n",
        "    \"sea cucumber, holothurian\": 329,\n",
        "    \"wood rabbit, cottontail, cottontail rabbit\": 330,\n",
        "    \"hare\": 331,\n",
        "    \"Angora, Angora rabbit\": 332,\n",
        "    \"hamster\": 333,\n",
        "    \"porcupine, hedgehog\": 334,\n",
        "    \"fox squirrel, eastern fox squirrel, Sciurus niger\": 335,\n",
        "    \"marmot\": 336,\n",
        "    \"beaver\": 337,\n",
        "    \"guinea pig, Cavia cobaya\": 338,\n",
        "    \"sorrel\": 339,\n",
        "    \"zebra\": 340,\n",
        "    \"hog, pig, grunter, squealer, Sus scrofa\": 341,\n",
        "    \"wild boar, boar, Sus scrofa\": 342,\n",
        "    \"warthog\": 343,\n",
        "    \"hippopotamus, hippo, river horse, Hippopotamus amphibius\": 344,\n",
        "    \"ox\": 345,\n",
        "    \"water buffalo, water ox, Asiatic buffalo, Bubalus bubalis\": 346,\n",
        "    \"bison\": 347,\n",
        "    \"ram, tup\": 348,\n",
        "    \"bighorn, bighorn sheep, cimarron, Rocky Mountain bighorn, Rocky Mountain sheep, Ovis canadensis\": 349,\n",
        "    \"ibex, Capra ibex\": 350,\n",
        "    \"hartebeest\": 351,\n",
        "    \"impala, Aepyceros melampus\": 352,\n",
        "    \"gazelle\": 353,\n",
        "    \"Arabian camel, dromedary, Camelus dromedarius\": 354,\n",
        "    \"llama\": 355,\n",
        "    \"weasel\": 356,\n",
        "    \"mink\": 357,\n",
        "    \"polecat, fitch, foulmart, foumart, Mustela putorius\": 358,\n",
        "    \"black-footed ferret, ferret, Mustela nigripes\": 359,\n",
        "    \"otter\": 360,\n",
        "    \"skunk, polecat, wood pussy\": 361,\n",
        "    \"badger\": 362,\n",
        "    \"armadillo\": 363,\n",
        "    \"three-toed sloth, ai, Bradypus tridactylus\": 364,\n",
        "    \"orangutan, orang, orangutang, Pongo pygmaeus\": 365,\n",
        "    \"gorilla, Gorilla gorilla\": 366,\n",
        "    \"chimpanzee, chimp, Pan troglodytes\": 367,\n",
        "    \"gibbon, Hylobates lar\": 368,\n",
        "    \"siamang, Hylobates syndactylus, Symphalangus syndactylus\": 369,\n",
        "    \"guenon, guenon monkey\": 370,\n",
        "    \"patas, hussar monkey, Erythrocebus patas\": 371,\n",
        "    \"baboon\": 372,\n",
        "    \"macaque\": 373,\n",
        "    \"langur\": 374,\n",
        "    \"colobus, colobus monkey\": 375,\n",
        "    \"proboscis monkey, Nasalis larvatus\": 376,\n",
        "    \"marmoset\": 377,\n",
        "    \"capuchin, ringtail, Cebus capucinus\": 378,\n",
        "    \"howler monkey, howler\": 379,\n",
        "    \"titi, titi monkey\": 380,\n",
        "    \"spider monkey, Ateles geoffroyi\": 381,\n",
        "    \"squirrel monkey, Saimiri sciureus\": 382,\n",
        "    \"Madagascar cat, ring-tailed lemur, Lemur catta\": 383,\n",
        "    \"indri, indris, Indri indri, Indri brevicaudatus\": 384,\n",
        "    \"Indian elephant, Elephas maximus\": 385,\n",
        "    \"African elephant, Loxodonta africana\": 386,\n",
        "    \"lesser panda, red panda, panda, bear cat, cat bear, Ailurus fulgens\": 387,\n",
        "    \"giant panda, panda, panda bear, coon bear, Ailuropoda melanoleuca\": 388,\n",
        "    \"barracouta, snoek\": 389,\n",
        "    \"eel\": 390,\n",
        "    \"coho, cohoe, coho salmon, blue jack, silver salmon, Oncorhynchus kisutch\": 391,\n",
        "    \"rock beauty, Holocanthus tricolor\": 392,\n",
        "    \"anemone fish\": 393,\n",
        "    \"sturgeon\": 394,\n",
        "    \"gar, garfish, garpike, billfish, Lepisosteus osseus\": 395,\n",
        "    \"lionfish\": 396,\n",
        "    \"puffer, pufferfish, blowfish, globefish\": 397,\n",
        "    \"abacus\": 398,\n",
        "    \"abaya\": 399,\n",
        "    \"academic gown, academic robe, judge's robe\": 400,\n",
        "    \"accordion, piano accordion, squeeze box\": 401,\n",
        "    \"acoustic guitar\": 402,\n",
        "    \"aircraft carrier, carrier, flattop, attack aircraft carrier\": 403,\n",
        "    \"airliner\": 404,\n",
        "    \"airship, dirigible\": 405,\n",
        "    \"altar\": 406,\n",
        "    \"ambulance\": 407,\n",
        "    \"amphibian, amphibious vehicle\": 408,\n",
        "    \"analog clock\": 409,\n",
        "    \"apiary, bee house\": 410,\n",
        "    \"apron\": 411,\n",
        "    \"ashcan, trash can, garbage can, wastebin, ash bin, ash-bin, ashbin, dustbin, trash barrel, trash bin\": 412,\n",
        "    \"assault rifle, assault gun\": 413,\n",
        "    \"backpack, back pack, knapsack, packsack, rucksack, haversack\": 414,\n",
        "    \"bakery, bakeshop, bakehouse\": 415,\n",
        "    \"balance beam, beam\": 416,\n",
        "    \"balloon\": 417,\n",
        "    \"ballpoint, ballpoint pen, ballpen, Biro\": 418,\n",
        "    \"Band Aid\": 419,\n",
        "    \"banjo\": 420,\n",
        "    \"bannister, banister, balustrade, balusters, handrail\": 421,\n",
        "    \"barbell\": 422,\n",
        "    \"barber chair\": 423,\n",
        "    \"barbershop\": 424,\n",
        "    \"barn\": 425,\n",
        "    \"barometer\": 426,\n",
        "    \"barrel, cask\": 427,\n",
        "    \"barrow, garden cart, lawn cart, wheelbarrow\": 428,\n",
        "    \"baseball\": 429,\n",
        "    \"basketball\": 430,\n",
        "    \"bassinet\": 431,\n",
        "    \"bassoon\": 432,\n",
        "    \"bathing cap, swimming cap\": 433,\n",
        "    \"bath towel\": 434,\n",
        "    \"bathtub, bathing tub, bath, tub\": 435,\n",
        "    \"beach wagon, station wagon, wagon, estate car, beach waggon, station waggon, waggon\": 436,\n",
        "    \"beacon, lighthouse, beacon light, pharos\": 437,\n",
        "    \"beaker\": 438,\n",
        "    \"bearskin, busby, shako\": 439,\n",
        "    \"beer bottle\": 440,\n",
        "    \"beer glass\": 441,\n",
        "    \"bell cote, bell cot\": 442,\n",
        "    \"bib\": 443,\n",
        "    \"bicycle-built-for-two, tandem bicycle, tandem\": 444,\n",
        "    \"bikini, two-piece\": 445,\n",
        "    \"binder, ring-binder\": 446,\n",
        "    \"binoculars, field glasses, opera glasses\": 447,\n",
        "    \"birdhouse\": 448,\n",
        "    \"boathouse\": 449,\n",
        "    \"bobsled, bobsleigh, bob\": 450,\n",
        "    \"bolo tie, bolo, bola tie, bola\": 451,\n",
        "    \"bonnet, poke bonnet\": 452,\n",
        "    \"bookcase\": 453,\n",
        "    \"bookshop, bookstore, bookstall\": 454,\n",
        "    \"bottlecap\": 455,\n",
        "    \"bow\": 456,\n",
        "    \"bow tie, bow-tie, bowtie\": 457,\n",
        "    \"brass, memorial tablet, plaque\": 458,\n",
        "    \"brassiere, bra, bandeau\": 459,\n",
        "    \"breakwater, groin, groyne, mole, bulwark, seawall, jetty\": 460,\n",
        "    \"breastplate, aegis, egis\": 461,\n",
        "    \"broom\": 462,\n",
        "    \"bucket, pail\": 463,\n",
        "    \"buckle\": 464,\n",
        "    \"bulletproof vest\": 465,\n",
        "    \"bullet train, bullet\": 466,\n",
        "    \"butcher shop, meat market\": 467,\n",
        "    \"cab, hack, taxi, taxicab\": 468,\n",
        "    \"caldron, cauldron\": 469,\n",
        "    \"candle, taper, wax light\": 470,\n",
        "    \"cannon\": 471,\n",
        "    \"canoe\": 472,\n",
        "    \"can opener, tin opener\": 473,\n",
        "    \"cardigan\": 474,\n",
        "    \"car mirror\": 475,\n",
        "    \"carousel, carrousel, merry-go-round, roundabout, whirligig\": 476,\n",
        "    \"carpenter's kit, tool kit\": 477,\n",
        "    \"carton\": 478,\n",
        "    \"car wheel\": 479,\n",
        "    \"cash machine, cash dispenser, automated teller machine, automatic teller machine, automated teller, automatic teller, ATM\": 480,\n",
        "    \"cassette\": 481,\n",
        "    \"cassette player\": 482,\n",
        "    \"castle\": 483,\n",
        "    \"catamaran\": 484,\n",
        "    \"CD player\": 485,\n",
        "    \"cello, violoncello\": 486,\n",
        "    \"cellular telephone, cellular phone, cellphone, cell, mobile phone\": 487,\n",
        "    \"chain\": 488,\n",
        "    \"chainlink fence\": 489,\n",
        "    \"chain mail, ring mail, mail, chain armor, chain armour, ring armor, ring armour\": 490,\n",
        "    \"chain saw, chainsaw\": 491,\n",
        "    \"chest\": 492,\n",
        "    \"chiffonier, commode\": 493,\n",
        "    \"chime, bell, gong\": 494,\n",
        "    \"china cabinet, china closet\": 495,\n",
        "    \"Christmas stocking\": 496,\n",
        "    \"church, church building\": 497,\n",
        "    \"cinema, movie theater, movie theatre, movie house, picture palace\": 498,\n",
        "    \"cleaver, meat cleaver, chopper\": 499,\n",
        "    \"cliff dwelling\": 500,\n",
        "    \"cloak\": 501,\n",
        "    \"clog, geta, patten, sabot\": 502,\n",
        "    \"cocktail shaker\": 503,\n",
        "    \"coffee mug\": 504,\n",
        "    \"coffeepot\": 505,\n",
        "    \"coil, spiral, volute, whorl, helix\": 506,\n",
        "    \"combination lock\": 507,\n",
        "    \"computer keyboard, keypad\": 508,\n",
        "    \"confectionery, confectionary, candy store\": 509,\n",
        "    \"container ship, containership, container vessel\": 510,\n",
        "    \"convertible\": 511,\n",
        "    \"corkscrew, bottle screw\": 512,\n",
        "    \"cornet, horn, trumpet, trump\": 513,\n",
        "    \"cowboy boot\": 514,\n",
        "    \"cowboy hat, ten-gallon hat\": 515,\n",
        "    \"cradle\": 516,\n",
        "    \"crash helmet\": 518,\n",
        "    \"crate\": 519,\n",
        "    \"crib, cot\": 520,\n",
        "    \"Crock Pot\": 521,\n",
        "    \"croquet ball\": 522,\n",
        "    \"crutch\": 523,\n",
        "    \"cuirass\": 524,\n",
        "    \"dam, dike, dyke\": 525,\n",
        "    \"desk\": 526,\n",
        "    \"desktop computer\": 527,\n",
        "    \"dial telephone, dial phone\": 528,\n",
        "    \"diaper, nappy, napkin\": 529,\n",
        "    \"digital clock\": 530,\n",
        "    \"digital watch\": 531,\n",
        "    \"dining table, board\": 532,\n",
        "    \"dishrag, dishcloth\": 533,\n",
        "    \"dishwasher, dish washer, dishwashing machine\": 534,\n",
        "    \"disk brake, disc brake\": 535,\n",
        "    \"dock, dockage, docking facility\": 536,\n",
        "    \"dogsled, dog sled, dog sleigh\": 537,\n",
        "    \"dome\": 538,\n",
        "    \"doormat, welcome mat\": 539,\n",
        "    \"drilling platform, offshore rig\": 540,\n",
        "    \"drum, membranophone, tympan\": 541,\n",
        "    \"drumstick\": 542,\n",
        "    \"dumbbell\": 543,\n",
        "    \"Dutch oven\": 544,\n",
        "    \"electric fan, blower\": 545,\n",
        "    \"electric guitar\": 546,\n",
        "    \"electric locomotive\": 547,\n",
        "    \"entertainment center\": 548,\n",
        "    \"envelope\": 549,\n",
        "    \"espresso maker\": 550,\n",
        "    \"face powder\": 551,\n",
        "    \"feather boa, boa\": 552,\n",
        "    \"file, file cabinet, filing cabinet\": 553,\n",
        "    \"fireboat\": 554,\n",
        "    \"fire engine, fire truck\": 555,\n",
        "    \"fire screen, fireguard\": 556,\n",
        "    \"flagpole, flagstaff\": 557,\n",
        "    \"flute, transverse flute\": 558,\n",
        "    \"folding chair\": 559,\n",
        "    \"football helmet\": 560,\n",
        "    \"forklift\": 561,\n",
        "    \"fountain\": 562,\n",
        "    \"fountain pen\": 563,\n",
        "    \"four-poster\": 564,\n",
        "    \"freight car\": 565,\n",
        "    \"French horn, horn\": 566,\n",
        "    \"frying pan, frypan, skillet\": 567,\n",
        "    \"fur coat\": 568,\n",
        "    \"garbage truck, dustcart\": 569,\n",
        "    \"gasmask, respirator, gas helmet\": 570,\n",
        "    \"gas pump, gasoline pump, petrol pump, island dispenser\": 571,\n",
        "    \"goblet\": 572,\n",
        "    \"go-kart\": 573,\n",
        "    \"golf ball\": 574,\n",
        "    \"golfcart, golf cart\": 575,\n",
        "    \"gondola\": 576,\n",
        "    \"gong, tam-tam\": 577,\n",
        "    \"gown\": 578,\n",
        "    \"grand piano, grand\": 579,\n",
        "    \"greenhouse, nursery, glasshouse\": 580,\n",
        "    \"grille, radiator grille\": 581,\n",
        "    \"grocery store, grocery, food market, market\": 582,\n",
        "    \"guillotine\": 583,\n",
        "    \"hair slide\": 584,\n",
        "    \"hair spray\": 585,\n",
        "    \"half track\": 586,\n",
        "    \"hammer\": 587,\n",
        "    \"hamper\": 588,\n",
        "    \"hand blower, blow dryer, blow drier, hair dryer, hair drier\": 589,\n",
        "    \"hand-held computer, hand-held microcomputer\": 590,\n",
        "    \"handkerchief, hankie, hanky, hankey\": 591,\n",
        "    \"hard disc, hard disk, fixed disk\": 592,\n",
        "    \"harmonica, mouth organ, harp, mouth harp\": 593,\n",
        "    \"harp\": 594,\n",
        "    \"harvester, reaper\": 595,\n",
        "    \"hatchet\": 596,\n",
        "    \"holster\": 597,\n",
        "    \"home theater, home theatre\": 598,\n",
        "    \"honeycomb\": 599,\n",
        "    \"hook, claw\": 600,\n",
        "    \"hoopskirt, crinoline\": 601,\n",
        "    \"horizontal bar, high bar\": 602,\n",
        "    \"horse cart, horse-cart\": 603,\n",
        "    \"hourglass\": 604,\n",
        "    \"iPod\": 605,\n",
        "    \"iron, smoothing iron\": 606,\n",
        "    \"jack-o'-lantern\": 607,\n",
        "    \"jean, blue jean, denim\": 608,\n",
        "    \"jeep, landrover\": 609,\n",
        "    \"jersey, T-shirt, tee shirt\": 610,\n",
        "    \"jigsaw puzzle\": 611,\n",
        "    \"jinrikisha, ricksha, rickshaw\": 612,\n",
        "    \"joystick\": 613,\n",
        "    \"kimono\": 614,\n",
        "    \"knee pad\": 615,\n",
        "    \"knot\": 616,\n",
        "    \"lab coat, laboratory coat\": 617,\n",
        "    \"ladle\": 618,\n",
        "    \"lampshade, lamp shade\": 619,\n",
        "    \"laptop, laptop computer\": 620,\n",
        "    \"lawn mower, mower\": 621,\n",
        "    \"lens cap, lens cover\": 622,\n",
        "    \"letter opener, paper knife, paperknife\": 623,\n",
        "    \"library\": 624,\n",
        "    \"lifeboat\": 625,\n",
        "    \"lighter, light, igniter, ignitor\": 626,\n",
        "    \"limousine, limo\": 627,\n",
        "    \"liner, ocean liner\": 628,\n",
        "    \"lipstick, lip rouge\": 629,\n",
        "    \"Loafer\": 630,\n",
        "    \"lotion\": 631,\n",
        "    \"loudspeaker, speaker, speaker unit, loudspeaker system, speaker system\": 632,\n",
        "    \"loupe, jeweler's loupe\": 633,\n",
        "    \"lumbermill, sawmill\": 634,\n",
        "    \"magnetic compass\": 635,\n",
        "    \"mailbag, postbag\": 636,\n",
        "    \"mailbox, letter box\": 637,\n",
        "    \"maillot\": 638,\n",
        "    \"maillot, tank suit\": 639,\n",
        "    \"manhole cover\": 640,\n",
        "    \"maraca\": 641,\n",
        "    \"marimba, xylophone\": 642,\n",
        "    \"mask\": 643,\n",
        "    \"matchstick\": 644,\n",
        "    \"maypole\": 645,\n",
        "    \"maze, labyrinth\": 646,\n",
        "    \"measuring cup\": 647,\n",
        "    \"medicine chest, medicine cabinet\": 648,\n",
        "    \"megalith, megalithic structure\": 649,\n",
        "    \"microphone, mike\": 650,\n",
        "    \"microwave, microwave oven\": 651,\n",
        "    \"military uniform\": 652,\n",
        "    \"milk can\": 653,\n",
        "    \"minibus\": 654,\n",
        "    \"miniskirt, mini\": 655,\n",
        "    \"minivan\": 656,\n",
        "    \"missile\": 657,\n",
        "    \"mitten\": 658,\n",
        "    \"mixing bowl\": 659,\n",
        "    \"mobile home, manufactured home\": 660,\n",
        "    \"Model T\": 661,\n",
        "    \"modem\": 662,\n",
        "    \"monastery\": 663,\n",
        "    \"monitor\": 664,\n",
        "    \"moped\": 665,\n",
        "    \"mortar\": 666,\n",
        "    \"mortarboard\": 667,\n",
        "    \"mosque\": 668,\n",
        "    \"mosquito net\": 669,\n",
        "    \"motor scooter, scooter\": 670,\n",
        "    \"mountain bike, all-terrain bike, off-roader\": 671,\n",
        "    \"mountain tent\": 672,\n",
        "    \"mouse, computer mouse\": 673,\n",
        "    \"mousetrap\": 674,\n",
        "    \"moving van\": 675,\n",
        "    \"muzzle\": 676,\n",
        "    \"nail\": 677,\n",
        "    \"neck brace\": 678,\n",
        "    \"necklace\": 679,\n",
        "    \"nipple\": 680,\n",
        "    \"notebook, notebook computer\": 681,\n",
        "    \"obelisk\": 682,\n",
        "    \"oboe, hautboy, hautbois\": 683,\n",
        "    \"ocarina, sweet potato\": 684,\n",
        "    \"odometer, hodometer, mileometer, milometer\": 685,\n",
        "    \"oil filter\": 686,\n",
        "    \"organ, pipe organ\": 687,\n",
        "    \"oscilloscope, scope, cathode-ray oscilloscope, CRO\": 688,\n",
        "    \"overskirt\": 689,\n",
        "    \"oxcart\": 690,\n",
        "    \"oxygen mask\": 691,\n",
        "    \"packet\": 692,\n",
        "    \"paddle, boat paddle\": 693,\n",
        "    \"paddlewheel, paddle wheel\": 694,\n",
        "    \"padlock\": 695,\n",
        "    \"paintbrush\": 696,\n",
        "    \"pajama, pyjama, pj's, jammies\": 697,\n",
        "    \"palace\": 698,\n",
        "    \"panpipe, pandean pipe, syrinx\": 699,\n",
        "    \"paper towel\": 700,\n",
        "    \"parachute, chute\": 701,\n",
        "    \"parallel bars, bars\": 702,\n",
        "    \"park bench\": 703,\n",
        "    \"parking meter\": 704,\n",
        "    \"passenger car, coach, carriage\": 705,\n",
        "    \"patio, terrace\": 706,\n",
        "    \"pay-phone, pay-station\": 707,\n",
        "    \"pedestal, plinth, footstall\": 708,\n",
        "    \"pencil box, pencil case\": 709,\n",
        "    \"pencil sharpener\": 710,\n",
        "    \"perfume, essence\": 711,\n",
        "    \"Petri dish\": 712,\n",
        "    \"photocopier\": 713,\n",
        "    \"pick, plectrum, plectron\": 714,\n",
        "    \"pickelhaube\": 715,\n",
        "    \"picket fence, paling\": 716,\n",
        "    \"pickup, pickup truck\": 717,\n",
        "    \"pier\": 718,\n",
        "    \"piggy bank, penny bank\": 719,\n",
        "    \"pill bottle\": 720,\n",
        "    \"pillow\": 721,\n",
        "    \"ping-pong ball\": 722,\n",
        "    \"pinwheel\": 723,\n",
        "    \"pirate, pirate ship\": 724,\n",
        "    \"pitcher, ewer\": 725,\n",
        "    \"plane, carpenter's plane, woodworking plane\": 726,\n",
        "    \"planetarium\": 727,\n",
        "    \"plastic bag\": 728,\n",
        "    \"plate rack\": 729,\n",
        "    \"plow, plough\": 730,\n",
        "    \"plunger, plumber's helper\": 731,\n",
        "    \"Polaroid camera, Polaroid Land camera\": 732,\n",
        "    \"pole\": 733,\n",
        "    \"police van, police wagon, paddy wagon, patrol wagon, wagon, black Maria\": 734,\n",
        "    \"poncho\": 735,\n",
        "    \"pool table, billiard table, snooker table\": 736,\n",
        "    \"pop bottle, soda bottle\": 737,\n",
        "    \"pot, flowerpot\": 738,\n",
        "    \"potter's wheel\": 739,\n",
        "    \"power drill\": 740,\n",
        "    \"prayer rug, prayer mat\": 741,\n",
        "    \"printer\": 742,\n",
        "    \"prison, prison house\": 743,\n",
        "    \"projectile, missile\": 744,\n",
        "    \"projector\": 745,\n",
        "    \"puck, hockey puck\": 746,\n",
        "    \"punching bag, punch bag, punching ball, punchball\": 747,\n",
        "    \"purse\": 748,\n",
        "    \"quill, quill pen\": 749,\n",
        "    \"quilt, comforter, comfort, puff\": 750,\n",
        "    \"racer, race car, racing car\": 751,\n",
        "    \"racket, racquet\": 752,\n",
        "    \"radiator\": 753,\n",
        "    \"radio, wireless\": 754,\n",
        "    \"radio telescope, radio reflector\": 755,\n",
        "    \"rain barrel\": 756,\n",
        "    \"recreational vehicle, RV, R.V.\": 757,\n",
        "    \"reel\": 758,\n",
        "    \"reflex camera\": 759,\n",
        "    \"refrigerator, icebox\": 760,\n",
        "    \"remote control, remote\": 761,\n",
        "    \"restaurant, eating house, eating place, eatery\": 762,\n",
        "    \"revolver, six-gun, six-shooter\": 763,\n",
        "    \"rifle\": 764,\n",
        "    \"rocking chair, rocker\": 765,\n",
        "    \"rotisserie\": 766,\n",
        "    \"rubber eraser, rubber, pencil eraser\": 767,\n",
        "    \"rugby ball\": 768,\n",
        "    \"rule, ruler\": 769,\n",
        "    \"running shoe\": 770,\n",
        "    \"safe\": 771,\n",
        "    \"safety pin\": 772,\n",
        "    \"saltshaker, salt shaker\": 773,\n",
        "    \"sandal\": 774,\n",
        "    \"sarong\": 775,\n",
        "    \"sax, saxophone\": 776,\n",
        "    \"scabbard\": 777,\n",
        "    \"scale, weighing machine\": 778,\n",
        "    \"school bus\": 779,\n",
        "    \"schooner\": 780,\n",
        "    \"scoreboard\": 781,\n",
        "    \"screen, CRT screen\": 782,\n",
        "    \"screw\": 783,\n",
        "    \"screwdriver\": 784,\n",
        "    \"seat belt, seatbelt\": 785,\n",
        "    \"sewing machine\": 786,\n",
        "    \"shield, buckler\": 787,\n",
        "    \"shoe shop, shoe-shop, shoe store\": 788,\n",
        "    \"shoji\": 789,\n",
        "    \"shopping basket\": 790,\n",
        "    \"shopping cart\": 791,\n",
        "    \"shovel\": 792,\n",
        "    \"shower cap\": 793,\n",
        "    \"shower curtain\": 794,\n",
        "    \"ski\": 795,\n",
        "    \"ski mask\": 796,\n",
        "    \"sleeping bag\": 797,\n",
        "    \"slide rule, slipstick\": 798,\n",
        "    \"sliding door\": 799,\n",
        "    \"slot, one-armed bandit\": 800,\n",
        "    \"snorkel\": 801,\n",
        "    \"snowmobile\": 802,\n",
        "    \"snowplow, snowplough\": 803,\n",
        "    \"soap dispenser\": 804,\n",
        "    \"soccer ball\": 805,\n",
        "    \"sock\": 806,\n",
        "    \"solar dish, solar collector, solar furnace\": 807,\n",
        "    \"sombrero\": 808,\n",
        "    \"soup bowl\": 809,\n",
        "    \"space bar\": 810,\n",
        "    \"space heater\": 811,\n",
        "    \"space shuttle\": 812,\n",
        "    \"spatula\": 813,\n",
        "    \"speedboat\": 814,\n",
        "    \"spider web, spider's web\": 815,\n",
        "    \"spindle\": 816,\n",
        "    \"sports car, sport car\": 817,\n",
        "    \"spotlight, spot\": 818,\n",
        "    \"stage\": 819,\n",
        "    \"steam locomotive\": 820,\n",
        "    \"steel arch bridge\": 821,\n",
        "    \"steel drum\": 822,\n",
        "    \"stethoscope\": 823,\n",
        "    \"stole\": 824,\n",
        "    \"stone wall\": 825,\n",
        "    \"stopwatch, stop watch\": 826,\n",
        "    \"stove\": 827,\n",
        "    \"strainer\": 828,\n",
        "    \"streetcar, tram, tramcar, trolley, trolley car\": 829,\n",
        "    \"stretcher\": 830,\n",
        "    \"studio couch, day bed\": 831,\n",
        "    \"stupa, tope\": 832,\n",
        "    \"submarine, pigboat, sub, U-boat\": 833,\n",
        "    \"suit, suit of clothes\": 834,\n",
        "    \"sundial\": 835,\n",
        "    \"sunglass\": 836,\n",
        "    \"sunglasses, dark glasses, shades\": 837,\n",
        "    \"sunscreen, sunblock, sun blocker\": 838,\n",
        "    \"suspension bridge\": 839,\n",
        "    \"swab, swob, mop\": 840,\n",
        "    \"sweatshirt\": 841,\n",
        "    \"swimming trunks, bathing trunks\": 842,\n",
        "    \"swing\": 843,\n",
        "    \"switch, electric switch, electrical switch\": 844,\n",
        "    \"syringe\": 845,\n",
        "    \"table lamp\": 846,\n",
        "    \"tank, army tank, armored combat vehicle, armoured combat vehicle\": 847,\n",
        "    \"tape player\": 848,\n",
        "    \"teapot\": 849,\n",
        "    \"teddy, teddy bear\": 850,\n",
        "    \"television, television system\": 851,\n",
        "    \"tennis ball\": 852,\n",
        "    \"thatch, thatched roof\": 853,\n",
        "    \"theater curtain, theatre curtain\": 854,\n",
        "    \"thimble\": 855,\n",
        "    \"thresher, thrasher, threshing machine\": 856,\n",
        "    \"throne\": 857,\n",
        "    \"tile roof\": 858,\n",
        "    \"toaster\": 859,\n",
        "    \"tobacco shop, tobacconist shop, tobacconist\": 860,\n",
        "    \"toilet seat\": 861,\n",
        "    \"torch\": 862,\n",
        "    \"totem pole\": 863,\n",
        "    \"tow truck, tow car, wrecker\": 864,\n",
        "    \"toyshop\": 865,\n",
        "    \"tractor\": 866,\n",
        "    \"trailer truck, tractor trailer, trucking rig, rig, articulated lorry, semi\": 867,\n",
        "    \"tray\": 868,\n",
        "    \"trench coat\": 869,\n",
        "    \"tricycle, trike, velocipede\": 870,\n",
        "    \"trimaran\": 871,\n",
        "    \"tripod\": 872,\n",
        "    \"triumphal arch\": 873,\n",
        "    \"trolleybus, trolley coach, trackless trolley\": 874,\n",
        "    \"trombone\": 875,\n",
        "    \"tub, vat\": 876,\n",
        "    \"turnstile\": 877,\n",
        "    \"typewriter keyboard\": 878,\n",
        "    \"umbrella\": 879,\n",
        "    \"unicycle, monocycle\": 880,\n",
        "    \"upright, upright piano\": 881,\n",
        "    \"vacuum, vacuum cleaner\": 882,\n",
        "    \"vase\": 883,\n",
        "    \"vault\": 884,\n",
        "    \"velvet\": 885,\n",
        "    \"vending machine\": 886,\n",
        "    \"vestment\": 887,\n",
        "    \"viaduct\": 888,\n",
        "    \"violin, fiddle\": 889,\n",
        "    \"volleyball\": 890,\n",
        "    \"waffle iron\": 891,\n",
        "    \"wall clock\": 892,\n",
        "    \"wallet, billfold, notecase, pocketbook\": 893,\n",
        "    \"wardrobe, closet, press\": 894,\n",
        "    \"warplane, military plane\": 895,\n",
        "    \"washbasin, handbasin, washbowl, lavabo, wash-hand basin\": 896,\n",
        "    \"washer, automatic washer, washing machine\": 897,\n",
        "    \"water bottle\": 898,\n",
        "    \"water jug\": 899,\n",
        "    \"water tower\": 900,\n",
        "    \"whiskey jug\": 901,\n",
        "    \"whistle\": 902,\n",
        "    \"wig\": 903,\n",
        "    \"window screen\": 904,\n",
        "    \"window shade\": 905,\n",
        "    \"Windsor tie\": 906,\n",
        "    \"wine bottle\": 907,\n",
        "    \"wing\": 908,\n",
        "    \"wok\": 909,\n",
        "    \"wooden spoon\": 910,\n",
        "    \"wool, woolen, woollen\": 911,\n",
        "    \"worm fence, snake fence, snake-rail fence, Virginia fence\": 912,\n",
        "    \"wreck\": 913,\n",
        "    \"yawl\": 914,\n",
        "    \"yurt\": 915,\n",
        "    \"web site, website, internet site, site\": 916,\n",
        "    \"comic book\": 917,\n",
        "    \"crossword puzzle, crossword\": 918,\n",
        "    \"street sign\": 919,\n",
        "    \"traffic light, traffic signal, stoplight\": 920,\n",
        "    \"book jacket, dust cover, dust jacket, dust wrapper\": 921,\n",
        "    \"menu\": 922,\n",
        "    \"plate\": 923,\n",
        "    \"guacamole\": 924,\n",
        "    \"consomme\": 925,\n",
        "    \"hot pot, hotpot\": 926,\n",
        "    \"trifle\": 927,\n",
        "    \"ice cream, icecream\": 928,\n",
        "    \"ice lolly, lolly, lollipop, popsicle\": 929,\n",
        "    \"French loaf\": 930,\n",
        "    \"bagel, beigel\": 931,\n",
        "    \"pretzel\": 932,\n",
        "    \"cheeseburger\": 933,\n",
        "    \"hotdog, hot dog, red hot\": 934,\n",
        "    \"mashed potato\": 935,\n",
        "    \"head cabbage\": 936,\n",
        "    \"broccoli\": 937,\n",
        "    \"cauliflower\": 938,\n",
        "    \"zucchini, courgette\": 939,\n",
        "    \"spaghetti squash\": 940,\n",
        "    \"acorn squash\": 941,\n",
        "    \"butternut squash\": 942,\n",
        "    \"cucumber, cuke\": 943,\n",
        "    \"artichoke, globe artichoke\": 944,\n",
        "    \"bell pepper\": 945,\n",
        "    \"cardoon\": 946,\n",
        "    \"mushroom\": 947,\n",
        "    \"Granny Smith\": 948,\n",
        "    \"strawberry\": 949,\n",
        "    \"orange\": 950,\n",
        "    \"lemon\": 951,\n",
        "    \"fig\": 952,\n",
        "    \"pineapple, ananas\": 953,\n",
        "    \"banana\": 954,\n",
        "    \"jackfruit, jak, jack\": 955,\n",
        "    \"custard apple\": 956,\n",
        "    \"pomegranate\": 957,\n",
        "    \"hay\": 958,\n",
        "    \"carbonara\": 959,\n",
        "    \"chocolate sauce, chocolate syrup\": 960,\n",
        "    \"dough\": 961,\n",
        "    \"meat loaf, meatloaf\": 962,\n",
        "    \"pizza, pizza pie\": 963,\n",
        "    \"potpie\": 964,\n",
        "    \"burrito\": 965,\n",
        "    \"red wine\": 966,\n",
        "    \"espresso\": 967,\n",
        "    \"cup\": 968,\n",
        "    \"eggnog\": 969,\n",
        "    \"alp\": 970,\n",
        "    \"bubble\": 971,\n",
        "    \"cliff, drop, drop-off\": 972,\n",
        "    \"coral reef\": 973,\n",
        "    \"geyser\": 974,\n",
        "    \"lakeside, lakeshore\": 975,\n",
        "    \"promontory, headland, head, foreland\": 976,\n",
        "    \"sandbar, sand bar\": 977,\n",
        "    \"seashore, coast, seacoast, sea-coast\": 978,\n",
        "    \"valley, vale\": 979,\n",
        "    \"volcano\": 980,\n",
        "    \"ballplayer, baseball player\": 981,\n",
        "    \"groom, bridegroom\": 982,\n",
        "    \"scuba diver\": 983,\n",
        "    \"rapeseed\": 984,\n",
        "    \"daisy\": 985,\n",
        "    \"yellow lady's slipper, yellow lady-slipper, Cypripedium calceolus, Cypripedium parviflorum\": 986,\n",
        "    \"corn\": 987,\n",
        "    \"acorn\": 988,\n",
        "    \"hip, rose hip, rosehip\": 989,\n",
        "    \"buckeye, horse chestnut, conker\": 990,\n",
        "    \"coral fungus\": 991,\n",
        "    \"agaric\": 992,\n",
        "    \"gyromitra\": 993,\n",
        "    \"stinkhorn, carrion fungus\": 994,\n",
        "    \"earthstar\": 995,\n",
        "    \"hen-of-the-woods, hen of the woods, Polyporus frondosus, Grifola frondosa\": 996,\n",
        "    \"bolete\": 997,\n",
        "    \"ear, spike, capitulum\": 998,\n",
        "    \"toilet tissue, toilet paper, bathroom tissue\": 999\n",
        "}\n",
        "\n",
        "classIdx = nameToClassIdx[style]"
      ]
    },
    {
      "cell_type": "markdown",
      "metadata": {
        "id": "kSBBXrcy1ssE"
      },
      "source": [
        "# A. Set-Up"
      ]
    },
    {
      "cell_type": "markdown",
      "metadata": {
        "id": "0kBYttBTtlho"
      },
      "source": [
        "## A.1. Set-up GPU\n",
        "\n",
        "Navigate to **Runtime -> Change runtime type** and make sure **Hardware accelerator** is set to GPU."
      ]
    },
    {
      "cell_type": "markdown",
      "metadata": {
        "id": "PByrKtjcuMP8"
      },
      "source": [
        "## A.3. Install Lucid Sonic Dreams\n",
        "\n",
        "\n"
      ]
    },
    {
      "cell_type": "code",
      "execution_count": null,
      "metadata": {
        "colab": {
          "base_uri": "https://localhost:8080/"
        },
        "id": "50buTzTKOf6x",
        "outputId": "e00e6842-0e7e-4c0d-da64-721412829f1d",
        "vscode": {
          "languageId": "python"
        }
      },
      "outputs": [
        {
          "output_type": "stream",
          "name": "stdout",
          "text": [
            "Requirement already satisfied: ninja in /usr/local/lib/python3.7/dist-packages (1.10.2.3)\n",
            "Requirement already satisfied: ftfy in /usr/local/lib/python3.7/dist-packages (6.1.1)\n",
            "Requirement already satisfied: wcwidth>=0.2.5 in /usr/local/lib/python3.7/dist-packages (from ftfy) (0.2.5)\n",
            "Collecting git+https://github.com/pollinations/lucid-sonic-dreams\n",
            "  Cloning https://github.com/pollinations/lucid-sonic-dreams to /tmp/pip-req-build-auq52wv0\n",
            "  Running command git clone -q https://github.com/pollinations/lucid-sonic-dreams /tmp/pip-req-build-auq52wv0\n",
            "Requirement already satisfied: tensorflow==1.15 in /usr/local/lib/python3.7/dist-packages (from lucidsonicdreams==0.4) (1.15.0)\n",
            "Requirement already satisfied: librosa in /usr/local/lib/python3.7/dist-packages (from lucidsonicdreams==0.4) (0.8.1)\n",
            "Requirement already satisfied: numpy in /usr/local/lib/python3.7/dist-packages (from lucidsonicdreams==0.4) (1.21.6)\n",
            "Requirement already satisfied: moviepy in /usr/local/lib/python3.7/dist-packages (from lucidsonicdreams==0.4) (0.2.3.5)\n",
            "Requirement already satisfied: Pillow in /usr/local/lib/python3.7/dist-packages (from lucidsonicdreams==0.4) (7.1.2)\n",
            "Requirement already satisfied: tqdm in /usr/local/lib/python3.7/dist-packages (from lucidsonicdreams==0.4) (4.64.0)\n",
            "Requirement already satisfied: scipy in /usr/local/lib/python3.7/dist-packages (from lucidsonicdreams==0.4) (1.4.1)\n",
            "Requirement already satisfied: scikit-image in /usr/local/lib/python3.7/dist-packages (from lucidsonicdreams==0.4) (0.18.3)\n",
            "Requirement already satisfied: pygit2 in /usr/local/lib/python3.7/dist-packages (from lucidsonicdreams==0.4) (1.9.1)\n",
            "Requirement already satisfied: gdown in /usr/local/lib/python3.7/dist-packages (from lucidsonicdreams==0.4) (4.4.0)\n",
            "Requirement already satisfied: mega.py in /usr/local/lib/python3.7/dist-packages (from lucidsonicdreams==0.4) (1.0.8)\n",
            "Requirement already satisfied: requests in /usr/local/lib/python3.7/dist-packages (from lucidsonicdreams==0.4) (2.23.0)\n",
            "Requirement already satisfied: pandas in /usr/local/lib/python3.7/dist-packages (from lucidsonicdreams==0.4) (1.3.5)\n",
            "Requirement already satisfied: SoundFile in /usr/local/lib/python3.7/dist-packages (from lucidsonicdreams==0.4) (0.10.3.post1)\n",
            "Requirement already satisfied: keras-preprocessing>=1.0.5 in /usr/local/lib/python3.7/dist-packages (from tensorflow==1.15->lucidsonicdreams==0.4) (1.1.2)\n",
            "Requirement already satisfied: protobuf>=3.6.1 in /usr/local/lib/python3.7/dist-packages (from tensorflow==1.15->lucidsonicdreams==0.4) (3.17.3)\n",
            "Requirement already satisfied: six>=1.10.0 in /usr/local/lib/python3.7/dist-packages (from tensorflow==1.15->lucidsonicdreams==0.4) (1.15.0)\n",
            "Requirement already satisfied: wrapt>=1.11.1 in /usr/local/lib/python3.7/dist-packages (from tensorflow==1.15->lucidsonicdreams==0.4) (1.14.0)\n",
            "Requirement already satisfied: astor>=0.6.0 in /usr/local/lib/python3.7/dist-packages (from tensorflow==1.15->lucidsonicdreams==0.4) (0.8.1)\n",
            "Requirement already satisfied: opt-einsum>=2.3.2 in /usr/local/lib/python3.7/dist-packages (from tensorflow==1.15->lucidsonicdreams==0.4) (3.3.0)\n",
            "Requirement already satisfied: wheel>=0.26 in /usr/local/lib/python3.7/dist-packages (from tensorflow==1.15->lucidsonicdreams==0.4) (0.37.1)\n",
            "Requirement already satisfied: google-pasta>=0.1.6 in /usr/local/lib/python3.7/dist-packages (from tensorflow==1.15->lucidsonicdreams==0.4) (0.2.0)\n",
            "Requirement already satisfied: tensorboard<1.16.0,>=1.15.0 in /usr/local/lib/python3.7/dist-packages (from tensorflow==1.15->lucidsonicdreams==0.4) (1.15.0)\n",
            "Requirement already satisfied: termcolor>=1.1.0 in /usr/local/lib/python3.7/dist-packages (from tensorflow==1.15->lucidsonicdreams==0.4) (1.1.0)\n",
            "Requirement already satisfied: grpcio>=1.8.6 in /usr/local/lib/python3.7/dist-packages (from tensorflow==1.15->lucidsonicdreams==0.4) (1.44.0)\n",
            "Requirement already satisfied: tensorflow-estimator==1.15.1 in /usr/local/lib/python3.7/dist-packages (from tensorflow==1.15->lucidsonicdreams==0.4) (1.15.1)\n",
            "Requirement already satisfied: absl-py>=0.7.0 in /usr/local/lib/python3.7/dist-packages (from tensorflow==1.15->lucidsonicdreams==0.4) (1.0.0)\n",
            "Requirement already satisfied: gast==0.2.2 in /usr/local/lib/python3.7/dist-packages (from tensorflow==1.15->lucidsonicdreams==0.4) (0.2.2)\n",
            "Requirement already satisfied: keras-applications>=1.0.8 in /usr/local/lib/python3.7/dist-packages (from tensorflow==1.15->lucidsonicdreams==0.4) (1.0.8)\n",
            "Requirement already satisfied: h5py in /usr/local/lib/python3.7/dist-packages (from keras-applications>=1.0.8->tensorflow==1.15->lucidsonicdreams==0.4) (3.1.0)\n",
            "Requirement already satisfied: setuptools>=41.0.0 in /usr/local/lib/python3.7/dist-packages (from tensorboard<1.16.0,>=1.15.0->tensorflow==1.15->lucidsonicdreams==0.4) (57.4.0)\n",
            "Requirement already satisfied: werkzeug>=0.11.15 in /usr/local/lib/python3.7/dist-packages (from tensorboard<1.16.0,>=1.15.0->tensorflow==1.15->lucidsonicdreams==0.4) (1.0.1)\n",
            "Requirement already satisfied: markdown>=2.6.8 in /usr/local/lib/python3.7/dist-packages (from tensorboard<1.16.0,>=1.15.0->tensorflow==1.15->lucidsonicdreams==0.4) (3.3.6)\n",
            "Requirement already satisfied: importlib-metadata>=4.4 in /usr/local/lib/python3.7/dist-packages (from markdown>=2.6.8->tensorboard<1.16.0,>=1.15.0->tensorflow==1.15->lucidsonicdreams==0.4) (4.11.3)\n",
            "Requirement already satisfied: typing-extensions>=3.6.4 in /usr/local/lib/python3.7/dist-packages (from importlib-metadata>=4.4->markdown>=2.6.8->tensorboard<1.16.0,>=1.15.0->tensorflow==1.15->lucidsonicdreams==0.4) (4.2.0)\n",
            "Requirement already satisfied: zipp>=0.5 in /usr/local/lib/python3.7/dist-packages (from importlib-metadata>=4.4->markdown>=2.6.8->tensorboard<1.16.0,>=1.15.0->tensorflow==1.15->lucidsonicdreams==0.4) (3.8.0)\n",
            "Requirement already satisfied: filelock in /usr/local/lib/python3.7/dist-packages (from gdown->lucidsonicdreams==0.4) (3.6.0)\n",
            "Requirement already satisfied: beautifulsoup4 in /usr/local/lib/python3.7/dist-packages (from gdown->lucidsonicdreams==0.4) (4.6.3)\n",
            "Requirement already satisfied: cached-property in /usr/local/lib/python3.7/dist-packages (from h5py->keras-applications>=1.0.8->tensorflow==1.15->lucidsonicdreams==0.4) (1.5.2)\n",
            "Requirement already satisfied: audioread>=2.0.0 in /usr/local/lib/python3.7/dist-packages (from librosa->lucidsonicdreams==0.4) (2.1.9)\n",
            "Requirement already satisfied: numba>=0.43.0 in /usr/local/lib/python3.7/dist-packages (from librosa->lucidsonicdreams==0.4) (0.51.2)\n",
            "Requirement already satisfied: pooch>=1.0 in /usr/local/lib/python3.7/dist-packages (from librosa->lucidsonicdreams==0.4) (1.6.0)\n",
            "Requirement already satisfied: scikit-learn!=0.19.0,>=0.14.0 in /usr/local/lib/python3.7/dist-packages (from librosa->lucidsonicdreams==0.4) (1.0.2)\n",
            "Requirement already satisfied: decorator>=3.0.0 in /usr/local/lib/python3.7/dist-packages (from librosa->lucidsonicdreams==0.4) (4.4.2)\n",
            "Requirement already satisfied: joblib>=0.14 in /usr/local/lib/python3.7/dist-packages (from librosa->lucidsonicdreams==0.4) (1.1.0)\n",
            "Requirement already satisfied: resampy>=0.2.2 in /usr/local/lib/python3.7/dist-packages (from librosa->lucidsonicdreams==0.4) (0.2.2)\n",
            "Requirement already satisfied: packaging>=20.0 in /usr/local/lib/python3.7/dist-packages (from librosa->lucidsonicdreams==0.4) (21.3)\n",
            "Requirement already satisfied: llvmlite<0.35,>=0.34.0.dev0 in /usr/local/lib/python3.7/dist-packages (from numba>=0.43.0->librosa->lucidsonicdreams==0.4) (0.34.0)\n",
            "Requirement already satisfied: pyparsing!=3.0.5,>=2.0.2 in /usr/local/lib/python3.7/dist-packages (from packaging>=20.0->librosa->lucidsonicdreams==0.4) (3.0.8)\n",
            "Requirement already satisfied: appdirs>=1.3.0 in /usr/local/lib/python3.7/dist-packages (from pooch>=1.0->librosa->lucidsonicdreams==0.4) (1.4.4)\n",
            "Requirement already satisfied: chardet<4,>=3.0.2 in /usr/local/lib/python3.7/dist-packages (from requests->lucidsonicdreams==0.4) (3.0.4)\n",
            "Requirement already satisfied: certifi>=2017.4.17 in /usr/local/lib/python3.7/dist-packages (from requests->lucidsonicdreams==0.4) (2021.10.8)\n",
            "Requirement already satisfied: idna<3,>=2.5 in /usr/local/lib/python3.7/dist-packages (from requests->lucidsonicdreams==0.4) (2.10)\n",
            "Requirement already satisfied: urllib3!=1.25.0,!=1.25.1,<1.26,>=1.21.1 in /usr/local/lib/python3.7/dist-packages (from requests->lucidsonicdreams==0.4) (1.24.3)\n",
            "Requirement already satisfied: threadpoolctl>=2.0.0 in /usr/local/lib/python3.7/dist-packages (from scikit-learn!=0.19.0,>=0.14.0->librosa->lucidsonicdreams==0.4) (3.1.0)\n",
            "Requirement already satisfied: cffi>=1.0 in /usr/local/lib/python3.7/dist-packages (from SoundFile->lucidsonicdreams==0.4) (1.15.0)\n",
            "Requirement already satisfied: pycparser in /usr/local/lib/python3.7/dist-packages (from cffi>=1.0->SoundFile->lucidsonicdreams==0.4) (2.21)\n",
            "Requirement already satisfied: pathlib==1.0.1 in /usr/local/lib/python3.7/dist-packages (from mega.py->lucidsonicdreams==0.4) (1.0.1)\n",
            "Requirement already satisfied: pycryptodome<4.0.0,>=3.9.6 in /usr/local/lib/python3.7/dist-packages (from mega.py->lucidsonicdreams==0.4) (3.14.1)\n",
            "Requirement already satisfied: tenacity<6.0.0,>=5.1.5 in /usr/local/lib/python3.7/dist-packages (from mega.py->lucidsonicdreams==0.4) (5.1.5)\n",
            "Requirement already satisfied: imageio<3.0,>=2.1.2 in /usr/local/lib/python3.7/dist-packages (from moviepy->lucidsonicdreams==0.4) (2.4.1)\n",
            "Requirement already satisfied: python-dateutil>=2.7.3 in /usr/local/lib/python3.7/dist-packages (from pandas->lucidsonicdreams==0.4) (2.8.2)\n",
            "Requirement already satisfied: pytz>=2017.3 in /usr/local/lib/python3.7/dist-packages (from pandas->lucidsonicdreams==0.4) (2022.1)\n",
            "Requirement already satisfied: PySocks!=1.5.7,>=1.5.6 in /usr/local/lib/python3.7/dist-packages (from requests->lucidsonicdreams==0.4) (1.7.1)\n",
            "Requirement already satisfied: networkx>=2.0 in /usr/local/lib/python3.7/dist-packages (from scikit-image->lucidsonicdreams==0.4) (2.6.3)\n",
            "Requirement already satisfied: PyWavelets>=1.1.1 in /usr/local/lib/python3.7/dist-packages (from scikit-image->lucidsonicdreams==0.4) (1.3.0)\n",
            "Requirement already satisfied: tifffile>=2019.7.26 in /usr/local/lib/python3.7/dist-packages (from scikit-image->lucidsonicdreams==0.4) (2021.11.2)\n",
            "Requirement already satisfied: matplotlib!=3.0.0,>=2.0.0 in /usr/local/lib/python3.7/dist-packages (from scikit-image->lucidsonicdreams==0.4) (3.2.2)\n",
            "Requirement already satisfied: kiwisolver>=1.0.1 in /usr/local/lib/python3.7/dist-packages (from matplotlib!=3.0.0,>=2.0.0->scikit-image->lucidsonicdreams==0.4) (1.4.2)\n",
            "Requirement already satisfied: cycler>=0.10 in /usr/local/lib/python3.7/dist-packages (from matplotlib!=3.0.0,>=2.0.0->scikit-image->lucidsonicdreams==0.4) (0.11.0)\n",
            "ffmpeg version 3.4.8-0ubuntu0.2 Copyright (c) 2000-2020 the FFmpeg developers\n",
            "  built with gcc 7 (Ubuntu 7.5.0-3ubuntu1~18.04)\n",
            "  configuration: --prefix=/usr --extra-version=0ubuntu0.2 --toolchain=hardened --libdir=/usr/lib/x86_64-linux-gnu --incdir=/usr/include/x86_64-linux-gnu --enable-gpl --disable-stripping --enable-avresample --enable-avisynth --enable-gnutls --enable-ladspa --enable-libass --enable-libbluray --enable-libbs2b --enable-libcaca --enable-libcdio --enable-libflite --enable-libfontconfig --enable-libfreetype --enable-libfribidi --enable-libgme --enable-libgsm --enable-libmp3lame --enable-libmysofa --enable-libopenjpeg --enable-libopenmpt --enable-libopus --enable-libpulse --enable-librubberband --enable-librsvg --enable-libshine --enable-libsnappy --enable-libsoxr --enable-libspeex --enable-libssh --enable-libtheora --enable-libtwolame --enable-libvorbis --enable-libvpx --enable-libwavpack --enable-libwebp --enable-libx265 --enable-libxml2 --enable-libxvid --enable-libzmq --enable-libzvbi --enable-omx --enable-openal --enable-opengl --enable-sdl2 --enable-libdc1394 --enable-libdrm --enable-libiec61883 --enable-chromaprint --enable-frei0r --enable-libopencv --enable-libx264 --enable-shared\n",
            "  libavutil      55. 78.100 / 55. 78.100\n",
            "  libavcodec     57.107.100 / 57.107.100\n",
            "  libavformat    57. 83.100 / 57. 83.100\n",
            "  libavdevice    57. 10.100 / 57. 10.100\n",
            "  libavfilter     6.107.100 /  6.107.100\n",
            "  libavresample   3.  7.  0 /  3.  7.  0\n",
            "  libswscale      4.  8.100 /  4.  8.100\n",
            "  libswresample   2.  9.100 /  2.  9.100\n",
            "  libpostproc    54.  7.100 / 54.  7.100\n",
            "\u001b[0;33mGuessed Channel Layout for Input Stream #0.0 : stereo\n",
            "\u001b[0mInput #0, wav, from '/content/audio_alto_flute.wav':\n",
            "  Duration: 00:00:04.75, bitrate: 2304 kb/s\n",
            "    Stream #0:0: Audio: pcm_s24le ([1][0][0][0] / 0x0001), 48000 Hz, stereo, s32 (24 bit), 2304 kb/s\n",
            "Stream mapping:\n",
            "  Stream #0:0 -> #0:0 (pcm_s24le (native) -> pcm_s16le (native))\n",
            "Press [q] to stop, [?] for help\n",
            "Output #0, wav, to '/tmp/audio.wav':\n",
            "  Metadata:\n",
            "    ISFT            : Lavf57.83.100\n",
            "    Stream #0:0: Audio: pcm_s16le ([1][0][0][0] / 0x0001), 48000 Hz, stereo, s16, 1536 kb/s\n",
            "    Metadata:\n",
            "      encoder         : Lavc57.107.100 pcm_s16le\n",
            "size=     891kB time=00:00:04.75 bitrate=1536.1kbits/s speed= 193x    \n",
            "video:0kB audio:891kB subtitle:0kB other streams:0kB global headers:0kB muxing overhead: 0.008549%\n"
          ]
        }
      ],
      "source": [
        "#@title Install Lucid Sonic Dreams\n",
        "#!pip install torch==1.9.1 torchtext torchvision torchaudio\n",
        "!pip install ninja ftfy\n",
        "!pip install git+https://github.com/pollinations/lucid-sonic-dreams\n",
        "\n",
        "\n",
        "\n",
        "!ffmpeg -y -i \"{audio_file}\" -vn -acodec pcm_s16le /tmp/audio.wav\n",
        "audio_file = '/tmp/audio.wav'"
      ]
    },
    {
      "cell_type": "code",
      "execution_count": null,
      "metadata": {
        "colab": {
          "base_uri": "https://localhost:8080/"
        },
        "id": "2TEHsvAjxN3J",
        "outputId": "ff0346b3-61e2-4ae6-a23b-9d6791020f67",
        "vscode": {
          "languageId": "python"
        }
      },
      "outputs": [
        {
          "output_type": "stream",
          "name": "stdout",
          "text": [
            "WARNING: timestamping does nothing in combination with -O. See the manual\n",
            "for details.\n",
            "\n",
            "/content/StyleGAN-Human/pretrained_models/stylegan2_1024.pkl: Scheme missing.\n"
          ]
        }
      ],
      "source": [
        "#@title Model download\n",
        "\n",
        "is_lucid_sonic_dreams = model_type in [\"Abstract art\",\"Anime portraits\",\"CIFAR 10\",\"CIFAR 100\",\"Doors\",\"Maps\",\"Visionary Art\",\"WikiArt\",\"beetles\",\"cakes\",\"car (config-e)\",\"car (config-f)\",\"cat\",\"church\",\"faces (FFHQ config-e 256x256)\",\"faces (FFHQ config-e)\",\"faces (FFHQ config-f 512x512)\",\"faces (FFHQ config-f)\",\"faces (FFHQ slim 256x256)\",\"figure drawings\",\"flowers\",\"fursona\",\"grumpy cat\",\"horse\",\"microscope images\",\"modern art\",\"my little pony\",\"obama\",\"painting faces\",\"panda\",\"textures\",\"trypophobia\",\"ukiyoe faces\",\"wildlife\"]\n",
        "\n",
        "\n",
        "if is_lucid_sonic_dreams:\n",
        "  model_file = f\"{model_type}.pkl\"\n",
        "  network_pkl_url = f\"https://ipfs.pollinations.ai/ipfs/QmV5HQM1Ms3c6sejmsMwiCDNLhMLNs6f8jESenDvcYjfin/{model_file}\"\n",
        "  !wget -N \"https://ipfs.pollinations.ai/ipfs/QmV5HQM1Ms3c6sejmsMwiCDNLhMLNs6f8jESenDvcYjfin/{model_file}\"\n",
        "else:\n",
        "  network_pkl_url = model_map[model_type]\n",
        "\n",
        "network_pkl = f\"/content/{model_type}.pkl\"\n",
        "!wget -c -N {network_pkl_url} -O \"{network_pkl}\"\n",
        "\n"
      ]
    },
    {
      "cell_type": "markdown",
      "metadata": {
        "id": "63dO9FBu1Mv0"
      },
      "source": [
        "# B. Generate Sample Videos"
      ]
    },
    {
      "cell_type": "markdown",
      "metadata": {
        "id": "7AgAsUB54ej8"
      },
      "source": [
        "## B.1. Choosing a Style\n",
        "\n",
        "Styles can be selected using the **style** parameter, which takes in any of the following:\n",
        "\n",
        "*   A valid default style name provided by the package. Run **show_styles()** to print valid values. *Note: These styles are loaded from [this repository](https://github.com/justinpinkney/awesome-pretrained-stylegan2) by Justin Pinkney.*\n",
        "\n",
        "*   A path to a .pkl file that contains pre-trained StyleGAN weights\n",
        "\n",
        "*   A custom function that takes noise_batch and class_batch parameters and outputs a list of Pillow Images (see example in **B.5**)\n",
        "\n",
        "\n",
        "\n"
      ]
    },
    {
      "cell_type": "markdown",
      "metadata": {
        "id": "YNnHbJgB2EWk"
      },
      "source": [
        "## B.2. Using Default Settings\n",
        "\n",
        "This package is set-up so that the only arguments required are the **file path to your audio track** and the **file name of the video output**. This code snippet outputs a 45-second, low-resolution preview of a video using the \"modern art\" style, and all the other default settings.\n",
        "\n",
        "The song used here is **Chemical Love by Basically Saturday Night**. You can watch the official music video [here](https://youtu.be/Gi7oQrtyjKI), or listen to them on [Spotify](https://open.spotify.com/artist/46tGdhXAQbTvxVOGgy0Fqu?si=E8mUjbWbR2uiiMR2MUc_4w)!\n",
        "\n",
        "Click [here](https://youtu.be/oGXfOmqFYTg) to view a full-length sample video without having to run the code."
      ]
    },
    {
      "cell_type": "code",
      "execution_count": null,
      "metadata": {
        "colab": {
          "base_uri": "https://localhost:8080/"
        },
        "id": "SN8hypvi8wCJ",
        "outputId": "85b345e4-e3b8-4130-fdb9-a84112ad44a3",
        "vscode": {
          "languageId": "python"
        }
      },
      "outputs": [
        {
          "output_type": "stream",
          "name": "stdout",
          "text": [
            "/content\n",
            "fatal: destination path 'stylegan2' already exists and is not an empty directory.\n",
            "'stylegan2/dnnlib/__init__.py' -> './dnnlib_sg2/dnnlib/__init__.py'\n",
            "'stylegan2/dnnlib/tflib/__init__.py' -> './dnnlib_sg2/dnnlib/tflib/__init__.py'\n",
            "'stylegan2/dnnlib/tflib/autosummary.py' -> './dnnlib_sg2/dnnlib/tflib/autosummary.py'\n",
            "'stylegan2/dnnlib/tflib/custom_ops.py' -> './dnnlib_sg2/dnnlib/tflib/custom_ops.py'\n",
            "'stylegan2/dnnlib/tflib/network.py' -> './dnnlib_sg2/dnnlib/tflib/network.py'\n",
            "'stylegan2/dnnlib/tflib/ops/__init__.py' -> './dnnlib_sg2/dnnlib/tflib/ops/__init__.py'\n",
            "'stylegan2/dnnlib/tflib/ops/fused_bias_act.cu' -> './dnnlib_sg2/dnnlib/tflib/ops/fused_bias_act.cu'\n",
            "'stylegan2/dnnlib/tflib/ops/fused_bias_act.py' -> './dnnlib_sg2/dnnlib/tflib/ops/fused_bias_act.py'\n",
            "'stylegan2/dnnlib/tflib/ops/upfirdn_2d.cu' -> './dnnlib_sg2/dnnlib/tflib/ops/upfirdn_2d.cu'\n",
            "'stylegan2/dnnlib/tflib/ops/upfirdn_2d.py' -> './dnnlib_sg2/dnnlib/tflib/ops/upfirdn_2d.py'\n",
            "'stylegan2/dnnlib/tflib/optimizer.py' -> './dnnlib_sg2/dnnlib/tflib/optimizer.py'\n",
            "'stylegan2/dnnlib/tflib/tfutil.py' -> './dnnlib_sg2/dnnlib/tflib/tfutil.py'\n",
            "'stylegan2/dnnlib/util.py' -> './dnnlib_sg2/dnnlib/util.py'\n"
          ]
        }
      ],
      "source": [
        "%cd /content/\n",
        "\n",
        "!git clone https://github.com/NVlabs/stylegan2-ada.git stylegan2\n",
        "!cp -rv stylegan2/dnnlib ./dnnlib_sg2\n",
        "\n",
        "\n",
        "if model_type != \"humans\" and not is_lucid_sonic_dreams:\n",
        "  !rm -rf /content/StyleGAN-Human # otherwise it will import from this repo if it was previously used\n",
        "  %cd /content\n",
        "  !git clone https://github.com/autonomousvision/stylegan_xl\n",
        "  !pip install timm dill\n",
        "  %cd /content/stylegan_xl\n",
        "  import sys\n",
        "  sys.path.append(\"/content/stylegan_xl\")\n",
        "\n"
      ]
    },
    {
      "cell_type": "code",
      "execution_count": null,
      "metadata": {
        "id": "EGCBWek-eMqP",
        "vscode": {
          "languageId": "python"
        },
        "colab": {
          "base_uri": "https://localhost:8080/"
        },
        "outputId": "08695641-5230-47d4-d596-8e92a7ffa08e"
      },
      "outputs": [
        {
          "output_type": "stream",
          "name": "stdout",
          "text": [
            "/content\n",
            "TensorFlow 1.x selected.\n",
            "/content/StyleGAN-Human\n",
            "wget --load-cookies /tmp/cookies.txt \"https://docs.google.com/uc?export=download&confirm=$(wget --quiet --save-cookies /tmp/cookies.txt --keep-session-cookies --no-check-certificate 'https://docs.google.com/uc?export=download&id=1FlAb1rYa0r_--Zj_ML8e6shmaF28hQb5' -O- | sed -rn 's/.*confirm=([0-9A-Za-z_]+).*/\\1\\n/p')&id=1FlAb1rYa0r_--Zj_ML8e6shmaF28hQb5\" -O /content/StyleGAN-Human/pretrained_models/stylegan2_1024.pkl && rm -rf /tmp/cookies.txt\n",
            "--2022-05-08 12:36:19--  https://docs.google.com/uc?export=download&confirm=t&id=1FlAb1rYa0r_--Zj_ML8e6shmaF28hQb5\n",
            "Resolving docs.google.com (docs.google.com)... 74.125.23.102, 74.125.23.101, 74.125.23.100, ...\n",
            "Connecting to docs.google.com (docs.google.com)|74.125.23.102|:443... connected.\n",
            "HTTP request sent, awaiting response... 303 See Other\n",
            "Location: https://doc-10-10-docs.googleusercontent.com/docs/securesc/ha0ro937gcuc7l7deffksulhg5h7mbp1/9b5ogr707f2amam3km9n10q91sc4iqfq/1652013375000/01844016854614948534/*/1FlAb1rYa0r_--Zj_ML8e6shmaF28hQb5?e=download [following]\n",
            "Warning: wildcards not supported in HTTP.\n",
            "--2022-05-08 12:36:20--  https://doc-10-10-docs.googleusercontent.com/docs/securesc/ha0ro937gcuc7l7deffksulhg5h7mbp1/9b5ogr707f2amam3km9n10q91sc4iqfq/1652013375000/01844016854614948534/*/1FlAb1rYa0r_--Zj_ML8e6shmaF28hQb5?e=download\n",
            "Resolving doc-10-10-docs.googleusercontent.com (doc-10-10-docs.googleusercontent.com)... 64.233.189.132, 2404:6800:4008:c07::84\n",
            "Connecting to doc-10-10-docs.googleusercontent.com (doc-10-10-docs.googleusercontent.com)|64.233.189.132|:443... connected.\n",
            "HTTP request sent, awaiting response... 200 OK\n",
            "Length: 362022337 (345M) [application/octet-stream]\n",
            "Saving to: ‘/content/StyleGAN-Human/pretrained_models/stylegan2_1024.pkl’\n",
            "\n",
            "/content/StyleGAN-H 100%[===================>] 345.25M   132MB/s    in 2.6s    \n",
            "\n",
            "2022-05-08 12:36:23 (132 MB/s) - ‘/content/StyleGAN-Human/pretrained_models/stylegan2_1024.pkl’ saved [362022337/362022337]\n",
            "\n",
            "/content\n"
          ]
        }
      ],
      "source": [
        "\n",
        "import os\n",
        "if model_type == \"humans\":\n",
        "  !rm -rf /content/stylegan_xl # otherwise it will import from this repo if it was previously used\n",
        "  resolution = None\n",
        "  if not os.path.exists(\"/content/StyleGAN-Human/pretrained_models/stylegan2_1024.pkl\"):\n",
        "    repo_name = \"StyleGAN-Human\"\n",
        "    %cd /content \n",
        "    if not os.path.exists(repo_name):\n",
        "      !git clone https://github.com/stylegan-human/StyleGAN-Human.git\n",
        "    if not os.path.exists(\"ninja-linux.zip\"):\n",
        "      !wget https://github.com/ninja-build/ninja/releases/download/v1.8.2/ninja-linux.zip\n",
        "      !sudo unzip -o ninja-linux.zip -d /usr/local/bin/\n",
        "      !sudo update-alternatives --install /usr/bin/ninja ninja /usr/local/bin/ninja 1 --force \n",
        "      !pip install lpips\n",
        "    %tensorflow_version 1.x \n",
        "    %cd /content/StyleGAN-Human\n",
        "    \n",
        "    def get_download_model_command(file_id, file_name):\n",
        "      \"\"\" Get wget download command for downloading the desired model and save to directory ../pretrained_models. \"\"\"\n",
        "      current_directory = os.getcwd()\n",
        "      save_path = os.path.join(os.path.dirname(current_directory), f'{repo_name}',\"pretrained_models\")\n",
        "      if not os.path.exists(save_path):\n",
        "          os.makedirs(save_path)\n",
        "      url = r\"\"\"wget --load-cookies /tmp/cookies.txt \"https://docs.google.com/uc?export=download&confirm=$(wget --quiet --save-cookies /tmp/cookies.txt --keep-session-cookies --no-check-certificate 'https://docs.google.com/uc?export=download&id={FILE_ID}' -O- | sed -rn 's/.*confirm=([0-9A-Za-z_]+).*/\\1\\n/p')&id={FILE_ID}\" -O {SAVE_PATH}/{FILE_NAME} && rm -rf /tmp/cookies.txt\"\"\".format(FILE_ID=file_id, FILE_NAME=file_name, SAVE_PATH=save_path)\n",
        "      return url\n",
        "    \n",
        "    MODEL_PATHS = {\n",
        "        \"stylegan1_1024\": {\"id\": \"1h-R-IV-INGdPEzj4P9ml6JTEvihuNgLX\", \"name\": \"stylegan1_1024.pkl\"},\n",
        "        \"stylegan2_1024\": {\"id\": \"1FlAb1rYa0r_--Zj_ML8e6shmaF28hQb5\", \"name\": \"stylegan2_1024.pkl\"},\n",
        "        \"stylegan2_512\": {\"id\": \"1dlFEHbu-WzQWJl7nBBZYcTyo000H9hVm\", \"name\": \"stylegan2_512.pkl\"},\n",
        "        \"stylegan3_512\": {\"id\": \"1_274jk_N6WSCkKWeu7hjHycqGvbuOFf5\", \"name\": \"stylegan3_512.pkl\"},\n",
        "        # \"stylegan3_1024\": {\"id\": None, \"name\": \"stylegan3_1024.pkl\"},\n",
        "        # \"stylegan1_512\": {\"id\": None, \"name\": \"stylegan1_512.pkl\"},\n",
        "    }\n",
        "    experiment_type = 'stylegan2_1024'\n",
        "    path = MODEL_PATHS[experiment_type]\n",
        "    download_command = get_download_model_command(file_id=path[\"id\"], file_name=path[\"name\"])\n",
        "    network_pkl = \"/content/StyleGAN-Human/pretrained_models/stylegan2_1024.pkl\"\n",
        "    print(download_command)\n",
        "    !{download_command}\n",
        "  %cd /content\n",
        "  import sys\n",
        "  sys.path.append(\"/content/StyleGAN-Human\")\n",
        "#   import torch\n",
        "#   import dnnlib\n",
        "#   import legacy\n",
        "\n",
        "#   print('Loading networks from \"%s\"...' % network_pkl)\n",
        "#   device = torch.device('cuda') if torch.cuda.is_available() else torch.device('cpu')\n",
        "#   with dnnlib.util.open_url(network_pkl) as f:\n",
        "#     G = legacy.load_network_pkl(f)['G_ema'].to(device) # type: ignore\n",
        "\n",
        "# G"
      ]
    },
    {
      "cell_type": "code",
      "execution_count": null,
      "metadata": {
        "colab": {
          "base_uri": "https://localhost:8080/"
        },
        "id": "eDzQHdZzVjA2",
        "outputId": "62db38d0-2191-46b1-8951-501a41717feb",
        "vscode": {
          "languageId": "python"
        }
      },
      "outputs": [
        {
          "output_type": "stream",
          "name": "stdout",
          "text": [
            "Loading networks from \"/content/StyleGAN-Human/pretrained_models/stylegan2_1024.pkl\"...\n"
          ]
        }
      ],
      "source": [
        "\n",
        "if not is_lucid_sonic_dreams:\n",
        "  # Copyright (c) 2021, NVIDIA CORPORATION & AFFILIATES.  All rights reserved.\n",
        "  #\n",
        "  # NVIDIA CORPORATION and its licensors retain all intellectual property\n",
        "  # and proprietary rights in and to this software, related documentation\n",
        "  # and any modifications thereto.  Any use, reproduction, disclosure or\n",
        "  # distribution of this software and related documentation without an express\n",
        "  # license agreement from NVIDIA CORPORATION is strictly prohibited.\n",
        "\n",
        "  \"\"\"Generate images using pretrained network pickle.\"\"\"\n",
        "\n",
        "  import os\n",
        "  import re\n",
        "  from typing import List, Optional, Tuple, Union\n",
        "\n",
        "  import click\n",
        "  import dnnlib\n",
        "  import numpy as np\n",
        "  import PIL.Image\n",
        "  import torch\n",
        "\n",
        "  import legacy\n",
        "\n",
        "  #----------------------------------------------------------------------------\n",
        "\n",
        "  def parse_range(s: Union[str, List]) -> List[int]:\n",
        "      '''Parse a comma separated list of numbers or ranges and return a list of ints.\n",
        "      Example: '1,2,5-10' returns [1, 2, 5, 6, 7]\n",
        "      '''\n",
        "      if isinstance(s, list): return s\n",
        "      ranges = []\n",
        "      range_re = re.compile(r'^(\\d+)-(\\d+)$')\n",
        "      for p in s.split(','):\n",
        "          m = range_re.match(p)\n",
        "          if m:\n",
        "              ranges.extend(range(int(m.group(1)), int(m.group(2))+1))\n",
        "          else:\n",
        "              ranges.append(int(p))\n",
        "      return ranges\n",
        "\n",
        "  #----------------------------------------------------------------------------\n",
        "\n",
        "  def parse_vec2(s: Union[str, Tuple[float, float]]) -> Tuple[float, float]:\n",
        "      '''Parse a floating point 2-vector of syntax 'a,b'.\n",
        "      Example:\n",
        "          '0,1' returns (0,1)\n",
        "      '''\n",
        "      if isinstance(s, tuple): return s\n",
        "      parts = s.split(',')\n",
        "      if len(parts) == 2:\n",
        "          return (float(parts[0]), float(parts[1]))\n",
        "      raise ValueError(f'cannot parse 2-vector {s}')\n",
        "\n",
        "  #----------------------------------------------------------------------------\n",
        "\n",
        "  def make_transform(translate: Tuple[float,float], angle: float):\n",
        "      m = np.eye(3)\n",
        "      s = np.sin(angle/360.0*np.pi*2)\n",
        "      c = np.cos(angle/360.0*np.pi*2)\n",
        "      m[0][0] = c\n",
        "      m[0][1] = s\n",
        "      m[0][2] = translate[0]\n",
        "      m[1][0] = -s\n",
        "      m[1][1] = c\n",
        "      m[1][2] = translate[1]\n",
        "      return m\n",
        "\n",
        "  #----------------------------------------------------------------------------\n",
        "  # \"/content/drive/MyDrive/sam/projected gan training/training-runs/00000-fastgan-sofia512-gpus1-batch64-/network-snapshot.pkl\",\n",
        "  # [1,2,3], \n",
        "  # 1,\n",
        "  # \"const\", \n",
        "  # \"/content\",\n",
        "  # (0,0), \n",
        "  # 0, \n",
        "  #  None)\n",
        "\n",
        "\n",
        "\n",
        "  print('Loading networks from \"%s\"...' % network_pkl)\n",
        "  device = torch.device('cuda') if torch.cuda.is_available() else torch.device('cpu')\n",
        "  with dnnlib.util.open_url(network_pkl) as f:\n",
        "      G = legacy.load_network_pkl(f)['G_ema'].to(device) # type: ignore\n",
        "\n",
        "\n",
        "  noise_dim = G.z_dim\n",
        "\n",
        "  def generate_images(\n",
        "      G,\n",
        "      z,\n",
        "      truncation_psi: float,\n",
        "      noise_mode: str,\n",
        "      translate: Tuple[float,float],\n",
        "      rotate: float,\n",
        "      class_idx: Optional[int]\n",
        "  ):\n",
        "      \"\"\"Generate images using pretrained network pickle.\n",
        "      Examples:\n",
        "      \\b\n",
        "      # Generate an image using pre-trained AFHQv2 model (\"Ours\" in Figure 1, left).\n",
        "      python gen_images.py --outdir=out --trunc=1 --seeds=2 \\\\\n",
        "          --network=https://api.ngc.nvidia.com/v2/models/nvidia/research/stylegan3/versions/1/files/stylegan3-r-afhqv2-512x512.pkl\n",
        "      \\b\n",
        "      # Generate uncurated images with truncation using the MetFaces-U dataset\n",
        "      python gen_images.py --outdir=out --trunc=0.7 --seeds=600-605 \\\\\n",
        "          --network=https://api.ngc.nvidia.com/v2/models/nvidia/research/stylegan3/versions/1/files/stylegan3-t-metfacesu-1024x1024.pkl\n",
        "      \"\"\"\n",
        "\n",
        "      # Labels.\n",
        "      label = torch.zeros([1, G.c_dim], device=device)\n",
        "      if G.c_dim != 0:\n",
        "          if class_idx is None:\n",
        "              raise click.ClickException('Must specify class label with --class when using a conditional network')\n",
        "          label[:, class_idx] = 1\n",
        "      else:\n",
        "          if class_idx is not None:\n",
        "              print ('warn: --class=lbl ignored when running on an unconditional network')\n",
        "\n",
        "      # Generate images.\n",
        "      #for seed_idx, seed in enumerate(seeds):\n",
        "\n",
        "      # Construct an inverse rotation/translation matrix and pass to the generator.  The\n",
        "      # generator expects this matrix as an inverse to avoid potentially failing numerical\n",
        "      # operations in the network.\n",
        "      if hasattr(G.synthesis, 'input'):\n",
        "          m = make_transform(translate, rotate)\n",
        "          m = np.linalg.inv(m)\n",
        "          G.synthesis.input.transform.copy_(torch.from_numpy(m))\n",
        "\n",
        "      img = G(z, label, truncation_psi=truncation_psi, noise_mode=noise_mode)\n",
        "      img = (img.permute(0, 2, 3, 1) * 127.5 + 128).clamp(0, 255).to(torch.uint8)\n",
        "      return PIL.Image.fromarray(img[0].cpu().numpy(), 'RGB')\n",
        "\n"
      ]
    },
    {
      "cell_type": "code",
      "execution_count": null,
      "metadata": {
        "id": "Mb4csn99eU3Q",
        "vscode": {
          "languageId": "python"
        }
      },
      "outputs": [],
      "source": [
        "\n",
        "def projected_gan(noise_batch, class_batch):\n",
        "  noise_tensor = torch.from_numpy(noise_batch).cuda().float()\n",
        "  return [generate_images(G, noise_tensor, 1, \"const\", (0,0), 0, classIdx)]"
      ]
    },
    {
      "cell_type": "code",
      "execution_count": null,
      "metadata": {
        "colab": {
          "base_uri": "https://localhost:8080/"
        },
        "id": "Z7DkKcO9cfM_",
        "outputId": "fde05e93-bba0-469b-beb9-b4568c1a1161",
        "vscode": {
          "languageId": "python"
        }
      },
      "outputs": [
        {
          "output_type": "stream",
          "name": "stdout",
          "text": [
            "/content/StyleGAN-Human\n",
            "Preparing style...\n",
            "Preparing audio...\n",
            "Loading effects...\n",
            "\n",
            "\n",
            "Doing math...\n",
            "\n",
            "\n",
            "\n",
            "Hallucinating... \n",
            "\n"
          ]
        },
        {
          "output_type": "stream",
          "name": "stderr",
          "text": [
            "\r  0%|          | 0/97 [00:00<?, ?it/s]"
          ]
        },
        {
          "output_type": "stream",
          "name": "stdout",
          "text": [
            "warn: --class=lbl ignored when running on an unconditional network\n",
            "Setting up PyTorch plugin \"bias_act_plugin\"... Done.\n",
            "Setting up PyTorch plugin \"upfirdn2d_plugin\"... Done.\n"
          ]
        },
        {
          "output_type": "stream",
          "name": "stderr",
          "text": [
            "  2%|▏         | 2/97 [00:39<25:55, 16.37s/it]  "
          ]
        },
        {
          "output_type": "stream",
          "name": "stdout",
          "text": [
            "warn: --class=lbl ignored when running on an unconditional network\n",
            "warn: --class=lbl ignored when running on an unconditional network\n"
          ]
        },
        {
          "output_type": "stream",
          "name": "stderr",
          "text": [
            "  4%|▍         | 4/97 [00:39<08:29,  5.48s/it]"
          ]
        },
        {
          "output_type": "stream",
          "name": "stdout",
          "text": [
            "warn: --class=lbl ignored when running on an unconditional network\n",
            "warn: --class=lbl ignored when running on an unconditional network\n"
          ]
        },
        {
          "output_type": "stream",
          "name": "stderr",
          "text": [
            "  6%|▌         | 6/97 [00:40<03:37,  2.39s/it]"
          ]
        },
        {
          "output_type": "stream",
          "name": "stdout",
          "text": [
            "warn: --class=lbl ignored when running on an unconditional network\n",
            "warn: --class=lbl ignored when running on an unconditional network\n"
          ]
        },
        {
          "output_type": "stream",
          "name": "stderr",
          "text": [
            "  8%|▊         | 8/97 [00:40<01:43,  1.17s/it]"
          ]
        },
        {
          "output_type": "stream",
          "name": "stdout",
          "text": [
            "warn: --class=lbl ignored when running on an unconditional network\n",
            "warn: --class=lbl ignored when running on an unconditional network\n"
          ]
        },
        {
          "output_type": "stream",
          "name": "stderr",
          "text": [
            " 10%|█         | 10/97 [00:40<00:54,  1.60it/s]"
          ]
        },
        {
          "output_type": "stream",
          "name": "stdout",
          "text": [
            "warn: --class=lbl ignored when running on an unconditional network\n",
            "warn: --class=lbl ignored when running on an unconditional network\n"
          ]
        },
        {
          "output_type": "stream",
          "name": "stderr",
          "text": [
            " 12%|█▏        | 12/97 [00:41<00:33,  2.55it/s]"
          ]
        },
        {
          "output_type": "stream",
          "name": "stdout",
          "text": [
            "warn: --class=lbl ignored when running on an unconditional network\n",
            "warn: --class=lbl ignored when running on an unconditional network\n"
          ]
        },
        {
          "output_type": "stream",
          "name": "stderr",
          "text": [
            " 14%|█▍        | 14/97 [00:41<00:21,  3.90it/s]"
          ]
        },
        {
          "output_type": "stream",
          "name": "stdout",
          "text": [
            "warn: --class=lbl ignored when running on an unconditional network\n",
            "warn: --class=lbl ignored when running on an unconditional network\n"
          ]
        },
        {
          "output_type": "stream",
          "name": "stderr",
          "text": [
            " 16%|█▋        | 16/97 [00:41<00:15,  5.22it/s]"
          ]
        },
        {
          "output_type": "stream",
          "name": "stdout",
          "text": [
            "warn: --class=lbl ignored when running on an unconditional network\n",
            "warn: --class=lbl ignored when running on an unconditional network\n"
          ]
        },
        {
          "output_type": "stream",
          "name": "stderr",
          "text": [
            " 19%|█▊        | 18/97 [00:41<00:13,  5.87it/s]"
          ]
        },
        {
          "output_type": "stream",
          "name": "stdout",
          "text": [
            "warn: --class=lbl ignored when running on an unconditional network\n",
            "warn: --class=lbl ignored when running on an unconditional network\n"
          ]
        },
        {
          "output_type": "stream",
          "name": "stderr",
          "text": [
            " 21%|██        | 20/97 [00:42<00:11,  6.43it/s]"
          ]
        },
        {
          "output_type": "stream",
          "name": "stdout",
          "text": [
            "warn: --class=lbl ignored when running on an unconditional network\n",
            "warn: --class=lbl ignored when running on an unconditional network\n"
          ]
        },
        {
          "output_type": "stream",
          "name": "stderr",
          "text": [
            "\r 22%|██▏       | 21/97 [00:42<00:11,  6.81it/s]"
          ]
        },
        {
          "output_type": "stream",
          "name": "stdout",
          "text": [
            "warn: --class=lbl ignored when running on an unconditional network\n"
          ]
        },
        {
          "output_type": "stream",
          "name": "stderr",
          "text": [
            "\r 23%|██▎       | 22/97 [00:42<00:12,  5.82it/s]"
          ]
        },
        {
          "output_type": "stream",
          "name": "stdout",
          "text": [
            "warn: --class=lbl ignored when running on an unconditional network\n"
          ]
        },
        {
          "output_type": "stream",
          "name": "stderr",
          "text": [
            " 25%|██▍       | 24/97 [00:43<00:15,  4.63it/s]"
          ]
        },
        {
          "output_type": "stream",
          "name": "stdout",
          "text": [
            "warn: --class=lbl ignored when running on an unconditional network\n",
            "warn: --class=lbl ignored when running on an unconditional network\n"
          ]
        },
        {
          "output_type": "stream",
          "name": "stderr",
          "text": [
            " 27%|██▋       | 26/97 [00:43<00:13,  5.15it/s]"
          ]
        },
        {
          "output_type": "stream",
          "name": "stdout",
          "text": [
            "warn: --class=lbl ignored when running on an unconditional network\n",
            "warn: --class=lbl ignored when running on an unconditional network\n"
          ]
        },
        {
          "output_type": "stream",
          "name": "stderr",
          "text": [
            "\r 28%|██▊       | 27/97 [00:44<00:20,  3.35it/s]"
          ]
        },
        {
          "output_type": "stream",
          "name": "stdout",
          "text": [
            "warn: --class=lbl ignored when running on an unconditional network\n"
          ]
        },
        {
          "output_type": "stream",
          "name": "stderr",
          "text": [
            " 30%|██▉       | 29/97 [00:44<00:16,  4.14it/s]"
          ]
        },
        {
          "output_type": "stream",
          "name": "stdout",
          "text": [
            "warn: --class=lbl ignored when running on an unconditional network\n",
            "warn: --class=lbl ignored when running on an unconditional network\n"
          ]
        },
        {
          "output_type": "stream",
          "name": "stderr",
          "text": [
            "\r 31%|███       | 30/97 [00:44<00:15,  4.42it/s]"
          ]
        },
        {
          "output_type": "stream",
          "name": "stdout",
          "text": [
            "warn: --class=lbl ignored when running on an unconditional network\n"
          ]
        },
        {
          "output_type": "stream",
          "name": "stderr",
          "text": [
            " 33%|███▎      | 32/97 [00:45<00:16,  3.85it/s]"
          ]
        },
        {
          "output_type": "stream",
          "name": "stdout",
          "text": [
            "warn: --class=lbl ignored when running on an unconditional network\n",
            "warn: --class=lbl ignored when running on an unconditional network\n"
          ]
        },
        {
          "output_type": "stream",
          "name": "stderr",
          "text": [
            " 35%|███▌      | 34/97 [00:45<00:12,  5.15it/s]"
          ]
        },
        {
          "output_type": "stream",
          "name": "stdout",
          "text": [
            "warn: --class=lbl ignored when running on an unconditional network\n",
            "warn: --class=lbl ignored when running on an unconditional network\n"
          ]
        },
        {
          "output_type": "stream",
          "name": "stderr",
          "text": [
            " 37%|███▋      | 36/97 [00:45<00:09,  6.53it/s]"
          ]
        },
        {
          "output_type": "stream",
          "name": "stdout",
          "text": [
            "warn: --class=lbl ignored when running on an unconditional network\n",
            "warn: --class=lbl ignored when running on an unconditional network\n"
          ]
        },
        {
          "output_type": "stream",
          "name": "stderr",
          "text": [
            " 39%|███▉      | 38/97 [00:46<00:08,  6.60it/s]"
          ]
        },
        {
          "output_type": "stream",
          "name": "stdout",
          "text": [
            "warn: --class=lbl ignored when running on an unconditional network\n",
            "warn: --class=lbl ignored when running on an unconditional network\n"
          ]
        },
        {
          "output_type": "stream",
          "name": "stderr",
          "text": [
            " 41%|████      | 40/97 [00:46<00:09,  6.07it/s]"
          ]
        },
        {
          "output_type": "stream",
          "name": "stdout",
          "text": [
            "warn: --class=lbl ignored when running on an unconditional network\n",
            "warn: --class=lbl ignored when running on an unconditional network\n"
          ]
        },
        {
          "output_type": "stream",
          "name": "stderr",
          "text": [
            " 43%|████▎     | 42/97 [00:46<00:09,  6.00it/s]"
          ]
        },
        {
          "output_type": "stream",
          "name": "stdout",
          "text": [
            "warn: --class=lbl ignored when running on an unconditional network\n",
            "warn: --class=lbl ignored when running on an unconditional network\n"
          ]
        },
        {
          "output_type": "stream",
          "name": "stderr",
          "text": [
            " 45%|████▌     | 44/97 [00:47<00:08,  6.36it/s]"
          ]
        },
        {
          "output_type": "stream",
          "name": "stdout",
          "text": [
            "warn: --class=lbl ignored when running on an unconditional network\n",
            "warn: --class=lbl ignored when running on an unconditional network\n"
          ]
        },
        {
          "output_type": "stream",
          "name": "stderr",
          "text": [
            " 47%|████▋     | 46/97 [00:47<00:07,  6.86it/s]"
          ]
        },
        {
          "output_type": "stream",
          "name": "stdout",
          "text": [
            "warn: --class=lbl ignored when running on an unconditional network\n",
            "warn: --class=lbl ignored when running on an unconditional network\n"
          ]
        },
        {
          "output_type": "stream",
          "name": "stderr",
          "text": [
            " 49%|████▉     | 48/97 [00:47<00:07,  6.96it/s]"
          ]
        },
        {
          "output_type": "stream",
          "name": "stdout",
          "text": [
            "warn: --class=lbl ignored when running on an unconditional network\n",
            "warn: --class=lbl ignored when running on an unconditional network\n"
          ]
        },
        {
          "output_type": "stream",
          "name": "stderr",
          "text": [
            " 52%|█████▏    | 50/97 [00:47<00:06,  6.83it/s]"
          ]
        },
        {
          "output_type": "stream",
          "name": "stdout",
          "text": [
            "warn: --class=lbl ignored when running on an unconditional network\n",
            "warn: --class=lbl ignored when running on an unconditional network\n"
          ]
        },
        {
          "output_type": "stream",
          "name": "stderr",
          "text": [
            " 54%|█████▎    | 52/97 [00:48<00:07,  6.17it/s]"
          ]
        },
        {
          "output_type": "stream",
          "name": "stdout",
          "text": [
            "warn: --class=lbl ignored when running on an unconditional network\n",
            "warn: --class=lbl ignored when running on an unconditional network\n"
          ]
        },
        {
          "output_type": "stream",
          "name": "stderr",
          "text": [
            " 56%|█████▌    | 54/97 [00:48<00:06,  6.73it/s]"
          ]
        },
        {
          "output_type": "stream",
          "name": "stdout",
          "text": [
            "warn: --class=lbl ignored when running on an unconditional network\n",
            "warn: --class=lbl ignored when running on an unconditional network\n"
          ]
        },
        {
          "output_type": "stream",
          "name": "stderr",
          "text": [
            " 58%|█████▊    | 56/97 [00:48<00:05,  7.66it/s]"
          ]
        },
        {
          "output_type": "stream",
          "name": "stdout",
          "text": [
            "warn: --class=lbl ignored when running on an unconditional network\n",
            "warn: --class=lbl ignored when running on an unconditional network\n"
          ]
        },
        {
          "output_type": "stream",
          "name": "stderr",
          "text": [
            " 60%|█████▉    | 58/97 [00:48<00:05,  7.55it/s]"
          ]
        },
        {
          "output_type": "stream",
          "name": "stdout",
          "text": [
            "warn: --class=lbl ignored when running on an unconditional network\n",
            "warn: --class=lbl ignored when running on an unconditional network\n"
          ]
        },
        {
          "output_type": "stream",
          "name": "stderr",
          "text": [
            " 62%|██████▏   | 60/97 [00:49<00:04,  7.53it/s]"
          ]
        },
        {
          "output_type": "stream",
          "name": "stdout",
          "text": [
            "warn: --class=lbl ignored when running on an unconditional network\n",
            "warn: --class=lbl ignored when running on an unconditional network\n"
          ]
        },
        {
          "output_type": "stream",
          "name": "stderr",
          "text": [
            " 64%|██████▍   | 62/97 [00:49<00:04,  7.39it/s]"
          ]
        },
        {
          "output_type": "stream",
          "name": "stdout",
          "text": [
            "warn: --class=lbl ignored when running on an unconditional network\n",
            "warn: --class=lbl ignored when running on an unconditional network\n"
          ]
        },
        {
          "output_type": "stream",
          "name": "stderr",
          "text": [
            " 66%|██████▌   | 64/97 [00:49<00:04,  6.77it/s]"
          ]
        },
        {
          "output_type": "stream",
          "name": "stdout",
          "text": [
            "warn: --class=lbl ignored when running on an unconditional network\n",
            "warn: --class=lbl ignored when running on an unconditional network\n"
          ]
        },
        {
          "output_type": "stream",
          "name": "stderr",
          "text": [
            " 68%|██████▊   | 66/97 [00:50<00:04,  6.60it/s]"
          ]
        },
        {
          "output_type": "stream",
          "name": "stdout",
          "text": [
            "warn: --class=lbl ignored when running on an unconditional network\n",
            "warn: --class=lbl ignored when running on an unconditional network\n"
          ]
        },
        {
          "output_type": "stream",
          "name": "stderr",
          "text": [
            " 70%|███████   | 68/97 [00:50<00:04,  6.42it/s]"
          ]
        },
        {
          "output_type": "stream",
          "name": "stdout",
          "text": [
            "warn: --class=lbl ignored when running on an unconditional network\n",
            "warn: --class=lbl ignored when running on an unconditional network\n"
          ]
        },
        {
          "output_type": "stream",
          "name": "stderr",
          "text": [
            " 72%|███████▏  | 70/97 [00:50<00:04,  6.22it/s]"
          ]
        },
        {
          "output_type": "stream",
          "name": "stdout",
          "text": [
            "warn: --class=lbl ignored when running on an unconditional network\n",
            "warn: --class=lbl ignored when running on an unconditional network\n"
          ]
        },
        {
          "output_type": "stream",
          "name": "stderr",
          "text": [
            " 74%|███████▍  | 72/97 [00:51<00:04,  6.17it/s]"
          ]
        },
        {
          "output_type": "stream",
          "name": "stdout",
          "text": [
            "warn: --class=lbl ignored when running on an unconditional network\n",
            "warn: --class=lbl ignored when running on an unconditional network\n"
          ]
        },
        {
          "output_type": "stream",
          "name": "stderr",
          "text": [
            " 76%|███████▋  | 74/97 [00:51<00:03,  6.12it/s]"
          ]
        },
        {
          "output_type": "stream",
          "name": "stdout",
          "text": [
            "warn: --class=lbl ignored when running on an unconditional network\n",
            "warn: --class=lbl ignored when running on an unconditional network\n"
          ]
        },
        {
          "output_type": "stream",
          "name": "stderr",
          "text": [
            " 78%|███████▊  | 76/97 [00:51<00:03,  6.20it/s]"
          ]
        },
        {
          "output_type": "stream",
          "name": "stdout",
          "text": [
            "warn: --class=lbl ignored when running on an unconditional network\n",
            "warn: --class=lbl ignored when running on an unconditional network\n"
          ]
        },
        {
          "output_type": "stream",
          "name": "stderr",
          "text": [
            " 80%|████████  | 78/97 [00:52<00:03,  6.22it/s]"
          ]
        },
        {
          "output_type": "stream",
          "name": "stdout",
          "text": [
            "warn: --class=lbl ignored when running on an unconditional network\n",
            "warn: --class=lbl ignored when running on an unconditional network\n"
          ]
        },
        {
          "output_type": "stream",
          "name": "stderr",
          "text": [
            " 82%|████████▏ | 80/97 [00:52<00:02,  6.08it/s]"
          ]
        },
        {
          "output_type": "stream",
          "name": "stdout",
          "text": [
            "warn: --class=lbl ignored when running on an unconditional network\n",
            "warn: --class=lbl ignored when running on an unconditional network\n"
          ]
        },
        {
          "output_type": "stream",
          "name": "stderr",
          "text": [
            " 85%|████████▍ | 82/97 [00:52<00:02,  6.13it/s]"
          ]
        },
        {
          "output_type": "stream",
          "name": "stdout",
          "text": [
            "warn: --class=lbl ignored when running on an unconditional network\n",
            "warn: --class=lbl ignored when running on an unconditional network\n"
          ]
        },
        {
          "output_type": "stream",
          "name": "stderr",
          "text": [
            " 87%|████████▋ | 84/97 [00:53<00:02,  6.01it/s]"
          ]
        },
        {
          "output_type": "stream",
          "name": "stdout",
          "text": [
            "warn: --class=lbl ignored when running on an unconditional network\n",
            "warn: --class=lbl ignored when running on an unconditional network\n"
          ]
        },
        {
          "output_type": "stream",
          "name": "stderr",
          "text": [
            " 89%|████████▊ | 86/97 [00:53<00:01,  6.09it/s]"
          ]
        },
        {
          "output_type": "stream",
          "name": "stdout",
          "text": [
            "warn: --class=lbl ignored when running on an unconditional network\n",
            "warn: --class=lbl ignored when running on an unconditional network\n"
          ]
        },
        {
          "output_type": "stream",
          "name": "stderr",
          "text": [
            " 91%|█████████ | 88/97 [00:53<00:01,  6.48it/s]"
          ]
        },
        {
          "output_type": "stream",
          "name": "stdout",
          "text": [
            "warn: --class=lbl ignored when running on an unconditional network\n",
            "warn: --class=lbl ignored when running on an unconditional network\n"
          ]
        },
        {
          "output_type": "stream",
          "name": "stderr",
          "text": [
            " 93%|█████████▎| 90/97 [00:54<00:01,  6.50it/s]"
          ]
        },
        {
          "output_type": "stream",
          "name": "stdout",
          "text": [
            "warn: --class=lbl ignored when running on an unconditional network\n",
            "warn: --class=lbl ignored when running on an unconditional network\n"
          ]
        },
        {
          "output_type": "stream",
          "name": "stderr",
          "text": [
            " 95%|█████████▍| 92/97 [00:54<00:00,  6.41it/s]"
          ]
        },
        {
          "output_type": "stream",
          "name": "stdout",
          "text": [
            "warn: --class=lbl ignored when running on an unconditional network\n",
            "warn: --class=lbl ignored when running on an unconditional network\n"
          ]
        },
        {
          "output_type": "stream",
          "name": "stderr",
          "text": [
            " 97%|█████████▋| 94/97 [00:54<00:00,  6.05it/s]"
          ]
        },
        {
          "output_type": "stream",
          "name": "stdout",
          "text": [
            "warn: --class=lbl ignored when running on an unconditional network\n",
            "warn: --class=lbl ignored when running on an unconditional network\n"
          ]
        },
        {
          "output_type": "stream",
          "name": "stderr",
          "text": [
            " 99%|█████████▉| 96/97 [00:55<00:00,  6.03it/s]"
          ]
        },
        {
          "output_type": "stream",
          "name": "stdout",
          "text": [
            "warn: --class=lbl ignored when running on an unconditional network\n",
            "warn: --class=lbl ignored when running on an unconditional network\n"
          ]
        },
        {
          "output_type": "stream",
          "name": "stderr",
          "text": [
            "100%|██████████| 97/97 [00:55<00:00,  1.76it/s]\n"
          ]
        },
        {
          "output_type": "stream",
          "name": "stdout",
          "text": [
            "[MoviePy] >>>> Building video output.mp4\n",
            "[MoviePy] Writing audio in outputTEMP_MPY_wvf_snd.mp4\n"
          ]
        },
        {
          "output_type": "stream",
          "name": "stderr",
          "text": [
            "100%|██████████| 105/105 [00:00<00:00, 562.53it/s]\n"
          ]
        },
        {
          "output_type": "stream",
          "name": "stdout",
          "text": [
            "[MoviePy] Done.\n",
            "[MoviePy] Writing video output.mp4\n"
          ]
        },
        {
          "output_type": "stream",
          "name": "stderr",
          "text": [
            "100%|██████████| 97/97 [00:02<00:00, 37.84it/s]\n"
          ]
        },
        {
          "output_type": "stream",
          "name": "stdout",
          "text": [
            "[MoviePy] Done.\n",
            "[MoviePy] >>>> Video ready: output.mp4 \n",
            "\n",
            "ffmpeg version 3.4.8-0ubuntu0.2 Copyright (c) 2000-2020 the FFmpeg developers\n",
            "  built with gcc 7 (Ubuntu 7.5.0-3ubuntu1~18.04)\n",
            "  configuration: --prefix=/usr --extra-version=0ubuntu0.2 --toolchain=hardened --libdir=/usr/lib/x86_64-linux-gnu --incdir=/usr/include/x86_64-linux-gnu --enable-gpl --disable-stripping --enable-avresample --enable-avisynth --enable-gnutls --enable-ladspa --enable-libass --enable-libbluray --enable-libbs2b --enable-libcaca --enable-libcdio --enable-libflite --enable-libfontconfig --enable-libfreetype --enable-libfribidi --enable-libgme --enable-libgsm --enable-libmp3lame --enable-libmysofa --enable-libopenjpeg --enable-libopenmpt --enable-libopus --enable-libpulse --enable-librubberband --enable-librsvg --enable-libshine --enable-libsnappy --enable-libsoxr --enable-libspeex --enable-libssh --enable-libtheora --enable-libtwolame --enable-libvorbis --enable-libvpx --enable-libwavpack --enable-libwebp --enable-libx265 --enable-libxml2 --enable-libxvid --enable-libzmq --enable-libzvbi --enable-omx --enable-openal --enable-opengl --enable-sdl2 --enable-libdc1394 --enable-libdrm --enable-libiec61883 --enable-chromaprint --enable-frei0r --enable-libopencv --enable-libx264 --enable-shared\n",
            "  libavutil      55. 78.100 / 55. 78.100\n",
            "  libavcodec     57.107.100 / 57.107.100\n",
            "  libavformat    57. 83.100 / 57. 83.100\n",
            "  libavdevice    57. 10.100 / 57. 10.100\n",
            "  libavfilter     6.107.100 /  6.107.100\n",
            "  libavresample   3.  7.  0 /  3.  7.  0\n",
            "  libswscale      4.  8.100 /  4.  8.100\n",
            "  libswresample   2.  9.100 /  2.  9.100\n",
            "  libpostproc    54.  7.100 / 54.  7.100\n",
            "Input #0, mov,mp4,m4a,3gp,3g2,mj2, from 'output.mp4':\n",
            "  Metadata:\n",
            "    major_brand     : isom\n",
            "    minor_version   : 512\n",
            "    compatible_brands: isomiso2avc1mp41\n",
            "    encoder         : Lavf57.72.101\n",
            "  Duration: 00:00:04.79, start: 0.000000, bitrate: 1800 kb/s\n",
            "    Stream #0:0(und): Video: h264 (High) (avc1 / 0x31637661), yuv420p, 512x1024, 1665 kb/s, 20.27 fps, 20.27 tbr, 16216 tbn, 40.54 tbc (default)\n",
            "    Metadata:\n",
            "      handler_name    : VideoHandler\n",
            "    Stream #0:1(und): Audio: aac (LC) (mp4a / 0x6134706D), 44100 Hz, stereo, fltp, 128 kb/s (default)\n",
            "    Metadata:\n",
            "      handler_name    : SoundHandler\n",
            "File '/content/lowres_output.mp4' already exists. Overwrite ? [y/N] y\n",
            "Stream mapping:\n",
            "  Stream #0:0 (h264) -> pad (graph 0)\n",
            "  pad (graph 0) -> Stream #0:0 (libx264)\n",
            "  Stream #0:1 -> #0:1 (aac (native) -> aac (native))\n",
            "Press [q] to stop, [?] for help\n",
            "\u001b[1;36m[libx264 @ 0x55845e660800] \u001b[0musing cpu capabilities: MMX2 SSE2Fast SSSE3 SSE4.2 AVX FMA3 BMI2 AVX2\n",
            "\u001b[1;36m[libx264 @ 0x55845e660800] \u001b[0mprofile High, level 3.1\n",
            "\u001b[1;36m[libx264 @ 0x55845e660800] \u001b[0m264 - core 152 r2854 e9a5903 - H.264/MPEG-4 AVC codec - Copyleft 2003-2017 - http://www.videolan.org/x264.html - options: cabac=1 ref=3 deblock=1:0:0 analyse=0x3:0x113 me=hex subme=7 psy=1 psy_rd=1.00:0.00 mixed_ref=1 me_range=16 chroma_me=1 trellis=1 8x8dct=1 cqm=0 deadzone=21,11 fast_pskip=1 chroma_qp_offset=-2 threads=3 lookahead_threads=1 sliced_threads=0 nr=0 decimate=1 interlaced=0 bluray_compat=0 constrained_intra=0 bframes=3 b_pyramid=2 b_adapt=1 b_bias=0 direct=1 weightb=1 open_gop=0 weightp=2 keyint=250 keyint_min=20 scenecut=40 intra_refresh=0 rc_lookahead=40 rc=crf mbtree=1 crf=23.0 qcomp=0.60 qpmin=0 qpmax=69 qpstep=4 ip_ratio=1.40 aq=1:1.00\n",
            "Output #0, mp4, to '/content/lowres_output.mp4':\n",
            "  Metadata:\n",
            "    major_brand     : isom\n",
            "    minor_version   : 512\n",
            "    compatible_brands: isomiso2avc1mp41\n",
            "    encoder         : Lavf57.83.100\n",
            "    Stream #0:0: Video: h264 (libx264) (avc1 / 0x31637661), yuv420p, 820x1024, q=-1--1, 20.27 fps, 16216 tbn, 20.27 tbc (default)\n",
            "    Metadata:\n",
            "      encoder         : Lavc57.107.100 libx264\n",
            "    Side data:\n",
            "      cpb: bitrate max/min/avg: 0/0/0 buffer size: 0 vbv_delay: -1\n",
            "    Stream #0:1(und): Audio: aac (LC) (mp4a / 0x6134706D), 44100 Hz, stereo, fltp, 128 kb/s (default)\n",
            "    Metadata:\n",
            "      handler_name    : SoundHandler\n",
            "      encoder         : Lavc57.107.100 aac\n",
            "frame=   97 fps= 32 q=-1.0 Lsize=     984kB time=00:00:04.76 bitrate=1692.9kbits/s speed=1.56x    \n",
            "video:905kB audio:75kB subtitle:0kB other streams:0kB global headers:0kB muxing overhead: 0.417093%\n",
            "\u001b[1;36m[libx264 @ 0x55845e660800] \u001b[0mframe I:6     Avg QP:18.15  size: 14840\n",
            "\u001b[1;36m[libx264 @ 0x55845e660800] \u001b[0mframe P:52    Avg QP:23.97  size: 10769\n",
            "\u001b[1;36m[libx264 @ 0x55845e660800] \u001b[0mframe B:39    Avg QP:25.66  size:  7101\n",
            "\u001b[1;36m[libx264 @ 0x55845e660800] \u001b[0mconsecutive B-frames: 38.1% 20.6% 12.4% 28.9%\n",
            "\u001b[1;36m[libx264 @ 0x55845e660800] \u001b[0mmb I  I16..4: 22.2% 69.3%  8.5%\n",
            "\u001b[1;36m[libx264 @ 0x55845e660800] \u001b[0mmb P  I16..4:  1.9% 20.9%  5.5%  P16..4:  4.1%  1.7%  0.5%  0.0%  0.0%    skip:65.4%\n",
            "\u001b[1;36m[libx264 @ 0x55845e660800] \u001b[0mmb B  I16..4:  1.1%  5.0%  2.4%  B16..8:  8.0%  3.5%  0.8%  direct: 2.7%  skip:76.6%  L0:42.8% L1:47.7% BI: 9.5%\n",
            "\u001b[1;36m[libx264 @ 0x55845e660800] \u001b[0m8x8 transform intra:70.7% inter:65.2%\n",
            "\u001b[1;36m[libx264 @ 0x55845e660800] \u001b[0mcoded y,uvDC,uvAC intra: 38.4% 35.9% 16.6% inter: 3.5% 4.6% 0.1%\n",
            "\u001b[1;36m[libx264 @ 0x55845e660800] \u001b[0mi16 v,h,dc,p: 77%  6%  6% 11%\n",
            "\u001b[1;36m[libx264 @ 0x55845e660800] \u001b[0mi8 v,h,dc,ddl,ddr,vr,hd,vl,hu: 38%  9% 34%  2%  3%  5%  2%  5%  2%\n",
            "\u001b[1;36m[libx264 @ 0x55845e660800] \u001b[0mi4 v,h,dc,ddl,ddr,vr,hd,vl,hu: 42% 12% 11%  5%  6%  9%  5%  7%  4%\n",
            "\u001b[1;36m[libx264 @ 0x55845e660800] \u001b[0mi8c dc,h,v,p: 66% 10% 20%  3%\n",
            "\u001b[1;36m[libx264 @ 0x55845e660800] \u001b[0mWeighted P-Frames: Y:0.0% UV:0.0%\n",
            "\u001b[1;36m[libx264 @ 0x55845e660800] \u001b[0mref P L0: 65.6% 15.0% 13.8%  5.7%\n",
            "\u001b[1;36m[libx264 @ 0x55845e660800] \u001b[0mref B L0: 87.4% 11.4%  1.2%\n",
            "\u001b[1;36m[libx264 @ 0x55845e660800] \u001b[0mref B L1: 96.0%  4.0%\n",
            "\u001b[1;36m[libx264 @ 0x55845e660800] \u001b[0mkb/s:1547.93\n",
            "\u001b[1;36m[aac @ 0x55845e661700] \u001b[0mQavg: 360.805\n"
          ]
        }
      ],
      "source": [
        "\n",
        "#!pip install git+https://github.com/pollinations/lucid-sonic-dreams\n",
        "if model_type == \"humans\":\n",
        "  %cd /content/StyleGAN-Human/\n",
        "elif not is_lucid_sonic_dreams:\n",
        "  %cd /content/stylegan_xl\n",
        "else:\n",
        "  projected_gan=network_pkl\n",
        "  noise_dim = None\n",
        "from lucidsonicdreams import LucidSonicDream\n",
        "\n",
        "pulse_percussive = pulse_react_to == \"percussive\"\n",
        "pulse_harmonic = pulse_react_to == \"harmonic\"\n",
        "\n",
        "motion_percussive = motion_react_to == \"percussive\"\n",
        "motion_harmonic =  motion_react_to == \"harmonic\"\n",
        "\n",
        "L = LucidSonicDream(song = audio_file,\n",
        "                    style = projected_gan, \n",
        "                    input_shape = noise_dim,\n",
        "                    num_possible_classes = 0)\n",
        "\n",
        "\n",
        "\n",
        "L.hallucinate(file_name = 'output.mp4',\n",
        "              resolution = None,\n",
        "              fps = fps,\n",
        "              motion_percussive = motion_percussive,\n",
        "              motion_harmonic = motion_harmonic,\n",
        "              pulse_percussive = pulse_percussive,\n",
        "              pulse_harmonic = pulse_harmonic,\n",
        "              pulse_react = pulse_react / 100,\n",
        "              motion_react = motion_react / 100,\n",
        "              motion_randomness = motion_randomness / 100,\n",
        "              truncation = truncation / 100,\n",
        "              start = 0, \n",
        "              #duration = 0\n",
        "              )\n",
        "\n",
        "\n",
        "if model_type == \"humans\":\n",
        "  !ffmpeg -i -y output.mp4 -vcodec libx264 -filter_complex \"[0]pad=w=820:h=ih:x=153:y=0:color=black\" $output_path/lowres_output.mp4\n",
        "else:\n",
        "  !cp output.mp4 $output_path/lowres_output.mp4\n",
        "#files.download(\"chemical_love.mp4\")"
      ]
    },
    {
      "cell_type": "code",
      "execution_count": null,
      "metadata": {
        "id": "yWwI80d-_gQh",
        "vscode": {
          "languageId": "python"
        }
      },
      "outputs": [],
      "source": [
        "import os\n",
        "\n",
        "if not os.path.exists(\"output.mp4\"):\n",
        "  raise Exception(\"Expected output file does not exist.\")"
      ]
    }
  ],
  "metadata": {
    "accelerator": "GPU",
    "colab": {
      "collapsed_sections": [],
      "name": "Audio-To-Video - Lucid Sonic Dreams XL",
      "provenance": [],
      "toc_visible": true
    },
    "kernelspec": {
      "display_name": "Python 3",
      "name": "python3"
    }
  },
  "nbformat": 4,
  "nbformat_minor": 0
}