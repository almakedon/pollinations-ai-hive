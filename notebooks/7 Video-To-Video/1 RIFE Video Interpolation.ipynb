{
  "cells": [
    {
      "cell_type": "markdown",
      "metadata": {
        "colab_type": "text",
        "id": "view-in-github"
      },
      "source": [
        "<a href=\"https://colab.research.google.com/github/pollinations/hive/blob/main/notebooks/7%20Video-To-Video/1%20RIFE%20Video%20Interpolation.ipynb\" target=\"_parent\"><img src=\"https://colab.research.google.com/assets/colab-badge.svg\" alt=\"Open In Colab\"/></a>"
      ]
    },
    {
      "cell_type": "markdown",
      "metadata": {
        "id": "NDK60hNeoGDC"
      },
      "source": [
        "<img src=\"https://miro.medium.com/max/960/1*jgh8N1vLXLtF9s5d3hldQw.gif\" width=300 />\n",
        "\n",
        "Converts choppy videos with a low framerates to smooth ones with a high framerate. \n",
        "\n",
        "---\n",
        "\n",
        "Credits: [johanezz](https://twitter.com/_johannezz).\n",
        "\n"
      ]
    },
    {
      "cell_type": "code",
      "execution_count": null,
      "metadata": {
        "id": "GUlkCL0ZrVXY"
      },
      "outputs": [],
      "source": [
        "\n",
        "# The input video file\n",
        "video_file = '' #@param {type: \"string\"}\n",
        "\n",
        "# How many times to double the frame rate\n",
        "exp = 2 #@param {type: \"number\"}\n",
        "\n",
        "# Slow down factor (1 is no change, 2 is half speed, etc.)\n",
        "# slow_factor = 1 #@param {type: \"number\"}\n",
        "\n",
        "output_path = \"/content\""
      ]
    },
    {
      "cell_type": "code",
      "execution_count": null,
      "metadata": {
        "id": "RTqx3hmRm2fi"
      },
      "outputs": [],
      "source": [
        "%cd /content\n",
        "!git clone https://github.com/hzwer/arXiv2020-RIFE\n",
        "!wget -N https://cloudflare-ipfs.com/ipfs/QmQsiT13pbF3PRKiXWQ91PJnUkCnoAHYXfY6fAH24jEy9N/RIFE_trained_model_HDv2.zip\n",
        "!unzip -o RIFE_trained_model_HDv2.zip\n",
        "!mkdir /content/arXiv2020-RIFE/train_log\n",
        "!cp train_log/*.pkl /content/arXiv2020-RIFE/train_log/\n",
        "%cd /content/arXiv2020-RIFE/\n",
        "!git checkout 168b9d120ef65a25a166623a01b8fee4420da7e0\n",
        "!pip3 install -r requirements.txt\n",
        "!pip3 install scikit-video"
      ]
    },
    {
      "cell_type": "code",
      "execution_count": null,
      "metadata": {
        "id": "9YabeEZ-m3s2"
      },
      "outputs": [],
      "source": [
        "fps=frame_rate\n",
        "video=video_file\n",
        "output=\"/tmp/video.mp4\"\n",
        "final_output=f\"{output_path}/video_{fps}fps.mp4\"\n",
        "\n",
        "!python3 inference_video.py --video=\"{video}\" --fps={fps} --output=\"{final_output}\" --skip\n",
        "\n",
        "\n",
        "#!ffmpeg  -r {fps} -i /tmp/video.mp4 -y -c:v libx264 -filter:v \"setpts={slow_factor}*PTS\" -c:a copy /tmp/video_slowed.mp4\n",
        "#!cp -v /tmp/video_slowed.mp4 {final_output}\n",
        "\n",
        "import os.path\n",
        "if not os.path.exists(final_output):\n",
        "  raise Exception(\"Expected output file does not exist.\")"
      ]
    }
  ],
  "metadata": {
    "accelerator": "GPU",
    "colab": {
      "include_colab_link": true,
      "name": "RIFE Video Interpolation",
      "private_outputs": true,
      "provenance": []
    },
    "kernelspec": {
      "display_name": "Python 3",
      "name": "python3"
    },
    "language_info": {
      "name": "python"
    }
  },
  "nbformat": 4,
  "nbformat_minor": 0
}
