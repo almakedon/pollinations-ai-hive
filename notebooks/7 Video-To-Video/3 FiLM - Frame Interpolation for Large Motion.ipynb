{
  "cells": [
    {
      "cell_type": "markdown",
      "metadata": {
        "colab_type": "text",
        "id": "view-in-github"
      },
      "source": [
        "<a href=\"https://colab.research.google.com/github/pollinations/hive/blob/main/interesting_notebooks/FiLM%20-%20Frame%20Interpolation%20for%20Large%20Motion.ipynb\" target=\"_parent\"><img src=\"https://colab.research.google.com/assets/colab-badge.svg\" alt=\"Open In Colab\"/></a>"
      ]
    },
    {
      "cell_type": "markdown",
      "metadata": {
        "id": "Cp9wuo2MbKLa"
      },
      "source": [
        "#### FiLM: Frame Interpolation for Large Motion\n",
        "\n",
        "This notebook is a convenience wrapper around a pre-trained model released by ML researchers at Google. Learn more about their work here: \n",
        "\n",
        "* https://github.com/google-research/frame-interpolation\n",
        "\n",
        "---\n",
        "\n",
        "Notebook authored by David Marx ([@DigThatData](https://twitter.com/DigThatData)), released under the MIT license.\n",
        "\n",
        "If you experience any issue with or have suggestions regarding this notebook, please report them here:\n",
        "* https://github.com/pytti-tools/pytti-notebook/issues/new \n"
      ]
    },
    {
      "cell_type": "code",
      "execution_count": 11,
      "metadata": {
        "cellView": "form",
        "id": "IOwJCl7q5quR"
      },
      "outputs": [],
      "source": [
        "\n",
        "# Upload a zip file containing images or a video file\n",
        "image_file = ''  #@param {type: \"string\"}\n",
        "\n",
        "# If you start with $n$ frames in `frames_dir` and set `recursive_interpolation_passes` to $k$, your total number of frames after interpolation will be: 2^k (n-1) -1\n",
        "recursive_interpolation_passes = 1 #@param {type: \"number\"}\n",
        "\n",
        "# Frame rate of output video\n",
        "output_video_fps = 30 #@param {type: \"number\"}\n",
        "\n",
        "#@markdown ---\n",
        "\n",
        "output_path = \"/content\""
      ]
    },
    {
      "cell_type": "code",
      "execution_count": 12,
      "metadata": {
        "colab": {
          "base_uri": "https://localhost:8080/"
        },
        "id": "mK0vrz_h6qKO",
        "outputId": "bf72ffc1-d65a-445c-f79d-c9ff216ea7e3"
      },
      "outputs": [
        {
          "name": "stdout",
          "output_type": "stream",
          "text": [
            "Archive:  /content/Archive 3.zip\n",
            "  inflating: /content/frames/progress_00185.jpeg  \n",
            "  inflating: /content/frames/__MACOSX/._progress_00185.jpeg  \n",
            "  inflating: /content/frames/progress_00030.jpeg  \n",
            "  inflating: /content/frames/__MACOSX/._progress_00030.jpeg  \n",
            "  inflating: /content/frames/progress_000001.jpeg  \n",
            "  inflating: /content/frames/__MACOSX/._progress_000001.jpeg  \n"
          ]
        }
      ],
      "source": [
        "!mkdir -p /content/frames\n",
        "if image_file.endswith('.zip'):\n",
        "  !unzip -o \"{image_file}\" -d /content/frames\n",
        "else:\n",
        "  !ffmpeg -i \"{image_file}\" /content/frames/frame%5d.jpg"
      ]
    },
    {
      "cell_type": "code",
      "execution_count": 13,
      "metadata": {
        "cellView": "form",
        "id": "-7TD7YZJbsy_"
      },
      "outputs": [],
      "source": [
        "# This top bit only neneds to be run once\n",
        "# ...may as well set up the notebook to \n",
        "# assume the user is only going to run all\n",
        "# of setup once.\n",
        "from pathlib import Path\n",
        "import os\n",
        "\n",
        "drive_mounted = False\n",
        "gdrive_fpath = '.'\n",
        "local_path = '/content/'\n",
        "\n",
        "##############################\n",
        "\n",
        "#@markdown # 1. Setup Workspace\n",
        "\n",
        "#@markdown Run this cell to perform setup.\n",
        "\n",
        "#@markdown Mounting your google drive is optional.\n",
        "#@markdown If you mount your drive, code and models will be downloaded to it.\n",
        "#@markdown This should reduce setup time after your first run.\n",
        "\n",
        "###################\n",
        "\n",
        "# Optionally Mount GDrive\n",
        "\n",
        "mount_gdrive = False # @param{type:\"boolean\"}\n",
        "if mount_gdrive and not drive_mounted:\n",
        "    from google.colab import drive\n",
        "\n",
        "    gdrive_mountpoint = '/content/drive/' #@param{type:\"string\"}\n",
        "    gdrive_subdirectory = 'MyDrive/interpolation' #@param{type:\"string\"}\n",
        "    gdrive_fpath = str(Path(gdrive_mountpoint) / gdrive_subdirectory)\n",
        "    try:\n",
        "        drive.mount(gdrive_mountpoint, force_remount = True)\n",
        "        !mkdir -p {gdrive_fpath}\n",
        "        %cd {gdrive_fpath}\n",
        "        local_path = gdrive_fpath\n",
        "        drive_mounted = True\n",
        "    except OSError:\n",
        "        print(\n",
        "            \"\\n\\n-----[PYTTI-TOOLS]-------\\n\\n\"\n",
        "            \"If you received a scary OSError and your drive\"\n",
        "            \" was already mounted, ignore it.\"\n",
        "            \"\\n\\n-----[PYTTI-TOOLS]-------\\n\\n\"\n",
        "            )\n",
        "        raise\n",
        "\n",
        "#####################\n",
        "\n",
        "# Perform rest of setup\n",
        "\n",
        "if not Path('./frame-interpolation').exists():\n",
        "    !git clone https://github.com/pytti-tools/frame-interpolation\n",
        "\n",
        "try:\n",
        "    import frame_interpolation\n",
        "except ModuleNotFoundError:\n",
        "    %pip install -r ./frame-interpolation/requirements_colab.txt\n",
        "    %pip install ./frame-interpolation\n",
        "\n",
        "#url = \"https://drive.google.com/drive/folders/1GhVNBPq20X7eaMsesydQ774CgGcDGkc6?usp=sharing\"\n",
        "share_id = \"1GhVNBPq20X7eaMsesydQ774CgGcDGkc6\"\n",
        "\n",
        "if not (Path(local_path) / 'saved_model').exists():\n",
        "    !pip install --upgrade gdown\n",
        "    !gdown --folder {share_id}\n",
        "\n",
        "# create default frame\n",
        "!mkdir -p frames"
      ]
    },
    {
      "cell_type": "code",
      "execution_count": 14,
      "metadata": {
        "id": "toGdeAXf6NdM"
      },
      "outputs": [],
      "source": [
        "#@markdown # 2. Setup Interpolation\n",
        "\n",
        "#@markdown Specify the directory containing your video frames with the `frames_dir` parameter.\n",
        "\n",
        "frames_dir = \"/content/frames\" #@param{'type':'string'}\n",
        "\n",
        "#@markdown A single pass of the interpolation procedure adds a frame between each contiguous pair of frames in `frames_dir`.\n",
        "\n",
        "\n",
        "#@markdown Check this box to generate a video output. If no output video will be generated, the FPS option can be ignored.\n",
        "output_video = True #@param{'type':'boolean'}\n"
      ]
    },
    {
      "cell_type": "code",
      "execution_count": 15,
      "metadata": {
        "cellView": "form",
        "colab": {
          "base_uri": "https://localhost:8080/"
        },
        "id": "HBMnARHIuGiq",
        "outputId": "c3f4630b-c209-4505-e170-d1d7b4b8d274"
      },
      "outputs": [
        {
          "name": "stderr",
          "output_type": "stream",
          "text": [
            "2022-03-09 13:57:37.350 | INFO     | __main__:<module>:6 - Beginning interpolation...\n"
          ]
        },
        {
          "name": "stdout",
          "output_type": "stream",
          "text": [
            "\u001b[32m2022-03-09 13:57:40.686\u001b[0m | \u001b[34m\u001b[1mDEBUG   \u001b[0m | \u001b[36m__main__\u001b[0m:\u001b[36m_run_pipeline\u001b[0m:\u001b[36m171\u001b[0m - \u001b[34m\u001b[1m['/content/frames']\u001b[0m\n",
            "W0309 13:57:40.761598 140220736698240 environments.py:374] Make sure that locally built Python SDK docker image has Python 3.7 interpreter.\n",
            "I0309 13:57:40.761775 140220736698240 environments.py:380] Default Python SDK image for environment is apache/beam_python3.7_sdk:2.34.0\n",
            "I0309 13:57:40.788255 140220736698240 translations.py:678] ==================== <function annotate_downstream_side_inputs at 0x7f871076c8c0> ====================\n",
            "I0309 13:57:40.788503 140220736698240 translations.py:678] ==================== <function fix_side_input_pcoll_coders at 0x7f871076c9e0> ====================\n",
            "I0309 13:57:40.788650 140220736698240 translations.py:678] ==================== <function pack_combiners at 0x7f871076cef0> ====================\n",
            "I0309 13:57:40.788948 140220736698240 translations.py:678] ==================== <function lift_combiners at 0x7f871076cf80> ====================\n",
            "I0309 13:57:40.789077 140220736698240 translations.py:678] ==================== <function expand_sdf at 0x7f871076e170> ====================\n",
            "I0309 13:57:40.789182 140220736698240 translations.py:678] ==================== <function expand_gbk at 0x7f871076e200> ====================\n",
            "I0309 13:57:40.789269 140220736698240 translations.py:678] ==================== <function sink_flattens at 0x7f871076e320> ====================\n",
            "I0309 13:57:40.789360 140220736698240 translations.py:678] ==================== <function greedily_fuse at 0x7f871076e3b0> ====================\n",
            "I0309 13:57:40.789569 140220736698240 translations.py:678] ==================== <function read_to_impulse at 0x7f871076e440> ====================\n",
            "I0309 13:57:40.789654 140220736698240 translations.py:678] ==================== <function impulse_to_input at 0x7f871076e4d0> ====================\n",
            "I0309 13:57:40.789758 140220736698240 translations.py:678] ==================== <function sort_stages at 0x7f871076e710> ====================\n",
            "I0309 13:57:40.789875 140220736698240 translations.py:678] ==================== <function setup_timer_mapping at 0x7f871076e680> ====================\n",
            "I0309 13:57:40.789991 140220736698240 translations.py:678] ==================== <function populate_data_channel_coders at 0x7f871076e7a0> ====================\n",
            "I0309 13:57:40.790644 140220736698240 statecache.py:172] Creating state cache with size 100\n",
            "I0309 13:57:40.791266 140220736698240 worker_handlers.py:894] Created Worker handler <apache_beam.runners.portability.fn_api_runner.worker_handlers.EmbeddedWorkerHandler object at 0x7f871dda5a50> for environment ref_Environment_default_environment_1 (beam:env:embedded_python:v1, b'')\n",
            "I0309 13:57:40.791389 140220736698240 fn_runner.py:607] Running (((ref_AppliedPTransform_Create-directory-names-Impulse_3)+(ref_AppliedPTransform_Create-directory-names-FlatMap-lambda-at-core-py-3222-_4))+(ref_AppliedPTransform_Create-directory-names-Map-decode-_6))+(ref_AppliedPTransform_Process-directories_7)\n",
            "2022-03-09 13:57:41.695217: W tensorflow/core/common_runtime/gpu/gpu_bfc_allocator.cc:39] Overriding allow_growth setting because the TF_FORCE_GPU_ALLOW_GROWTH environment variable is set. Original config value was 0.\n",
            "\u001b[32m2022-03-09 13:57:44.874\u001b[0m | \u001b[34m\u001b[1mDEBUG   \u001b[0m | \u001b[36m__main__\u001b[0m:\u001b[36mprocess\u001b[0m:\u001b[36m158\u001b[0m - \u001b[34m\u001b[1m3 frames detected.\u001b[0m\n",
            "I0309 13:57:44.875261 140220736698240 interpolator_cli.py:159] Generating in-between frames for /content/frames.\n",
            "I0309 13:58:34.009052 140220736698240 interpolator_cli.py:133] Output frames saved in /content/frames/interpolated_frames.\n",
            "I0309 13:58:36.971755 140220736698240 interpolator_cli.py:166] Output video saved at /content/frames/interpolated.mp4.\n"
          ]
        },
        {
          "name": "stderr",
          "output_type": "stream",
          "text": [
            "2022-03-09 13:58:38.541 | INFO     | __main__:<module>:14 - Interpolation comlpete.\n"
          ]
        }
      ],
      "source": [
        "#@markdown # 3. Interpolate!\n",
        "#@markdown Results will be saved in a subdirectory of `frames_dir` named \"interpolated_frames\"\n",
        "\n",
        "from loguru import logger\n",
        "\n",
        "logger.info(\"Beginning interpolation...\")\n",
        "\n",
        "if output_video:\n",
        "  !python -m frame_interpolation.eval.interpolator_cli \\\n",
        "      --model_path ./saved_model \\\n",
        "      --pattern {frames_dir} \\\n",
        "      --fps {output_video_fps} \\\n",
        "      --output_video\n",
        "      \n",
        "\n",
        "else:\n",
        "    !python -m frame_interpolation.eval.interpolator_cli \\\n",
        "      --model_path ./saved_model \\\n",
        "      --pattern {frames_dir} \\\n",
        "\n",
        "logger.info(\"Interpolation comlpete.\")"
      ]
    },
    {
      "cell_type": "code",
      "execution_count": 16,
      "metadata": {
        "colab": {
          "base_uri": "https://localhost:8080/"
        },
        "id": "VDQVQpm__B4u",
        "outputId": "6c9d05b3-4ecf-4a3f-eb7d-1b784aad2b8c"
      },
      "outputs": [
        {
          "name": "stdout",
          "output_type": "stream",
          "text": [
            "'/content/frames/interpolated.mp4' -> '{output_path}'\n"
          ]
        }
      ],
      "source": [
        "!cp -v /content/frames/interpolated.mp4 {output_path}"
      ]
    },
    {
      "cell_type": "markdown",
      "metadata": {
        "id": "XVYQeaF9askL"
      },
      "source": [
        "```\n",
        "MIT License\n",
        "\n",
        "Copyright (c) 2022 David Marx\n",
        "\n",
        "Permission is hereby granted, free of charge, to any person obtaining a copy\n",
        "of this software and associated documentation files (the \"Software\"), to deal\n",
        "in the Software without restriction, including without limitation the rights\n",
        "to use, copy, modify, merge, publish, distribute, sublicense, and/or sell\n",
        "copies of the Software, and to permit persons to whom the Software is\n",
        "furnished to do so, subject to the following conditions:\n",
        "\n",
        "The above copyright notice and this permission notice shall be included in all\n",
        "copies or substantial portions of the Software.\n",
        "\n",
        "THE SOFTWARE IS PROVIDED \"AS IS\", WITHOUT WARRANTY OF ANY KIND, EXPRESS OR\n",
        "IMPLIED, INCLUDING BUT NOT LIMITED TO THE WARRANTIES OF MERCHANTABILITY,\n",
        "FITNESS FOR A PARTICULAR PURPOSE AND NONINFRINGEMENT. IN NO EVENT SHALL THE\n",
        "AUTHORS OR COPYRIGHT HOLDERS BE LIABLE FOR ANY CLAIM, DAMAGES OR OTHER\n",
        "LIABILITY, WHETHER IN AN ACTION OF CONTRACT, TORT OR OTHERWISE, ARISING FROM,\n",
        "OUT OF OR IN CONNECTION WITH THE SOFTWARE OR THE USE OR OTHER DEALINGS IN THE\n",
        "SOFTWARE.\n",
        "```"
      ]
    }
  ],
  "metadata": {
    "accelerator": "GPU",
    "colab": {
      "collapsed_sections": [],
      "include_colab_link": true,
      "name": "Video-to-Video FiLM: Frame Interpolation for Large Motion",
      "provenance": []
    },
    "kernelspec": {
      "display_name": "Python 3",
      "name": "python3"
    },
    "language_info": {
      "name": "python"
    }
  },
  "nbformat": 4,
  "nbformat_minor": 0
}
