{
  "cells": [
    {
      "cell_type": "markdown",
      "metadata": {
        "id": "view-in-github",
        "colab_type": "text"
      },
      "source": [
        "<a href=\"https://colab.research.google.com/github/pollinations/hive/blob/main/notebooks/7%20Video-To-Video/3%20FiLM%20-%20Frame%20Interpolation%20for%20Large%20Motion.ipynb\" target=\"_parent\"><img src=\"https://colab.research.google.com/assets/colab-badge.svg\" alt=\"Open In Colab\"/></a>"
      ]
    },
    {
      "cell_type": "markdown",
      "metadata": {
        "id": "Cp9wuo2MbKLa"
      },
      "source": [
        "![preview](https://i.imgur.com/NliA9Kj.gif)\n",
        "\n",
        "Get really cool results by adding realistic movement between images. Mix different images for surprising results.\n",
        "---\n",
        "\n",
        "Credits:[DigThatData](https://twitter.com/DigThatData)\n",
        "License: MIT"
      ]
    },
    {
      "cell_type": "code",
      "execution_count": null,
      "metadata": {
        "cellView": "form",
        "id": "IOwJCl7q5quR"
      },
      "outputs": [],
      "source": [
        "\n",
        "# Upload a zip file containing images or a video file\n",
        "image_file = ''  #@param {type: \"string\", accepted_files: \"image,video,application\"}\n",
        "\n",
        "# If you start with $n$ frames in `frames_dir` and set `recursive_interpolation_passes` to $k$, your total number of frames after interpolation will be: 2^k (n-1) -1\n",
        "recursive_interpolation_passes = 1 #@param {type: \"number\"}\n",
        "\n",
        "# Frame rate of output video\n",
        "output_video_fps = 30 #@param {type: \"number\"}\n",
        "\n",
        "#@markdown ---\n",
        "\n",
        "output_path = \"/content\""
      ]
    },
    {
      "cell_type": "code",
      "execution_count": null,
      "metadata": {
        "id": "mK0vrz_h6qKO"
      },
      "outputs": [],
      "source": [
        "!rm -r /content/frames\n",
        "!mkdir -p /content/frames\n",
        "if image_file.endswith('.zip'):\n",
        "  !unzip -j -o \"{image_file}\" -d /content/frames\n",
        "  !rm /content/frames/.*.*\n",
        "else:\n",
        "  !ffmpeg -i \"{image_file}\" /content/frames/frame%5d.jpg"
      ]
    },
    {
      "cell_type": "code",
      "execution_count": null,
      "metadata": {
        "id": "xKTc_JT9-038"
      },
      "outputs": [],
      "source": [
        "\n",
        "# Load a folder of images and crop and resize them to the resolution of the smallest images\n",
        "\n",
        "import os\n",
        "import cv2\n",
        "import numpy as np\n",
        "from glob import glob\n",
        "\n",
        "def crop_resize_to_smallest_image(folder_path):\n",
        "    \"\"\"\n",
        "    Load a folder of images and crop and resize them to the resolution of the smallest images\n",
        "    :param folder_path: path to the folder containing images\n",
        "    :param output_folder_path: path to the folder where the cropped and resized images will be saved\n",
        "    :return:\n",
        "    \"\"\"\n",
        "    # Get the list of images in the folder\n",
        "    images = os.listdir(folder_path)\n",
        "\n",
        "    # Get the size of the smallest image\n",
        "    smallest_image_size = get_smallest_image_size(folder_path)\n",
        "\n",
        "    print(smallest_image_size)\n",
        "    # Iterate over the images\n",
        "    for image in images:\n",
        "        # Load the image\n",
        "        image_path = os.path.join(folder_path, image)\n",
        "        try:\n",
        "          image_array = cv2.imread(image_path)\n",
        "\n",
        "          # Crop and resize the image\n",
        "          image_array = crop_and_resize_image(image_array, smallest_image_size)\n",
        "\n",
        "      \n",
        "          cv2.imwrite(image_path, image_array)\n",
        "        except:\n",
        "          print(\"image was not able to be resized. maybe no image\", image_path)\n",
        "    \n",
        "\n",
        "def get_smallest_image_size(folder_path):\n",
        "    \"\"\"\n",
        "    Get the size of the smallest image in the folder\n",
        "    :param folder_path: path to the folder containing images\n",
        "    :return: the size of the smallest image\n",
        "    \"\"\"\n",
        "    # Get the list of images in the folder\n",
        "    images = glob(folder_path+\"/*.jpg\") + glob(folder_path+\"/*.png\") + glob(folder_path+\"/*.jpeg\")\n",
        "\n",
        "    # Get the size of the smallest image\n",
        "    smallest_image_size = None\n",
        "    for image in images:\n",
        "        # Load the image\n",
        "        image_path = os.path.join(folder_path, image)\n",
        "        image_array = cv2.imread(image_path)\n",
        "        # Get the size of the image\n",
        "        image_size = image_array.shape\n",
        "\n",
        "        # Check if the size of the image is smaller than the smallest image size\n",
        "        if smallest_image_size is None or image_size[0] < smallest_image_size[0] or image_size[1] < smallest_image_size[1]:\n",
        "            smallest_image_size = image_size\n",
        "\n",
        "    return smallest_image_size\n",
        "\n",
        "\n",
        "def crop_and_resize_image(image_array, smallest_image_size):\n",
        "    \"\"\"\n",
        "    Crop and resize the image\n",
        "    :param image_array: the image array\n",
        "    :param smallest_image_size: the size of the smallest image\n",
        "    :return: the cropped and resized image array\n",
        "    \"\"\"\n",
        "\n",
        "    # Resize the image\n",
        "    image_array = cv2.resize(image_array, (smallest_image_size[1],smallest_image_size[0]))\n",
        "\n",
        "    return image_array\n",
        "\n",
        "crop_resize_to_smallest_image('/content/frames')"
      ]
    },
    {
      "cell_type": "code",
      "execution_count": null,
      "metadata": {
        "cellView": "form",
        "id": "-7TD7YZJbsy_"
      },
      "outputs": [],
      "source": [
        "# This top bit only neneds to be run once\n",
        "# ...may as well set up the notebook to \n",
        "# assume the user is only going to run all\n",
        "# of setup once.\n",
        "from pathlib import Path\n",
        "import os\n",
        "\n",
        "drive_mounted = False\n",
        "gdrive_fpath = '.'\n",
        "local_path = '/content/'\n",
        "\n",
        "##############################\n",
        "\n",
        "#@markdown # 1. Setup Workspace\n",
        "\n",
        "#@markdown Run this cell to perform setup.\n",
        "\n",
        "#@markdown Mounting your google drive is optional.\n",
        "#@markdown If you mount your drive, code and models will be downloaded to it.\n",
        "#@markdown This should reduce setup time after your first run.\n",
        "\n",
        "###################\n",
        "\n",
        "# Optionally Mount GDrive\n",
        "\n",
        "mount_gdrive = False # @param{type:\"boolean\"}\n",
        "if mount_gdrive and not drive_mounted:\n",
        "    from google.colab import drive\n",
        "\n",
        "    gdrive_mountpoint = '/content/drive/' #@param{type:\"string\"}\n",
        "    gdrive_subdirectory = 'MyDrive/interpolation' #@param{type:\"string\"}\n",
        "    gdrive_fpath = str(Path(gdrive_mountpoint) / gdrive_subdirectory)\n",
        "    try:\n",
        "        drive.mount(gdrive_mountpoint, force_remount = True)\n",
        "        !mkdir -p {gdrive_fpath}\n",
        "        %cd {gdrive_fpath}\n",
        "        local_path = gdrive_fpath\n",
        "        drive_mounted = True\n",
        "    except OSError:\n",
        "        print(\n",
        "            \"\\n\\n-----[PYTTI-TOOLS]-------\\n\\n\"\n",
        "            \"If you received a scary OSError and your drive\"\n",
        "            \" was already mounted, ignore it.\"\n",
        "            \"\\n\\n-----[PYTTI-TOOLS]-------\\n\\n\"\n",
        "            )\n",
        "        raise\n",
        "\n",
        "#####################\n",
        "\n",
        "# Perform rest of setup\n",
        "\n",
        "if not Path('./frame-interpolation').exists():\n",
        "    !git clone https://github.com/pytti-tools/frame-interpolation\n",
        "\n",
        "try:\n",
        "    import frame_interpolation\n",
        "except ModuleNotFoundError:\n",
        "    %pip install -r ./frame-interpolation/requirements_colab.txt\n",
        "    %pip install ./frame-interpolation\n",
        "\n",
        "#url = \"https://drive.google.com/drive/folders/1GhVNBPq20X7eaMsesydQ774CgGcDGkc6?usp=sharing\"\n",
        "share_id = \"1GhVNBPq20X7eaMsesydQ774CgGcDGkc6\"\n",
        "\n",
        "if not (Path(local_path) / 'saved_model').exists():\n",
        "    !pip install --upgrade gdown\n",
        "    !gdown --folder {share_id}\n",
        "\n",
        "# create default frame\n",
        "!mkdir -p frames"
      ]
    },
    {
      "cell_type": "code",
      "execution_count": null,
      "metadata": {
        "id": "toGdeAXf6NdM"
      },
      "outputs": [],
      "source": [
        "#@markdown # 2. Setup Interpolation\n",
        "\n",
        "#@markdown Specify the directory containing your video frames with the `frames_dir` parameter.\n",
        "\n",
        "frames_dir = \"/content/frames\" #@param{'type':'string'}\n",
        "\n",
        "#@markdown A single pass of the interpolation procedure adds a frame between each contiguous pair of frames in `frames_dir`.\n",
        "\n",
        "\n",
        "#@markdown Check this box to generate a video output. If no output video will be generated, the FPS option can be ignored.\n",
        "output_video = True #@param{'type':'boolean'}\n"
      ]
    },
    {
      "cell_type": "code",
      "execution_count": null,
      "metadata": {
        "id": "HBMnARHIuGiq"
      },
      "outputs": [],
      "source": [
        "#@markdown # 3. Interpolate!\n",
        "#@markdown Results will be saved in a subdirectory of `frames_dir` named \"interpolated_frames\"\n",
        "\n",
        "from loguru import logger\n",
        "\n",
        "logger.info(\"Beginning interpolation...\")\n",
        "\n",
        "if output_video:\n",
        "  !python -m frame_interpolation.eval.interpolator_cli \\\n",
        "      --model_path ./saved_model \\\n",
        "      --pattern {frames_dir} \\\n",
        "      --fps {output_video_fps} \\\n",
        "      --output_video\n",
        "      \n",
        "\n",
        "else:\n",
        "    !python -m frame_interpolation.eval.interpolator_cli \\\n",
        "      --model_path ./saved_model \\\n",
        "      --pattern {frames_dir} \\\n",
        "\n",
        "logger.info(\"Interpolation comlpete.\")"
      ]
    },
    {
      "cell_type": "code",
      "execution_count": null,
      "metadata": {
        "id": "VDQVQpm__B4u"
      },
      "outputs": [],
      "source": [
        "!cp -v /content/frames/interpolated.mp4 {output_path}\n",
        "import os.path\n",
        "if not os.path.exists(output_path + '/interpolated.mp4'):\n",
        "  raise Exception(\"Expected output file does not exist.\")"
      ]
    },
    {
      "cell_type": "markdown",
      "metadata": {
        "id": "XVYQeaF9askL"
      },
      "source": [
        "```\n",
        "MIT License\n",
        "\n",
        "Copyright (c) 2022 David Marx\n",
        "\n",
        "Permission is hereby granted, free of charge, to any person obtaining a copy\n",
        "of this software and associated documentation files (the \"Software\"), to deal\n",
        "in the Software without restriction, including without limitation the rights\n",
        "to use, copy, modify, merge, publish, distribute, sublicense, and/or sell\n",
        "copies of the Software, and to permit persons to whom the Software is\n",
        "furnished to do so, subject to the following conditions:\n",
        "\n",
        "The above copyright notice and this permission notice shall be included in all\n",
        "copies or substantial portions of the Software.\n",
        "\n",
        "THE SOFTWARE IS PROVIDED \"AS IS\", WITHOUT WARRANTY OF ANY KIND, EXPRESS OR\n",
        "IMPLIED, INCLUDING BUT NOT LIMITED TO THE WARRANTIES OF MERCHANTABILITY,\n",
        "FITNESS FOR A PARTICULAR PURPOSE AND NONINFRINGEMENT. IN NO EVENT SHALL THE\n",
        "AUTHORS OR COPYRIGHT HOLDERS BE LIABLE FOR ANY CLAIM, DAMAGES OR OTHER\n",
        "LIABILITY, WHETHER IN AN ACTION OF CONTRACT, TORT OR OTHERWISE, ARISING FROM,\n",
        "OUT OF OR IN CONNECTION WITH THE SOFTWARE OR THE USE OR OTHER DEALINGS IN THE\n",
        "SOFTWARE.\n",
        "```"
      ]
    }
  ],
  "metadata": {
    "accelerator": "GPU",
    "colab": {
      "collapsed_sections": [],
      "name": "Video-to-Video FiLM: Frame Interpolation for Large Motion",
      "provenance": [],
      "include_colab_link": true
    },
    "kernelspec": {
      "display_name": "Python 3",
      "name": "python3"
    },
    "language_info": {
      "name": "python"
    }
  },
  "nbformat": 4,
  "nbformat_minor": 0
}
