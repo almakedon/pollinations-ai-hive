{
  "cells": [
    {
      "cell_type": "markdown",
      "metadata": {
        "id": "view-in-github",
        "colab_type": "text"
      },
      "source": [
        "<a href=\"https://colab.research.google.com/github/pollinations/hive/blob/main/notebooks/7%20Video-To-Video/2%20Video2X.ipynb\" target=\"_parent\"><img src=\"https://colab.research.google.com/assets/colab-badge.svg\" alt=\"Open In Colab\"/></a>"
      ]
    },
    {
      "cell_type": "markdown",
      "metadata": {
        "id": "QlDJIa6zI6Td"
      },
      "source": [
        "![Video2X Logo](https://user-images.githubusercontent.com/21986859/102733190-872a7880-4334-11eb-8e9e-0ca747f130b1.png)\n",
        "\n",
        "\n",
        "| Algorithm | Implementation Used                                                 | Best-Suited Purpose | Remarks                                             |\n",
        "| --------- | ------------------------------------------------------------------- | ------------------- | --------------------------------------------------- |\n",
        "| waifu2x   | [waifu2x-ncnn-vulkan](https://github.com/nihui/waifu2x-ncnn-vulkan) | anime-styled arts   |                                                     |\n",
        "| Anime4K   | N/A                                                                 | anime-styled arts   | much faster than waifu2x, but with lower quality    |\n",
        "| SRMD      | [srmd-ncnn-vulkan](https://github.com/nihui/srmd-ncnn-vulkan)       | real-life arts      | faster than SRMD, but with lower quality            |\n",
        "| RealSR    | [realsr-ncnn-vulkan](https://github.com/nihui/realsr-ncnn-vulkan)   | real-life arts      | very slow, but very impressive for real-life videos |\n",
        "\n",
        "\n",
        "If you have any questions, suggestions, etc., post an issue [here](https://github.com/k4yt3x/video2x/issues/new).\n",
        "\n",
        "Licensed under the ISC License: https://www.isc.org/licenses/. \\\n",
        "Copyright 2022 K4YT3X and contributors.\n",
        "\n",
        "Last tested on February 9, 2022, commit [14f3cd1](https://github.com/k4yt3x/video2x/commit/14f3cd1e160ff5722bf0830137bdaff62c37f4b4)."
      ]
    },
    {
      "cell_type": "code",
      "execution_count": null,
      "metadata": {
        "cellView": "form",
        "id": "6AcMPOYV1YkV"
      },
      "outputs": [],
      "source": [
        "#@title Inputs\n",
        "\n",
        "\n",
        "video_file = ''  #@param {type: \"string\"}\n",
        "\n",
        "# Set either width or height to a non-zero number. the other will be scaled accordingly\n",
        "width = 0  #@param {type: \"number\"}\n",
        "\n",
        "# Set either width or height to a non-zero number. the other will be scaled accordingly\n",
        "height = 1080  #@param {type: \"number\"}\n",
        "\n",
        "# The algorithm types are described in the model details below\n",
        "algorithm = \"srmd\"  #@param ['waifu2x', 'srmd', 'realsr']\n",
        "\n",
        "# How many processes to run in parallel. Could lead to memory problems if higher but should run much faster.\n",
        "parallel_processes = 1  #@param {type: \"number\"}\n",
        "\n",
        "# Use video interpolation to double the video's framerate\n",
        "double_framerate = False  #@param {type: \"boolean\"}\n",
        "\n",
        "\n",
        "\n",
        "output_path = \"/content\""
      ]
    },
    {
      "cell_type": "code",
      "execution_count": null,
      "metadata": {
        "id": "664RjhIWVjZe"
      },
      "outputs": [],
      "source": [
        "!nvidia-smi\n",
        "\n"
      ]
    },
    {
      "cell_type": "code",
      "execution_count": null,
      "metadata": {
        "id": "zxbwPjwgyBEL"
      },
      "outputs": [],
      "source": [
        "from mimetypes import guess_type\n",
        "mimetype, _ = guess_type(video_file)\n",
        "\n",
        "is_image = mimetype.split(\"/\")[0] == \"image\"\n",
        "\n",
        "if is_image:\n",
        "  !ffmpeg -i \"{video_file}\" -y /tmp/single_frame_vid.mp4\n",
        "  video_file = \"/tmp/single_frame_vid.mp4\""
      ]
    },
    {
      "cell_type": "markdown",
      "metadata": {
        "id": "8zGL6I6I77xy"
      },
      "source": [
        "## Step 1: Install Build Dependencies\n",
        "\n",
        "This step installs the tools and libraries required to build and run Video2X."
      ]
    },
    {
      "cell_type": "code",
      "execution_count": null,
      "metadata": {
        "id": "tWf78A3L1n_Y"
      },
      "outputs": [],
      "source": [
        "!apt-get update\n",
        "!apt-get install -y --no-install-recommends \\\n",
        "    python3.8 python3-pip python3-opencv python3-pil python3-tqdm \\\n",
        "    python3-dev libvulkan-dev glslang-dev glslang-tools \\\n",
        "    build-essential swig git \\\n",
        "    mesa-vulkan-drivers ffmpeg ninja-build"
      ]
    },
    {
      "cell_type": "markdown",
      "metadata": {
        "id": "OTUAqNig7-38"
      },
      "source": [
        "## Step 2: Install Video2X and Python Dependencies\n",
        "\n",
        "This step Video2X and its dependencies. Since some dependencies must be compiled from source code, it will take quite a while to complete. Sit back and have a coffee. This step might be drastically sped up in the future by including binary wheels for some of the dependencies in PyPI."
      ]
    },
    {
      "cell_type": "code",
      "execution_count": null,
      "metadata": {
        "id": "1wxg_AuxlagY"
      },
      "outputs": [],
      "source": [
        "# increase Git's cache size\n",
        "# the default might be too small for rife's repo\n",
        "!git config --global http.postBuffer 1048576000\n",
        "!git config --global https.postBuffer 1048576000\n",
        "\n",
        "# temporary: install rife-ncnn-vulkan-python directly from GitHub\n",
        "#   since it is too large to upload to PyPI\n",
        "# temporary: install video2x directly from GitHub\n",
        "#   since version 5.0.0 doesn't have a release on PyPI yet\n",
        "!python3.8 -m pip install -U pip setuptools setuptools-scm wheel\n",
        "!python3.8 -m pip install \\\n",
        "    rife-ncnn-vulkan-python@git+https://github.com/media2x/rife-ncnn-vulkan-python.git \\\n",
        "    video2x@git+https://github.com/k4yt3x/video2x.git@master\n",
        "\n",
        "# upgrade Colab'd default Pillow (too old)\n",
        "!python3.8 -m pip install -U Pillow"
      ]
    },
    {
      "cell_type": "markdown",
      "metadata": {
        "id": "ZQf3DKgHnLLU"
      },
      "source": [
        "## Step 3: Mount Google Drive\n",
        "\n",
        "In order to read/write video data from/to your Google Drive, you will need to grant Google Colab access to your Google Drive. Upon running the following script, you'll be prompted to permit this script access to your Google Drive."
      ]
    },
    {
      "cell_type": "code",
      "execution_count": null,
      "metadata": {
        "id": "Tz6iJN3kna8s"
      },
      "outputs": [],
      "source": [
        "# mount your Google Drive into the runtime\n",
        "#from google.colab import drive\n",
        "#drive.mount('/mnt/gdrive')\n",
        "\n",
        "# change the working directory to the root directory of your Google Drive\n",
        "#%cd /mnt/gdrive/MyDrive/"
      ]
    },
    {
      "cell_type": "markdown",
      "metadata": {
        "id": "VRr1fS5TKd8Y"
      },
      "source": [
        "## Step 4: Launch Video2X\n",
        "\n",
        "You can launch Video2X now. **Remember to use the free resource fairly and not to run a free session for over 12 hours.** You can get [Colab Pro/Pro+](https://colab.research.google.com/signup/pricing) for longer runtimes.\n",
        "\n",
        "The example command below upscales the file `input.mp4` in your Google Drive to height 1440 and saves the output file to `output.mp4`. You can specify either the width or height. The other paramter will be calculated automatically based on the input file's apsect ratio."
      ]
    },
    {
      "cell_type": "code",
      "execution_count": null,
      "metadata": {
        "id": "_PPKfb_NxX1V"
      },
      "outputs": [],
      "source": [
        "!npm i -g throttle"
      ]
    },
    {
      "cell_type": "code",
      "execution_count": null,
      "metadata": {
        "id": "AGiMH-UOKgRh"
      },
      "outputs": [],
      "source": [
        "from pathlib import Path\n",
        "filename = Path(video_file).stem\n",
        "superres_file = f\"/tmp/{filename}_1_upscaled.mp4\"\n",
        "\n",
        "width_param = \"\"\n",
        "height_param = \"\"\n",
        "\n",
        "if width > 0:\n",
        "  width_param = f\"-w {width}\"\n",
        "\n",
        "if height > 0:\n",
        "  height_param = f\"-h {height}\"\n",
        "\n",
        "\n",
        "!python3.8 -m video2x -i \"{video_file}\" -o \"{superres_file}\" -p{parallel_processes} -lsuccess upscale {width_param} {height_param} -a {algorithm} -n3 | throttle --queue 0 -m 100\n",
        "!cp -v \"{superres_file}\" {output_path}\n",
        "\n",
        "import os.path\n",
        "if not os.path.exists(superres_file):\n",
        "  raise Exception(\"Expected output file does not exist.\")"
      ]
    },
    {
      "cell_type": "markdown",
      "metadata": {
        "id": "j5mcfjkLM-nR"
      },
      "source": [
        "The following command performs frame interpolation and 2x the frame rate of the video `input.mp4` and saves the output video to `output.mp4`. Currently, interpolation only supports 2x frame rate."
      ]
    },
    {
      "cell_type": "code",
      "execution_count": null,
      "metadata": {
        "id": "fZ8jepdsM-Y-"
      },
      "outputs": [],
      "source": [
        "if double_framerate:\n",
        "  interp_file = f\"/tmp/{filename}_2_upscaled_interpolated.mp4\"\n",
        "  !python3.8 -m video2x -i \"{superres_file}\" -o \"{interp_file}\" interpolate\n",
        "  !cp -v \"{interp_file}\" {output_path}"
      ]
    },
    {
      "cell_type": "code",
      "execution_count": null,
      "metadata": {
        "id": "JHOzYt2Lz8Cs"
      },
      "outputs": [],
      "source": [
        "if is_image:\n",
        "  !ffmpeg -i \"{superres_file}\" {output_path}/upscaled.png"
      ]
    }
  ],
  "metadata": {
    "accelerator": "GPU",
    "colab": {
      "collapsed_sections": [],
      "name": "Video-to-Video - Video2X",
      "provenance": [],
      "include_colab_link": true
    },
    "kernelspec": {
      "display_name": "Python 3",
      "name": "python3"
    },
    "language_info": {
      "name": "python"
    }
  },
  "nbformat": 4,
  "nbformat_minor": 0
}