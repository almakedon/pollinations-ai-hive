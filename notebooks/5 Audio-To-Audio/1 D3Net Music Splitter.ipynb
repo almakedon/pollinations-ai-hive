{
  "cells": [
    {
      "cell_type": "markdown",
      "metadata": {
        "id": "YZa1_42XDFdS"
      },
      "source": [
        "<img src=\"https://pollinations.ai/ipfs/Qmd3JVVu41XDQ1gq6LAW4pVqb2oST2rGGqBLZZumHGnsPU\" width=\"300\" height=\"300\" />\n",
        "\n",
        "Splits full music tracks into vocal, bass, drums and rest.\n",
        "\n",
        "[UPD 07.12.2021] Fix model download that was breaking things\n",
        "[UPD 16.11.2021] Added option to load audio directly from youtube or soundcloud\n"
      ]
    },
    {
      "cell_type": "code",
      "execution_count": 1,
      "metadata": {
        "id": "UbmdbQnaOk4G"
      },
      "outputs": [],
      "source": [
        "# Music file to split\n",
        "audio_file = ''  #@param {type: \"string\"}\n",
        "# Alternative: link to youtube or soundcloud\n",
        "youtube_dl_link = '' #@param {type: \"string\"}\n",
        "\n",
        "output_path = '/content'\n"
      ]
    },
    {
      "cell_type": "code",
      "execution_count": 8,
      "metadata": {
        "colab": {
          "base_uri": "https://localhost:8080/"
        },
        "id": "nC-5fp3lGvYA",
        "outputId": "0312d9c4-2297-4ac9-85f4-19daad613baf"
      },
      "outputs": [
        {
          "name": "stdout",
          "output_type": "stream",
          "text": [
            "Downloading from https://www.youtube.com/watch?v=T06Hr9wiUI4...\n",
            "[youtube] T06Hr9wiUI4: Downloading webpage\n",
            "[download] /tmp/audio_file.wav has already been downloaded\n",
            "\u001b[K[download] 100% of 2.71MiB\n",
            "[ffmpeg] Post-process file /tmp/audio_file.wav exists, skipping\n",
            "['/tmp/audio_file.wav']\n"
          ]
        }
      ],
      "source": [
        "if youtube_dl_link.startswith(\"http\"):\n",
        "  print(f\"Downloading from {youtube_dl_link}...\")\n",
        "  !pip install -q youtube-dl\n",
        "  !youtube-dl --rm-cache-dir\n",
        "  !youtube-dl --extract-audio --audio-format wav {youtube_dl_link} --output /tmp/audio_file.wav\n",
        "  audio_file = \"/tmp/audio_file.wav\"\n",
        "  from glob import glob\n",
        "  print(glob(\"/tmp/*.wav\"))"
      ]
    },
    {
      "cell_type": "code",
      "execution_count": 3,
      "metadata": {
        "colab": {
          "base_uri": "https://localhost:8080/"
        },
        "id": "zLhVhnfLDFdY",
        "outputId": "a5cf761b-da4a-40a1-c321-a172d118fe8d"
      },
      "outputs": [
        {
          "name": "stdout",
          "output_type": "stream",
          "text": [
            "Requirement already satisfied: soundfile in /usr/local/lib/python3.7/dist-packages (0.10.3.post1)\n",
            "Requirement already satisfied: librosa in /usr/local/lib/python3.7/dist-packages (0.8.1)\n",
            "Collecting pydub\n",
            "  Downloading pydub-0.25.1-py2.py3-none-any.whl (32 kB)\n",
            "Collecting nnabla-ext-cuda100\n",
            "  Downloading nnabla_ext_cuda100-1.22.0-cp37-cp37m-manylinux_2_27_x86_64.whl (47.6 MB)\n",
            "\u001b[K     |████████████████████████████████| 47.6 MB 105 kB/s \n",
            "\u001b[?25hRequirement already satisfied: cffi>=1.0 in /usr/local/lib/python3.7/dist-packages (from soundfile) (1.15.0)\n",
            "Requirement already satisfied: pycparser in /usr/local/lib/python3.7/dist-packages (from cffi>=1.0->soundfile) (2.21)\n",
            "Requirement already satisfied: packaging>=20.0 in /usr/local/lib/python3.7/dist-packages (from librosa) (21.2)\n",
            "Requirement already satisfied: audioread>=2.0.0 in /usr/local/lib/python3.7/dist-packages (from librosa) (2.1.9)\n",
            "Requirement already satisfied: joblib>=0.14 in /usr/local/lib/python3.7/dist-packages (from librosa) (1.1.0)\n",
            "Requirement already satisfied: scikit-learn!=0.19.0,>=0.14.0 in /usr/local/lib/python3.7/dist-packages (from librosa) (1.0.1)\n",
            "Requirement already satisfied: decorator>=3.0.0 in /usr/local/lib/python3.7/dist-packages (from librosa) (4.4.2)\n",
            "Requirement already satisfied: numba>=0.43.0 in /usr/local/lib/python3.7/dist-packages (from librosa) (0.51.2)\n",
            "Requirement already satisfied: scipy>=1.0.0 in /usr/local/lib/python3.7/dist-packages (from librosa) (1.4.1)\n",
            "Requirement already satisfied: numpy>=1.15.0 in /usr/local/lib/python3.7/dist-packages (from librosa) (1.19.5)\n",
            "Requirement already satisfied: resampy>=0.2.2 in /usr/local/lib/python3.7/dist-packages (from librosa) (0.2.2)\n",
            "Requirement already satisfied: pooch>=1.0 in /usr/local/lib/python3.7/dist-packages (from librosa) (1.5.2)\n",
            "Requirement already satisfied: llvmlite<0.35,>=0.34.0.dev0 in /usr/local/lib/python3.7/dist-packages (from numba>=0.43.0->librosa) (0.34.0)\n",
            "Requirement already satisfied: setuptools in /usr/local/lib/python3.7/dist-packages (from numba>=0.43.0->librosa) (57.4.0)\n",
            "Requirement already satisfied: pyparsing<3,>=2.0.2 in /usr/local/lib/python3.7/dist-packages (from packaging>=20.0->librosa) (2.4.7)\n",
            "Requirement already satisfied: appdirs in /usr/local/lib/python3.7/dist-packages (from pooch>=1.0->librosa) (1.4.4)\n",
            "Requirement already satisfied: requests in /usr/local/lib/python3.7/dist-packages (from pooch>=1.0->librosa) (2.23.0)\n",
            "Requirement already satisfied: six>=1.3 in /usr/local/lib/python3.7/dist-packages (from resampy>=0.2.2->librosa) (1.15.0)\n",
            "Requirement already satisfied: threadpoolctl>=2.0.0 in /usr/local/lib/python3.7/dist-packages (from scikit-learn!=0.19.0,>=0.14.0->librosa) (3.0.0)\n",
            "Collecting nnabla==1.22.0\n",
            "  Downloading nnabla-1.22.0-cp37-cp37m-manylinux_2_27_x86_64.whl (18.7 MB)\n",
            "\u001b[K     |████████████████████████████████| 18.7 MB 38 kB/s \n",
            "\u001b[?25hRequirement already satisfied: imageio in /usr/local/lib/python3.7/dist-packages (from nnabla==1.22.0->nnabla-ext-cuda100) (2.4.1)\n",
            "Requirement already satisfied: pillow in /usr/local/lib/python3.7/dist-packages (from nnabla==1.22.0->nnabla-ext-cuda100) (7.1.2)\n",
            "Requirement already satisfied: pyyaml in /usr/local/lib/python3.7/dist-packages (from nnabla==1.22.0->nnabla-ext-cuda100) (3.13)\n",
            "Requirement already satisfied: contextlib2 in /usr/local/lib/python3.7/dist-packages (from nnabla==1.22.0->nnabla-ext-cuda100) (0.5.5)\n",
            "Collecting configparser\n",
            "  Downloading configparser-5.1.0-py3-none-any.whl (19 kB)\n",
            "Requirement already satisfied: protobuf>=3.6 in /usr/local/lib/python3.7/dist-packages (from nnabla==1.22.0->nnabla-ext-cuda100) (3.17.3)\n",
            "Requirement already satisfied: Cython in /usr/local/lib/python3.7/dist-packages (from nnabla==1.22.0->nnabla-ext-cuda100) (0.29.24)\n",
            "Requirement already satisfied: h5py<=3.1.0 in /usr/local/lib/python3.7/dist-packages (from nnabla==1.22.0->nnabla-ext-cuda100) (3.1.0)\n",
            "Requirement already satisfied: tqdm in /usr/local/lib/python3.7/dist-packages (from nnabla==1.22.0->nnabla-ext-cuda100) (4.62.3)\n",
            "Collecting boto3\n",
            "  Downloading boto3-1.20.6-py3-none-any.whl (131 kB)\n",
            "\u001b[K     |████████████████████████████████| 131 kB 63.3 MB/s \n",
            "\u001b[?25hRequirement already satisfied: cached-property in /usr/local/lib/python3.7/dist-packages (from h5py<=3.1.0->nnabla==1.22.0->nnabla-ext-cuda100) (1.5.2)\n",
            "Collecting s3transfer<0.6.0,>=0.5.0\n",
            "  Downloading s3transfer-0.5.0-py3-none-any.whl (79 kB)\n",
            "\u001b[K     |████████████████████████████████| 79 kB 9.9 MB/s \n",
            "\u001b[?25hCollecting botocore<1.24.0,>=1.23.6\n",
            "  Downloading botocore-1.23.6-py3-none-any.whl (8.1 MB)\n",
            "\u001b[K     |████████████████████████████████| 8.1 MB 41.2 MB/s \n",
            "\u001b[?25hCollecting jmespath<1.0.0,>=0.7.1\n",
            "  Downloading jmespath-0.10.0-py2.py3-none-any.whl (24 kB)\n",
            "Collecting urllib3<1.27,>=1.25.4\n",
            "  Downloading urllib3-1.26.7-py2.py3-none-any.whl (138 kB)\n",
            "\u001b[K     |████████████████████████████████| 138 kB 76.7 MB/s \n",
            "\u001b[?25hRequirement already satisfied: python-dateutil<3.0.0,>=2.1 in /usr/local/lib/python3.7/dist-packages (from botocore<1.24.0,>=1.23.6->boto3->nnabla==1.22.0->nnabla-ext-cuda100) (2.8.2)\n",
            "  Downloading urllib3-1.25.11-py2.py3-none-any.whl (127 kB)\n",
            "\u001b[K     |████████████████████████████████| 127 kB 75.2 MB/s \n",
            "\u001b[?25hRequirement already satisfied: idna<3,>=2.5 in /usr/local/lib/python3.7/dist-packages (from requests->pooch>=1.0->librosa) (2.10)\n",
            "Requirement already satisfied: certifi>=2017.4.17 in /usr/local/lib/python3.7/dist-packages (from requests->pooch>=1.0->librosa) (2021.10.8)\n",
            "Requirement already satisfied: chardet<4,>=3.0.2 in /usr/local/lib/python3.7/dist-packages (from requests->pooch>=1.0->librosa) (3.0.4)\n",
            "Installing collected packages: urllib3, jmespath, botocore, s3transfer, configparser, boto3, nnabla, pydub, nnabla-ext-cuda100\n",
            "  Attempting uninstall: urllib3\n",
            "    Found existing installation: urllib3 1.24.3\n",
            "    Uninstalling urllib3-1.24.3:\n",
            "      Successfully uninstalled urllib3-1.24.3\n",
            "\u001b[31mERROR: pip's dependency resolver does not currently take into account all the packages that are installed. This behaviour is the source of the following dependency conflicts.\n",
            "datascience 0.10.6 requires folium==0.2.1, but you have folium 0.8.3 which is incompatible.\u001b[0m\n",
            "Successfully installed boto3-1.20.6 botocore-1.23.6 configparser-5.1.0 jmespath-0.10.0 nnabla-1.22.0 nnabla-ext-cuda100-1.22.0 pydub-0.25.1 s3transfer-0.5.0 urllib3-1.25.11\n",
            "Requirement already satisfied: PyYAML in /usr/local/lib/python3.7/dist-packages (3.13)\n",
            "Collecting PyYAML\n",
            "  Downloading PyYAML-6.0-cp37-cp37m-manylinux_2_5_x86_64.manylinux1_x86_64.manylinux_2_12_x86_64.manylinux2010_x86_64.whl (596 kB)\n",
            "\u001b[K     |████████████████████████████████| 596 kB 8.4 MB/s \n",
            "\u001b[?25hInstalling collected packages: PyYAML\n",
            "  Attempting uninstall: PyYAML\n",
            "    Found existing installation: PyYAML 3.13\n",
            "    Uninstalling PyYAML-3.13:\n",
            "      Successfully uninstalled PyYAML-3.13\n",
            "Successfully installed PyYAML-6.0\n"
          ]
        }
      ],
      "source": [
        "!pip install soundfile librosa pydub nnabla-ext-cuda100\n",
        "!pip install --upgrade PyYAML"
      ]
    },
    {
      "cell_type": "markdown",
      "metadata": {
        "id": "04j4YatTDFdZ"
      },
      "source": [
        "\n",
        "Next, clone the code from sony/ai-research-code repository, and then download the [pre-trained weights](https://nnabla.org/pretrained-models/ai-research-code/d3net/mss/d3net-mss.h5) to test on music files(only wav format)."
      ]
    },
    {
      "cell_type": "code",
      "execution_count": 4,
      "metadata": {
        "colab": {
          "base_uri": "https://localhost:8080/"
        },
        "id": "zExvL4qzDFda",
        "outputId": "a351a3b9-ff52-48c2-f4d7-b89c2b01ab45"
      },
      "outputs": [
        {
          "name": "stdout",
          "output_type": "stream",
          "text": [
            "/content\n",
            "Cloning into 'ai-research-code'...\n",
            "remote: Enumerating objects: 434, done.\u001b[K\n",
            "remote: Counting objects: 100% (434/434), done.\u001b[K\n",
            "remote: Compressing objects: 100% (263/263), done.\u001b[K\n",
            "remote: Total 434 (delta 226), reused 345 (delta 159), pack-reused 0\u001b[K\n",
            "Receiving objects: 100% (434/434), 2.12 MiB | 10.86 MiB/s, done.\n",
            "Resolving deltas: 100% (226/226), done.\n",
            "/content/ai-research-code/d3net/music-source-separation\n",
            "--2021-11-16 15:50:57--  https://nnabla.org/pretrained-models/ai-research-code/d3net/mss/d3net-mss.zip\n",
            "Resolving nnabla.org (nnabla.org)... 13.224.7.59, 13.224.7.81, 13.224.7.103, ...\n",
            "Connecting to nnabla.org (nnabla.org)|13.224.7.59|:443... connected.\n",
            "HTTP request sent, awaiting response... 200 OK\n",
            "Length: 41074052 (39M) [application/zip]\n",
            "Saving to: ‘d3net-mss.zip’\n",
            "\n",
            "d3net-mss.zip       100%[===================>]  39.17M  27.1MB/s    in 1.4s    \n",
            "\n",
            "2021-11-16 15:50:58 (27.1 MB/s) - ‘d3net-mss.zip’ saved [41074052/41074052]\n",
            "\n",
            "Archive:  d3net-mss.zip\n",
            "   creating: d3net-mss/\n",
            "  inflating: d3net-mss/drums.h5      \n",
            "  inflating: d3net-mss/other.h5      \n",
            "  inflating: d3net-mss/vocals.h5     \n",
            "  inflating: d3net-mss/bass.h5       \n"
          ]
        }
      ],
      "source": [
        "%cd /content\n",
        "!git clone https://github.com/sony/ai-research-code.git\n",
        "%cd /content/ai-research-code/d3net/music-source-separation\n",
        "!wget -N https://nnabla.org/pretrained-models/ai-research-code/d3net/mss/d3net-mss.zip\n",
        "!unzip -o d3net-mss.zip\n",
        "# Hack because it looks like zip file structure changed\n",
        "!mkdir -p d3net-mss\n",
        "!cp -v *.h5 d3net-mss/"
      ]
    },
    {
      "cell_type": "markdown",
      "metadata": {
        "id": "l0MOUmgBDFda"
      },
      "source": [
        "# Testing\n",
        "\n",
        "If you do not have sample music files, such files can be downloaded from [this link](https://www.ee.columbia.edu/~dpwe/sounds/music/)."
      ]
    },
    {
      "cell_type": "code",
      "execution_count": 5,
      "metadata": {
        "id": "h_oeEUSADFdb"
      },
      "outputs": [],
      "source": [
        "filename = audio_file"
      ]
    },
    {
      "cell_type": "code",
      "execution_count": 6,
      "metadata": {
        "colab": {
          "base_uri": "https://localhost:8080/"
        },
        "id": "srysqhRWDFdb",
        "outputId": "4ea8838f-711b-42aa-f6d1-c760e11879f7"
      },
      "outputs": [
        {
          "name": "stdout",
          "output_type": "stream",
          "text": [
            "2021-11-16 15:50:59,355 [nnabla][INFO]: Initializing CPU extension...\n",
            "2021-11-16 15:51:02,030 [nnabla][INFO]: Initializing CUDA extension...\n",
            "2021-11-16 15:51:02,081 [nnabla][INFO]: Initializing cuDNN extension...\n",
            "1 / 1  : /tmp/audio_file.wav\n",
            "renamed '/tmp/audio_file/bass.wav' -> '/content/bass.wav'\n",
            "renamed '/tmp/audio_file/drums.wav' -> '/content/drums.wav'\n",
            "renamed '/tmp/audio_file/other.wav' -> '/content/other.wav'\n",
            "renamed '/tmp/audio_file/vocals.wav' -> '/content/vocals.wav'\n"
          ]
        }
      ],
      "source": [
        "!python separate.py  -i \"$filename\" -o /tmp\n",
        "!mv -v /tmp/audio_file/*.wav $output_path"
      ]
    }
  ],
  "metadata": {
    "accelerator": "GPU",
    "colab": {
      "name": "Audio-To-Audio - D3Net Music Splitter",
      "provenance": []
    },
    "kernelspec": {
      "display_name": "Python 3",
      "language": "python",
      "name": "python3"
    },
    "language_info": {
      "codemirror_mode": {
        "name": "ipython",
        "version": 3
      },
      "file_extension": ".py",
      "mimetype": "text/x-python",
      "name": "python",
      "nbconvert_exporter": "python",
      "pygments_lexer": "ipython3",
      "version": "3.7.3"
    }
  },
  "nbformat": 4,
  "nbformat_minor": 0
}
