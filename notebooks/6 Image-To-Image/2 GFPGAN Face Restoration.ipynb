{
  "cells": [
    {
      "cell_type": "markdown",
      "metadata": {
        "id": "RJtKN6ANUADM"
      },
      "source": [
        "<img src=\"https://pollinations.ai/ipfs/QmRs28NiwU13SEmTCPoLFktQWsdoDSXYeay5bQBPFtrQ3M\" width=\"300\" height=\"300\" />\n",
        "\n",
        "GFPGAN is a blind face restoration algorithm towards real-world face images. \n",
        "It leverages the generative face prior in a pre-trained GAN (*e.g.*, StyleGAN2) to restore realistic faces while precerving fidelity. \n",
        "\n"
      ]
    },
    {
      "cell_type": "code",
      "execution_count": null,
      "metadata": {},
      "outputs": [],
      "source": [
        "# Input image of face that will be restored\n",
        "file_image = '' #@param {type: \"string\"}\n",
        "\n",
        "# Choose whether to colorize the image or not. The model used is slightly different. You may get higher quality results without colorization.\n",
        "colorize = False #@param {type: \"boolean\"}\n",
        "\n",
        "output_path = '/content/output'"
      ]
    },
    {
      "cell_type": "code",
      "execution_count": null,
      "metadata": {
        "id": "ZwH2ifWEYEfJ"
      },
      "outputs": [],
      "source": [
        "image_path = '/tmp/images'\n",
        "!mkdir -p {image_path}\n",
        "!mkdir -p {output_path}\n",
        "!cp -v {file_image} {image_path}\n",
        "\n",
        "# Clone GFPGAN and enter the GFPGAN folder\n",
        "%cd /content\n",
        "!git clone https://github.com/TencentARC/GFPGAN.git\n",
        "%cd GFPGAN\n",
        "\n",
        "# Set up the environment\n",
        "# Install basicsr - https://github.com/xinntao/BasicSR\n",
        "# We use BasicSR for both training and inference\n",
        "!pip install ninja\n",
        "!pip install git+https://github.com/xinntao/BasicSR.git\n",
        "# Install facexlib - https://github.com/xinntao/facexlib\n",
        "# We use face detection and face restoration helper in the facexlib package\n",
        "!pip install facexlib\n",
        "# Install other depencencies\n",
        "!pip install -r requirements.txt\n",
        "!python setup.py develop\n",
        "!pip install realesrgan  # used for enhancing the background (non-face) regions\n",
        "\n",
        "# Download the pre-trained model\n",
        "if colorize:\n",
        "    !wget https://github.com/TencentARC/GFPGAN/releases/download/v0.1.0/GFPGANv1.pth -P experiments/pretrained_models\n",
        "else:\n",
        "    !wget https://github.com/TencentARC/GFPGAN/releases/download/v0.2.0/GFPGANCleanv1-NoCE-C2.pth -P experiments/pretrained_models\n"
      ]
    },
    {
      "cell_type": "markdown",
      "metadata": {
        "id": "U-8JxpPwg4Xz"
      },
      "source": [
        "# 2. Upload Images / Use the demo images"
      ]
    },
    {
      "cell_type": "markdown",
      "metadata": {
        "id": "9dZUYDlMeXKe"
      },
      "source": [
        "### OR you can use the demo image by running the following codes"
      ]
    },
    {
      "cell_type": "code",
      "execution_count": null,
      "metadata": {
        "id": "lmQVC3s97z4z"
      },
      "outputs": [],
      "source": [
        "tmp_output_path = \"/tmp/output_gfpgan\"\n",
        "!mkdir -p $tmp_output_path\n",
        "!rm -rf $tmp_output_path/*\n",
        "\n",
        "# Now we use the GFPGAN to restore the above low-quality images\n",
        "# We use [Real-ESRGAN](https://github.com/xinntao/Real-ESRGAN) for enhancing the background (non-face) regions\n",
        "\n",
        "if colorize:\n",
        "    !BASICSR_JIT=True python inference_gfpgan.py --model_path experiments/pretrained_models/GFPGANv1.pth  --test_path {image_path} --save_root {tmp_output_path} --arch original --channel 1\n",
        "else:\n",
        "    !BASICSR_JIT=True python inference_gfpgan.py --upscale 2 --test_path {image_path} --save_root {tmp_output_path} --model_path experiments/pretrained_models/GFPGANCleanv1-NoCE-C2.pth --bg_upsampler realesrgan\n",
        "\n",
        "!cp -v {tmp_output_path}/cropped_faces/* {output_path}/photo_1_cropped.png\n",
        "!cp -v {tmp_output_path}/restored_faces/* {output_path}/photo_2_restored.png\n",
        "!cp -v {tmp_output_path}/cmp/* {output_path}/photo_3_comparison.png\n",
        "!cp -v {tmp_output_path}/restored_imgs/* {output_path}/photo_4_restored.png\n",
        "\n",
        "!sleep 5"
      ]
    }
  ],
  "metadata": {
    "accelerator": "GPU",
    "colab": {
      "collapsed_sections": [
        "RJtKN6ANUADM"
      ],
      "include_colab_link": true,
      "name": "Image-To-Image GFPGAN Face Restauration",
      "provenance": [],
      "toc_visible": true
    },
    "kernelspec": {
      "display_name": "Python 3",
      "name": "python3"
    }
  },
  "nbformat": 4,
  "nbformat_minor": 0
}
