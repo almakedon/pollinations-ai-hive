{
  "cells": [
    {
      "cell_type": "markdown",
      "metadata": {
        "colab_type": "text",
        "id": "view-in-github"
      },
      "source": [
        "<a href=\"https://colab.research.google.com/github/pollinations/hive/blob/main/notebooks/6%20Image-To-Image/1%20ruRealESRGAN%20Super-Resolution.ipynb\" target=\"_parent\"><img src=\"https://colab.research.google.com/assets/colab-badge.svg\" alt=\"Open In Colab\"/></a>"
      ]
    },
    {
      "cell_type": "markdown",
      "metadata": {
        "id": "Czlr7j7-t1Fw"
      },
      "source": [
        "<img src=\"https://ipfs.pollinations.ai/ipfs/QmbPCzFiLrskHNQKs5eM8CGkEQ6qvirBTmvGLkKVWRcCwX\" width=\"300\" height=\"300\" />\n",
        "\n",
        "Scale up images or videos, turning them HD.\n",
        "\n",
        "---\n",
        "Uses [Real-ESRGAN](https://github.com/xinntao/Real-ESRGAN) to perform neural super-resolution (creates HD images or videos from low-resolution).\n",
        "\n",
        "The modelds were fine-tuned by russian company [Sber](https://github.com/sberbank-ai/ru-dalle)."
      ]
    },
    {
      "cell_type": "code",
      "execution_count": null,
      "metadata": {
        "cellView": "form",
        "id": "NkN4oxB5U1Ce"
      },
      "outputs": [],
      "source": [
        "\n",
        "# The image or video to scale up\n",
        "image_file = ''  #@param {type: \"string\", accepted_files: \"video,image\"}\n",
        "\n",
        "# By what amount to upscale the image\n",
        "upscale_factor = \"x4\"  #@param ['x2', 'x4', 'x8']\n",
        "\n",
        "output_path = \"/content\"\n"
      ]
    },
    {
      "cell_type": "code",
      "execution_count": null,
      "metadata": {
        "id": "bw_657HXbu18"
      },
      "outputs": [],
      "source": [
        "video_file = image_file\n",
        "\n",
        "import mimetypes\n",
        "mimetypes.init()\n",
        "\n",
        "mimestart = mimetypes.guess_type(video_file)[0]\n",
        "if mimestart is None:\n",
        "    raise Exception(\"Could not determine file type of \" + video_file)\n",
        "mimestart = mimestart.split('/')[0]\n",
        "is_video = mimestart == 'video'\n",
        "\n",
        "input_path = \"/tmp/sr_input\"\n",
        "!rm -rf $input_path\n",
        "!mkdir -p $input_path\n",
        "\n",
        "# Copy image or extract video frames and copy to input_path\n",
        "\n",
        "if is_video:\n",
        "    # Save video framerate\n",
        "    framerate = !ffprobe -v error -select_streams v:0 -show_entries stream=r_frame_rate -of default=noprint_wrappers=1:nokey=1 \"$video_file\"\n",
        "    multiplier, divisor = framerate[0].split('/')\n",
        "    framerate = float(multiplier) / float(divisor)\n",
        "    print(\"framerate\", framerate)\n",
        "\n",
        "    # Extract frames\n",
        "    !ffmpeg -i \"$video_file\" $input_path/%05d.jpg\n",
        "else:\n",
        "    !cp \"$video_file\" $input_path/\n",
        "\n",
        "\n",
        "\n"
      ]
    },
    {
      "cell_type": "markdown",
      "metadata": {
        "id": "3haUp1FJskh5"
      },
      "source": [
        "Веса для x2, x4, x8 моделей можно скачать по этой ссылке:\n",
        "https://drive.google.com/drive/folders/16PlVKhTNkSyWFx52RPb2hXPIQveNGbxS"
      ]
    },
    {
      "cell_type": "code",
      "execution_count": null,
      "metadata": {
        "colab": {
          "base_uri": "https://localhost:8080/"
        },
        "id": "zXm_whLxt-2X",
        "outputId": "1d197116-a5fb-44d0-abc5-ac1f8e7eb0e1"
      },
      "outputs": [
        {
          "name": "stdout",
          "output_type": "stream",
          "text": [
            "Cloning into 'Real-ESRGAN'...\n",
            "remote: Enumerating objects: 20, done.\u001b[K\n",
            "remote: Counting objects: 100% (20/20), done.\u001b[K\n",
            "remote: Compressing objects: 100% (13/13), done.\u001b[K\n",
            "remote: Total 20 (delta 2), reused 17 (delta 2), pack-reused 0\u001b[K\n",
            "Unpacking objects: 100% (20/20), done.\n",
            "/content/Real-ESRGAN\n",
            "Requirement already satisfied: numpy in /usr/local/lib/python3.7/dist-packages (from -r requirements.txt (line 1)) (1.19.5)\n",
            "Requirement already satisfied: opencv-python in /usr/local/lib/python3.7/dist-packages (from -r requirements.txt (line 2)) (4.1.2.30)\n",
            "Requirement already satisfied: Pillow in /usr/local/lib/python3.7/dist-packages (from -r requirements.txt (line 3)) (7.1.2)\n",
            "Requirement already satisfied: torch>=1.7 in /usr/local/lib/python3.7/dist-packages (from -r requirements.txt (line 4)) (1.9.0+cu111)\n",
            "Requirement already satisfied: torchvision>=0.8.0 in /usr/local/lib/python3.7/dist-packages (from -r requirements.txt (line 5)) (0.10.0+cu111)\n",
            "Requirement already satisfied: tqdm in /usr/local/lib/python3.7/dist-packages (from -r requirements.txt (line 6)) (4.62.3)\n",
            "Requirement already satisfied: typing-extensions in /usr/local/lib/python3.7/dist-packages (from torch>=1.7->-r requirements.txt (line 4)) (3.7.4.3)\n",
            "--2021-11-04 05:13:26--  https://ipfs.pollinations.ai/ipfs/QmbgtAqZyBTUhyUFh6ZZD5HbgWJBSNnnPrzj72k4ikq7PV/SBER_RealESRGAN_x4.pth\n",
            "Resolving pollinations.ai (pollinations.ai)... 50.18.120.10, 138.197.207.178, 2604:a880:2:d0::212a:f001, ...\n",
            "Connecting to pollinations.ai (pollinations.ai)|50.18.120.10|:443... connected.\n",
            "HTTP request sent, awaiting response... 200 OK\n",
            "Length: 67040989 (64M) [application/zip]\n",
            "Saving to: ‘SBER_RealESRGAN_x4.pth’\n",
            "\n",
            "SBER_RealESRGAN_x4. 100%[===================>]  63.93M  20.8MB/s    in 3.5s    \n",
            "\n",
            "2021-11-04 05:13:30 (18.2 MB/s) - ‘SBER_RealESRGAN_x4.pth’ saved [67040989/67040989]\n",
            "\n"
          ]
        }
      ],
      "source": [
        "\n",
        "model_file = f\"RealESRGAN_{upscale_factor}.pth\"\n",
        "model_url = f\"https://nftstorage.link/ipfs/QmYKeprXZFBxhmJAgmtUhaoaVQv6fSibqGwtPMj7AEoWbk/{model_file}\"\n",
        "\n",
        "!git clone https://github.com/sberbank-ai/Real-ESRGAN\n",
        "%cd /content/Real-ESRGAN\n",
        "!pip install -r requirements.txt\n",
        "\n",
        "!wget -N {model_url}"
      ]
    },
    {
      "cell_type": "markdown",
      "metadata": {
        "id": "zmqafWsYu5GT"
      },
      "source": [
        "# Загрузка изображений/архивов\n"
      ]
    },
    {
      "cell_type": "markdown",
      "metadata": {
        "id": "3PRdwMngvxKn"
      },
      "source": [
        "# Запуск модели"
      ]
    },
    {
      "cell_type": "code",
      "execution_count": null,
      "metadata": {
        "colab": {
          "base_uri": "https://localhost:8080/"
        },
        "id": "aCrW4PDUv8mb",
        "outputId": "5c515efa-c22f-4781-a3a4-407b6f9b0651"
      },
      "outputs": [
        {
          "name": "stdout",
          "output_type": "stream",
          "text": [
            "device: cuda\n"
          ]
        }
      ],
      "source": [
        "# Создание модели\n",
        "from realesrgan import RealESRGAN\n",
        "from PIL import Image\n",
        "import numpy as np\n",
        "import torch\n",
        "\n",
        "device = torch.device('cuda' if torch.cuda.is_available() else 'cpu')\n",
        "print('device:', device)\n",
        "\n",
        "scale_map = {\n",
        "    \"x2\":2, \"x4\":4, \"x8\":8\n",
        "}\n",
        "\n",
        "model = RealESRGAN(device, scale=scale_map[upscale_factor])\n",
        "model.load_weights(model_file)"
      ]
    },
    {
      "cell_type": "markdown",
      "metadata": {
        "id": "8geveyawM5m2"
      },
      "source": [
        "Улучшение одного изображения:"
      ]
    },
    {
      "cell_type": "code",
      "execution_count": null,
      "metadata": {
        "id": "F_9jjIacMzE3"
      },
      "outputs": [],
      "source": [
        "from glob import glob\n",
        "from tqdm import tqdm\n",
        "\n",
        "images = glob(f\"{input_path}/*.jpg\") + glob(f\"{input_path}/*.png\") + glob(f\"{input_path}/*.jpeg\")\n",
        "images = list(sorted(images))\n",
        "\n",
        "tmp_output = \"/tmp/sr_output\"\n",
        "!rm -rf $tmp_output\n",
        "!mkdir -p $tmp_output\n",
        "\n",
        "for image_file in tqdm(images):\n",
        "\n",
        "    #print(\"image_file\", image_file)\n",
        "    \n",
        "    image = Image.open(image_file).convert('RGB')\n",
        "    sr_image = model.predict(np.array(image))\n",
        "\n",
        "    # Get the filename and extension\n",
        "    filename = image_file.split('/')[-1]\n",
        "    ext = filename.split('.')[-1]\n",
        "   \n",
        "    # Save to tmp_output\n",
        "    out_file = f\"{tmp_output}/{filename}\"\n",
        "    sr_image.save(out_file)\n",
        "\n",
        "    !cp \"$out_file\" $output_path/frame.{ext}\n",
        "\n",
        "if is_video:\n",
        "    # Create video\n",
        "    !ffmpeg -framerate $framerate -i {tmp_output}/%05d.jpg -c:v libx264 -pix_fmt yuv420p $input_path/output.mp4\n",
        "    \n",
        "    # Check if original video contains audio stream\n",
        "    has_audio_stream = !ffprobe -v error -select_streams a -show_entries stream=codec_name -of default=noprint_wrappers=1:nokey=1 \"$video_file\"\n",
        "    print(\"has_audio_stream\",has_audio_stream)\n",
        "    has_audio_stream = len(has_audio_stream) > 0\n",
        "\n",
        "    if has_audio_stream:\n",
        "        # Combine with audio of original video\n",
        "        !ffmpeg -i $input_path/output.mp4 -i \"$video_file\" -c copy -map 0:v -map 1:a -shortest $output_path/output.mp4\n",
        "    \n",
        "    else:\n",
        "        # Copy output video\n",
        "        !cp $input_path/output.mp4 $output_path/output.mp4\n",
        "        \n",
        "    import os.path\n",
        "    if not os.path.exists(output_path + '/output.mp4'):\n",
        "        raise Exception(\"Expected output file does not exist.\")\n",
        "    !rm {output_path}/*.jpg\n"
      ]
    }
  ],
  "metadata": {
    "accelerator": "GPU",
    "colab": {
      "collapsed_sections": [],
      "include_colab_link": true,
      "name": "Super-Resolution - ruRealESRGAN / Установка",
      "provenance": []
    },
    "kernelspec": {
      "display_name": "Python 3",
      "name": "python3"
    },
    "language_info": {
      "name": "python"
    }
  },
  "nbformat": 4,
  "nbformat_minor": 0
}
