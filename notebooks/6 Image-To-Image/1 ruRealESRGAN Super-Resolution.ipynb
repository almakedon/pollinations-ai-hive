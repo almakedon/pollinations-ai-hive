{
  "cells": [
    {
      "cell_type": "markdown",
      "metadata": {
        "id": "view-in-github",
        "colab_type": "text"
      },
      "source": [
        "<a href=\"https://colab.research.google.com/github/pollinations/hive/blob/main/notebooks/6%20Image-To-Image/1%20ruRealESRGAN%20Super-Resolution.ipynb\" target=\"_parent\"><img src=\"https://colab.research.google.com/assets/colab-badge.svg\" alt=\"Open In Colab\"/></a>"
      ]
    },
    {
      "cell_type": "markdown",
      "metadata": {
        "id": "Czlr7j7-t1Fw"
      },
      "source": [
        "<img src=\"https://ipfs.pollinations.ai/ipfs/QmbPCzFiLrskHNQKs5eM8CGkEQ6qvirBTmvGLkKVWRcCwX\" width=\"300\" height=\"300\" />\n",
        "\n",
        "Scale up images or videos, turning them HD.\n",
        "\n",
        "---\n",
        "Uses [Real-ESRGAN](https://github.com/xinntao/Real-ESRGAN) to perform neural super-resolution (creates HD images or videos from low-resolution).\n",
        "\n",
        "The modelds were fine-tuned by russian company [Sber](https://github.com/sberbank-ai/ru-dalle)."
      ]
    },
    {
      "cell_type": "code",
      "execution_count": 7,
      "metadata": {
        "cellView": "form",
        "id": "NkN4oxB5U1Ce"
      },
      "outputs": [],
      "source": [
        "\n",
        "# The image or video to scale up\n",
        "image_file = ''  #@param {type: \"string\", accepted_files: \"video,image\"}\n",
        "\n",
        "# By what amount to upscale the image\n",
        "upscale_factor = \"x4\"  #@param ['x2', 'x4', 'x8']\n",
        "\n",
        "output_path = \"/content\"\n"
      ]
    },
    {
      "cell_type": "code",
      "execution_count": 8,
      "metadata": {
        "id": "bw_657HXbu18",
        "outputId": "99a607ec-cf78-43ab-f75e-a4d2a92409d3",
        "colab": {
          "base_uri": "https://localhost:8080/"
        }
      },
      "outputs": [
        {
          "output_type": "stream",
          "name": "stdout",
          "text": [
            "framerate 40.0\n",
            "ffmpeg version 3.4.11-0ubuntu0.1 Copyright (c) 2000-2022 the FFmpeg developers\n",
            "  built with gcc 7 (Ubuntu 7.5.0-3ubuntu1~18.04)\n",
            "  configuration: --prefix=/usr --extra-version=0ubuntu0.1 --toolchain=hardened --libdir=/usr/lib/x86_64-linux-gnu --incdir=/usr/include/x86_64-linux-gnu --enable-gpl --disable-stripping --enable-avresample --enable-avisynth --enable-gnutls --enable-ladspa --enable-libass --enable-libbluray --enable-libbs2b --enable-libcaca --enable-libcdio --enable-libflite --enable-libfontconfig --enable-libfreetype --enable-libfribidi --enable-libgme --enable-libgsm --enable-libmp3lame --enable-libmysofa --enable-libopenjpeg --enable-libopenmpt --enable-libopus --enable-libpulse --enable-librubberband --enable-librsvg --enable-libshine --enable-libsnappy --enable-libsoxr --enable-libspeex --enable-libssh --enable-libtheora --enable-libtwolame --enable-libvorbis --enable-libvpx --enable-libwavpack --enable-libwebp --enable-libx265 --enable-libxml2 --enable-libxvid --enable-libzmq --enable-libzvbi --enable-omx --enable-openal --enable-opengl --enable-sdl2 --enable-libdc1394 --enable-libdrm --enable-libiec61883 --enable-chromaprint --enable-frei0r --enable-libopencv --enable-libx264 --enable-shared\n",
            "  libavutil      55. 78.100 / 55. 78.100\n",
            "  libavcodec     57.107.100 / 57.107.100\n",
            "  libavformat    57. 83.100 / 57. 83.100\n",
            "  libavdevice    57. 10.100 / 57. 10.100\n",
            "  libavfilter     6.107.100 /  6.107.100\n",
            "  libavresample   3.  7.  0 /  3.  7.  0\n",
            "  libswscale      4.  8.100 /  4.  8.100\n",
            "  libswresample   2.  9.100 /  2.  9.100\n",
            "  libpostproc    54.  7.100 / 54.  7.100\n",
            "Input #0, mov,mp4,m4a,3gp,3g2,mj2, from '/content/ground_bass.mp4':\n",
            "  Metadata:\n",
            "    major_brand     : isom\n",
            "    minor_version   : 512\n",
            "    compatible_brands: isomiso2avc1mp41\n",
            "    encoder         : Lavf58.29.100\n",
            "  Duration: 00:00:20.67, start: 0.000000, bitrate: 12890 kb/s\n",
            "    Stream #0:0(und): Video: h264 (High) (avc1 / 0x31637661), yuv420p, 512x512, 12778 kb/s, 40 fps, 40 tbr, 10240 tbn, 80 tbc (default)\n",
            "    Metadata:\n",
            "      handler_name    : VideoHandler\n",
            "    Stream #0:1(und): Audio: aac (LC) (mp4a / 0x6134706D), 44100 Hz, stereo, fltp, 130 kb/s (default)\n",
            "    Metadata:\n",
            "      handler_name    : SoundHandler\n",
            "Stream mapping:\n",
            "  Stream #0:0 -> #0:0 (h264 (native) -> mjpeg (native))\n",
            "Press [q] to stop, [?] for help\n",
            "\u001b[1;34m[swscaler @ 0x561ffd03e000] \u001b[0m\u001b[0;33mdeprecated pixel format used, make sure you did set range correctly\n",
            "\u001b[0mOutput #0, image2, to '/tmp/sr_input/%05d.jpg':\n",
            "  Metadata:\n",
            "    major_brand     : isom\n",
            "    minor_version   : 512\n",
            "    compatible_brands: isomiso2avc1mp41\n",
            "    encoder         : Lavf57.83.100\n",
            "    Stream #0:0(und): Video: mjpeg, yuvj420p(pc), 512x512, q=2-31, 200 kb/s, 40 fps, 40 tbn, 40 tbc (default)\n",
            "    Metadata:\n",
            "      handler_name    : VideoHandler\n",
            "      encoder         : Lavc57.107.100 mjpeg\n",
            "    Side data:\n",
            "      cpb: bitrate max/min/avg: 0/0/200000 buffer size: 0 vbv_delay: -1\n",
            "frame=  825 fps=179 q=24.8 Lsize=N/A time=00:00:20.62 bitrate=N/A speed=4.46x    \n",
            "video:21299kB audio:0kB subtitle:0kB other streams:0kB global headers:0kB muxing overhead: unknown\n"
          ]
        }
      ],
      "source": [
        "video_file = image_file\n",
        "\n",
        "import mimetypes\n",
        "mimetypes.init()\n",
        "\n",
        "mimestart = mimetypes.guess_type(video_file)[0]\n",
        "if mimestart is None:\n",
        "    raise Exception(\"Could not determine file type of \" + video_file)\n",
        "mimestart = mimestart.split('/')[0]\n",
        "is_video = mimestart == 'video'\n",
        "\n",
        "input_path = \"/tmp/sr_input\"\n",
        "!rm -rf $input_path\n",
        "!mkdir -p $input_path\n",
        "\n",
        "# Copy image or extract video frames and copy to input_path\n",
        "\n",
        "if is_video:\n",
        "    # Save video framerate\n",
        "    framerate = !ffprobe -v error -select_streams v:0 -show_entries stream=r_frame_rate -of default=noprint_wrappers=1:nokey=1 \"$video_file\"\n",
        "    multiplier, divisor = framerate[0].split('/')\n",
        "    framerate = float(multiplier) / float(divisor)\n",
        "    print(\"framerate\", framerate)\n",
        "\n",
        "    # Extract frames\n",
        "    !ffmpeg -i \"$video_file\" $input_path/%05d.jpg\n",
        "else:\n",
        "    !cp \"$video_file\" $input_path/\n",
        "\n",
        "\n",
        "\n"
      ]
    },
    {
      "cell_type": "markdown",
      "metadata": {
        "id": "3haUp1FJskh5"
      },
      "source": [
        "Веса для x2, x4, x8 моделей можно скачать по этой ссылке:\n",
        "https://drive.google.com/drive/folders/16PlVKhTNkSyWFx52RPb2hXPIQveNGbxS"
      ]
    },
    {
      "cell_type": "code",
      "execution_count": 9,
      "metadata": {
        "colab": {
          "base_uri": "https://localhost:8080/"
        },
        "id": "zXm_whLxt-2X",
        "outputId": "eafbadc0-fefe-4e65-c32b-8a54088e8c05"
      },
      "outputs": [
        {
          "output_type": "stream",
          "name": "stdout",
          "text": [
            "Cloning into 'Real-ESRGAN'...\n",
            "remote: Enumerating objects: 96, done.\u001b[K\n",
            "remote: Counting objects: 100% (96/96), done.\u001b[K\n",
            "remote: Compressing objects: 100% (57/57), done.\u001b[K\n",
            "remote: Total 96 (delta 39), reused 82 (delta 31), pack-reused 0\u001b[K\n",
            "Unpacking objects: 100% (96/96), done.\n",
            "/content/Real-ESRGAN\n",
            "Note: checking out 'bfc22e451e470cc7edc62afe3c334c667f6891b4'.\n",
            "\n",
            "You are in 'detached HEAD' state. You can look around, make experimental\n",
            "changes and commit them, and you can discard any commits you make in this\n",
            "state without impacting any branches by performing another checkout.\n",
            "\n",
            "If you want to create a new branch to retain commits you create, you may\n",
            "do so (now or later) by using -b with the checkout command again. Example:\n",
            "\n",
            "  git checkout -b <new-branch-name>\n",
            "\n",
            "HEAD is now at bfc22e4 Updated requirements and add main.py file\n",
            "Looking in indexes: https://pypi.org/simple, https://us-python.pkg.dev/colab-wheels/public/simple/\n",
            "Requirement already satisfied: numpy in /usr/local/lib/python3.7/dist-packages (from -r requirements.txt (line 1)) (1.21.6)\n",
            "Requirement already satisfied: opencv-python in /usr/local/lib/python3.7/dist-packages (from -r requirements.txt (line 2)) (4.6.0.66)\n",
            "Requirement already satisfied: Pillow in /usr/local/lib/python3.7/dist-packages (from -r requirements.txt (line 3)) (7.1.2)\n",
            "Requirement already satisfied: torch>=1.7 in /usr/local/lib/python3.7/dist-packages (from -r requirements.txt (line 4)) (1.12.1+cu113)\n",
            "Requirement already satisfied: torchvision>=0.8.0 in /usr/local/lib/python3.7/dist-packages (from -r requirements.txt (line 5)) (0.13.1+cu113)\n",
            "Requirement already satisfied: tqdm in /usr/local/lib/python3.7/dist-packages (from -r requirements.txt (line 6)) (4.64.1)\n",
            "Requirement already satisfied: imageio in /usr/local/lib/python3.7/dist-packages (from -r requirements.txt (line 7)) (2.9.0)\n",
            "Requirement already satisfied: typing-extensions in /usr/local/lib/python3.7/dist-packages (from torch>=1.7->-r requirements.txt (line 4)) (4.1.1)\n",
            "Requirement already satisfied: requests in /usr/local/lib/python3.7/dist-packages (from torchvision>=0.8.0->-r requirements.txt (line 5)) (2.23.0)\n",
            "Requirement already satisfied: idna<3,>=2.5 in /usr/local/lib/python3.7/dist-packages (from requests->torchvision>=0.8.0->-r requirements.txt (line 5)) (2.10)\n",
            "Requirement already satisfied: certifi>=2017.4.17 in /usr/local/lib/python3.7/dist-packages (from requests->torchvision>=0.8.0->-r requirements.txt (line 5)) (2022.9.24)\n",
            "Requirement already satisfied: urllib3!=1.25.0,!=1.25.1,<1.26,>=1.21.1 in /usr/local/lib/python3.7/dist-packages (from requests->torchvision>=0.8.0->-r requirements.txt (line 5)) (1.24.3)\n",
            "Requirement already satisfied: chardet<4,>=3.0.2 in /usr/local/lib/python3.7/dist-packages (from requests->torchvision>=0.8.0->-r requirements.txt (line 5)) (3.0.4)\n",
            "--2022-10-09 16:37:10--  https://nftstorage.link/ipfs/QmYKeprXZFBxhmJAgmtUhaoaVQv6fSibqGwtPMj7AEoWbk/RealESRGAN_x4.pth\n",
            "Resolving nftstorage.link (nftstorage.link)... 104.18.6.107, 104.18.7.107, 2606:4700::6812:66b, ...\n",
            "Connecting to nftstorage.link (nftstorage.link)|104.18.6.107|:443... connected.\n",
            "HTTP request sent, awaiting response... 302 Found\n",
            "Location: https://bafybeieuknvylhzwp35toodc7mlrwh6vhxcl5bgqqhwwy7vknhtn2ua7cm.ipfs.nftstorage.link/RealESRGAN_x4.pth [following]\n",
            "--2022-10-09 16:37:10--  https://bafybeieuknvylhzwp35toodc7mlrwh6vhxcl5bgqqhwwy7vknhtn2ua7cm.ipfs.nftstorage.link/RealESRGAN_x4.pth\n",
            "Resolving bafybeieuknvylhzwp35toodc7mlrwh6vhxcl5bgqqhwwy7vknhtn2ua7cm.ipfs.nftstorage.link (bafybeieuknvylhzwp35toodc7mlrwh6vhxcl5bgqqhwwy7vknhtn2ua7cm.ipfs.nftstorage.link)... 104.18.6.107, 104.18.7.107, 2606:4700::6812:66b, ...\n",
            "Connecting to bafybeieuknvylhzwp35toodc7mlrwh6vhxcl5bgqqhwwy7vknhtn2ua7cm.ipfs.nftstorage.link (bafybeieuknvylhzwp35toodc7mlrwh6vhxcl5bgqqhwwy7vknhtn2ua7cm.ipfs.nftstorage.link)|104.18.6.107|:443... connected.\n",
            "HTTP request sent, awaiting response... 200 OK\n",
            "Length: 67040989 (64M) [application/zip]\n",
            "Saving to: ‘RealESRGAN_x4.pth’\n",
            "\n",
            "RealESRGAN_x4.pth   100%[===================>]  63.93M  5.66MB/s    in 13s     \n",
            "\n",
            "Last-modified header missing -- time-stamps turned off.\n",
            "2022-10-09 16:37:45 (4.81 MB/s) - ‘RealESRGAN_x4.pth’ saved [67040989/67040989]\n",
            "\n"
          ]
        }
      ],
      "source": [
        "\n",
        "model_file = f\"RealESRGAN_{upscale_factor}.pth\"\n",
        "model_url = f\"https://nftstorage.link/ipfs/QmYKeprXZFBxhmJAgmtUhaoaVQv6fSibqGwtPMj7AEoWbk/{model_file}\"\n",
        "\n",
        "!git clone https://github.com/sberbank-ai/Real-ESRGAN\n",
        "%cd /content/Real-ESRGAN\n",
        "!git checkout bfc22e451e470cc7edc62afe3c334c667f6891b4\n",
        "!pip install -r requirements.txt\n",
        "\n",
        "!wget -N {model_url}"
      ]
    },
    {
      "cell_type": "markdown",
      "metadata": {
        "id": "zmqafWsYu5GT"
      },
      "source": [
        "# Загрузка изображений/архивов\n"
      ]
    },
    {
      "cell_type": "markdown",
      "metadata": {
        "id": "3PRdwMngvxKn"
      },
      "source": [
        "# Запуск модели"
      ]
    },
    {
      "cell_type": "code",
      "execution_count": 10,
      "metadata": {
        "colab": {
          "base_uri": "https://localhost:8080/"
        },
        "id": "aCrW4PDUv8mb",
        "outputId": "4776d041-4092-41e6-ec52-76ee0c93d4f9"
      },
      "outputs": [
        {
          "output_type": "stream",
          "name": "stdout",
          "text": [
            "device: cuda\n"
          ]
        }
      ],
      "source": [
        "# Создание модели\n",
        "from realesrgan import RealESRGAN\n",
        "from PIL import Image\n",
        "import numpy as np\n",
        "import torch\n",
        "\n",
        "device = torch.device('cuda' if torch.cuda.is_available() else 'cpu')\n",
        "print('device:', device)\n",
        "\n",
        "scale_map = {\n",
        "    \"x2\":2, \"x4\":4, \"x8\":8\n",
        "}\n",
        "\n",
        "model = RealESRGAN(device, scale=scale_map[upscale_factor])\n",
        "model.load_weights(model_file)"
      ]
    },
    {
      "cell_type": "markdown",
      "metadata": {
        "id": "8geveyawM5m2"
      },
      "source": [
        "Улучшение одного изображения:"
      ]
    },
    {
      "cell_type": "code",
      "execution_count": null,
      "metadata": {
        "id": "F_9jjIacMzE3",
        "outputId": "ab473941-ae91-4d50-bd38-5352137ddd8c",
        "colab": {
          "base_uri": "https://localhost:8080/"
        }
      },
      "outputs": [
        {
          "output_type": "stream",
          "name": "stderr",
          "text": [
            "  2%|▏         | 19/825 [00:58<36:05,  2.69s/it]"
          ]
        }
      ],
      "source": [
        "from glob import glob\n",
        "from tqdm import tqdm\n",
        "\n",
        "images = glob(f\"{input_path}/*.jpg\") + glob(f\"{input_path}/*.png\") + glob(f\"{input_path}/*.jpeg\")\n",
        "images = list(sorted(images))\n",
        "\n",
        "tmp_output = \"/tmp/sr_output\"\n",
        "!rm -rf $tmp_output\n",
        "!mkdir -p $tmp_output\n",
        "\n",
        "for image_file in tqdm(images):\n",
        "\n",
        "    #print(\"image_file\", image_file)\n",
        "    \n",
        "    image = Image.open(image_file).convert('RGB')\n",
        "    sr_image = model.predict(np.array(image))\n",
        "\n",
        "    # Get the filename and extension\n",
        "    filename = image_file.split('/')[-1]\n",
        "    ext = filename.split('.')[-1]\n",
        "   \n",
        "    # Save to tmp_output\n",
        "    out_file = f\"{tmp_output}/{filename}\"\n",
        "    sr_image.save(out_file)\n",
        "\n",
        "    !cp \"$out_file\" $output_path/frame.{ext}\n",
        "\n",
        "if is_video:\n",
        "    # Create video\n",
        "    !ffmpeg -framerate $framerate -i {tmp_output}/%05d.jpg -c:v libx264 -pix_fmt yuv420p $input_path/output.mp4\n",
        "    \n",
        "    # Check if original video contains audio stream\n",
        "    has_audio_stream = !ffprobe -v error -select_streams a -show_entries stream=codec_name -of default=noprint_wrappers=1:nokey=1 \"$video_file\"\n",
        "    print(\"has_audio_stream\",has_audio_stream)\n",
        "    has_audio_stream = len(has_audio_stream) > 0\n",
        "\n",
        "    if has_audio_stream:\n",
        "        # Combine with audio of original video\n",
        "        !ffmpeg -i $input_path/output.mp4 -i \"$video_file\" -c copy -map 0:v -map 1:a -shortest $output_path/output.mp4\n",
        "    \n",
        "    else:\n",
        "        # Copy output video\n",
        "        !cp $input_path/output.mp4 $output_path/output.mp4\n",
        "        \n",
        "    import os.path\n",
        "    if not os.path.exists(output_path + '/output.mp4'):\n",
        "        raise Exception(\"Expected output file does not exist.\")\n",
        "    !rm {output_path}/*.jpg\n"
      ]
    }
  ],
  "metadata": {
    "accelerator": "GPU",
    "colab": {
      "collapsed_sections": [],
      "name": "Super-Resolution - ruRealESRGAN / Установка",
      "provenance": [],
      "include_colab_link": true
    },
    "kernelspec": {
      "display_name": "Python 3",
      "name": "python3"
    },
    "language_info": {
      "name": "python"
    }
  },
  "nbformat": 4,
  "nbformat_minor": 0
}