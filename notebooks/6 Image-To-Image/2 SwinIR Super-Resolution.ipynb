{
  "cells": [
    {
      "cell_type": "markdown",
      "metadata": {
        "colab_type": "text",
        "id": "view-in-github"
      },
      "source": [
        "<a href=\"https://colab.research.google.com/github/pollinations/hive/blob/main/interesting_notebooks/COG_Swinir.ipynb\" target=\"_parent\"><img src=\"https://colab.research.google.com/assets/colab-badge.svg\" alt=\"Open In Colab\"/></a>"
      ]
    },
    {
      "cell_type": "markdown",
      "metadata": {
        "id": "TzZEa1Qx7ctb"
      },
      "source": [
        "<img src=\"https://i.imgur.com/BKvDhnf.png\" width=\"300\" height=\"300\" />\n",
        "\n",
        "Uses [SwinIR](https://github.com/JingyunLiang/SwinIR) to perform 4x neural super-resolution (creates HD images from low resolution)\n",
        "\n",
        "---\n",
        "Credits: [Jingyun Liang]((https://github.com/JingyunLiang)\n",
        "License: MIT"
      ]
    },
    {
      "cell_type": "code",
      "execution_count": null,
      "metadata": {
        "id": "Whuh8ImK75iP"
      },
      "outputs": [],
      "source": [
        "\n",
        "# The image to scale up\n",
        "image_file = ''  #@param {type: \"string\"}\n",
        "\n",
        "output_path = \"/content\"\n"
      ]
    },
    {
      "cell_type": "code",
      "execution_count": null,
      "metadata": {},
      "outputs": [],
      "source": [
        "gpu, = !nvidia-smi -L\n",
        "print(gpu)\n",
        "if 'A100' in gpu:\n",
        "  torch.backends.cudnn.enabled = False\n",
        "  print('Finished setup for A100')"
      ]
    },
    {
      "cell_type": "code",
      "execution_count": null,
      "metadata": {
        "id": "CBS4FktFUorQ"
      },
      "outputs": [],
      "source": [
        "%cd /content\n",
        "!git clone https://github.com/voodoohop/SwinIR\n",
        "%cd /content/SwinIR"
      ]
    },
    {
      "cell_type": "code",
      "execution_count": null,
      "metadata": {
        "id": "3XXvDRcjU1Uu"
      },
      "outputs": [],
      "source": [
        "!wget -c \"https://github.com/JingyunLiang/SwinIR/releases/download/v0.0/003_realSR_BSRGAN_DFO_s64w8_SwinIR-M_x4_GAN.pth\" -P experiments/pretrained_models\n"
      ]
    },
    {
      "cell_type": "code",
      "execution_count": null,
      "metadata": {
        "id": "gFYrqh6FU3J6"
      },
      "outputs": [],
      "source": [
        "#!pip install \"torchvision==0.9.0\" \"torch==1.8.0\" \"numpy==1.19.4\" \"opencv-python==4.4.0.46\" \"tqdm==4.62.2\" \"Pillow==8.3.2\" \"timm==0.4.12\"\n",
        "!pip install timm\n"
      ]
    },
    {
      "cell_type": "code",
      "execution_count": null,
      "metadata": {
        "id": "HIKdrAIwVFma"
      },
      "outputs": [],
      "source": [
        "#!pip install cog redis\n",
        "#%cd /content/swinir\n",
        "\n",
        "from predict import Predictor\n",
        "p = Predictor()\n",
        "p.setup()\n",
        "\n",
        "path = p.predict(image_file)"
      ]
    },
    {
      "cell_type": "code",
      "execution_count": null,
      "metadata": {
        "id": "sUjqPhZ79UHp"
      },
      "outputs": [],
      "source": [
        "!cp {path} {output_path}"
      ]
    }
  ],
  "metadata": {
    "accelerator": "GPU",
    "colab": {
      "include_colab_link": true,
      "name": "SwinIR Super Resolution",
      "private_outputs": true,
      "provenance": []
    },
    "kernelspec": {
      "display_name": "Python 3",
      "name": "python3"
    },
    "language_info": {
      "name": "python"
    }
  },
  "nbformat": 4,
  "nbformat_minor": 0
}
