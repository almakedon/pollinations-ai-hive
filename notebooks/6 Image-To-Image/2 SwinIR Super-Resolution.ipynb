{
  "nbformat": 4,
  "nbformat_minor": 0,
  "metadata": {
    "colab": {
      "name": "SwinIR Super Resolution",
      "private_outputs": true,
      "provenance": [],
      "include_colab_link": true
    },
    "kernelspec": {
      "name": "python3",
      "display_name": "Python 3"
    },
    "language_info": {
      "name": "python"
    },
    "accelerator": "GPU"
  },
  "cells": [
    {
      "cell_type": "markdown",
      "metadata": {
        "id": "view-in-github",
        "colab_type": "text"
      },
      "source": [
        "<a href=\"https://colab.research.google.com/github/pollinations/hive/blob/main/interesting_notebooks/COG_Swinir.ipynb\" target=\"_parent\"><img src=\"https://colab.research.google.com/assets/colab-badge.svg\" alt=\"Open In Colab\"/></a>"
      ]
    },
    {
      "cell_type": "markdown",
      "source": [
        "<img src=\"https://ipfs.pollinations.ai/ipfs/QmbPCzFiLrskHNQKs5eM8CGkEQ6qvirBTmvGLkKVWRcCwX\" width=\"300\" height=\"300\" />\n",
        "\n",
        "Uses [SwinIR](https://github.com/JingyunLiang/SwinIR) to perform 4x neural super-resolution (creates HD images from low resolution)"
      ],
      "metadata": {
        "id": "TzZEa1Qx7ctb"
      }
    },
    {
      "cell_type": "code",
      "source": [
        "\n",
        "# The image or video to scale up\n",
        "image_file = ''  #@param {type: \"string\"}\n",
        "\n",
        "output_path = \"/content\"\n"
      ],
      "metadata": {
        "id": "Whuh8ImK75iP"
      },
      "execution_count": null,
      "outputs": []
    },
    {
      "cell_type": "code",
      "execution_count": null,
      "metadata": {
        "id": "CBS4FktFUorQ"
      },
      "outputs": [],
      "source": [
        "%cd /content\n",
        "!git clone https://github.com/voodoohop/SwinIR\n",
        "%cd"
      ]
    },
    {
      "cell_type": "code",
      "source": [
        "!bash download-weights.sh\n"
      ],
      "metadata": {
        "id": "3XXvDRcjU1Uu"
      },
      "execution_count": null,
      "outputs": []
    },
    {
      "cell_type": "code",
      "source": [
        "!pip install \"torchvision==0.9.0\" \"torch==1.8.0\" \"numpy==1.19.4\" \"opencv-python==4.4.0.46\" \"tqdm==4.62.2\" \"Pillow==8.3.2\" \"timm==0.4.12\" \"ipython==7.19.0\"\n",
        "!pip install timm"
      ],
      "metadata": {
        "id": "gFYrqh6FU3J6"
      },
      "execution_count": null,
      "outputs": []
    },
    {
      "cell_type": "code",
      "source": [
        "#!pip install cog redis\n",
        "#%cd /content/swinir\n",
        "\n",
        "from predict import Predictor\n",
        "p = Predictor()\n",
        "p.setup()\n",
        "\n",
        "path = p.predict(image_file)"
      ],
      "metadata": {
        "id": "HIKdrAIwVFma"
      },
      "execution_count": null,
      "outputs": []
    },
    {
      "cell_type": "code",
      "source": [
        "!cp {path} {output_path}"
      ],
      "metadata": {
        "id": "sUjqPhZ79UHp"
      },
      "execution_count": null,
      "outputs": []
    }
  ]
}