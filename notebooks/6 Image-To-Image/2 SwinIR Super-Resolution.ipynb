{
  "cells": [
    {
      "cell_type": "markdown",
      "metadata": {
        "colab_type": "text",
        "id": "view-in-github"
      },
      "source": [
        "<a href=\"https://colab.research.google.com/github/pollinations/hive/blob/main/interesting_notebooks/COG_Swinir.ipynb\" target=\"_parent\"><img src=\"https://colab.research.google.com/assets/colab-badge.svg\" alt=\"Open In Colab\"/></a>"
      ]
    },
    {
      "cell_type": "markdown",
      "metadata": {
        "id": "TzZEa1Qx7ctb"
      },
      "source": [
        "<img src=\"https://i.imgur.com/BKvDhnf.png\" width=\"300\" height=\"300\" />\n",
        "\n",
        "Uses [SwinIR](https://github.com/JingyunLiang/SwinIR) to perform 4x neural super-resolution (creates HD images from low resolution)\n",
        "\n",
        "---\n",
        "Credits: [Jingyun Liang]((https://github.com/JingyunLiang)\n",
        "License: MIT"
      ]
    },
    {
      "cell_type": "code",
      "execution_count": null,
      "metadata": {
        "id": "Whuh8ImK75iP"
      },
      "outputs": [],
      "source": [
        "\n",
        "# The image or video to scale up\n",
        "image_file = ''  #@param {type: \"string\", accepted_files: \"video,image\"}\n",
        "\n",
        "output_path = \"/content\"\n"
      ]
    },
    {
      "cell_type": "code",
      "execution_count": null,
      "metadata": {},
      "outputs": [],
      "source": [
        "video_file = image_file\n",
        "\n",
        "import mimetypes\n",
        "mimetypes.init()\n",
        "\n",
        "mimestart = mimetypes.guess_type(video_file)[0]\n",
        "if mimestart is None:\n",
        "    raise Exception(\"Could not determine file type of \" + video_file)\n",
        "mimestart = mimestart.split('/')[0]\n",
        "is_video = mimestart == 'video'\n",
        "\n",
        "input_path = \"/tmp/sr_input\"\n",
        "!rm -rf $input_path\n",
        "!mkdir -p $input_path\n",
        "\n",
        "# Copy image or extract video frames and copy to input_path\n",
        "\n",
        "if is_video:\n",
        "    # Save video framerate\n",
        "    framerate = !ffprobe -v error -select_streams v:0 -show_entries stream=r_frame_rate -of default=noprint_wrappers=1:nokey=1 \"$video_file\"\n",
        "    multiplier, divisor = framerate[0].split('/')\n",
        "    framerate = float(multiplier) / float(divisor)\n",
        "    print(\"framerate\", framerate)\n",
        "\n",
        "    # Extract frames\n",
        "    !ffmpeg -i \"$video_file\" $input_path/%05d.jpg\n",
        "else:\n",
        "    !cp \"$video_file\" $input_path/\n",
        "\n"
      ]
    },
    {
      "cell_type": "code",
      "execution_count": null,
      "metadata": {},
      "outputs": [],
      "source": [
        "gpu, = !nvidia-smi -L\n",
        "print(gpu)\n",
        "if 'A100' in gpu:\n",
        "  torch.backends.cudnn.enabled = False\n",
        "  print('Finished setup for A100')"
      ]
    },
    {
      "cell_type": "code",
      "execution_count": null,
      "metadata": {
        "id": "CBS4FktFUorQ"
      },
      "outputs": [],
      "source": [
        "%cd /content\n",
        "!git clone https://github.com/voodoohop/SwinIR\n",
        "%cd /content/SwinIR"
      ]
    },
    {
      "cell_type": "code",
      "execution_count": null,
      "metadata": {
        "id": "3XXvDRcjU1Uu"
      },
      "outputs": [],
      "source": [
        "!wget -c \"https://github.com/JingyunLiang/SwinIR/releases/download/v0.0/003_realSR_BSRGAN_DFO_s64w8_SwinIR-M_x4_GAN.pth\" -P experiments/pretrained_models\n"
      ]
    },
    {
      "cell_type": "code",
      "execution_count": null,
      "metadata": {
        "id": "gFYrqh6FU3J6"
      },
      "outputs": [],
      "source": [
        "#!pip install \"torchvision==0.9.0\" \"torch==1.8.0\" \"numpy==1.19.4\" \"opencv-python==4.4.0.46\" \"tqdm==4.62.2\" \"Pillow==8.3.2\" \"timm==0.4.12\"\n",
        "!pip install timm\n"
      ]
    },
    {
      "cell_type": "code",
      "execution_count": null,
      "metadata": {
        "id": "HIKdrAIwVFma"
      },
      "outputs": [],
      "source": [
        "#!pip install cog redis\n",
        "#%cd /content/swinir\n",
        "\n",
        "from predict import Predictor\n",
        "p = Predictor()\n",
        "p.setup()\n"
      ]
    },
    {
      "cell_type": "code",
      "execution_count": null,
      "metadata": {
        "id": "sUjqPhZ79UHp"
      },
      "outputs": [],
      "source": []
    },
    {
      "cell_type": "code",
      "execution_count": null,
      "metadata": {},
      "outputs": [],
      "source": [
        "from glob import glob\n",
        "from tqdm import tqdm\n",
        "\n",
        "images = glob(f\"{input_path}/*.jpg\") + glob(f\"{input_path}/*.png\") + glob(f\"{input_path}/*.jpeg\")\n",
        "images = list(sorted(images))\n",
        "\n",
        "tmp_output = \"/tmp/sr_output\"\n",
        "!rm -rf $tmp_output\n",
        "!mkdir -p $tmp_output\n",
        "\n",
        "for image_file in tqdm(images):\n",
        "\n",
        "    #print(\"image_file\", image_file)\n",
        "    \n",
        "\n",
        "    # Get the filename and extension\n",
        "    filename = image_file.split('/')[-1]\n",
        "    ext = filename.split('.')[-1]\n",
        "   \n",
        "    # Save to tmp_output\n",
        "    out_file = f\"{tmp_output}/{filename}\"\n",
        "\n",
        "    path = p.predict(image_file)\n",
        "    !cp \"{path}\" \"{out_file}\"\n",
        "\n",
        "    !cp \"$out_file\" $output_path/frame.{ext}\n",
        "\n",
        "if is_video:\n",
        "    # Create video\n",
        "    !ffmpeg -framerate $framerate -i {tmp_output}/%05d.jpg -c:v libx264 -pix_fmt yuv420p $input_path/output.mp4\n",
        "    \n",
        "    # Check if original video contains audio stream\n",
        "    has_audio_stream = !ffprobe -v error -select_streams a -show_entries stream=codec_name -of default=noprint_wrappers=1:nokey=1 \"$video_file\"\n",
        "    print(\"has_audio_stream\",has_audio_stream)\n",
        "    has_audio_stream = len(has_audio_stream) > 0\n",
        "\n",
        "    if has_audio_stream:\n",
        "        # Combine with audio of original video\n",
        "        !ffmpeg -i $input_path/output.mp4 -i \"$video_file\" -c copy -map 0:v -map 1:a -shortest $output_path/output.mp4\n",
        "    \n",
        "    else:\n",
        "        # Copy output video\n",
        "        !cp $input_path/output.mp4 $output_path/output.mp4\n",
        "        \n",
        "    import os.path\n",
        "    if not os.path.exists(output_path + '/output.mp4'):\n",
        "        raise Exception(\"Expected output file does not exist.\")\n",
        "    !rm {output_path}/*.jpg"
      ]
    }
  ],
  "metadata": {
    "accelerator": "GPU",
    "colab": {
      "include_colab_link": true,
      "name": "SwinIR Super Resolution",
      "private_outputs": true,
      "provenance": []
    },
    "kernelspec": {
      "display_name": "Python 3",
      "name": "python3"
    },
    "language_info": {
      "name": "python"
    }
  },
  "nbformat": 4,
  "nbformat_minor": 0
}
