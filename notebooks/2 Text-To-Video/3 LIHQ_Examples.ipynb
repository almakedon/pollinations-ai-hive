{
  "cells": [
    {
      "cell_type": "markdown",
      "metadata": {
        "colab_type": "text",
        "id": "view-in-github"
      },
      "source": [
        "<a href=\"https://colab.research.google.com/github/pollinations/hive/blob/main/interesting_notebooks/LIHQ_Examples.ipynb\" target=\"_parent\"><img src=\"https://colab.research.google.com/assets/colab-badge.svg\" alt=\"Open In Colab\"/></a>"
      ]
    },
    {
      "cell_type": "markdown",
      "metadata": {
        "id": "3d4L33KGkpby"
      },
      "source": [
        "Transfer text to a speaker"
      ]
    },
    {
      "cell_type": "code",
      "execution_count": null,
      "metadata": {
        "cellView": "form",
        "id": "v9yUOaaOlHaV"
      },
      "outputs": [],
      "source": [
        "#@title Example form fields\n",
        "\n",
        "text_input = \"I said don't enter the rabbit hole. Now you have the salad.\"  #@param {type: \"string\"}\n",
        "image_file = 'https://ipfs.pollinations.ai/ipfs/QmPVD8tDcBymCFYwfC7T2hcvfF8brtvZyYbGNvwk99oqCy/output/frame_00000.png'  #@param {type: \"string\"}\n",
        "\n",
        "output_path = \"/content\""
      ]
    },
    {
      "cell_type": "code",
      "execution_count": null,
      "metadata": {},
      "outputs": [],
      "source": [
        "print(\"got image file\", image_file)"
      ]
    },
    {
      "cell_type": "markdown",
      "metadata": {
        "id": "AsEZjt25Q-aO"
      },
      "source": [
        "# **1) SET UP**"
      ]
    },
    {
      "cell_type": "code",
      "execution_count": null,
      "metadata": {
        "colab": {
          "base_uri": "https://localhost:8080/",
          "height": 1000
        },
        "id": "JHgnF1peQnZD",
        "outputId": "cc4a08b7-6938-4a8e-9362-740d0e9ce9fe"
      },
      "outputs": [],
      "source": [
        "#Git repos\n",
        "\n",
        "#LIHQ\n",
        "!git clone https://github.com/johnGettings/LIHQ\n",
        "\n",
        "%cd LIHQ\n",
        "#Tortoise\n",
        "!git clone https://github.com/neonbjb/tortoise-tts.git\n",
        "#FOMM\n",
        "!git clone https://github.com/AliaksandrSiarohin/first-order-model\n",
        "#Wav2Lip\n",
        "!git clone https://github.com/Rudrabha/Wav2Lip.git\n",
        "#GFPGAN\n",
        "!git clone https://github.com/TencentARC/GFPGAN.git\n",
        "#QVI\n",
        "!git clone https://github.com/xuxy09/QVI\n",
        "#MODNet\n",
        "!git clone https://github.com/ZHKKKe/MODNet\n",
        "\n",
        "\n",
        "###LIHQ\n",
        "!pip install -r requirements.txt\n",
        "\n",
        "###Tortoise\n",
        "%mv '/content/LIHQ/tortoise-tts' '/content/LIHQ/tortoise_tts'\n",
        "%cd /content/LIHQ/tortoise_tts\n",
        "!python3 setup.py install\n",
        "\n",
        "###FOMM\n",
        "%mv '/content/LIHQ/first-order-model' '/content/LIHQ/first_order_model'\n",
        "%cd /content/LIHQ/first_order_model\n",
        "#getting model weights\n",
        "!gdown --id 1DbjXD2nS3jlyCWoJu2HGcLZZjhLC9a2J\n",
        "\n",
        "###Wav2Lip\n",
        "%cd /content/LIHQ/Wav2Lip\n",
        "#Downloading model weights\n",
        "!gdown --id 1eAtM-Ck5RMyMMZoQuoQfYZRU5vDDwBpK -O './checkpoints/wav2lip_gan.pth'\n",
        "!gdown --id 1eAtM-Ck5RMyMMZoQuoQfYZRU5vDDwBpK -O './checkpoints/wav2lip.pth'\n",
        "!wget \"https://www.adrianbulat.com/downloads/python-fan/s3fd-619a316812.pth\" -O \"./face_detection/detection/sfd/s3fd.pth\"\n",
        "\n",
        "#GFPGAN\n",
        "%cd /content/LIHQ/GFPGAN\n",
        "!python setup.py develop\n",
        "!pip install realesrgan  # used for enhancing the background (non-face) regions\n",
        "!wget https://github.com/TencentARC/GFPGAN/releases/download/v1.3.0/GFPGANv1.3.pth -P experiments/pretrained_models\n",
        "\n",
        "###QVI\n",
        "%cd /content/LIHQ/QVI\n",
        "!wget https://www.dropbox.com/s/5auirpk1tijxo1v/model.pt?dl=0 -O './model.pt' \n",
        "!wget https://www.dropbox.com/s/afsqhlzu0rarpmf/pwc-checkpoint.pt?dl=0 -O './utils/pwc-checkpoint.pt'\n",
        "%rm './demo.py'\n",
        "!gdown --id 1xl7ziToar2ZDNpToOOKc8fugw1xeQ6fp -O './demo.py'\n",
        "\n",
        "###MODNET\n",
        "%cd /content/LIHQ/MODNet\n",
        "!gdown --id 1mcr7ALciuAsHCpLnrtG_eop5-EYhbCmz -O pretrained/modnet_photographic_portrait_matting.ckpt\n",
        "\n",
        "%cd /content/LIHQ"
      ]
    },
    {
      "cell_type": "markdown",
      "metadata": {
        "id": "IDqGKiFgRG0D"
      },
      "source": [
        "# **Example 1: Simple Speaker with StyleGAN2 and TorToiSe (Recommended Use)**"
      ]
    },
    {
      "cell_type": "markdown",
      "metadata": {
        "id": "4oGNAuhIS6r8"
      },
      "source": [
        "**Generating audio from TorToiSe** (Or you can always put your own audio in the audio folders)"
      ]
    },
    {
      "cell_type": "code",
      "execution_count": null,
      "metadata": {
        "colab": {
          "base_uri": "https://localhost:8080/",
          "height": 563,
          "referenced_widgets": [
            "fb847045b0a745f49db8bf4b0f0512a9",
            "4c4d0bd3af1042e0b660813cd6ffca40",
            "bc7f3fe145b045328a26267de2ccf79b",
            "ae8f4d98dfeb413fbaadefcfef84f1e0",
            "deef3482abff4541b72a2a13f4ba7d06",
            "f7a9ee03ccbb4d4d9a4c44cca3c80a0f",
            "e03a81f819ea4174b2baae284cf787a5",
            "32091aa73db146ed9331168f782bffc7",
            "bbf790117f1e4623bdab6cb91bdc4e6f",
            "ff87cc3f97da4cc5a735268ab7061cea",
            "5ef4c77a2df04b22b82efac854c7a176",
            "6f879136831a44058301739e5bd69dbf",
            "7713047f3b6b48fd809a2b4807aaaed6",
            "a0557202be1d493ea60fc001ebb0b5ce",
            "e6b111348fa4478fb283da70fb41575b",
            "863d0765d1644e5f893cf2a6da4e1fa3",
            "0b123820b99f4de2b5f4948223e6ecff",
            "e136781037e54bf3b37dc63ebb7513b8",
            "95f13f97f1e349b08d576edb371942ba",
            "6198f3c0313f4017b85788ff0b5b147e",
            "6e627fc261f9463eb0e80a869e45e625",
            "e91378d3aee24175b70d98343cd5529b",
            "693f88b67f4f46f5a21a699c01bc219a",
            "ca13a41692d541739a1abd1031c32169",
            "4b6b8cf3171043aa8be337b40679ed39",
            "26b5db3b14014500a2eee65db4dd177f",
            "863b62fa213f46248a536c5568ed9ae9",
            "ca22292812dc4bc5bc29ddea80cb382d",
            "ed71867e75094b3b99c23c01b405eba7",
            "46b8d3238537496fabedfd63087c859b",
            "198109605d764f0584e72574bc97fe34",
            "7b0a24e43d5c4ac09bfa3951d5c16486",
            "303a0bb5a0194fd68c597db61f7f6dd6",
            "fd882cc91cc24a3d8e39312cedb00e44",
            "8baf6ee42ba14062b29c04d257a0df4e",
            "7a1f0f3618be4031a2085a211d5b3533",
            "c8bc145466364af2aa62ca95fab090dd",
            "667db2d56a544a098ef130cf37e7f9d9",
            "a9cd894ea0a6425fa10c837917fee7cf",
            "0fc77be19b2c441d971639abfcb38f1a",
            "4fbcd080c3674ac7bd1990fdebd4eab1",
            "b334f68be11644a5bcdbb10e67413433",
            "be75ffd1821c40459924d2411060ead5",
            "169c4e6c09104f97bfe6262a15a42312",
            "656ef7a7a08e4793aedbadec118b54e3",
            "20e2efd1b3f9425ca71d5a417bb9043e",
            "182257456fc44dcf8f55271d8d34be47",
            "a15a819ef3ca4cf594dfefff90694b7c",
            "2ae917a53efb4525ac02ed7374efebba",
            "8aa7962e24724b3a8341581a03dd95be",
            "dc424bf904a141af85763397400c4dcf",
            "a8987032ea40419d98f9bb948fe9898b",
            "23f65eaa99154a32970d9b65b910b133",
            "8960312bf54646368e54b70fa510b292",
            "6f1ec2dad2584091bf37c7db3a0beb8d",
            "5dc121dc47754c218f753037b4a799b6",
            "c9dbf4dc1af6415ead00b06060b0c014",
            "1b8309b816284bc8b794237a79847538",
            "260232d881fe4b878fcec8029ad7cb4b",
            "a8881c94a311450dad91c58f7ee996b2",
            "5b31bf6edf4b49e29856042de18a0fe8",
            "76237081557f4d3c82d60d4ca7829985",
            "34e5eba106534149b006e12ee6b2c203",
            "d619c0f165cc4502a5cc27c839a99242",
            "137568d1332f44f1af213942d7645b0b",
            "b7bf6a578bd8408498359398699bea2b"
          ]
        },
        "id": "Wjp7vcEPRd0-",
        "outputId": "502c0061-fbda-4ade-ea7c-bda1ddc3e0a3"
      },
      "outputs": [],
      "source": [
        "# Run this once to initialize. Takes about a minute\n",
        "%cd /content/LIHQ/tortoise_tts\n",
        "import torch\n",
        "import torchaudio\n",
        "import torch.nn as nn\n",
        "import torch.nn.functional as F\n",
        "\n",
        "import IPython\n",
        "\n",
        "from tortoise.api import TextToSpeech\n",
        "from tortoise.utils.audio import load_audio, load_voice, load_voices\n",
        "\n",
        "from LIHQ.procedures.tortoise_scripts import tortoise_run, tortoise_combo_run\n",
        "\n",
        "tts = TextToSpeech()"
      ]
    },
    {
      "cell_type": "code",
      "execution_count": null,
      "metadata": {
        "colab": {
          "base_uri": "https://localhost:8080/",
          "height": 345
        },
        "id": "SGG2QeecRgtB",
        "outputId": "b8f56344-908b-4ae5-8e84-a222c20877b2"
      },
      "outputs": [],
      "source": [
        "# Generating a random voice to speak the sentence below. When you generate one you like, save it using the cell below\n",
        "text = text_input\n",
        "voice = 'random'\n",
        "preset = \"high_quality\" #Options: {\"ultra_fast\", \"fast\", \"standard\", \"high_quality\"}.\n",
        "\n",
        "gen = tortoise_run(tts, text, voice, preset)\n",
        "IPython.display.Audio(gen.squeeze(0).cpu(), rate = 24000)"
      ]
    },
    {
      "cell_type": "code",
      "execution_count": null,
      "metadata": {
        "id": "Lp8l3ThnRi_J"
      },
      "outputs": [],
      "source": [
        "# Saving audio from above. Just change the foldername & filename as needed\n",
        "torchaudio.save('/content/LIHQ/input/audio/Folder1/2.wav', gen.squeeze(0).cpu(), 24000)"
      ]
    },
    {
      "cell_type": "markdown",
      "metadata": {
        "id": "2y4sgGquY7L3"
      },
      "source": [
        "**Silence Padding**"
      ]
    },
    {
      "cell_type": "code",
      "execution_count": null,
      "metadata": {
        "colab": {
          "base_uri": "https://localhost:8080/"
        },
        "id": "ziJtbDVKY6LL",
        "outputId": "8daee96a-411d-4740-f1a7-f81ca12b0171"
      },
      "outputs": [],
      "source": [
        "# Adding half a second of silence before audio, because FOMM works better when first frame is a closed mouth.\n",
        "# Also helps with abrupt start/ stop if you want to add silence after as well.\n",
        "from pydub import AudioSegment\n",
        "\n",
        "silence_duration = 500  # Set duration in milliseconds. 1000 is 1 second\n",
        "save_path = '/content/LIHQ/input/audio/Folder1/1.wav'\n",
        "\n",
        "silent_segment = AudioSegment.silent(duration=silence_duration)  \n",
        "silent_segment.export(save_path, format=\"wav\")"
      ]
    },
    {
      "cell_type": "markdown",
      "metadata": {
        "id": "OPU7j6RiSOe2"
      },
      "source": [
        "**Running main script**"
      ]
    },
    {
      "cell_type": "code",
      "execution_count": null,
      "metadata": {
        "colab": {
          "base_uri": "https://localhost:8080/"
        },
        "id": "dbleuzziSEsZ",
        "outputId": "c0322930-4e2d-40fd-8153-7905e655a50f"
      },
      "outputs": [],
      "source": [
        "%cd /content/LIHQ\n",
        "from runLIHQ import run\n",
        "\n",
        "run(face=image_file)\n",
        "\n",
        "!cp /content/LIHQ/output/finalVidsOut/* \"$output_path\"\n",
        "\n",
        "%exit"
      ]
    },
    {
      "cell_type": "markdown",
      "metadata": {
        "id": "PCCMsEfaTk1j"
      },
      "source": [
        "# **Example 2: Multiple Speakers, Replacing Background**"
      ]
    },
    {
      "cell_type": "markdown",
      "metadata": {
        "id": "AYLumQ_uUmhs"
      },
      "source": [
        "**Generating audio from TorToiSe**"
      ]
    },
    {
      "cell_type": "code",
      "execution_count": null,
      "metadata": {
        "id": "nvAgaj5hVE91"
      },
      "outputs": [],
      "source": [
        "# Renaming default audio folder 'Folder1' and creating a second folder, one for each speaker.\n",
        "# Result will be two output videos\n",
        "%mv '/content/LIHQ/input/audio/Folder1' '/content/LIHQ/input/audio/Sister'\n",
        "%mkdir '/content/LIHQ/input/audio/Sister2'"
      ]
    },
    {
      "cell_type": "code",
      "execution_count": null,
      "metadata": {
        "id": "2vef3l7yUmKt"
      },
      "outputs": [],
      "source": [
        "# Run this once. Takes about a minute\n",
        "%cd /content/LIHQ/tortoise_tts\n",
        "import torch\n",
        "import torchaudio\n",
        "import torch.nn as nn\n",
        "import torch.nn.functional as F\n",
        "\n",
        "import IPython\n",
        "\n",
        "from tortoise.api import TextToSpeech\n",
        "from tortoise.utils.audio import load_audio, load_voice, load_voices\n",
        "\n",
        "from LIHQ.procedures.tortoise_scripts import tortoise_run, tortoise_combo_run\n",
        "\n",
        "tts = TextToSpeech()"
      ]
    },
    {
      "cell_type": "code",
      "execution_count": null,
      "metadata": {
        "id": "QxDlvEMBUr_G"
      },
      "outputs": [],
      "source": [
        "# Audio for Speaker 1\n",
        "# Choose one of the provided voices.\n",
        "text = \"Hey, have you seen my sister anywhere?\"\n",
        "voice = 'train_daws'\n",
        "preset = \"standard\" #Options: {\"ultra_fast\", \"fast\", \"standard\", \"high_quality\"}.\n",
        "\n",
        "gen = tortoise_run(tts, text, voice, preset)\n",
        "IPython.display.Audio(gen.squeeze(0).cpu(), rate = 24000)"
      ]
    },
    {
      "cell_type": "code",
      "execution_count": null,
      "metadata": {
        "id": "iiOvazu0U7qF"
      },
      "outputs": [],
      "source": [
        "# Saving audio from above to folder 'Sister'\n",
        "torchaudio.save('/content/LIHQ/input/audio/Sister/2.wav', gen.squeeze(0).cpu(), 24000)"
      ]
    },
    {
      "cell_type": "code",
      "execution_count": null,
      "metadata": {
        "id": "gw7cTnG4Vza2"
      },
      "outputs": [],
      "source": [
        "# Audio for Speaker 2\n",
        "text = \"Sister? I don't have a sister. Leave me alone.\"\n",
        "voice = 'angie'\n",
        "preset = \"standard\" #Options: {\"ultra_fast\", \"fast\", \"standard\", \"high_quality\"}.\n",
        "\n",
        "gen = tortoise_run(tts, text, voice, preset)\n",
        "IPython.display.Audio(gen.squeeze(0).cpu(), rate = 24000)"
      ]
    },
    {
      "cell_type": "code",
      "execution_count": null,
      "metadata": {
        "id": "hOnXO-XiWGNP"
      },
      "outputs": [],
      "source": [
        "# Saving audio from above to folder 'Sister2'\n",
        "torchaudio.save('/content/LIHQ/input/audio/Sister2/2.wav', gen.squeeze(0).cpu(), 24000)"
      ]
    },
    {
      "cell_type": "code",
      "execution_count": null,
      "metadata": {
        "colab": {
          "base_uri": "https://localhost:8080/"
        },
        "id": "4zQrJWI5eQFY",
        "outputId": "cdc45bd8-8e64-4e1a-d2f2-2eabf7981a07"
      },
      "outputs": [],
      "source": [
        "# Silence padding for both speakers\n",
        "from pydub import AudioSegment\n",
        "\n",
        "silence_duration = 500  # Set duration in milliseconds. 1000 is 1 second\n",
        "save_path = '/content/LIHQ/input/audio/Sister/1.wav'\n",
        "\n",
        "silent_segment = AudioSegment.silent(duration=silence_duration)  \n",
        "silent_segment.export(save_path, format=\"wav\")\n",
        "\n",
        "save_path = '/content/LIHQ/input/audio/Sister2/1.wav'\n",
        "\n",
        "silent_segment = AudioSegment.silent(duration=silence_duration)  \n",
        "silent_segment.export(save_path, format=\"wav\")"
      ]
    },
    {
      "cell_type": "markdown",
      "metadata": {
        "id": "KE4GZsYOWade"
      },
      "source": [
        "**Change Background of 'Sister2' (Image Matting)**"
      ]
    },
    {
      "cell_type": "code",
      "execution_count": null,
      "metadata": {
        "id": "A5G5djkaWhA2"
      },
      "outputs": [],
      "source": [
        "#This will create an image mask for every face in the 'LIHQ/input/face/MODNet/input' folder\n",
        "#So let's copy the image we want for our sister2 to that folder\n",
        "%cp '/content/LIHQ/input/face/examples/2237618.png' '/content/LIHQ/input/face/MODNet/input/2237618.png'\n",
        "\n",
        "%cd '/content/LIHQ/MODNet'\n",
        "%rm '/content/LIHQ/input/face/MODNet/input/.gitkeep'\n",
        "%rm -d '/content/LIHQ/input/face/MODNet/input/.ipynb_checkpoints'\n",
        "!python -m demo.image_matting.colab.inference \\\n",
        "        --input-path /content/LIHQ/input/face/MODNet/input --output-path /content/LIHQ/input/face/MODNet/masks \\\n",
        "        --ckpt-path ./pretrained/modnet_photographic_portrait_matting.ckpt"
      ]
    },
    {
      "cell_type": "code",
      "execution_count": null,
      "metadata": {
        "id": "SGV9qrifW1zm"
      },
      "outputs": [],
      "source": [
        "from LIHQ.procedures.matting_scripts import image_matting\n",
        "\n",
        "# Combining mask, source, and background\n",
        "# We will use a backgorund I included in the repo\n",
        "# Check the .input/face/MODNet/output folder for result\n",
        "background_image = '/content/LIHQ/input/background/cute.jpg'\n",
        "face_image = '/content/LIHQ/input/face/MODNet/input/2237618.png'\n",
        "##### Only chnage these two variables above\n",
        "\n",
        "mask_folder = '/content/LIHQ/input/face/MODNet/masks'\n",
        "output_folder = '/content/LIHQ/input/face/MODNet/output'\n",
        "image_matting(background_image, face_image, mask_folder, output_folder)"
      ]
    },
    {
      "cell_type": "markdown",
      "metadata": {
        "id": "D3aC_VvrYGuL"
      },
      "source": [
        "**Running Main script**"
      ]
    },
    {
      "cell_type": "code",
      "execution_count": null,
      "metadata": {
        "id": "93VTmSx2YHIb"
      },
      "outputs": [],
      "source": [
        "%cd /content/LIHQ\n",
        "from runLIHQ import run\n",
        "\n",
        "# face variable can be an array. ['path/to/face/sister', 'path/to/face/sister2']\n",
        "# The order should be the same order that you see the audio folders listed in the files window to the left.\n",
        "face = ['/content/LIHQ/input/face/examples/2237618.png', '/content/LIHQ/input/face/MODNet/output/matte_2237618.png']\n",
        "\n",
        "# If you do not want the two clips to have the same exact head movement, change the ref_vid_offset for each.\n",
        "# LIHQ will crop reference video starting at this point (in seconds)\n",
        "ref_vid_offset = [0, 220]\n",
        "\n",
        "\n",
        "run(face=face, ref_vid_offset=ref_vid_offset)"
      ]
    },
    {
      "cell_type": "markdown",
      "metadata": {
        "id": "eUkmVVxSZTC3"
      },
      "source": [
        "# **Example 3: Switch out TorToiSe for VITS, use own speaker image, utilize frame interpolation**"
      ]
    },
    {
      "cell_type": "markdown",
      "metadata": {
        "id": "t_PBqtsicrLC"
      },
      "source": [
        "**Generating Audio with VITS**"
      ]
    },
    {
      "cell_type": "code",
      "execution_count": null,
      "metadata": {
        "id": "b5PPE5Keco6N"
      },
      "outputs": [],
      "source": [
        "#Setup. Run Once\n",
        "%cd '/content'\n",
        "!git clone https://github.com/jaywalnut310/vits.git\n",
        "%cd '/content/vits'\n",
        "\n",
        "!pip install phonemizer==2.2.1\n",
        "!pip install Unidecode==1.1.1 \n",
        "!pip install pydub\n",
        "\n",
        "#Setup\n",
        "%cd /content/vits/monotonic_align\n",
        "!python setup.py build_ext --inplace\n",
        "\n",
        "!sudo apt-get install espeak -y\n",
        "\n",
        "%cd /content/vits\n",
        "%matplotlib inline\n",
        "import matplotlib.pyplot as plt\n",
        "import IPython.display as ipd\n",
        "\n",
        "import sys\n",
        "import os\n",
        "import cv2\n",
        "import json\n",
        "import math\n",
        "import torch\n",
        "from torch import nn\n",
        "from torch.nn import functional as F\n",
        "from torch.utils.data import DataLoader\n",
        "from pydub import AudioSegment\n",
        "\n",
        "import commons\n",
        "import utils\n",
        "from data_utils import TextAudioLoader, TextAudioCollate, TextAudioSpeakerLoader, TextAudioSpeakerCollate\n",
        "from models import SynthesizerTrn\n",
        "from text.symbols import symbols\n",
        "from text import text_to_sequence\n",
        "\n",
        "from scipy.io.wavfile import write\n",
        "\n",
        "!gdown --id 1ZvqoymRV0L15N6StSSw7h9E0ApivPB3u -O '/content/vits/pretrained_vctk.pth'\n",
        "\n",
        "def get_text(text, hps):\n",
        "    text_norm = text_to_sequence(text, hps.data.text_cleaners)\n",
        "    if hps.data.add_blank:\n",
        "        text_norm = commons.intersperse(text_norm, 0)\n",
        "    text_norm = torch.LongTensor(text_norm)\n",
        "    return text_norm\n",
        "\n",
        "%cd /content/LIHQ/vits\n",
        "hps = utils.get_hparams_from_file(\"/content/vits/configs/vctk_base.json\")\n",
        "\n",
        "net_g = SynthesizerTrn(\n",
        "    len(symbols),\n",
        "    hps.data.filter_length // 2 + 1,\n",
        "    hps.train.segment_size // hps.data.hop_length,\n",
        "    n_speakers=hps.data.n_speakers,\n",
        "    **hps.model).cuda()\n",
        "_ = net_g.eval()\n",
        "\n",
        "_ = utils.load_checkpoint('/content/vits/pretrained_vctk.pth', net_g, None)"
      ]
    },
    {
      "cell_type": "code",
      "execution_count": null,
      "metadata": {
        "id": "qr5AyIAjeKhn"
      },
      "outputs": [],
      "source": [
        "# Write out the text you want spoken\n",
        "# Choose you speaker id (sid variable below)\n",
        "  # Can be a value between 0 and 109. Male and female speakers, with UK accents.\n",
        "stn_tst = get_text(\"Biscuits and coriander and chips and all that. Cheerio.\", hps)\n",
        "with torch.no_grad():\n",
        "    x_tst = stn_tst.cuda().unsqueeze(0)\n",
        "    x_tst_lengths = torch.LongTensor([stn_tst.size(0)]).cuda()\n",
        "    sid = torch.LongTensor([93]).cuda()\n",
        "    audio = net_g.infer(x_tst, x_tst_lengths, sid=sid, noise_scale=.95, noise_scale_w=0.8, length_scale=1.2)[0][0,0].data.cpu().float().numpy()\n",
        "ipd.display(ipd.Audio(audio, rate=hps.data.sampling_rate))"
      ]
    },
    {
      "cell_type": "code",
      "execution_count": null,
      "metadata": {
        "id": "P-1tUnPfeymd"
      },
      "outputs": [],
      "source": [
        "#save audio to folder\n",
        "# We save as 2.wav because we want silence padding before the speech.\n",
        "audio = ipd.Audio(audio, rate=hps.data.sampling_rate)\n",
        "audio = AudioSegment(audio.data, frame_rate=22050, sample_width=2, channels=1)\n",
        "savePath = '/content/LIHQ/input/audio/Folder1/2.wav'\n",
        "audio.export(savePath, format=\"wav\", bitrate=\"64k\")"
      ]
    },
    {
      "cell_type": "markdown",
      "metadata": {
        "id": "5ISOvQWOgjNs"
      },
      "source": [
        "## **Restart Runtime**"
      ]
    },
    {
      "cell_type": "markdown",
      "metadata": {
        "id": "J-I_ADz4fcpN"
      },
      "source": [
        "**Silence Padding**"
      ]
    },
    {
      "cell_type": "code",
      "execution_count": null,
      "metadata": {
        "id": "os92jlBMffp0"
      },
      "outputs": [],
      "source": [
        "from pydub import AudioSegment\n",
        "\n",
        "# Silence before\n",
        "silence_duration = 500  # Set duration in milliseconds. 1000 is 1 second\n",
        "save_path = '/content/LIHQ/input/audio/Folder1/1.wav'\n",
        "\n",
        "silent_segment = AudioSegment.silent(duration=silence_duration)  \n",
        "silent_segment.export(save_path, format=\"wav\")"
      ]
    },
    {
      "cell_type": "markdown",
      "metadata": {
        "id": "96OKDxixha1e"
      },
      "source": [
        "**Crop your own Speaker Image**"
      ]
    },
    {
      "cell_type": "code",
      "execution_count": null,
      "metadata": {
        "id": "HpKjeXCDhjLe"
      },
      "outputs": [],
      "source": [
        "# Set filepath of your image to be cropped, and where you want the cropped image saved.\n",
        "%cd '/content/LIHQ/procedures/face_align'\n",
        "from face_crop import crop_face\n",
        "\n",
        "# Copying picture I want cropped from drive to colab instance\n",
        "!gdown --id 1CNN9UA4xCak7d8Z7rQ97PBswFexCxCKF -O '/content/LIHQ/input/face/Donny.jpg'\n",
        "\n",
        "crop_face(filename = '/content/LIHQ/input/face/Donny.jpg',\n",
        "          outfile = '/content/LIHQ/input/face/DonnyCrop.jpg')"
      ]
    },
    {
      "cell_type": "markdown",
      "metadata": {
        "id": "_hBQaMBUi8yP"
      },
      "source": [
        "**Running main script**"
      ]
    },
    {
      "cell_type": "code",
      "execution_count": null,
      "metadata": {
        "id": "yGKV8xeHi8Iw"
      },
      "outputs": [],
      "source": [
        "# We want video output very smooth and high quality so we set the frame_int to 3 (100 fps). Takes a long time though.\n",
        "%cd /content/LIHQ\n",
        "from runLIHQ import run\n",
        "\n",
        "run(face='/content/LIHQ/input/face/DonnyCrop.jpg', frame_int=3)"
      ]
    },
    {
      "cell_type": "markdown",
      "metadata": {
        "id": "9CVchP8XmrKy"
      },
      "source": [
        "# **Example 4: Create a customized TorToiSe voice, perform postprocessing**"
      ]
    },
    {
      "cell_type": "markdown",
      "metadata": {
        "id": "ZJy8UxhhnU7h"
      },
      "source": [
        "**Generating Customized Audio with TorToiSe**"
      ]
    },
    {
      "cell_type": "code",
      "execution_count": null,
      "metadata": {
        "id": "pw55jIRPnb8G"
      },
      "outputs": [],
      "source": [
        "# Copy audio files to new TorToiSe folder. 5 clips, around 10 seconds in length each.\n",
        "%mkdir '/content/LIHQ/tortoise_tts/tortoise/voices/biden'\n",
        "\n",
        "!gdown --id 1Eco0lWEalc0aG0AYglDUVmiRR9abpEEH -O '/content/LIHQ/tortoise_tts/tortoise/voices/biden/1.wav'\n",
        "!gdown --id 1cxb5TU484jGCIqAb_7TT7RIxkt97km_m -O '/content/LIHQ/tortoise_tts/tortoise/voices/biden/2.wav'\n",
        "!gdown --id 1_Mj1ZT9JJ3zHldV2c1d42A4aaEcSRD3q -O '/content/LIHQ/tortoise_tts/tortoise/voices/biden/3.wav'\n",
        "!gdown --id 1h1cH3qeVWZyBmsquwE439N7s9p_AUScB -O '/content/LIHQ/tortoise_tts/tortoise/voices/biden/4.wav'\n",
        "!gdown --id 104EcuCcBu5B6DB_-gY-7rWUpaWWzVQyn -O '/content/LIHQ/tortoise_tts/tortoise/voices/biden/5.wav'"
      ]
    },
    {
      "cell_type": "code",
      "execution_count": null,
      "metadata": {
        "colab": {
          "base_uri": "https://localhost:8080/"
        },
        "id": "F2elvGEPnUax",
        "outputId": "5247e454-1f16-49ec-9f1f-da77d4911f4c"
      },
      "outputs": [],
      "source": [
        "# Run this once. Takes about a minute\n",
        "%cd /content/LIHQ/tortoise_tts\n",
        "import torch\n",
        "import torchaudio\n",
        "import torch.nn as nn\n",
        "import torch.nn.functional as F\n",
        "\n",
        "import IPython\n",
        "\n",
        "from tortoise.api import TextToSpeech\n",
        "from tortoise.utils.audio import load_audio, load_voice, load_voices\n",
        "\n",
        "from LIHQ.procedures.tortoise_scripts import tortoise_run, tortoise_combo_run\n",
        "\n",
        "tts = TextToSpeech()"
      ]
    },
    {
      "cell_type": "code",
      "execution_count": null,
      "metadata": {
        "id": "vOoWx_IQpXTc"
      },
      "outputs": [],
      "source": [
        "# Directing voice variable to our new 'biden' voice folder\n",
        "# When you generate one you like, save it using the cell below\n",
        "text = \"I'm joe biden and I support this message.\"\n",
        "voice = 'biden'\n",
        "preset = \"high_quality\" #Options: {\"ultra_fast\", \"fast\", \"standard\", \"high_quality\"}.\n",
        "\n",
        "gen = tortoise_run(tts, text, voice, preset)\n",
        "IPython.display.Audio(gen.squeeze(0).cpu(), rate = 24000)"
      ]
    },
    {
      "cell_type": "code",
      "execution_count": null,
      "metadata": {
        "id": "uCxddWzZw0fg"
      },
      "outputs": [],
      "source": [
        "# Saving audio from above\n",
        "torchaudio.save('/content/LIHQ/input/audio/Folder1/2.wav', gen.squeeze(0).cpu(), 24000)"
      ]
    },
    {
      "cell_type": "code",
      "execution_count": null,
      "metadata": {
        "id": "PgA80SLOmebf"
      },
      "outputs": [],
      "source": [
        "# Silence padding\n",
        "from pydub import AudioSegment\n",
        "\n",
        "silence_duration = 300  # Set duration in milliseconds. 1000 is 1 second\n",
        "save_path = '/content/LIHQ/input/audio/Folder1/1.wav'\n",
        "\n",
        "silent_segment = AudioSegment.silent(duration=silence_duration)  \n",
        "silent_segment.export(save_path, format=\"wav\")"
      ]
    },
    {
      "cell_type": "markdown",
      "metadata": {
        "id": "jsG0SMo_xIM6"
      },
      "source": [
        "**Cropping Speaker Image**"
      ]
    },
    {
      "cell_type": "code",
      "execution_count": null,
      "metadata": {
        "id": "yFy0r7TWxM1x"
      },
      "outputs": [],
      "source": [
        "# The output of this cell prints the required parameters to paste the image back onto the same location of the original image.\n",
        "  # We will need this for the postprocessing\n",
        "# Set filepath of your image to be cropped, and where you want the cropped image saved.\n",
        "%cd '/content/LIHQ/procedures/face_align'\n",
        "from face_crop import crop_face\n",
        "\n",
        "# Copying picture I want cropped from drive to colab instance\n",
        "!gdown --id 1oeDMNbQa27stnOGdXgwycXuNyjBj0IRC -O '/content/LIHQ/input/face/biden.jpg'\n",
        "\n",
        "crop_face(filename = '/content/LIHQ/input/face/biden.jpg',\n",
        "          outfile = '/content/LIHQ/input/face/bidenCrop.jpg')"
      ]
    },
    {
      "cell_type": "markdown",
      "metadata": {
        "id": "dYwY05Q2xp94"
      },
      "source": [
        "**Main Script**"
      ]
    },
    {
      "cell_type": "code",
      "execution_count": null,
      "metadata": {
        "id": "37lqqTRGxzpo"
      },
      "outputs": [],
      "source": [
        "%cd /content/LIHQ\n",
        "from runLIHQ import run\n",
        "\n",
        "run(face='/content/LIHQ/input/face/bidenCrop.jpg', frame_int=2)"
      ]
    },
    {
      "cell_type": "markdown",
      "metadata": {
        "id": "kqRA_W8nyHVI"
      },
      "source": [
        "**Postprocessing**"
      ]
    },
    {
      "cell_type": "markdown",
      "metadata": {
        "id": "B1znkYXLzbzQ"
      },
      "source": [
        "**Next three cells are pasting speaker on original full image, resized to fit original location.**"
      ]
    },
    {
      "cell_type": "code",
      "execution_count": null,
      "metadata": {
        "id": "f8u4-ljbySdA"
      },
      "outputs": [],
      "source": [
        "#Important! If you want to paste the speaker in the same location as the original image, look at printouts of image cropping cell above\n",
        "\n",
        "speaker_vid = '/content/LIHQ/output/finalVidsOut/Folder1.mp4' # Your speaker video created by LIHQ\n",
        "background = '/content/LIHQ/input/face/biden.jpg' # Can be image or video (Final video output will be smallest fps between background vid and speaker vid.)\n",
        "bg_resize = False # Set to False or your desired background size in format: (width, height)\n",
        "spkr_resize = (221, 221) # Set to False or your desired speaker size in format: (width, height)\n",
        "offset = [47, 757] # In the form [y, x]. Offset of speaker image onto background, from top left\n",
        "rotation = 9.37 #Counterclockwise, in degrees\n",
        "output_path = \"/content/biden_static.mp4\" # EVERYTHING IN POSTPROCESSING FOLDER GETS DELETED AT THE START OF A NEW RUN!\n",
        "                                    # So save outside of postprocessing folder."
      ]
    },
    {
      "cell_type": "markdown",
      "metadata": {
        "id": "VFhA9e8FyxOg"
      },
      "source": [
        "*Preview*"
      ]
    },
    {
      "cell_type": "code",
      "execution_count": null,
      "metadata": {
        "id": "3Og2pGFEygkI"
      },
      "outputs": [],
      "source": [
        "# Just running a preview of first frame of final video. Adjust parameters above as needed and rerun\n",
        "%cd '/content/LIHQ'\n",
        "\n",
        "from IPython.display import Image\n",
        "from pathlib import Path\n",
        "\n",
        "from procedures.matting_scripts import matte_preview\n",
        "from procedures.matting_scripts import matte_combine\n",
        "\n",
        "#Delete Video Matting files from previous run (if any)\n",
        "for path in Path(\"./output/postprocessing/\").glob(\"**/*\"): #Check path with cwd\n",
        "    if path.is_file():\n",
        "        path.unlink()\n",
        "\n",
        "#Generating image data\n",
        "matte_preview(speaker_vid, background, bg_resize, spkr_resize, offset)\n",
        "\n",
        "#Creating mask with MODNet\n",
        "%cd '/content/LIHQ/MODNet'\n",
        "!python -m demo.image_matting.colab.inference \\\n",
        "        --input-path /content/LIHQ/output/postprocessing/input \\\n",
        "        --output-path /content/LIHQ/output/postprocessing/masks \\\n",
        "        --ckpt-path ./pretrained/modnet_photographic_portrait_matting.ckpt\n",
        "%cd '..'\n",
        "\n",
        "#Combining speaker, mask, background\n",
        "matte_combine(offset, rotation)\n",
        "\n",
        "Image('./output/postprocessing/output/preview.png')"
      ]
    },
    {
      "cell_type": "markdown",
      "metadata": {
        "id": "TtrafekQyzjY"
      },
      "source": [
        "*Final video creation*"
      ]
    },
    {
      "cell_type": "code",
      "execution_count": null,
      "metadata": {
        "id": "nK7VM290yz5A"
      },
      "outputs": [],
      "source": [
        "%cd '/content/LIHQ'\n",
        "\n",
        "from IPython.display import Image\n",
        "from pathlib import Path\n",
        "\n",
        "from procedures.matting_scripts import matte_combine\n",
        "from procedures.matting_scripts import matte_video\n",
        "\n",
        "#Delete Video Matting files from previous run (if any)\n",
        "for path in Path(\"./output/postprocessing/\").glob(\"**/*\"): #Check path with cwd\n",
        "    if path.is_file():\n",
        "        path.unlink()\n",
        "\n",
        "#Generating image data\n",
        "fps = matte_video(speaker_vid, background, bg_resize, spkr_resize)\n",
        "\n",
        "#Creating mask with MODNet\n",
        "%cd '/content/LIHQ/MODNet'\n",
        "!python -m demo.image_matting.colab.inference \\\n",
        "        --input-path /content/LIHQ/output/postprocessing/input \\\n",
        "        --output-path /content/LIHQ/output/postprocessing/masks \\\n",
        "        --ckpt-path ./pretrained/modnet_photographic_portrait_matting.ckpt\n",
        "%cd '..'\n",
        "\n",
        "#Combining speaker, mask, background\n",
        "matte_combine(offset, rotation)\n",
        "\n",
        "!ffmpeg -y -framerate {int(fps)} -i '/content/LIHQ/output/postprocessing/output/%5d.png' -i {speaker_vid} -map 0:v:0 -map 1:a:0 -c:v libx264 -pix_fmt yuv420p -b:v 20000k {output_path}"
      ]
    },
    {
      "cell_type": "markdown",
      "metadata": {
        "id": "A6GE9gEBy_J3"
      },
      "source": [
        "**Next three cells are pasting speaker on generic video background. (Second video)**"
      ]
    },
    {
      "cell_type": "code",
      "execution_count": null,
      "metadata": {
        "colab": {
          "base_uri": "https://localhost:8080/"
        },
        "id": "cuZuyN9AtWaW",
        "outputId": "3efeeb18-ce7f-44e5-9f18-b6715d031be3"
      },
      "outputs": [],
      "source": [
        "#Downloading our background video\n",
        "!gdown --id 14dZnMsSLPeFYpbkB0hUZQdp6fCImrNoE -O '/content/LIHQ/input/background/flag.mp4'"
      ]
    },
    {
      "cell_type": "code",
      "execution_count": null,
      "metadata": {
        "id": "J7C5q8CNzDXZ"
      },
      "outputs": [],
      "source": [
        "speaker_vid = '/content/LIHQ/output/finalVidsOut/Folder1.mp4' # Your speaker video created by LIHQ\n",
        "background = '/content/LIHQ/input/background/flag.mp4' # Can be image or video (Final video output will be smallest fps between background vid and speaker vid.)\n",
        "bg_resize = False # Set to False or your desired background size in format: (width, height)\n",
        "spkr_resize = (1080, 1080) # Set to False or your desired speaker size in format: (width, height)\n",
        "offset = [0, 420] # In the form [y, x]. Offset of speaker image onto background, from top left\n",
        "rotation = 0 # Counterclockwise, in degrees\n",
        "output_path = \"/content/biden_video.mp4\" # EVERYTHING IN POSTPROCESSING FOLDER GETS DELETED AT THE START OF A NEW RUN!\n",
        "                                    # So save outside of postprocessing folder."
      ]
    },
    {
      "cell_type": "markdown",
      "metadata": {
        "id": "fGtgOlTazLyI"
      },
      "source": [
        "*Preview*"
      ]
    },
    {
      "cell_type": "code",
      "execution_count": null,
      "metadata": {
        "id": "SR6Cq0eVzKqx"
      },
      "outputs": [],
      "source": [
        "# Just running a preview of first frame of final video. Adjust parameters above as needed and rerun\n",
        "# See output for a suggestion offset of center, center and center, bottom.\n",
        "%cd '/content/LIHQ'\n",
        "\n",
        "from IPython.display import Image\n",
        "from pathlib import Path\n",
        "\n",
        "from procedures.matting_scripts import matte_preview\n",
        "from procedures.matting_scripts import matte_combine\n",
        "\n",
        "#Delete Video Matting files from previous run (if any)\n",
        "for path in Path(\"./output/postprocessing/\").glob(\"**/*\"): #Check path with cwd\n",
        "    if path.is_file():\n",
        "        path.unlink()\n",
        "\n",
        "#Generating image data\n",
        "matte_preview(speaker_vid, background, bg_resize, spkr_resize, offset)\n",
        "\n",
        "#Creating mask with MODNet\n",
        "%cd '/content/LIHQ/MODNet'\n",
        "!python -m demo.image_matting.colab.inference \\\n",
        "        --input-path /content/LIHQ/output/postprocessing/input \\\n",
        "        --output-path /content/LIHQ/output/postprocessing/masks \\\n",
        "        --ckpt-path ./pretrained/modnet_photographic_portrait_matting.ckpt\n",
        "%cd '..'\n",
        "\n",
        "#Combining speaker, mask, background\n",
        "matte_combine(offset, rotation)\n",
        "\n",
        "Image('./output/postprocessing/output/preview.png')"
      ]
    },
    {
      "cell_type": "markdown",
      "metadata": {
        "id": "AazEDNRZzZmC"
      },
      "source": [
        "*Final video creation*"
      ]
    },
    {
      "cell_type": "code",
      "execution_count": null,
      "metadata": {
        "id": "3nDgz0dszVsI"
      },
      "outputs": [],
      "source": [
        "%cd '/content/LIHQ'\n",
        "\n",
        "from IPython.display import Image\n",
        "from pathlib import Path\n",
        "\n",
        "from procedures.matting_scripts import matte_combine\n",
        "from procedures.matting_scripts import matte_video\n",
        "\n",
        "#Delete Video Matting files from previous run (if any)\n",
        "for path in Path(\"./output/postprocessing/\").glob(\"**/*\"): #Check path with cwd\n",
        "    if path.is_file():\n",
        "        path.unlink()\n",
        "\n",
        "#Generating image data\n",
        "fps = matte_video(speaker_vid, background, bg_resize, spkr_resize)\n",
        "\n",
        "#Creating mask with MODNet\n",
        "%cd '/content/LIHQ/MODNet'\n",
        "!python -m demo.image_matting.colab.inference \\\n",
        "        --input-path /content/LIHQ/output/postprocessing/input \\\n",
        "        --output-path /content/LIHQ/output/postprocessing/masks \\\n",
        "        --ckpt-path ./pretrained/modnet_photographic_portrait_matting.ckpt\n",
        "%cd '..'\n",
        "\n",
        "#Combining speaker, mask, background\n",
        "matte_combine(offset, rotation)\n",
        "\n",
        "!ffmpeg -y -framerate {int(fps)} -i '/content/LIHQ/output/postprocessing/output/%5d.png' -i {speaker_vid} -map 0:v:0 -map 1:a:0 -c:v libx264 -pix_fmt yuv420p -b:v 20000k {output_path}"
      ]
    }
  ],
  "metadata": {
    "accelerator": "GPU",
    "colab": {
      "collapsed_sections": [
        "AsEZjt25Q-aO"
      ],
      "include_colab_link": true,
      "name": "LIHQ Examples",
      "provenance": []
    },
    "kernelspec": {
      "display_name": "Python 3",
      "name": "python3"
    },
    "language_info": {
      "name": "python"
    },
    "widgets": {
      "application/vnd.jupyter.widget-state+json": {
        "0b123820b99f4de2b5f4948223e6ecff": {
          "model_module": "@jupyter-widgets/base",
          "model_module_version": "1.2.0",
          "model_name": "LayoutModel",
          "state": {
            "_model_module": "@jupyter-widgets/base",
            "_model_module_version": "1.2.0",
            "_model_name": "LayoutModel",
            "_view_count": null,
            "_view_module": "@jupyter-widgets/base",
            "_view_module_version": "1.2.0",
            "_view_name": "LayoutView",
            "align_content": null,
            "align_items": null,
            "align_self": null,
            "border": null,
            "bottom": null,
            "display": null,
            "flex": null,
            "flex_flow": null,
            "grid_area": null,
            "grid_auto_columns": null,
            "grid_auto_flow": null,
            "grid_auto_rows": null,
            "grid_column": null,
            "grid_gap": null,
            "grid_row": null,
            "grid_template_areas": null,
            "grid_template_columns": null,
            "grid_template_rows": null,
            "height": null,
            "justify_content": null,
            "justify_items": null,
            "left": null,
            "margin": null,
            "max_height": null,
            "max_width": null,
            "min_height": null,
            "min_width": null,
            "object_fit": null,
            "object_position": null,
            "order": null,
            "overflow": null,
            "overflow_x": null,
            "overflow_y": null,
            "padding": null,
            "right": null,
            "top": null,
            "visibility": null,
            "width": null
          }
        },
        "0fc77be19b2c441d971639abfcb38f1a": {
          "model_module": "@jupyter-widgets/controls",
          "model_module_version": "1.5.0",
          "model_name": "DescriptionStyleModel",
          "state": {
            "_model_module": "@jupyter-widgets/controls",
            "_model_module_version": "1.5.0",
            "_model_name": "DescriptionStyleModel",
            "_view_count": null,
            "_view_module": "@jupyter-widgets/base",
            "_view_module_version": "1.2.0",
            "_view_name": "StyleView",
            "description_width": ""
          }
        },
        "137568d1332f44f1af213942d7645b0b": {
          "model_module": "@jupyter-widgets/base",
          "model_module_version": "1.2.0",
          "model_name": "LayoutModel",
          "state": {
            "_model_module": "@jupyter-widgets/base",
            "_model_module_version": "1.2.0",
            "_model_name": "LayoutModel",
            "_view_count": null,
            "_view_module": "@jupyter-widgets/base",
            "_view_module_version": "1.2.0",
            "_view_name": "LayoutView",
            "align_content": null,
            "align_items": null,
            "align_self": null,
            "border": null,
            "bottom": null,
            "display": null,
            "flex": null,
            "flex_flow": null,
            "grid_area": null,
            "grid_auto_columns": null,
            "grid_auto_flow": null,
            "grid_auto_rows": null,
            "grid_column": null,
            "grid_gap": null,
            "grid_row": null,
            "grid_template_areas": null,
            "grid_template_columns": null,
            "grid_template_rows": null,
            "height": null,
            "justify_content": null,
            "justify_items": null,
            "left": null,
            "margin": null,
            "max_height": null,
            "max_width": null,
            "min_height": null,
            "min_width": null,
            "object_fit": null,
            "object_position": null,
            "order": null,
            "overflow": null,
            "overflow_x": null,
            "overflow_y": null,
            "padding": null,
            "right": null,
            "top": null,
            "visibility": null,
            "width": null
          }
        },
        "169c4e6c09104f97bfe6262a15a42312": {
          "model_module": "@jupyter-widgets/controls",
          "model_module_version": "1.5.0",
          "model_name": "DescriptionStyleModel",
          "state": {
            "_model_module": "@jupyter-widgets/controls",
            "_model_module_version": "1.5.0",
            "_model_name": "DescriptionStyleModel",
            "_view_count": null,
            "_view_module": "@jupyter-widgets/base",
            "_view_module_version": "1.2.0",
            "_view_name": "StyleView",
            "description_width": ""
          }
        },
        "182257456fc44dcf8f55271d8d34be47": {
          "model_module": "@jupyter-widgets/controls",
          "model_module_version": "1.5.0",
          "model_name": "FloatProgressModel",
          "state": {
            "_dom_classes": [],
            "_model_module": "@jupyter-widgets/controls",
            "_model_module_version": "1.5.0",
            "_model_name": "FloatProgressModel",
            "_view_count": null,
            "_view_module": "@jupyter-widgets/controls",
            "_view_module_version": "1.5.0",
            "_view_name": "ProgressView",
            "bar_style": "success",
            "description": "",
            "description_tooltip": null,
            "layout": "IPY_MODEL_a8987032ea40419d98f9bb948fe9898b",
            "max": 181,
            "min": 0,
            "orientation": "horizontal",
            "style": "IPY_MODEL_23f65eaa99154a32970d9b65b910b133",
            "value": 181
          }
        },
        "198109605d764f0584e72574bc97fe34": {
          "model_module": "@jupyter-widgets/controls",
          "model_module_version": "1.5.0",
          "model_name": "ProgressStyleModel",
          "state": {
            "_model_module": "@jupyter-widgets/controls",
            "_model_module_version": "1.5.0",
            "_model_name": "ProgressStyleModel",
            "_view_count": null,
            "_view_module": "@jupyter-widgets/base",
            "_view_module_version": "1.2.0",
            "_view_name": "StyleView",
            "bar_color": null,
            "description_width": ""
          }
        },
        "1b8309b816284bc8b794237a79847538": {
          "model_module": "@jupyter-widgets/controls",
          "model_module_version": "1.5.0",
          "model_name": "FloatProgressModel",
          "state": {
            "_dom_classes": [],
            "_model_module": "@jupyter-widgets/controls",
            "_model_module_version": "1.5.0",
            "_model_name": "FloatProgressModel",
            "_view_count": null,
            "_view_module": "@jupyter-widgets/controls",
            "_view_module_version": "1.5.0",
            "_view_name": "ProgressView",
            "bar_style": "success",
            "description": "",
            "description_tooltip": null,
            "layout": "IPY_MODEL_34e5eba106534149b006e12ee6b2c203",
            "max": 85,
            "min": 0,
            "orientation": "horizontal",
            "style": "IPY_MODEL_d619c0f165cc4502a5cc27c839a99242",
            "value": 85
          }
        },
        "20e2efd1b3f9425ca71d5a417bb9043e": {
          "model_module": "@jupyter-widgets/controls",
          "model_module_version": "1.5.0",
          "model_name": "HTMLModel",
          "state": {
            "_dom_classes": [],
            "_model_module": "@jupyter-widgets/controls",
            "_model_module_version": "1.5.0",
            "_model_name": "HTMLModel",
            "_view_count": null,
            "_view_module": "@jupyter-widgets/controls",
            "_view_module_version": "1.5.0",
            "_view_name": "HTMLView",
            "description": "",
            "description_tooltip": null,
            "layout": "IPY_MODEL_8aa7962e24724b3a8341581a03dd95be",
            "placeholder": "​",
            "style": "IPY_MODEL_dc424bf904a141af85763397400c4dcf",
            "value": "Downloading: 100%"
          }
        },
        "23f65eaa99154a32970d9b65b910b133": {
          "model_module": "@jupyter-widgets/controls",
          "model_module_version": "1.5.0",
          "model_name": "ProgressStyleModel",
          "state": {
            "_model_module": "@jupyter-widgets/controls",
            "_model_module_version": "1.5.0",
            "_model_name": "ProgressStyleModel",
            "_view_count": null,
            "_view_module": "@jupyter-widgets/base",
            "_view_module_version": "1.2.0",
            "_view_name": "StyleView",
            "bar_color": null,
            "description_width": ""
          }
        },
        "260232d881fe4b878fcec8029ad7cb4b": {
          "model_module": "@jupyter-widgets/controls",
          "model_module_version": "1.5.0",
          "model_name": "HTMLModel",
          "state": {
            "_dom_classes": [],
            "_model_module": "@jupyter-widgets/controls",
            "_model_module_version": "1.5.0",
            "_model_name": "HTMLModel",
            "_view_count": null,
            "_view_module": "@jupyter-widgets/controls",
            "_view_module_version": "1.5.0",
            "_view_name": "HTMLView",
            "description": "",
            "description_tooltip": null,
            "layout": "IPY_MODEL_137568d1332f44f1af213942d7645b0b",
            "placeholder": "​",
            "style": "IPY_MODEL_b7bf6a578bd8408498359398699bea2b",
            "value": " 85.0/85.0 [00:00&lt;00:00, 3.35kB/s]"
          }
        },
        "26b5db3b14014500a2eee65db4dd177f": {
          "model_module": "@jupyter-widgets/controls",
          "model_module_version": "1.5.0",
          "model_name": "HTMLModel",
          "state": {
            "_dom_classes": [],
            "_model_module": "@jupyter-widgets/controls",
            "_model_module_version": "1.5.0",
            "_model_name": "HTMLModel",
            "_view_count": null,
            "_view_module": "@jupyter-widgets/controls",
            "_view_module_version": "1.5.0",
            "_view_name": "HTMLView",
            "description": "",
            "description_tooltip": null,
            "layout": "IPY_MODEL_7b0a24e43d5c4ac09bfa3951d5c16486",
            "placeholder": "​",
            "style": "IPY_MODEL_303a0bb5a0194fd68c597db61f7f6dd6",
            "value": " 159/159 [00:00&lt;00:00, 6.28kB/s]"
          }
        },
        "2ae917a53efb4525ac02ed7374efebba": {
          "model_module": "@jupyter-widgets/base",
          "model_module_version": "1.2.0",
          "model_name": "LayoutModel",
          "state": {
            "_model_module": "@jupyter-widgets/base",
            "_model_module_version": "1.2.0",
            "_model_name": "LayoutModel",
            "_view_count": null,
            "_view_module": "@jupyter-widgets/base",
            "_view_module_version": "1.2.0",
            "_view_name": "LayoutView",
            "align_content": null,
            "align_items": null,
            "align_self": null,
            "border": null,
            "bottom": null,
            "display": null,
            "flex": null,
            "flex_flow": null,
            "grid_area": null,
            "grid_auto_columns": null,
            "grid_auto_flow": null,
            "grid_auto_rows": null,
            "grid_column": null,
            "grid_gap": null,
            "grid_row": null,
            "grid_template_areas": null,
            "grid_template_columns": null,
            "grid_template_rows": null,
            "height": null,
            "justify_content": null,
            "justify_items": null,
            "left": null,
            "margin": null,
            "max_height": null,
            "max_width": null,
            "min_height": null,
            "min_width": null,
            "object_fit": null,
            "object_position": null,
            "order": null,
            "overflow": null,
            "overflow_x": null,
            "overflow_y": null,
            "padding": null,
            "right": null,
            "top": null,
            "visibility": null,
            "width": null
          }
        },
        "303a0bb5a0194fd68c597db61f7f6dd6": {
          "model_module": "@jupyter-widgets/controls",
          "model_module_version": "1.5.0",
          "model_name": "DescriptionStyleModel",
          "state": {
            "_model_module": "@jupyter-widgets/controls",
            "_model_module_version": "1.5.0",
            "_model_name": "DescriptionStyleModel",
            "_view_count": null,
            "_view_module": "@jupyter-widgets/base",
            "_view_module_version": "1.2.0",
            "_view_name": "StyleView",
            "description_width": ""
          }
        },
        "32091aa73db146ed9331168f782bffc7": {
          "model_module": "@jupyter-widgets/base",
          "model_module_version": "1.2.0",
          "model_name": "LayoutModel",
          "state": {
            "_model_module": "@jupyter-widgets/base",
            "_model_module_version": "1.2.0",
            "_model_name": "LayoutModel",
            "_view_count": null,
            "_view_module": "@jupyter-widgets/base",
            "_view_module_version": "1.2.0",
            "_view_name": "LayoutView",
            "align_content": null,
            "align_items": null,
            "align_self": null,
            "border": null,
            "bottom": null,
            "display": null,
            "flex": null,
            "flex_flow": null,
            "grid_area": null,
            "grid_auto_columns": null,
            "grid_auto_flow": null,
            "grid_auto_rows": null,
            "grid_column": null,
            "grid_gap": null,
            "grid_row": null,
            "grid_template_areas": null,
            "grid_template_columns": null,
            "grid_template_rows": null,
            "height": null,
            "justify_content": null,
            "justify_items": null,
            "left": null,
            "margin": null,
            "max_height": null,
            "max_width": null,
            "min_height": null,
            "min_width": null,
            "object_fit": null,
            "object_position": null,
            "order": null,
            "overflow": null,
            "overflow_x": null,
            "overflow_y": null,
            "padding": null,
            "right": null,
            "top": null,
            "visibility": null,
            "width": null
          }
        },
        "34e5eba106534149b006e12ee6b2c203": {
          "model_module": "@jupyter-widgets/base",
          "model_module_version": "1.2.0",
          "model_name": "LayoutModel",
          "state": {
            "_model_module": "@jupyter-widgets/base",
            "_model_module_version": "1.2.0",
            "_model_name": "LayoutModel",
            "_view_count": null,
            "_view_module": "@jupyter-widgets/base",
            "_view_module_version": "1.2.0",
            "_view_name": "LayoutView",
            "align_content": null,
            "align_items": null,
            "align_self": null,
            "border": null,
            "bottom": null,
            "display": null,
            "flex": null,
            "flex_flow": null,
            "grid_area": null,
            "grid_auto_columns": null,
            "grid_auto_flow": null,
            "grid_auto_rows": null,
            "grid_column": null,
            "grid_gap": null,
            "grid_row": null,
            "grid_template_areas": null,
            "grid_template_columns": null,
            "grid_template_rows": null,
            "height": null,
            "justify_content": null,
            "justify_items": null,
            "left": null,
            "margin": null,
            "max_height": null,
            "max_width": null,
            "min_height": null,
            "min_width": null,
            "object_fit": null,
            "object_position": null,
            "order": null,
            "overflow": null,
            "overflow_x": null,
            "overflow_y": null,
            "padding": null,
            "right": null,
            "top": null,
            "visibility": null,
            "width": null
          }
        },
        "46b8d3238537496fabedfd63087c859b": {
          "model_module": "@jupyter-widgets/base",
          "model_module_version": "1.2.0",
          "model_name": "LayoutModel",
          "state": {
            "_model_module": "@jupyter-widgets/base",
            "_model_module_version": "1.2.0",
            "_model_name": "LayoutModel",
            "_view_count": null,
            "_view_module": "@jupyter-widgets/base",
            "_view_module_version": "1.2.0",
            "_view_name": "LayoutView",
            "align_content": null,
            "align_items": null,
            "align_self": null,
            "border": null,
            "bottom": null,
            "display": null,
            "flex": null,
            "flex_flow": null,
            "grid_area": null,
            "grid_auto_columns": null,
            "grid_auto_flow": null,
            "grid_auto_rows": null,
            "grid_column": null,
            "grid_gap": null,
            "grid_row": null,
            "grid_template_areas": null,
            "grid_template_columns": null,
            "grid_template_rows": null,
            "height": null,
            "justify_content": null,
            "justify_items": null,
            "left": null,
            "margin": null,
            "max_height": null,
            "max_width": null,
            "min_height": null,
            "min_width": null,
            "object_fit": null,
            "object_position": null,
            "order": null,
            "overflow": null,
            "overflow_x": null,
            "overflow_y": null,
            "padding": null,
            "right": null,
            "top": null,
            "visibility": null,
            "width": null
          }
        },
        "4b6b8cf3171043aa8be337b40679ed39": {
          "model_module": "@jupyter-widgets/controls",
          "model_module_version": "1.5.0",
          "model_name": "FloatProgressModel",
          "state": {
            "_dom_classes": [],
            "_model_module": "@jupyter-widgets/controls",
            "_model_module_version": "1.5.0",
            "_model_name": "FloatProgressModel",
            "_view_count": null,
            "_view_module": "@jupyter-widgets/controls",
            "_view_module_version": "1.5.0",
            "_view_name": "ProgressView",
            "bar_style": "success",
            "description": "",
            "description_tooltip": null,
            "layout": "IPY_MODEL_46b8d3238537496fabedfd63087c859b",
            "max": 159,
            "min": 0,
            "orientation": "horizontal",
            "style": "IPY_MODEL_198109605d764f0584e72574bc97fe34",
            "value": 159
          }
        },
        "4c4d0bd3af1042e0b660813cd6ffca40": {
          "model_module": "@jupyter-widgets/controls",
          "model_module_version": "1.5.0",
          "model_name": "HTMLModel",
          "state": {
            "_dom_classes": [],
            "_model_module": "@jupyter-widgets/controls",
            "_model_module_version": "1.5.0",
            "_model_name": "HTMLModel",
            "_view_count": null,
            "_view_module": "@jupyter-widgets/controls",
            "_view_module_version": "1.5.0",
            "_view_name": "HTMLView",
            "description": "",
            "description_tooltip": null,
            "layout": "IPY_MODEL_f7a9ee03ccbb4d4d9a4c44cca3c80a0f",
            "placeholder": "​",
            "style": "IPY_MODEL_e03a81f819ea4174b2baae284cf787a5",
            "value": "Downloading: 100%"
          }
        },
        "4fbcd080c3674ac7bd1990fdebd4eab1": {
          "model_module": "@jupyter-widgets/base",
          "model_module_version": "1.2.0",
          "model_name": "LayoutModel",
          "state": {
            "_model_module": "@jupyter-widgets/base",
            "_model_module_version": "1.2.0",
            "_model_name": "LayoutModel",
            "_view_count": null,
            "_view_module": "@jupyter-widgets/base",
            "_view_module_version": "1.2.0",
            "_view_name": "LayoutView",
            "align_content": null,
            "align_items": null,
            "align_self": null,
            "border": null,
            "bottom": null,
            "display": null,
            "flex": null,
            "flex_flow": null,
            "grid_area": null,
            "grid_auto_columns": null,
            "grid_auto_flow": null,
            "grid_auto_rows": null,
            "grid_column": null,
            "grid_gap": null,
            "grid_row": null,
            "grid_template_areas": null,
            "grid_template_columns": null,
            "grid_template_rows": null,
            "height": null,
            "justify_content": null,
            "justify_items": null,
            "left": null,
            "margin": null,
            "max_height": null,
            "max_width": null,
            "min_height": null,
            "min_width": null,
            "object_fit": null,
            "object_position": null,
            "order": null,
            "overflow": null,
            "overflow_x": null,
            "overflow_y": null,
            "padding": null,
            "right": null,
            "top": null,
            "visibility": null,
            "width": null
          }
        },
        "5b31bf6edf4b49e29856042de18a0fe8": {
          "model_module": "@jupyter-widgets/base",
          "model_module_version": "1.2.0",
          "model_name": "LayoutModel",
          "state": {
            "_model_module": "@jupyter-widgets/base",
            "_model_module_version": "1.2.0",
            "_model_name": "LayoutModel",
            "_view_count": null,
            "_view_module": "@jupyter-widgets/base",
            "_view_module_version": "1.2.0",
            "_view_name": "LayoutView",
            "align_content": null,
            "align_items": null,
            "align_self": null,
            "border": null,
            "bottom": null,
            "display": null,
            "flex": null,
            "flex_flow": null,
            "grid_area": null,
            "grid_auto_columns": null,
            "grid_auto_flow": null,
            "grid_auto_rows": null,
            "grid_column": null,
            "grid_gap": null,
            "grid_row": null,
            "grid_template_areas": null,
            "grid_template_columns": null,
            "grid_template_rows": null,
            "height": null,
            "justify_content": null,
            "justify_items": null,
            "left": null,
            "margin": null,
            "max_height": null,
            "max_width": null,
            "min_height": null,
            "min_width": null,
            "object_fit": null,
            "object_position": null,
            "order": null,
            "overflow": null,
            "overflow_x": null,
            "overflow_y": null,
            "padding": null,
            "right": null,
            "top": null,
            "visibility": null,
            "width": null
          }
        },
        "5dc121dc47754c218f753037b4a799b6": {
          "model_module": "@jupyter-widgets/controls",
          "model_module_version": "1.5.0",
          "model_name": "HBoxModel",
          "state": {
            "_dom_classes": [],
            "_model_module": "@jupyter-widgets/controls",
            "_model_module_version": "1.5.0",
            "_model_name": "HBoxModel",
            "_view_count": null,
            "_view_module": "@jupyter-widgets/controls",
            "_view_module_version": "1.5.0",
            "_view_name": "HBoxView",
            "box_style": "",
            "children": [
              "IPY_MODEL_c9dbf4dc1af6415ead00b06060b0c014",
              "IPY_MODEL_1b8309b816284bc8b794237a79847538",
              "IPY_MODEL_260232d881fe4b878fcec8029ad7cb4b"
            ],
            "layout": "IPY_MODEL_a8881c94a311450dad91c58f7ee996b2"
          }
        },
        "5ef4c77a2df04b22b82efac854c7a176": {
          "model_module": "@jupyter-widgets/controls",
          "model_module_version": "1.5.0",
          "model_name": "DescriptionStyleModel",
          "state": {
            "_model_module": "@jupyter-widgets/controls",
            "_model_module_version": "1.5.0",
            "_model_name": "DescriptionStyleModel",
            "_view_count": null,
            "_view_module": "@jupyter-widgets/base",
            "_view_module_version": "1.2.0",
            "_view_name": "StyleView",
            "description_width": ""
          }
        },
        "6198f3c0313f4017b85788ff0b5b147e": {
          "model_module": "@jupyter-widgets/controls",
          "model_module_version": "1.5.0",
          "model_name": "ProgressStyleModel",
          "state": {
            "_model_module": "@jupyter-widgets/controls",
            "_model_module_version": "1.5.0",
            "_model_name": "ProgressStyleModel",
            "_view_count": null,
            "_view_module": "@jupyter-widgets/base",
            "_view_module_version": "1.2.0",
            "_view_name": "StyleView",
            "bar_color": null,
            "description_width": ""
          }
        },
        "656ef7a7a08e4793aedbadec118b54e3": {
          "model_module": "@jupyter-widgets/controls",
          "model_module_version": "1.5.0",
          "model_name": "HBoxModel",
          "state": {
            "_dom_classes": [],
            "_model_module": "@jupyter-widgets/controls",
            "_model_module_version": "1.5.0",
            "_model_name": "HBoxModel",
            "_view_count": null,
            "_view_module": "@jupyter-widgets/controls",
            "_view_module_version": "1.5.0",
            "_view_name": "HBoxView",
            "box_style": "",
            "children": [
              "IPY_MODEL_20e2efd1b3f9425ca71d5a417bb9043e",
              "IPY_MODEL_182257456fc44dcf8f55271d8d34be47",
              "IPY_MODEL_a15a819ef3ca4cf594dfefff90694b7c"
            ],
            "layout": "IPY_MODEL_2ae917a53efb4525ac02ed7374efebba"
          }
        },
        "667db2d56a544a098ef130cf37e7f9d9": {
          "model_module": "@jupyter-widgets/base",
          "model_module_version": "1.2.0",
          "model_name": "LayoutModel",
          "state": {
            "_model_module": "@jupyter-widgets/base",
            "_model_module_version": "1.2.0",
            "_model_name": "LayoutModel",
            "_view_count": null,
            "_view_module": "@jupyter-widgets/base",
            "_view_module_version": "1.2.0",
            "_view_name": "LayoutView",
            "align_content": null,
            "align_items": null,
            "align_self": null,
            "border": null,
            "bottom": null,
            "display": null,
            "flex": null,
            "flex_flow": null,
            "grid_area": null,
            "grid_auto_columns": null,
            "grid_auto_flow": null,
            "grid_auto_rows": null,
            "grid_column": null,
            "grid_gap": null,
            "grid_row": null,
            "grid_template_areas": null,
            "grid_template_columns": null,
            "grid_template_rows": null,
            "height": null,
            "justify_content": null,
            "justify_items": null,
            "left": null,
            "margin": null,
            "max_height": null,
            "max_width": null,
            "min_height": null,
            "min_width": null,
            "object_fit": null,
            "object_position": null,
            "order": null,
            "overflow": null,
            "overflow_x": null,
            "overflow_y": null,
            "padding": null,
            "right": null,
            "top": null,
            "visibility": null,
            "width": null
          }
        },
        "693f88b67f4f46f5a21a699c01bc219a": {
          "model_module": "@jupyter-widgets/controls",
          "model_module_version": "1.5.0",
          "model_name": "HBoxModel",
          "state": {
            "_dom_classes": [],
            "_model_module": "@jupyter-widgets/controls",
            "_model_module_version": "1.5.0",
            "_model_name": "HBoxModel",
            "_view_count": null,
            "_view_module": "@jupyter-widgets/controls",
            "_view_module_version": "1.5.0",
            "_view_name": "HBoxView",
            "box_style": "",
            "children": [
              "IPY_MODEL_ca13a41692d541739a1abd1031c32169",
              "IPY_MODEL_4b6b8cf3171043aa8be337b40679ed39",
              "IPY_MODEL_26b5db3b14014500a2eee65db4dd177f"
            ],
            "layout": "IPY_MODEL_863b62fa213f46248a536c5568ed9ae9"
          }
        },
        "6e627fc261f9463eb0e80a869e45e625": {
          "model_module": "@jupyter-widgets/base",
          "model_module_version": "1.2.0",
          "model_name": "LayoutModel",
          "state": {
            "_model_module": "@jupyter-widgets/base",
            "_model_module_version": "1.2.0",
            "_model_name": "LayoutModel",
            "_view_count": null,
            "_view_module": "@jupyter-widgets/base",
            "_view_module_version": "1.2.0",
            "_view_name": "LayoutView",
            "align_content": null,
            "align_items": null,
            "align_self": null,
            "border": null,
            "bottom": null,
            "display": null,
            "flex": null,
            "flex_flow": null,
            "grid_area": null,
            "grid_auto_columns": null,
            "grid_auto_flow": null,
            "grid_auto_rows": null,
            "grid_column": null,
            "grid_gap": null,
            "grid_row": null,
            "grid_template_areas": null,
            "grid_template_columns": null,
            "grid_template_rows": null,
            "height": null,
            "justify_content": null,
            "justify_items": null,
            "left": null,
            "margin": null,
            "max_height": null,
            "max_width": null,
            "min_height": null,
            "min_width": null,
            "object_fit": null,
            "object_position": null,
            "order": null,
            "overflow": null,
            "overflow_x": null,
            "overflow_y": null,
            "padding": null,
            "right": null,
            "top": null,
            "visibility": null,
            "width": null
          }
        },
        "6f1ec2dad2584091bf37c7db3a0beb8d": {
          "model_module": "@jupyter-widgets/controls",
          "model_module_version": "1.5.0",
          "model_name": "DescriptionStyleModel",
          "state": {
            "_model_module": "@jupyter-widgets/controls",
            "_model_module_version": "1.5.0",
            "_model_name": "DescriptionStyleModel",
            "_view_count": null,
            "_view_module": "@jupyter-widgets/base",
            "_view_module_version": "1.2.0",
            "_view_name": "StyleView",
            "description_width": ""
          }
        },
        "6f879136831a44058301739e5bd69dbf": {
          "model_module": "@jupyter-widgets/controls",
          "model_module_version": "1.5.0",
          "model_name": "HBoxModel",
          "state": {
            "_dom_classes": [],
            "_model_module": "@jupyter-widgets/controls",
            "_model_module_version": "1.5.0",
            "_model_name": "HBoxModel",
            "_view_count": null,
            "_view_module": "@jupyter-widgets/controls",
            "_view_module_version": "1.5.0",
            "_view_name": "HBoxView",
            "box_style": "",
            "children": [
              "IPY_MODEL_7713047f3b6b48fd809a2b4807aaaed6",
              "IPY_MODEL_a0557202be1d493ea60fc001ebb0b5ce",
              "IPY_MODEL_e6b111348fa4478fb283da70fb41575b"
            ],
            "layout": "IPY_MODEL_863d0765d1644e5f893cf2a6da4e1fa3"
          }
        },
        "76237081557f4d3c82d60d4ca7829985": {
          "model_module": "@jupyter-widgets/controls",
          "model_module_version": "1.5.0",
          "model_name": "DescriptionStyleModel",
          "state": {
            "_model_module": "@jupyter-widgets/controls",
            "_model_module_version": "1.5.0",
            "_model_name": "DescriptionStyleModel",
            "_view_count": null,
            "_view_module": "@jupyter-widgets/base",
            "_view_module_version": "1.2.0",
            "_view_name": "StyleView",
            "description_width": ""
          }
        },
        "7713047f3b6b48fd809a2b4807aaaed6": {
          "model_module": "@jupyter-widgets/controls",
          "model_module_version": "1.5.0",
          "model_name": "HTMLModel",
          "state": {
            "_dom_classes": [],
            "_model_module": "@jupyter-widgets/controls",
            "_model_module_version": "1.5.0",
            "_model_name": "HTMLModel",
            "_view_count": null,
            "_view_module": "@jupyter-widgets/controls",
            "_view_module_version": "1.5.0",
            "_view_name": "HTMLView",
            "description": "",
            "description_tooltip": null,
            "layout": "IPY_MODEL_0b123820b99f4de2b5f4948223e6ecff",
            "placeholder": "​",
            "style": "IPY_MODEL_e136781037e54bf3b37dc63ebb7513b8",
            "value": "Downloading: 100%"
          }
        },
        "7a1f0f3618be4031a2085a211d5b3533": {
          "model_module": "@jupyter-widgets/controls",
          "model_module_version": "1.5.0",
          "model_name": "FloatProgressModel",
          "state": {
            "_dom_classes": [],
            "_model_module": "@jupyter-widgets/controls",
            "_model_module_version": "1.5.0",
            "_model_name": "FloatProgressModel",
            "_view_count": null,
            "_view_module": "@jupyter-widgets/controls",
            "_view_module_version": "1.5.0",
            "_view_name": "ProgressView",
            "bar_style": "success",
            "description": "",
            "description_tooltip": null,
            "layout": "IPY_MODEL_4fbcd080c3674ac7bd1990fdebd4eab1",
            "max": 1610,
            "min": 0,
            "orientation": "horizontal",
            "style": "IPY_MODEL_b334f68be11644a5bcdbb10e67413433",
            "value": 1610
          }
        },
        "7b0a24e43d5c4ac09bfa3951d5c16486": {
          "model_module": "@jupyter-widgets/base",
          "model_module_version": "1.2.0",
          "model_name": "LayoutModel",
          "state": {
            "_model_module": "@jupyter-widgets/base",
            "_model_module_version": "1.2.0",
            "_model_name": "LayoutModel",
            "_view_count": null,
            "_view_module": "@jupyter-widgets/base",
            "_view_module_version": "1.2.0",
            "_view_name": "LayoutView",
            "align_content": null,
            "align_items": null,
            "align_self": null,
            "border": null,
            "bottom": null,
            "display": null,
            "flex": null,
            "flex_flow": null,
            "grid_area": null,
            "grid_auto_columns": null,
            "grid_auto_flow": null,
            "grid_auto_rows": null,
            "grid_column": null,
            "grid_gap": null,
            "grid_row": null,
            "grid_template_areas": null,
            "grid_template_columns": null,
            "grid_template_rows": null,
            "height": null,
            "justify_content": null,
            "justify_items": null,
            "left": null,
            "margin": null,
            "max_height": null,
            "max_width": null,
            "min_height": null,
            "min_width": null,
            "object_fit": null,
            "object_position": null,
            "order": null,
            "overflow": null,
            "overflow_x": null,
            "overflow_y": null,
            "padding": null,
            "right": null,
            "top": null,
            "visibility": null,
            "width": null
          }
        },
        "863b62fa213f46248a536c5568ed9ae9": {
          "model_module": "@jupyter-widgets/base",
          "model_module_version": "1.2.0",
          "model_name": "LayoutModel",
          "state": {
            "_model_module": "@jupyter-widgets/base",
            "_model_module_version": "1.2.0",
            "_model_name": "LayoutModel",
            "_view_count": null,
            "_view_module": "@jupyter-widgets/base",
            "_view_module_version": "1.2.0",
            "_view_name": "LayoutView",
            "align_content": null,
            "align_items": null,
            "align_self": null,
            "border": null,
            "bottom": null,
            "display": null,
            "flex": null,
            "flex_flow": null,
            "grid_area": null,
            "grid_auto_columns": null,
            "grid_auto_flow": null,
            "grid_auto_rows": null,
            "grid_column": null,
            "grid_gap": null,
            "grid_row": null,
            "grid_template_areas": null,
            "grid_template_columns": null,
            "grid_template_rows": null,
            "height": null,
            "justify_content": null,
            "justify_items": null,
            "left": null,
            "margin": null,
            "max_height": null,
            "max_width": null,
            "min_height": null,
            "min_width": null,
            "object_fit": null,
            "object_position": null,
            "order": null,
            "overflow": null,
            "overflow_x": null,
            "overflow_y": null,
            "padding": null,
            "right": null,
            "top": null,
            "visibility": null,
            "width": null
          }
        },
        "863d0765d1644e5f893cf2a6da4e1fa3": {
          "model_module": "@jupyter-widgets/base",
          "model_module_version": "1.2.0",
          "model_name": "LayoutModel",
          "state": {
            "_model_module": "@jupyter-widgets/base",
            "_model_module_version": "1.2.0",
            "_model_name": "LayoutModel",
            "_view_count": null,
            "_view_module": "@jupyter-widgets/base",
            "_view_module_version": "1.2.0",
            "_view_name": "LayoutView",
            "align_content": null,
            "align_items": null,
            "align_self": null,
            "border": null,
            "bottom": null,
            "display": null,
            "flex": null,
            "flex_flow": null,
            "grid_area": null,
            "grid_auto_columns": null,
            "grid_auto_flow": null,
            "grid_auto_rows": null,
            "grid_column": null,
            "grid_gap": null,
            "grid_row": null,
            "grid_template_areas": null,
            "grid_template_columns": null,
            "grid_template_rows": null,
            "height": null,
            "justify_content": null,
            "justify_items": null,
            "left": null,
            "margin": null,
            "max_height": null,
            "max_width": null,
            "min_height": null,
            "min_width": null,
            "object_fit": null,
            "object_position": null,
            "order": null,
            "overflow": null,
            "overflow_x": null,
            "overflow_y": null,
            "padding": null,
            "right": null,
            "top": null,
            "visibility": null,
            "width": null
          }
        },
        "8960312bf54646368e54b70fa510b292": {
          "model_module": "@jupyter-widgets/base",
          "model_module_version": "1.2.0",
          "model_name": "LayoutModel",
          "state": {
            "_model_module": "@jupyter-widgets/base",
            "_model_module_version": "1.2.0",
            "_model_name": "LayoutModel",
            "_view_count": null,
            "_view_module": "@jupyter-widgets/base",
            "_view_module_version": "1.2.0",
            "_view_name": "LayoutView",
            "align_content": null,
            "align_items": null,
            "align_self": null,
            "border": null,
            "bottom": null,
            "display": null,
            "flex": null,
            "flex_flow": null,
            "grid_area": null,
            "grid_auto_columns": null,
            "grid_auto_flow": null,
            "grid_auto_rows": null,
            "grid_column": null,
            "grid_gap": null,
            "grid_row": null,
            "grid_template_areas": null,
            "grid_template_columns": null,
            "grid_template_rows": null,
            "height": null,
            "justify_content": null,
            "justify_items": null,
            "left": null,
            "margin": null,
            "max_height": null,
            "max_width": null,
            "min_height": null,
            "min_width": null,
            "object_fit": null,
            "object_position": null,
            "order": null,
            "overflow": null,
            "overflow_x": null,
            "overflow_y": null,
            "padding": null,
            "right": null,
            "top": null,
            "visibility": null,
            "width": null
          }
        },
        "8aa7962e24724b3a8341581a03dd95be": {
          "model_module": "@jupyter-widgets/base",
          "model_module_version": "1.2.0",
          "model_name": "LayoutModel",
          "state": {
            "_model_module": "@jupyter-widgets/base",
            "_model_module_version": "1.2.0",
            "_model_name": "LayoutModel",
            "_view_count": null,
            "_view_module": "@jupyter-widgets/base",
            "_view_module_version": "1.2.0",
            "_view_name": "LayoutView",
            "align_content": null,
            "align_items": null,
            "align_self": null,
            "border": null,
            "bottom": null,
            "display": null,
            "flex": null,
            "flex_flow": null,
            "grid_area": null,
            "grid_auto_columns": null,
            "grid_auto_flow": null,
            "grid_auto_rows": null,
            "grid_column": null,
            "grid_gap": null,
            "grid_row": null,
            "grid_template_areas": null,
            "grid_template_columns": null,
            "grid_template_rows": null,
            "height": null,
            "justify_content": null,
            "justify_items": null,
            "left": null,
            "margin": null,
            "max_height": null,
            "max_width": null,
            "min_height": null,
            "min_width": null,
            "object_fit": null,
            "object_position": null,
            "order": null,
            "overflow": null,
            "overflow_x": null,
            "overflow_y": null,
            "padding": null,
            "right": null,
            "top": null,
            "visibility": null,
            "width": null
          }
        },
        "8baf6ee42ba14062b29c04d257a0df4e": {
          "model_module": "@jupyter-widgets/controls",
          "model_module_version": "1.5.0",
          "model_name": "HTMLModel",
          "state": {
            "_dom_classes": [],
            "_model_module": "@jupyter-widgets/controls",
            "_model_module_version": "1.5.0",
            "_model_name": "HTMLModel",
            "_view_count": null,
            "_view_module": "@jupyter-widgets/controls",
            "_view_module_version": "1.5.0",
            "_view_name": "HTMLView",
            "description": "",
            "description_tooltip": null,
            "layout": "IPY_MODEL_a9cd894ea0a6425fa10c837917fee7cf",
            "placeholder": "​",
            "style": "IPY_MODEL_0fc77be19b2c441d971639abfcb38f1a",
            "value": "Downloading: 100%"
          }
        },
        "95f13f97f1e349b08d576edb371942ba": {
          "model_module": "@jupyter-widgets/base",
          "model_module_version": "1.2.0",
          "model_name": "LayoutModel",
          "state": {
            "_model_module": "@jupyter-widgets/base",
            "_model_module_version": "1.2.0",
            "_model_name": "LayoutModel",
            "_view_count": null,
            "_view_module": "@jupyter-widgets/base",
            "_view_module_version": "1.2.0",
            "_view_name": "LayoutView",
            "align_content": null,
            "align_items": null,
            "align_self": null,
            "border": null,
            "bottom": null,
            "display": null,
            "flex": null,
            "flex_flow": null,
            "grid_area": null,
            "grid_auto_columns": null,
            "grid_auto_flow": null,
            "grid_auto_rows": null,
            "grid_column": null,
            "grid_gap": null,
            "grid_row": null,
            "grid_template_areas": null,
            "grid_template_columns": null,
            "grid_template_rows": null,
            "height": null,
            "justify_content": null,
            "justify_items": null,
            "left": null,
            "margin": null,
            "max_height": null,
            "max_width": null,
            "min_height": null,
            "min_width": null,
            "object_fit": null,
            "object_position": null,
            "order": null,
            "overflow": null,
            "overflow_x": null,
            "overflow_y": null,
            "padding": null,
            "right": null,
            "top": null,
            "visibility": null,
            "width": null
          }
        },
        "a0557202be1d493ea60fc001ebb0b5ce": {
          "model_module": "@jupyter-widgets/controls",
          "model_module_version": "1.5.0",
          "model_name": "FloatProgressModel",
          "state": {
            "_dom_classes": [],
            "_model_module": "@jupyter-widgets/controls",
            "_model_module_version": "1.5.0",
            "_model_name": "FloatProgressModel",
            "_view_count": null,
            "_view_module": "@jupyter-widgets/controls",
            "_view_module_version": "1.5.0",
            "_view_name": "ProgressView",
            "bar_style": "success",
            "description": "",
            "description_tooltip": null,
            "layout": "IPY_MODEL_95f13f97f1e349b08d576edb371942ba",
            "max": 1262524593,
            "min": 0,
            "orientation": "horizontal",
            "style": "IPY_MODEL_6198f3c0313f4017b85788ff0b5b147e",
            "value": 1262524593
          }
        },
        "a15a819ef3ca4cf594dfefff90694b7c": {
          "model_module": "@jupyter-widgets/controls",
          "model_module_version": "1.5.0",
          "model_name": "HTMLModel",
          "state": {
            "_dom_classes": [],
            "_model_module": "@jupyter-widgets/controls",
            "_model_module_version": "1.5.0",
            "_model_name": "HTMLModel",
            "_view_count": null,
            "_view_module": "@jupyter-widgets/controls",
            "_view_module_version": "1.5.0",
            "_view_name": "HTMLView",
            "description": "",
            "description_tooltip": null,
            "layout": "IPY_MODEL_8960312bf54646368e54b70fa510b292",
            "placeholder": "​",
            "style": "IPY_MODEL_6f1ec2dad2584091bf37c7db3a0beb8d",
            "value": " 181/181 [00:00&lt;00:00, 7.11kB/s]"
          }
        },
        "a8881c94a311450dad91c58f7ee996b2": {
          "model_module": "@jupyter-widgets/base",
          "model_module_version": "1.2.0",
          "model_name": "LayoutModel",
          "state": {
            "_model_module": "@jupyter-widgets/base",
            "_model_module_version": "1.2.0",
            "_model_name": "LayoutModel",
            "_view_count": null,
            "_view_module": "@jupyter-widgets/base",
            "_view_module_version": "1.2.0",
            "_view_name": "LayoutView",
            "align_content": null,
            "align_items": null,
            "align_self": null,
            "border": null,
            "bottom": null,
            "display": null,
            "flex": null,
            "flex_flow": null,
            "grid_area": null,
            "grid_auto_columns": null,
            "grid_auto_flow": null,
            "grid_auto_rows": null,
            "grid_column": null,
            "grid_gap": null,
            "grid_row": null,
            "grid_template_areas": null,
            "grid_template_columns": null,
            "grid_template_rows": null,
            "height": null,
            "justify_content": null,
            "justify_items": null,
            "left": null,
            "margin": null,
            "max_height": null,
            "max_width": null,
            "min_height": null,
            "min_width": null,
            "object_fit": null,
            "object_position": null,
            "order": null,
            "overflow": null,
            "overflow_x": null,
            "overflow_y": null,
            "padding": null,
            "right": null,
            "top": null,
            "visibility": null,
            "width": null
          }
        },
        "a8987032ea40419d98f9bb948fe9898b": {
          "model_module": "@jupyter-widgets/base",
          "model_module_version": "1.2.0",
          "model_name": "LayoutModel",
          "state": {
            "_model_module": "@jupyter-widgets/base",
            "_model_module_version": "1.2.0",
            "_model_name": "LayoutModel",
            "_view_count": null,
            "_view_module": "@jupyter-widgets/base",
            "_view_module_version": "1.2.0",
            "_view_name": "LayoutView",
            "align_content": null,
            "align_items": null,
            "align_self": null,
            "border": null,
            "bottom": null,
            "display": null,
            "flex": null,
            "flex_flow": null,
            "grid_area": null,
            "grid_auto_columns": null,
            "grid_auto_flow": null,
            "grid_auto_rows": null,
            "grid_column": null,
            "grid_gap": null,
            "grid_row": null,
            "grid_template_areas": null,
            "grid_template_columns": null,
            "grid_template_rows": null,
            "height": null,
            "justify_content": null,
            "justify_items": null,
            "left": null,
            "margin": null,
            "max_height": null,
            "max_width": null,
            "min_height": null,
            "min_width": null,
            "object_fit": null,
            "object_position": null,
            "order": null,
            "overflow": null,
            "overflow_x": null,
            "overflow_y": null,
            "padding": null,
            "right": null,
            "top": null,
            "visibility": null,
            "width": null
          }
        },
        "a9cd894ea0a6425fa10c837917fee7cf": {
          "model_module": "@jupyter-widgets/base",
          "model_module_version": "1.2.0",
          "model_name": "LayoutModel",
          "state": {
            "_model_module": "@jupyter-widgets/base",
            "_model_module_version": "1.2.0",
            "_model_name": "LayoutModel",
            "_view_count": null,
            "_view_module": "@jupyter-widgets/base",
            "_view_module_version": "1.2.0",
            "_view_name": "LayoutView",
            "align_content": null,
            "align_items": null,
            "align_self": null,
            "border": null,
            "bottom": null,
            "display": null,
            "flex": null,
            "flex_flow": null,
            "grid_area": null,
            "grid_auto_columns": null,
            "grid_auto_flow": null,
            "grid_auto_rows": null,
            "grid_column": null,
            "grid_gap": null,
            "grid_row": null,
            "grid_template_areas": null,
            "grid_template_columns": null,
            "grid_template_rows": null,
            "height": null,
            "justify_content": null,
            "justify_items": null,
            "left": null,
            "margin": null,
            "max_height": null,
            "max_width": null,
            "min_height": null,
            "min_width": null,
            "object_fit": null,
            "object_position": null,
            "order": null,
            "overflow": null,
            "overflow_x": null,
            "overflow_y": null,
            "padding": null,
            "right": null,
            "top": null,
            "visibility": null,
            "width": null
          }
        },
        "ae8f4d98dfeb413fbaadefcfef84f1e0": {
          "model_module": "@jupyter-widgets/controls",
          "model_module_version": "1.5.0",
          "model_name": "HTMLModel",
          "state": {
            "_dom_classes": [],
            "_model_module": "@jupyter-widgets/controls",
            "_model_module_version": "1.5.0",
            "_model_name": "HTMLModel",
            "_view_count": null,
            "_view_module": "@jupyter-widgets/controls",
            "_view_module_version": "1.5.0",
            "_view_name": "HTMLView",
            "description": "",
            "description_tooltip": null,
            "layout": "IPY_MODEL_ff87cc3f97da4cc5a735268ab7061cea",
            "placeholder": "​",
            "style": "IPY_MODEL_5ef4c77a2df04b22b82efac854c7a176",
            "value": " 2.06k/2.06k [00:00&lt;00:00, 78.2kB/s]"
          }
        },
        "b334f68be11644a5bcdbb10e67413433": {
          "model_module": "@jupyter-widgets/controls",
          "model_module_version": "1.5.0",
          "model_name": "ProgressStyleModel",
          "state": {
            "_model_module": "@jupyter-widgets/controls",
            "_model_module_version": "1.5.0",
            "_model_name": "ProgressStyleModel",
            "_view_count": null,
            "_view_module": "@jupyter-widgets/base",
            "_view_module_version": "1.2.0",
            "_view_name": "StyleView",
            "bar_color": null,
            "description_width": ""
          }
        },
        "b7bf6a578bd8408498359398699bea2b": {
          "model_module": "@jupyter-widgets/controls",
          "model_module_version": "1.5.0",
          "model_name": "DescriptionStyleModel",
          "state": {
            "_model_module": "@jupyter-widgets/controls",
            "_model_module_version": "1.5.0",
            "_model_name": "DescriptionStyleModel",
            "_view_count": null,
            "_view_module": "@jupyter-widgets/base",
            "_view_module_version": "1.2.0",
            "_view_name": "StyleView",
            "description_width": ""
          }
        },
        "bbf790117f1e4623bdab6cb91bdc4e6f": {
          "model_module": "@jupyter-widgets/controls",
          "model_module_version": "1.5.0",
          "model_name": "ProgressStyleModel",
          "state": {
            "_model_module": "@jupyter-widgets/controls",
            "_model_module_version": "1.5.0",
            "_model_name": "ProgressStyleModel",
            "_view_count": null,
            "_view_module": "@jupyter-widgets/base",
            "_view_module_version": "1.2.0",
            "_view_name": "StyleView",
            "bar_color": null,
            "description_width": ""
          }
        },
        "bc7f3fe145b045328a26267de2ccf79b": {
          "model_module": "@jupyter-widgets/controls",
          "model_module_version": "1.5.0",
          "model_name": "FloatProgressModel",
          "state": {
            "_dom_classes": [],
            "_model_module": "@jupyter-widgets/controls",
            "_model_module_version": "1.5.0",
            "_model_name": "FloatProgressModel",
            "_view_count": null,
            "_view_module": "@jupyter-widgets/controls",
            "_view_module_version": "1.5.0",
            "_view_name": "ProgressView",
            "bar_style": "success",
            "description": "",
            "description_tooltip": null,
            "layout": "IPY_MODEL_32091aa73db146ed9331168f782bffc7",
            "max": 2107,
            "min": 0,
            "orientation": "horizontal",
            "style": "IPY_MODEL_bbf790117f1e4623bdab6cb91bdc4e6f",
            "value": 2107
          }
        },
        "be75ffd1821c40459924d2411060ead5": {
          "model_module": "@jupyter-widgets/base",
          "model_module_version": "1.2.0",
          "model_name": "LayoutModel",
          "state": {
            "_model_module": "@jupyter-widgets/base",
            "_model_module_version": "1.2.0",
            "_model_name": "LayoutModel",
            "_view_count": null,
            "_view_module": "@jupyter-widgets/base",
            "_view_module_version": "1.2.0",
            "_view_name": "LayoutView",
            "align_content": null,
            "align_items": null,
            "align_self": null,
            "border": null,
            "bottom": null,
            "display": null,
            "flex": null,
            "flex_flow": null,
            "grid_area": null,
            "grid_auto_columns": null,
            "grid_auto_flow": null,
            "grid_auto_rows": null,
            "grid_column": null,
            "grid_gap": null,
            "grid_row": null,
            "grid_template_areas": null,
            "grid_template_columns": null,
            "grid_template_rows": null,
            "height": null,
            "justify_content": null,
            "justify_items": null,
            "left": null,
            "margin": null,
            "max_height": null,
            "max_width": null,
            "min_height": null,
            "min_width": null,
            "object_fit": null,
            "object_position": null,
            "order": null,
            "overflow": null,
            "overflow_x": null,
            "overflow_y": null,
            "padding": null,
            "right": null,
            "top": null,
            "visibility": null,
            "width": null
          }
        },
        "c8bc145466364af2aa62ca95fab090dd": {
          "model_module": "@jupyter-widgets/controls",
          "model_module_version": "1.5.0",
          "model_name": "HTMLModel",
          "state": {
            "_dom_classes": [],
            "_model_module": "@jupyter-widgets/controls",
            "_model_module_version": "1.5.0",
            "_model_name": "HTMLModel",
            "_view_count": null,
            "_view_module": "@jupyter-widgets/controls",
            "_view_module_version": "1.5.0",
            "_view_name": "HTMLView",
            "description": "",
            "description_tooltip": null,
            "layout": "IPY_MODEL_be75ffd1821c40459924d2411060ead5",
            "placeholder": "​",
            "style": "IPY_MODEL_169c4e6c09104f97bfe6262a15a42312",
            "value": " 1.57k/1.57k [00:00&lt;00:00, 22.8kB/s]"
          }
        },
        "c9dbf4dc1af6415ead00b06060b0c014": {
          "model_module": "@jupyter-widgets/controls",
          "model_module_version": "1.5.0",
          "model_name": "HTMLModel",
          "state": {
            "_dom_classes": [],
            "_model_module": "@jupyter-widgets/controls",
            "_model_module_version": "1.5.0",
            "_model_name": "HTMLModel",
            "_view_count": null,
            "_view_module": "@jupyter-widgets/controls",
            "_view_module_version": "1.5.0",
            "_view_name": "HTMLView",
            "description": "",
            "description_tooltip": null,
            "layout": "IPY_MODEL_5b31bf6edf4b49e29856042de18a0fe8",
            "placeholder": "​",
            "style": "IPY_MODEL_76237081557f4d3c82d60d4ca7829985",
            "value": "Downloading: 100%"
          }
        },
        "ca13a41692d541739a1abd1031c32169": {
          "model_module": "@jupyter-widgets/controls",
          "model_module_version": "1.5.0",
          "model_name": "HTMLModel",
          "state": {
            "_dom_classes": [],
            "_model_module": "@jupyter-widgets/controls",
            "_model_module_version": "1.5.0",
            "_model_name": "HTMLModel",
            "_view_count": null,
            "_view_module": "@jupyter-widgets/controls",
            "_view_module_version": "1.5.0",
            "_view_name": "HTMLView",
            "description": "",
            "description_tooltip": null,
            "layout": "IPY_MODEL_ca22292812dc4bc5bc29ddea80cb382d",
            "placeholder": "​",
            "style": "IPY_MODEL_ed71867e75094b3b99c23c01b405eba7",
            "value": "Downloading: 100%"
          }
        },
        "ca22292812dc4bc5bc29ddea80cb382d": {
          "model_module": "@jupyter-widgets/base",
          "model_module_version": "1.2.0",
          "model_name": "LayoutModel",
          "state": {
            "_model_module": "@jupyter-widgets/base",
            "_model_module_version": "1.2.0",
            "_model_name": "LayoutModel",
            "_view_count": null,
            "_view_module": "@jupyter-widgets/base",
            "_view_module_version": "1.2.0",
            "_view_name": "LayoutView",
            "align_content": null,
            "align_items": null,
            "align_self": null,
            "border": null,
            "bottom": null,
            "display": null,
            "flex": null,
            "flex_flow": null,
            "grid_area": null,
            "grid_auto_columns": null,
            "grid_auto_flow": null,
            "grid_auto_rows": null,
            "grid_column": null,
            "grid_gap": null,
            "grid_row": null,
            "grid_template_areas": null,
            "grid_template_columns": null,
            "grid_template_rows": null,
            "height": null,
            "justify_content": null,
            "justify_items": null,
            "left": null,
            "margin": null,
            "max_height": null,
            "max_width": null,
            "min_height": null,
            "min_width": null,
            "object_fit": null,
            "object_position": null,
            "order": null,
            "overflow": null,
            "overflow_x": null,
            "overflow_y": null,
            "padding": null,
            "right": null,
            "top": null,
            "visibility": null,
            "width": null
          }
        },
        "d619c0f165cc4502a5cc27c839a99242": {
          "model_module": "@jupyter-widgets/controls",
          "model_module_version": "1.5.0",
          "model_name": "ProgressStyleModel",
          "state": {
            "_model_module": "@jupyter-widgets/controls",
            "_model_module_version": "1.5.0",
            "_model_name": "ProgressStyleModel",
            "_view_count": null,
            "_view_module": "@jupyter-widgets/base",
            "_view_module_version": "1.2.0",
            "_view_name": "StyleView",
            "bar_color": null,
            "description_width": ""
          }
        },
        "dc424bf904a141af85763397400c4dcf": {
          "model_module": "@jupyter-widgets/controls",
          "model_module_version": "1.5.0",
          "model_name": "DescriptionStyleModel",
          "state": {
            "_model_module": "@jupyter-widgets/controls",
            "_model_module_version": "1.5.0",
            "_model_name": "DescriptionStyleModel",
            "_view_count": null,
            "_view_module": "@jupyter-widgets/base",
            "_view_module_version": "1.2.0",
            "_view_name": "StyleView",
            "description_width": ""
          }
        },
        "deef3482abff4541b72a2a13f4ba7d06": {
          "model_module": "@jupyter-widgets/base",
          "model_module_version": "1.2.0",
          "model_name": "LayoutModel",
          "state": {
            "_model_module": "@jupyter-widgets/base",
            "_model_module_version": "1.2.0",
            "_model_name": "LayoutModel",
            "_view_count": null,
            "_view_module": "@jupyter-widgets/base",
            "_view_module_version": "1.2.0",
            "_view_name": "LayoutView",
            "align_content": null,
            "align_items": null,
            "align_self": null,
            "border": null,
            "bottom": null,
            "display": null,
            "flex": null,
            "flex_flow": null,
            "grid_area": null,
            "grid_auto_columns": null,
            "grid_auto_flow": null,
            "grid_auto_rows": null,
            "grid_column": null,
            "grid_gap": null,
            "grid_row": null,
            "grid_template_areas": null,
            "grid_template_columns": null,
            "grid_template_rows": null,
            "height": null,
            "justify_content": null,
            "justify_items": null,
            "left": null,
            "margin": null,
            "max_height": null,
            "max_width": null,
            "min_height": null,
            "min_width": null,
            "object_fit": null,
            "object_position": null,
            "order": null,
            "overflow": null,
            "overflow_x": null,
            "overflow_y": null,
            "padding": null,
            "right": null,
            "top": null,
            "visibility": null,
            "width": null
          }
        },
        "e03a81f819ea4174b2baae284cf787a5": {
          "model_module": "@jupyter-widgets/controls",
          "model_module_version": "1.5.0",
          "model_name": "DescriptionStyleModel",
          "state": {
            "_model_module": "@jupyter-widgets/controls",
            "_model_module_version": "1.5.0",
            "_model_name": "DescriptionStyleModel",
            "_view_count": null,
            "_view_module": "@jupyter-widgets/base",
            "_view_module_version": "1.2.0",
            "_view_name": "StyleView",
            "description_width": ""
          }
        },
        "e136781037e54bf3b37dc63ebb7513b8": {
          "model_module": "@jupyter-widgets/controls",
          "model_module_version": "1.5.0",
          "model_name": "DescriptionStyleModel",
          "state": {
            "_model_module": "@jupyter-widgets/controls",
            "_model_module_version": "1.5.0",
            "_model_name": "DescriptionStyleModel",
            "_view_count": null,
            "_view_module": "@jupyter-widgets/base",
            "_view_module_version": "1.2.0",
            "_view_name": "StyleView",
            "description_width": ""
          }
        },
        "e6b111348fa4478fb283da70fb41575b": {
          "model_module": "@jupyter-widgets/controls",
          "model_module_version": "1.5.0",
          "model_name": "HTMLModel",
          "state": {
            "_dom_classes": [],
            "_model_module": "@jupyter-widgets/controls",
            "_model_module_version": "1.5.0",
            "_model_name": "HTMLModel",
            "_view_count": null,
            "_view_module": "@jupyter-widgets/controls",
            "_view_module_version": "1.5.0",
            "_view_name": "HTMLView",
            "description": "",
            "description_tooltip": null,
            "layout": "IPY_MODEL_6e627fc261f9463eb0e80a869e45e625",
            "placeholder": "​",
            "style": "IPY_MODEL_e91378d3aee24175b70d98343cd5529b",
            "value": " 1.18G/1.18G [00:20&lt;00:00, 66.0MB/s]"
          }
        },
        "e91378d3aee24175b70d98343cd5529b": {
          "model_module": "@jupyter-widgets/controls",
          "model_module_version": "1.5.0",
          "model_name": "DescriptionStyleModel",
          "state": {
            "_model_module": "@jupyter-widgets/controls",
            "_model_module_version": "1.5.0",
            "_model_name": "DescriptionStyleModel",
            "_view_count": null,
            "_view_module": "@jupyter-widgets/base",
            "_view_module_version": "1.2.0",
            "_view_name": "StyleView",
            "description_width": ""
          }
        },
        "ed71867e75094b3b99c23c01b405eba7": {
          "model_module": "@jupyter-widgets/controls",
          "model_module_version": "1.5.0",
          "model_name": "DescriptionStyleModel",
          "state": {
            "_model_module": "@jupyter-widgets/controls",
            "_model_module_version": "1.5.0",
            "_model_name": "DescriptionStyleModel",
            "_view_count": null,
            "_view_module": "@jupyter-widgets/base",
            "_view_module_version": "1.2.0",
            "_view_name": "StyleView",
            "description_width": ""
          }
        },
        "f7a9ee03ccbb4d4d9a4c44cca3c80a0f": {
          "model_module": "@jupyter-widgets/base",
          "model_module_version": "1.2.0",
          "model_name": "LayoutModel",
          "state": {
            "_model_module": "@jupyter-widgets/base",
            "_model_module_version": "1.2.0",
            "_model_name": "LayoutModel",
            "_view_count": null,
            "_view_module": "@jupyter-widgets/base",
            "_view_module_version": "1.2.0",
            "_view_name": "LayoutView",
            "align_content": null,
            "align_items": null,
            "align_self": null,
            "border": null,
            "bottom": null,
            "display": null,
            "flex": null,
            "flex_flow": null,
            "grid_area": null,
            "grid_auto_columns": null,
            "grid_auto_flow": null,
            "grid_auto_rows": null,
            "grid_column": null,
            "grid_gap": null,
            "grid_row": null,
            "grid_template_areas": null,
            "grid_template_columns": null,
            "grid_template_rows": null,
            "height": null,
            "justify_content": null,
            "justify_items": null,
            "left": null,
            "margin": null,
            "max_height": null,
            "max_width": null,
            "min_height": null,
            "min_width": null,
            "object_fit": null,
            "object_position": null,
            "order": null,
            "overflow": null,
            "overflow_x": null,
            "overflow_y": null,
            "padding": null,
            "right": null,
            "top": null,
            "visibility": null,
            "width": null
          }
        },
        "fb847045b0a745f49db8bf4b0f0512a9": {
          "model_module": "@jupyter-widgets/controls",
          "model_module_version": "1.5.0",
          "model_name": "HBoxModel",
          "state": {
            "_dom_classes": [],
            "_model_module": "@jupyter-widgets/controls",
            "_model_module_version": "1.5.0",
            "_model_name": "HBoxModel",
            "_view_count": null,
            "_view_module": "@jupyter-widgets/controls",
            "_view_module_version": "1.5.0",
            "_view_name": "HBoxView",
            "box_style": "",
            "children": [
              "IPY_MODEL_4c4d0bd3af1042e0b660813cd6ffca40",
              "IPY_MODEL_bc7f3fe145b045328a26267de2ccf79b",
              "IPY_MODEL_ae8f4d98dfeb413fbaadefcfef84f1e0"
            ],
            "layout": "IPY_MODEL_deef3482abff4541b72a2a13f4ba7d06"
          }
        },
        "fd882cc91cc24a3d8e39312cedb00e44": {
          "model_module": "@jupyter-widgets/controls",
          "model_module_version": "1.5.0",
          "model_name": "HBoxModel",
          "state": {
            "_dom_classes": [],
            "_model_module": "@jupyter-widgets/controls",
            "_model_module_version": "1.5.0",
            "_model_name": "HBoxModel",
            "_view_count": null,
            "_view_module": "@jupyter-widgets/controls",
            "_view_module_version": "1.5.0",
            "_view_name": "HBoxView",
            "box_style": "",
            "children": [
              "IPY_MODEL_8baf6ee42ba14062b29c04d257a0df4e",
              "IPY_MODEL_7a1f0f3618be4031a2085a211d5b3533",
              "IPY_MODEL_c8bc145466364af2aa62ca95fab090dd"
            ],
            "layout": "IPY_MODEL_667db2d56a544a098ef130cf37e7f9d9"
          }
        },
        "ff87cc3f97da4cc5a735268ab7061cea": {
          "model_module": "@jupyter-widgets/base",
          "model_module_version": "1.2.0",
          "model_name": "LayoutModel",
          "state": {
            "_model_module": "@jupyter-widgets/base",
            "_model_module_version": "1.2.0",
            "_model_name": "LayoutModel",
            "_view_count": null,
            "_view_module": "@jupyter-widgets/base",
            "_view_module_version": "1.2.0",
            "_view_name": "LayoutView",
            "align_content": null,
            "align_items": null,
            "align_self": null,
            "border": null,
            "bottom": null,
            "display": null,
            "flex": null,
            "flex_flow": null,
            "grid_area": null,
            "grid_auto_columns": null,
            "grid_auto_flow": null,
            "grid_auto_rows": null,
            "grid_column": null,
            "grid_gap": null,
            "grid_row": null,
            "grid_template_areas": null,
            "grid_template_columns": null,
            "grid_template_rows": null,
            "height": null,
            "justify_content": null,
            "justify_items": null,
            "left": null,
            "margin": null,
            "max_height": null,
            "max_width": null,
            "min_height": null,
            "min_width": null,
            "object_fit": null,
            "object_position": null,
            "order": null,
            "overflow": null,
            "overflow_x": null,
            "overflow_y": null,
            "padding": null,
            "right": null,
            "top": null,
            "visibility": null,
            "width": null
          }
        }
      }
    }
  },
  "nbformat": 4,
  "nbformat_minor": 0
}
